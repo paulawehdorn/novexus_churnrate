{
 "cells": [
  {
   "cell_type": "markdown",
   "id": "5046e5e1",
   "metadata": {},
   "source": [
    "# 0. IMPORTS"
   ]
  },
  {
   "cell_type": "markdown",
   "id": "e2be086f",
   "metadata": {},
   "source": [
    "## 0.1. Importing libraries"
   ]
  },
  {
   "cell_type": "code",
   "execution_count": 1,
   "id": "62e25e32",
   "metadata": {
    "ExecuteTime": {
     "end_time": "2023-09-05T23:35:51.466896Z",
     "start_time": "2023-09-05T23:35:46.899597Z"
    }
   },
   "outputs": [],
   "source": [
    "import pandas as pd\n",
    "import numpy as np\n",
    "import matplotlib.pyplot as plt\n",
    "import seaborn as sns\n",
    "import inflection"
   ]
  },
  {
   "cell_type": "markdown",
   "id": "46e47382",
   "metadata": {},
   "source": [
    "## 0.2. Loading data"
   ]
  },
  {
   "cell_type": "code",
   "execution_count": 2,
   "id": "764ae82c",
   "metadata": {
    "ExecuteTime": {
     "end_time": "2023-09-05T23:35:51.751597Z",
     "start_time": "2023-09-05T23:35:51.475411Z"
    }
   },
   "outputs": [],
   "source": [
    "#url = 'https://challenge-data-science-3ed.s3.amazonaws.com/Telco-Customer-Churn.json'\n",
    "#df = pd.read_json(url)\n",
    "df = pd.read_json('Telco-Customer-Churn.json')"
   ]
  },
  {
   "cell_type": "markdown",
   "id": "5faa60bf",
   "metadata": {},
   "source": [
    "## 0.3. Dicionário de dados"
   ]
  },
  {
   "cell_type": "markdown",
   "id": "90ab01b5",
   "metadata": {},
   "source": [
    "Nome | Descrição\n",
    "--|--\n",
    "customerID | número de identificação único de cada cliente\n",
    "Churn | se o cliente deixou ou não a empresa \n",
    "gender | gênero (masculino e feminino) \n",
    "SeniorCitizen | informação sobre um cliente ter ou não idade igual ou maior que 65 anos \n",
    "Partner |  se o cliente possui ou não um parceiro ou parceira\n",
    "Dependents | se o cliente possui ou não dependentes\n",
    "tenure |  meses de contrato do cliente\n",
    "PhoneService | assinatura de serviço telefônico \n",
    "MultipleLines | assisnatura de mais de uma linha de telefone \n",
    "InternetService | assinatura de um provedor internet \n",
    "OnlineSecurity | assinatura adicional de segurança online \n",
    "OnlineBackup | assinatura adicional de backup online \n",
    "DeviceProtection | assinatura adicional de proteção no dispositivo \n",
    "TechSupport | assinatura adicional de suporte técnico, menos tempo de espera\n",
    "StreamingTV | assinatura de TV a cabo \n",
    "StreamingMovies | assinatura de streaming de filmes \n",
    "Contract | tipo de contrato\n",
    "PaperlessBilling | se o cliente prefere receber online a fatura\n",
    "PaymentMethod | forma de pagamento\n",
    "Charges.Monthly | total de todos os serviços do cliente por mês\n",
    "Charges.Total | total gasto pelo cliente"
   ]
  },
  {
   "cell_type": "markdown",
   "id": "0b71fdeb",
   "metadata": {
    "ExecuteTime": {
     "end_time": "2023-08-29T13:44:57.684526Z",
     "start_time": "2023-08-29T13:44:57.668812Z"
    }
   },
   "source": [
    "## 0.3. Helper functions"
   ]
  },
  {
   "cell_type": "code",
   "execution_count": 3,
   "id": "cff6aaed",
   "metadata": {
    "ExecuteTime": {
     "end_time": "2023-09-05T23:35:51.782985Z",
     "start_time": "2023-09-05T23:35:51.755119Z"
    }
   },
   "outputs": [],
   "source": [
    "def rename_columns(cols):\n",
    "    cols = list(map(lambda x: inflection.titleize(x), cols))\n",
    "    cols = list(map(lambda x: x.replace(\" \", \"\"), cols))\n",
    "    cols = list(map(lambda x: x.replace(\".\", \"\"), cols))\n",
    "    cols = list(map(lambda x: inflection.underscore(x), cols))\n",
    "    return cols\n",
    "\n",
    "def tab_unique(df):\n",
    "    tab_unicos = pd.DataFrame(df.nunique())\n",
    "    tab_unicos.columns= ['count']\n",
    "    tab_unicos['content'] = df.apply(lambda x: x.unique())\n",
    "    return tab_unicos"
   ]
  },
  {
   "cell_type": "markdown",
   "id": "e4be5a7f",
   "metadata": {},
   "source": [
    "## 0.4. Identidade Visual"
   ]
  },
  {
   "cell_type": "code",
   "execution_count": 4,
   "id": "609af380",
   "metadata": {
    "ExecuteTime": {
     "end_time": "2023-09-05T23:35:51.798811Z",
     "start_time": "2023-09-05T23:35:51.791291Z"
    }
   },
   "outputs": [],
   "source": [
    "paleta_personalizada = {\n",
    "    'black': '#171821',\n",
    "    'purple': '#872b95',\n",
    "    'orange': '#ff7131',\n",
    "    'pink': '#fe3d67'\n",
    "}"
   ]
  },
  {
   "cell_type": "markdown",
   "id": "e8082b20",
   "metadata": {
    "heading_collapsed": true
   },
   "source": [
    "# 1. DATA DESCRIPTION"
   ]
  },
  {
   "cell_type": "code",
   "execution_count": 5,
   "id": "ebb969fa",
   "metadata": {
    "ExecuteTime": {
     "end_time": "2023-09-05T23:35:51.862059Z",
     "start_time": "2023-09-05T23:35:51.818887Z"
    },
    "hidden": true
   },
   "outputs": [],
   "source": [
    "df1 = df.copy()"
   ]
  },
  {
   "cell_type": "markdown",
   "id": "dfc49386",
   "metadata": {
    "heading_collapsed": true,
    "hidden": true
   },
   "source": [
    "## 1.1. Normalize Columns"
   ]
  },
  {
   "cell_type": "code",
   "execution_count": 6,
   "id": "ad99354b",
   "metadata": {
    "ExecuteTime": {
     "end_time": "2023-09-05T23:35:52.456509Z",
     "start_time": "2023-09-05T23:35:51.869126Z"
    },
    "hidden": true
   },
   "outputs": [
    {
     "data": {
      "text/html": [
       "<div>\n",
       "<style scoped>\n",
       "    .dataframe tbody tr th:only-of-type {\n",
       "        vertical-align: middle;\n",
       "    }\n",
       "\n",
       "    .dataframe tbody tr th {\n",
       "        vertical-align: top;\n",
       "    }\n",
       "\n",
       "    .dataframe thead th {\n",
       "        text-align: right;\n",
       "    }\n",
       "</style>\n",
       "<table border=\"1\" class=\"dataframe\">\n",
       "  <thead>\n",
       "    <tr style=\"text-align: right;\">\n",
       "      <th></th>\n",
       "      <th>customerID</th>\n",
       "      <th>Churn</th>\n",
       "      <th>gender</th>\n",
       "      <th>SeniorCitizen</th>\n",
       "      <th>Partner</th>\n",
       "      <th>Dependents</th>\n",
       "      <th>tenure</th>\n",
       "      <th>PhoneService</th>\n",
       "      <th>MultipleLines</th>\n",
       "      <th>InternetService</th>\n",
       "      <th>...</th>\n",
       "      <th>OnlineBackup</th>\n",
       "      <th>DeviceProtection</th>\n",
       "      <th>TechSupport</th>\n",
       "      <th>StreamingTV</th>\n",
       "      <th>StreamingMovies</th>\n",
       "      <th>Contract</th>\n",
       "      <th>PaperlessBilling</th>\n",
       "      <th>PaymentMethod</th>\n",
       "      <th>Charges.Monthly</th>\n",
       "      <th>Charges.Total</th>\n",
       "    </tr>\n",
       "  </thead>\n",
       "  <tbody>\n",
       "    <tr>\n",
       "      <th>0</th>\n",
       "      <td>0002-ORFBO</td>\n",
       "      <td>No</td>\n",
       "      <td>Female</td>\n",
       "      <td>0</td>\n",
       "      <td>Yes</td>\n",
       "      <td>Yes</td>\n",
       "      <td>9</td>\n",
       "      <td>Yes</td>\n",
       "      <td>No</td>\n",
       "      <td>DSL</td>\n",
       "      <td>...</td>\n",
       "      <td>Yes</td>\n",
       "      <td>No</td>\n",
       "      <td>Yes</td>\n",
       "      <td>Yes</td>\n",
       "      <td>No</td>\n",
       "      <td>One year</td>\n",
       "      <td>Yes</td>\n",
       "      <td>Mailed check</td>\n",
       "      <td>65.6</td>\n",
       "      <td>593.3</td>\n",
       "    </tr>\n",
       "    <tr>\n",
       "      <th>1</th>\n",
       "      <td>0003-MKNFE</td>\n",
       "      <td>No</td>\n",
       "      <td>Male</td>\n",
       "      <td>0</td>\n",
       "      <td>No</td>\n",
       "      <td>No</td>\n",
       "      <td>9</td>\n",
       "      <td>Yes</td>\n",
       "      <td>Yes</td>\n",
       "      <td>DSL</td>\n",
       "      <td>...</td>\n",
       "      <td>No</td>\n",
       "      <td>No</td>\n",
       "      <td>No</td>\n",
       "      <td>No</td>\n",
       "      <td>Yes</td>\n",
       "      <td>Month-to-month</td>\n",
       "      <td>No</td>\n",
       "      <td>Mailed check</td>\n",
       "      <td>59.9</td>\n",
       "      <td>542.4</td>\n",
       "    </tr>\n",
       "    <tr>\n",
       "      <th>2</th>\n",
       "      <td>0004-TLHLJ</td>\n",
       "      <td>Yes</td>\n",
       "      <td>Male</td>\n",
       "      <td>0</td>\n",
       "      <td>No</td>\n",
       "      <td>No</td>\n",
       "      <td>4</td>\n",
       "      <td>Yes</td>\n",
       "      <td>No</td>\n",
       "      <td>Fiber optic</td>\n",
       "      <td>...</td>\n",
       "      <td>No</td>\n",
       "      <td>Yes</td>\n",
       "      <td>No</td>\n",
       "      <td>No</td>\n",
       "      <td>No</td>\n",
       "      <td>Month-to-month</td>\n",
       "      <td>Yes</td>\n",
       "      <td>Electronic check</td>\n",
       "      <td>73.9</td>\n",
       "      <td>280.85</td>\n",
       "    </tr>\n",
       "    <tr>\n",
       "      <th>3</th>\n",
       "      <td>0011-IGKFF</td>\n",
       "      <td>Yes</td>\n",
       "      <td>Male</td>\n",
       "      <td>1</td>\n",
       "      <td>Yes</td>\n",
       "      <td>No</td>\n",
       "      <td>13</td>\n",
       "      <td>Yes</td>\n",
       "      <td>No</td>\n",
       "      <td>Fiber optic</td>\n",
       "      <td>...</td>\n",
       "      <td>Yes</td>\n",
       "      <td>Yes</td>\n",
       "      <td>No</td>\n",
       "      <td>Yes</td>\n",
       "      <td>Yes</td>\n",
       "      <td>Month-to-month</td>\n",
       "      <td>Yes</td>\n",
       "      <td>Electronic check</td>\n",
       "      <td>98.0</td>\n",
       "      <td>1237.85</td>\n",
       "    </tr>\n",
       "    <tr>\n",
       "      <th>4</th>\n",
       "      <td>0013-EXCHZ</td>\n",
       "      <td>Yes</td>\n",
       "      <td>Female</td>\n",
       "      <td>1</td>\n",
       "      <td>Yes</td>\n",
       "      <td>No</td>\n",
       "      <td>3</td>\n",
       "      <td>Yes</td>\n",
       "      <td>No</td>\n",
       "      <td>Fiber optic</td>\n",
       "      <td>...</td>\n",
       "      <td>No</td>\n",
       "      <td>No</td>\n",
       "      <td>Yes</td>\n",
       "      <td>Yes</td>\n",
       "      <td>No</td>\n",
       "      <td>Month-to-month</td>\n",
       "      <td>Yes</td>\n",
       "      <td>Mailed check</td>\n",
       "      <td>83.9</td>\n",
       "      <td>267.4</td>\n",
       "    </tr>\n",
       "  </tbody>\n",
       "</table>\n",
       "<p>5 rows × 21 columns</p>\n",
       "</div>"
      ],
      "text/plain": [
       "   customerID Churn  gender  SeniorCitizen Partner Dependents  tenure  \\\n",
       "0  0002-ORFBO    No  Female              0     Yes        Yes       9   \n",
       "1  0003-MKNFE    No    Male              0      No         No       9   \n",
       "2  0004-TLHLJ   Yes    Male              0      No         No       4   \n",
       "3  0011-IGKFF   Yes    Male              1     Yes         No      13   \n",
       "4  0013-EXCHZ   Yes  Female              1     Yes         No       3   \n",
       "\n",
       "  PhoneService MultipleLines InternetService  ... OnlineBackup  \\\n",
       "0          Yes            No             DSL  ...          Yes   \n",
       "1          Yes           Yes             DSL  ...           No   \n",
       "2          Yes            No     Fiber optic  ...           No   \n",
       "3          Yes            No     Fiber optic  ...          Yes   \n",
       "4          Yes            No     Fiber optic  ...           No   \n",
       "\n",
       "  DeviceProtection TechSupport StreamingTV StreamingMovies        Contract  \\\n",
       "0               No         Yes         Yes              No        One year   \n",
       "1               No          No          No             Yes  Month-to-month   \n",
       "2              Yes          No          No              No  Month-to-month   \n",
       "3              Yes          No         Yes             Yes  Month-to-month   \n",
       "4               No         Yes         Yes              No  Month-to-month   \n",
       "\n",
       "  PaperlessBilling     PaymentMethod Charges.Monthly  Charges.Total  \n",
       "0              Yes      Mailed check            65.6          593.3  \n",
       "1               No      Mailed check            59.9          542.4  \n",
       "2              Yes  Electronic check            73.9         280.85  \n",
       "3              Yes  Electronic check            98.0        1237.85  \n",
       "4              Yes      Mailed check            83.9          267.4  \n",
       "\n",
       "[5 rows x 21 columns]"
      ]
     },
     "execution_count": 6,
     "metadata": {},
     "output_type": "execute_result"
    }
   ],
   "source": [
    "# Normalizar colunas com dicionários aninhados\n",
    "columns_to_normalize = ['customer', 'phone', 'internet', 'account']\n",
    "for col in columns_to_normalize:\n",
    "    df1 = pd.concat([df1.drop([col], axis=1), pd.json_normalize(df1[col])], axis=1)\n",
    "df1.head()"
   ]
  },
  {
   "cell_type": "markdown",
   "id": "6c0f6056",
   "metadata": {
    "heading_collapsed": true,
    "hidden": true
   },
   "source": [
    "## 1.2. Rename Columns"
   ]
  },
  {
   "cell_type": "code",
   "execution_count": 7,
   "id": "586cd77a",
   "metadata": {
    "ExecuteTime": {
     "end_time": "2023-09-05T23:35:52.519753Z",
     "start_time": "2023-09-05T23:35:52.460515Z"
    },
    "hidden": true
   },
   "outputs": [
    {
     "data": {
      "text/html": [
       "<div>\n",
       "<style scoped>\n",
       "    .dataframe tbody tr th:only-of-type {\n",
       "        vertical-align: middle;\n",
       "    }\n",
       "\n",
       "    .dataframe tbody tr th {\n",
       "        vertical-align: top;\n",
       "    }\n",
       "\n",
       "    .dataframe thead th {\n",
       "        text-align: right;\n",
       "    }\n",
       "</style>\n",
       "<table border=\"1\" class=\"dataframe\">\n",
       "  <thead>\n",
       "    <tr style=\"text-align: right;\">\n",
       "      <th></th>\n",
       "      <th>customer</th>\n",
       "      <th>churn</th>\n",
       "      <th>gender</th>\n",
       "      <th>senior_citizen</th>\n",
       "      <th>partner</th>\n",
       "      <th>dependents</th>\n",
       "      <th>tenure</th>\n",
       "      <th>phone_service</th>\n",
       "      <th>multiple_lines</th>\n",
       "      <th>internet_service</th>\n",
       "      <th>...</th>\n",
       "      <th>online_backup</th>\n",
       "      <th>device_protection</th>\n",
       "      <th>tech_support</th>\n",
       "      <th>streaming_tv</th>\n",
       "      <th>streaming_movies</th>\n",
       "      <th>contract</th>\n",
       "      <th>paperless_billing</th>\n",
       "      <th>payment_method</th>\n",
       "      <th>charges_monthly</th>\n",
       "      <th>charges_total</th>\n",
       "    </tr>\n",
       "  </thead>\n",
       "  <tbody>\n",
       "    <tr>\n",
       "      <th>0</th>\n",
       "      <td>0002-ORFBO</td>\n",
       "      <td>No</td>\n",
       "      <td>Female</td>\n",
       "      <td>0</td>\n",
       "      <td>Yes</td>\n",
       "      <td>Yes</td>\n",
       "      <td>9</td>\n",
       "      <td>Yes</td>\n",
       "      <td>No</td>\n",
       "      <td>DSL</td>\n",
       "      <td>...</td>\n",
       "      <td>Yes</td>\n",
       "      <td>No</td>\n",
       "      <td>Yes</td>\n",
       "      <td>Yes</td>\n",
       "      <td>No</td>\n",
       "      <td>One year</td>\n",
       "      <td>Yes</td>\n",
       "      <td>Mailed check</td>\n",
       "      <td>65.6</td>\n",
       "      <td>593.3</td>\n",
       "    </tr>\n",
       "    <tr>\n",
       "      <th>1</th>\n",
       "      <td>0003-MKNFE</td>\n",
       "      <td>No</td>\n",
       "      <td>Male</td>\n",
       "      <td>0</td>\n",
       "      <td>No</td>\n",
       "      <td>No</td>\n",
       "      <td>9</td>\n",
       "      <td>Yes</td>\n",
       "      <td>Yes</td>\n",
       "      <td>DSL</td>\n",
       "      <td>...</td>\n",
       "      <td>No</td>\n",
       "      <td>No</td>\n",
       "      <td>No</td>\n",
       "      <td>No</td>\n",
       "      <td>Yes</td>\n",
       "      <td>Month-to-month</td>\n",
       "      <td>No</td>\n",
       "      <td>Mailed check</td>\n",
       "      <td>59.9</td>\n",
       "      <td>542.4</td>\n",
       "    </tr>\n",
       "    <tr>\n",
       "      <th>2</th>\n",
       "      <td>0004-TLHLJ</td>\n",
       "      <td>Yes</td>\n",
       "      <td>Male</td>\n",
       "      <td>0</td>\n",
       "      <td>No</td>\n",
       "      <td>No</td>\n",
       "      <td>4</td>\n",
       "      <td>Yes</td>\n",
       "      <td>No</td>\n",
       "      <td>Fiber optic</td>\n",
       "      <td>...</td>\n",
       "      <td>No</td>\n",
       "      <td>Yes</td>\n",
       "      <td>No</td>\n",
       "      <td>No</td>\n",
       "      <td>No</td>\n",
       "      <td>Month-to-month</td>\n",
       "      <td>Yes</td>\n",
       "      <td>Electronic check</td>\n",
       "      <td>73.9</td>\n",
       "      <td>280.85</td>\n",
       "    </tr>\n",
       "    <tr>\n",
       "      <th>3</th>\n",
       "      <td>0011-IGKFF</td>\n",
       "      <td>Yes</td>\n",
       "      <td>Male</td>\n",
       "      <td>1</td>\n",
       "      <td>Yes</td>\n",
       "      <td>No</td>\n",
       "      <td>13</td>\n",
       "      <td>Yes</td>\n",
       "      <td>No</td>\n",
       "      <td>Fiber optic</td>\n",
       "      <td>...</td>\n",
       "      <td>Yes</td>\n",
       "      <td>Yes</td>\n",
       "      <td>No</td>\n",
       "      <td>Yes</td>\n",
       "      <td>Yes</td>\n",
       "      <td>Month-to-month</td>\n",
       "      <td>Yes</td>\n",
       "      <td>Electronic check</td>\n",
       "      <td>98.0</td>\n",
       "      <td>1237.85</td>\n",
       "    </tr>\n",
       "    <tr>\n",
       "      <th>4</th>\n",
       "      <td>0013-EXCHZ</td>\n",
       "      <td>Yes</td>\n",
       "      <td>Female</td>\n",
       "      <td>1</td>\n",
       "      <td>Yes</td>\n",
       "      <td>No</td>\n",
       "      <td>3</td>\n",
       "      <td>Yes</td>\n",
       "      <td>No</td>\n",
       "      <td>Fiber optic</td>\n",
       "      <td>...</td>\n",
       "      <td>No</td>\n",
       "      <td>No</td>\n",
       "      <td>Yes</td>\n",
       "      <td>Yes</td>\n",
       "      <td>No</td>\n",
       "      <td>Month-to-month</td>\n",
       "      <td>Yes</td>\n",
       "      <td>Mailed check</td>\n",
       "      <td>83.9</td>\n",
       "      <td>267.4</td>\n",
       "    </tr>\n",
       "  </tbody>\n",
       "</table>\n",
       "<p>5 rows × 21 columns</p>\n",
       "</div>"
      ],
      "text/plain": [
       "     customer churn  gender  senior_citizen partner dependents  tenure  \\\n",
       "0  0002-ORFBO    No  Female               0     Yes        Yes       9   \n",
       "1  0003-MKNFE    No    Male               0      No         No       9   \n",
       "2  0004-TLHLJ   Yes    Male               0      No         No       4   \n",
       "3  0011-IGKFF   Yes    Male               1     Yes         No      13   \n",
       "4  0013-EXCHZ   Yes  Female               1     Yes         No       3   \n",
       "\n",
       "  phone_service multiple_lines internet_service  ... online_backup  \\\n",
       "0           Yes             No              DSL  ...           Yes   \n",
       "1           Yes            Yes              DSL  ...            No   \n",
       "2           Yes             No      Fiber optic  ...            No   \n",
       "3           Yes             No      Fiber optic  ...           Yes   \n",
       "4           Yes             No      Fiber optic  ...            No   \n",
       "\n",
       "  device_protection tech_support streaming_tv streaming_movies  \\\n",
       "0                No          Yes          Yes               No   \n",
       "1                No           No           No              Yes   \n",
       "2               Yes           No           No               No   \n",
       "3               Yes           No          Yes              Yes   \n",
       "4                No          Yes          Yes               No   \n",
       "\n",
       "         contract paperless_billing    payment_method charges_monthly  \\\n",
       "0        One year               Yes      Mailed check            65.6   \n",
       "1  Month-to-month                No      Mailed check            59.9   \n",
       "2  Month-to-month               Yes  Electronic check            73.9   \n",
       "3  Month-to-month               Yes  Electronic check            98.0   \n",
       "4  Month-to-month               Yes      Mailed check            83.9   \n",
       "\n",
       "   charges_total  \n",
       "0          593.3  \n",
       "1          542.4  \n",
       "2         280.85  \n",
       "3        1237.85  \n",
       "4          267.4  \n",
       "\n",
       "[5 rows x 21 columns]"
      ]
     },
     "execution_count": 7,
     "metadata": {},
     "output_type": "execute_result"
    }
   ],
   "source": [
    "df1.columns = rename_columns(df1.columns)\n",
    "df1.head()"
   ]
  },
  {
   "cell_type": "markdown",
   "id": "1615b678",
   "metadata": {
    "heading_collapsed": true,
    "hidden": true
   },
   "source": [
    "## 1.3. Data Dimensions"
   ]
  },
  {
   "cell_type": "code",
   "execution_count": 8,
   "id": "2d84371c",
   "metadata": {
    "ExecuteTime": {
     "end_time": "2023-09-05T23:35:52.551373Z",
     "start_time": "2023-09-05T23:35:52.523755Z"
    },
    "hidden": true
   },
   "outputs": [
    {
     "name": "stdout",
     "output_type": "stream",
     "text": [
      "Quantidade de linha: 7,267\n",
      "Quantidade de colunas: 21\n"
     ]
    }
   ],
   "source": [
    "print('Quantidade de linha: {:,}'.format(df1.shape[0]))\n",
    "print('Quantidade de colunas: {:,}'.format(df1.shape[1]))"
   ]
  },
  {
   "cell_type": "markdown",
   "id": "359de0ef",
   "metadata": {
    "heading_collapsed": true,
    "hidden": true
   },
   "source": [
    "## 1.4. Data Types"
   ]
  },
  {
   "cell_type": "code",
   "execution_count": 9,
   "id": "fe28744f",
   "metadata": {
    "ExecuteTime": {
     "end_time": "2023-09-05T23:35:52.582373Z",
     "start_time": "2023-09-05T23:35:52.555918Z"
    },
    "hidden": true
   },
   "outputs": [
    {
     "data": {
      "text/plain": [
       "customer              object\n",
       "churn                 object\n",
       "gender                object\n",
       "senior_citizen         int64\n",
       "partner               object\n",
       "dependents            object\n",
       "tenure                 int64\n",
       "phone_service         object\n",
       "multiple_lines        object\n",
       "internet_service      object\n",
       "online_security       object\n",
       "online_backup         object\n",
       "device_protection     object\n",
       "tech_support          object\n",
       "streaming_tv          object\n",
       "streaming_movies      object\n",
       "contract              object\n",
       "paperless_billing     object\n",
       "payment_method        object\n",
       "charges_monthly      float64\n",
       "charges_total         object\n",
       "dtype: object"
      ]
     },
     "execution_count": 9,
     "metadata": {},
     "output_type": "execute_result"
    }
   ],
   "source": [
    "df1.dtypes"
   ]
  },
  {
   "cell_type": "code",
   "execution_count": 10,
   "id": "d0348127",
   "metadata": {
    "ExecuteTime": {
     "end_time": "2023-09-05T23:35:52.692822Z",
     "start_time": "2023-09-05T23:35:52.593937Z"
    },
    "hidden": true
   },
   "outputs": [
    {
     "name": "stdout",
     "output_type": "stream",
     "text": [
      "<class 'pandas.core.frame.DataFrame'>\n",
      "RangeIndex: 7267 entries, 0 to 7266\n",
      "Data columns (total 21 columns):\n",
      " #   Column             Non-Null Count  Dtype  \n",
      "---  ------             --------------  -----  \n",
      " 0   customer           7267 non-null   object \n",
      " 1   churn              7267 non-null   object \n",
      " 2   gender             7267 non-null   object \n",
      " 3   senior_citizen     7267 non-null   int64  \n",
      " 4   partner            7267 non-null   object \n",
      " 5   dependents         7267 non-null   object \n",
      " 6   tenure             7267 non-null   int64  \n",
      " 7   phone_service      7267 non-null   object \n",
      " 8   multiple_lines     7267 non-null   object \n",
      " 9   internet_service   7267 non-null   object \n",
      " 10  online_security    7267 non-null   object \n",
      " 11  online_backup      7267 non-null   object \n",
      " 12  device_protection  7267 non-null   object \n",
      " 13  tech_support       7267 non-null   object \n",
      " 14  streaming_tv       7267 non-null   object \n",
      " 15  streaming_movies   7267 non-null   object \n",
      " 16  contract           7267 non-null   object \n",
      " 17  paperless_billing  7267 non-null   object \n",
      " 18  payment_method     7267 non-null   object \n",
      " 19  charges_monthly    7267 non-null   float64\n",
      " 20  charges_total      7267 non-null   object \n",
      "dtypes: float64(1), int64(2), object(18)\n",
      "memory usage: 1.2+ MB\n"
     ]
    }
   ],
   "source": [
    "df1.info()"
   ]
  },
  {
   "cell_type": "markdown",
   "id": "88b5d488",
   "metadata": {
    "hidden": true
   },
   "source": [
    "## 1.5. Check NA's"
   ]
  },
  {
   "cell_type": "code",
   "execution_count": 11,
   "id": "e1c273f8",
   "metadata": {
    "ExecuteTime": {
     "end_time": "2023-09-05T23:35:52.786906Z",
     "start_time": "2023-09-05T23:35:52.696392Z"
    },
    "hidden": true
   },
   "outputs": [
    {
     "data": {
      "text/plain": [
       "customer             0\n",
       "churn                0\n",
       "gender               0\n",
       "senior_citizen       0\n",
       "partner              0\n",
       "dependents           0\n",
       "tenure               0\n",
       "phone_service        0\n",
       "multiple_lines       0\n",
       "internet_service     0\n",
       "online_security      0\n",
       "online_backup        0\n",
       "device_protection    0\n",
       "tech_support         0\n",
       "streaming_tv         0\n",
       "streaming_movies     0\n",
       "contract             0\n",
       "paperless_billing    0\n",
       "payment_method       0\n",
       "charges_monthly      0\n",
       "charges_total        0\n",
       "dtype: int64"
      ]
     },
     "execution_count": 11,
     "metadata": {},
     "output_type": "execute_result"
    }
   ],
   "source": [
    "# Aparentemente não há NA's, mas é necessário analisar mais de perto cada feature\n",
    "df1.isna().sum()"
   ]
  },
  {
   "cell_type": "code",
   "execution_count": 12,
   "id": "334716d4",
   "metadata": {
    "ExecuteTime": {
     "end_time": "2023-09-05T23:35:52.926995Z",
     "start_time": "2023-09-05T23:35:52.790911Z"
    },
    "hidden": true
   },
   "outputs": [
    {
     "data": {
      "text/html": [
       "<div>\n",
       "<style scoped>\n",
       "    .dataframe tbody tr th:only-of-type {\n",
       "        vertical-align: middle;\n",
       "    }\n",
       "\n",
       "    .dataframe tbody tr th {\n",
       "        vertical-align: top;\n",
       "    }\n",
       "\n",
       "    .dataframe thead th {\n",
       "        text-align: right;\n",
       "    }\n",
       "</style>\n",
       "<table border=\"1\" class=\"dataframe\">\n",
       "  <thead>\n",
       "    <tr style=\"text-align: right;\">\n",
       "      <th></th>\n",
       "      <th>count</th>\n",
       "      <th>content</th>\n",
       "    </tr>\n",
       "  </thead>\n",
       "  <tbody>\n",
       "    <tr>\n",
       "      <th>customer</th>\n",
       "      <td>7267</td>\n",
       "      <td>[0002-ORFBO, 0003-MKNFE, 0004-TLHLJ, 0011-IGKF...</td>\n",
       "    </tr>\n",
       "    <tr>\n",
       "      <th>churn</th>\n",
       "      <td>3</td>\n",
       "      <td>[No, Yes, ]</td>\n",
       "    </tr>\n",
       "    <tr>\n",
       "      <th>gender</th>\n",
       "      <td>2</td>\n",
       "      <td>[Female, Male]</td>\n",
       "    </tr>\n",
       "    <tr>\n",
       "      <th>senior_citizen</th>\n",
       "      <td>2</td>\n",
       "      <td>[0, 1]</td>\n",
       "    </tr>\n",
       "    <tr>\n",
       "      <th>partner</th>\n",
       "      <td>2</td>\n",
       "      <td>[Yes, No]</td>\n",
       "    </tr>\n",
       "    <tr>\n",
       "      <th>dependents</th>\n",
       "      <td>2</td>\n",
       "      <td>[Yes, No]</td>\n",
       "    </tr>\n",
       "    <tr>\n",
       "      <th>tenure</th>\n",
       "      <td>73</td>\n",
       "      <td>[9, 4, 13, 3, 71, 63, 7, 65, 54, 72, 5, 56, 34...</td>\n",
       "    </tr>\n",
       "    <tr>\n",
       "      <th>phone_service</th>\n",
       "      <td>2</td>\n",
       "      <td>[Yes, No]</td>\n",
       "    </tr>\n",
       "    <tr>\n",
       "      <th>multiple_lines</th>\n",
       "      <td>3</td>\n",
       "      <td>[No, Yes, No phone service]</td>\n",
       "    </tr>\n",
       "    <tr>\n",
       "      <th>internet_service</th>\n",
       "      <td>3</td>\n",
       "      <td>[DSL, Fiber optic, No]</td>\n",
       "    </tr>\n",
       "    <tr>\n",
       "      <th>online_security</th>\n",
       "      <td>3</td>\n",
       "      <td>[No, Yes, No internet service]</td>\n",
       "    </tr>\n",
       "    <tr>\n",
       "      <th>online_backup</th>\n",
       "      <td>3</td>\n",
       "      <td>[Yes, No, No internet service]</td>\n",
       "    </tr>\n",
       "    <tr>\n",
       "      <th>device_protection</th>\n",
       "      <td>3</td>\n",
       "      <td>[No, Yes, No internet service]</td>\n",
       "    </tr>\n",
       "    <tr>\n",
       "      <th>tech_support</th>\n",
       "      <td>3</td>\n",
       "      <td>[Yes, No, No internet service]</td>\n",
       "    </tr>\n",
       "    <tr>\n",
       "      <th>streaming_tv</th>\n",
       "      <td>3</td>\n",
       "      <td>[Yes, No, No internet service]</td>\n",
       "    </tr>\n",
       "    <tr>\n",
       "      <th>streaming_movies</th>\n",
       "      <td>3</td>\n",
       "      <td>[No, Yes, No internet service]</td>\n",
       "    </tr>\n",
       "    <tr>\n",
       "      <th>contract</th>\n",
       "      <td>3</td>\n",
       "      <td>[One year, Month-to-month, Two year]</td>\n",
       "    </tr>\n",
       "    <tr>\n",
       "      <th>paperless_billing</th>\n",
       "      <td>2</td>\n",
       "      <td>[Yes, No]</td>\n",
       "    </tr>\n",
       "    <tr>\n",
       "      <th>payment_method</th>\n",
       "      <td>4</td>\n",
       "      <td>[Mailed check, Electronic check, Credit card (...</td>\n",
       "    </tr>\n",
       "    <tr>\n",
       "      <th>charges_monthly</th>\n",
       "      <td>1585</td>\n",
       "      <td>[65.6, 59.9, 73.9, 98.0, 83.9, 69.4, 109.7, 84...</td>\n",
       "    </tr>\n",
       "    <tr>\n",
       "      <th>charges_total</th>\n",
       "      <td>6531</td>\n",
       "      <td>[593.3, 542.4, 280.85, 1237.85, 267.4, 571.45,...</td>\n",
       "    </tr>\n",
       "  </tbody>\n",
       "</table>\n",
       "</div>"
      ],
      "text/plain": [
       "                   count                                            content\n",
       "customer            7267  [0002-ORFBO, 0003-MKNFE, 0004-TLHLJ, 0011-IGKF...\n",
       "churn                  3                                        [No, Yes, ]\n",
       "gender                 2                                     [Female, Male]\n",
       "senior_citizen         2                                             [0, 1]\n",
       "partner                2                                          [Yes, No]\n",
       "dependents             2                                          [Yes, No]\n",
       "tenure                73  [9, 4, 13, 3, 71, 63, 7, 65, 54, 72, 5, 56, 34...\n",
       "phone_service          2                                          [Yes, No]\n",
       "multiple_lines         3                        [No, Yes, No phone service]\n",
       "internet_service       3                             [DSL, Fiber optic, No]\n",
       "online_security        3                     [No, Yes, No internet service]\n",
       "online_backup          3                     [Yes, No, No internet service]\n",
       "device_protection      3                     [No, Yes, No internet service]\n",
       "tech_support           3                     [Yes, No, No internet service]\n",
       "streaming_tv           3                     [Yes, No, No internet service]\n",
       "streaming_movies       3                     [No, Yes, No internet service]\n",
       "contract               3               [One year, Month-to-month, Two year]\n",
       "paperless_billing      2                                          [Yes, No]\n",
       "payment_method         4  [Mailed check, Electronic check, Credit card (...\n",
       "charges_monthly     1585  [65.6, 59.9, 73.9, 98.0, 83.9, 69.4, 109.7, 84...\n",
       "charges_total       6531  [593.3, 542.4, 280.85, 1237.85, 267.4, 571.45,..."
      ]
     },
     "execution_count": 12,
     "metadata": {},
     "output_type": "execute_result"
    }
   ],
   "source": [
    "# Nota-se que existem Na's:\n",
    "# > churn == ' '\n",
    "# > na terceira opção de algumas features de 'Yes' ou 'No' \n",
    "# > charges_total == ' '\n",
    "tab_unique(df1)"
   ]
  },
  {
   "cell_type": "code",
   "execution_count": 13,
   "id": "34597c20",
   "metadata": {
    "ExecuteTime": {
     "end_time": "2023-09-05T23:35:52.957255Z",
     "start_time": "2023-09-05T23:35:52.932998Z"
    },
    "hidden": true
   },
   "outputs": [
    {
     "data": {
      "text/plain": [
       "array(['Mailed check', 'Electronic check', 'Credit card (automatic)',\n",
       "       'Bank transfer (automatic)'], dtype=object)"
      ]
     },
     "execution_count": 13,
     "metadata": {},
     "output_type": "execute_result"
    }
   ],
   "source": [
    "df1['payment_method'].unique()"
   ]
  },
  {
   "cell_type": "markdown",
   "id": "e91006ea",
   "metadata": {
    "heading_collapsed": true
   },
   "source": [
    "# 2. FEATURE ENGINEERING"
   ]
  },
  {
   "cell_type": "code",
   "execution_count": 14,
   "id": "35d1058f",
   "metadata": {
    "ExecuteTime": {
     "end_time": "2023-09-05T23:35:53.004134Z",
     "start_time": "2023-09-05T23:35:52.962257Z"
    },
    "hidden": true
   },
   "outputs": [],
   "source": [
    "df2 = df1.copy()"
   ]
  },
  {
   "cell_type": "markdown",
   "id": "40e97bc5",
   "metadata": {
    "heading_collapsed": true
   },
   "source": [
    "# 3. FILTRAGEM DE VARIÁVEIS"
   ]
  },
  {
   "cell_type": "code",
   "execution_count": 15,
   "id": "f51ec7ae",
   "metadata": {
    "ExecuteTime": {
     "end_time": "2023-09-05T23:35:53.020091Z",
     "start_time": "2023-09-05T23:35:53.008525Z"
    },
    "hidden": true
   },
   "outputs": [],
   "source": [
    "df3 = df2.copy()"
   ]
  },
  {
   "cell_type": "markdown",
   "id": "28000741",
   "metadata": {
    "hidden": true
   },
   "source": [
    "## 3.1. Filtragem das Linhas"
   ]
  },
  {
   "cell_type": "markdown",
   "id": "2c436d3b",
   "metadata": {
    "heading_collapsed": true,
    "hidden": true
   },
   "source": [
    "### 3.1.1. Remover linhas com churn vazio"
   ]
  },
  {
   "cell_type": "code",
   "execution_count": 16,
   "id": "dc78d2f4",
   "metadata": {
    "ExecuteTime": {
     "end_time": "2023-09-05T23:35:53.067624Z",
     "start_time": "2023-09-05T23:35:53.024091Z"
    },
    "hidden": true
   },
   "outputs": [
    {
     "data": {
      "text/html": [
       "<div>\n",
       "<style scoped>\n",
       "    .dataframe tbody tr th:only-of-type {\n",
       "        vertical-align: middle;\n",
       "    }\n",
       "\n",
       "    .dataframe tbody tr th {\n",
       "        vertical-align: top;\n",
       "    }\n",
       "\n",
       "    .dataframe thead th {\n",
       "        text-align: right;\n",
       "    }\n",
       "</style>\n",
       "<table border=\"1\" class=\"dataframe\">\n",
       "  <thead>\n",
       "    <tr style=\"text-align: right;\">\n",
       "      <th></th>\n",
       "      <th>count</th>\n",
       "      <th>%</th>\n",
       "    </tr>\n",
       "  </thead>\n",
       "  <tbody>\n",
       "    <tr>\n",
       "      <th>No</th>\n",
       "      <td>5174</td>\n",
       "      <td>71.20</td>\n",
       "    </tr>\n",
       "    <tr>\n",
       "      <th>Yes</th>\n",
       "      <td>1869</td>\n",
       "      <td>25.72</td>\n",
       "    </tr>\n",
       "    <tr>\n",
       "      <th></th>\n",
       "      <td>224</td>\n",
       "      <td>3.08</td>\n",
       "    </tr>\n",
       "  </tbody>\n",
       "</table>\n",
       "</div>"
      ],
      "text/plain": [
       "     count      %\n",
       "No    5174  71.20\n",
       "Yes   1869  25.72\n",
       "       224   3.08"
      ]
     },
     "execution_count": 16,
     "metadata": {},
     "output_type": "execute_result"
    }
   ],
   "source": [
    "# Precisamos remover dados com churn vazio. os vazios representam 3,08% dos dados.\n",
    "churn_vazios = df3['churn'].value_counts().to_frame()\n",
    "churn_vazios.columns = ['count']\n",
    "churn_vazios['%'] = round(df3['churn'].value_counts(normalize=True).sort_values() * 100, 2)\n",
    "churn_vazios"
   ]
  },
  {
   "cell_type": "code",
   "execution_count": 17,
   "id": "dbe1636a",
   "metadata": {
    "ExecuteTime": {
     "end_time": "2023-09-05T23:35:53.114263Z",
     "start_time": "2023-09-05T23:35:53.071634Z"
    },
    "hidden": true
   },
   "outputs": [
    {
     "data": {
      "text/plain": [
       "array(['No', 'Yes'], dtype=object)"
      ]
     },
     "execution_count": 17,
     "metadata": {},
     "output_type": "execute_result"
    }
   ],
   "source": [
    "# Selecionar as linhas com churn vazio\n",
    "churn_vazio = df3.query('churn == \"\"').index\n",
    "\n",
    "# Deletar essas linhas\n",
    "df3.drop(churn_vazio, axis=0, inplace=True)\n",
    "\n",
    "# Validar alterações\n",
    "df3['churn'].unique()"
   ]
  },
  {
   "cell_type": "code",
   "execution_count": 18,
   "id": "f9c2f505",
   "metadata": {
    "ExecuteTime": {
     "end_time": "2023-09-05T23:35:53.224088Z",
     "start_time": "2023-09-05T23:35:53.119782Z"
    },
    "hidden": true
   },
   "outputs": [
    {
     "name": "stdout",
     "output_type": "stream",
     "text": [
      "<class 'pandas.core.frame.DataFrame'>\n",
      "RangeIndex: 7043 entries, 0 to 7042\n",
      "Data columns (total 21 columns):\n",
      " #   Column             Non-Null Count  Dtype  \n",
      "---  ------             --------------  -----  \n",
      " 0   customer           7043 non-null   object \n",
      " 1   churn              7043 non-null   object \n",
      " 2   gender             7043 non-null   object \n",
      " 3   senior_citizen     7043 non-null   int64  \n",
      " 4   partner            7043 non-null   object \n",
      " 5   dependents         7043 non-null   object \n",
      " 6   tenure             7043 non-null   int64  \n",
      " 7   phone_service      7043 non-null   object \n",
      " 8   multiple_lines     7043 non-null   object \n",
      " 9   internet_service   7043 non-null   object \n",
      " 10  online_security    7043 non-null   object \n",
      " 11  online_backup      7043 non-null   object \n",
      " 12  device_protection  7043 non-null   object \n",
      " 13  tech_support       7043 non-null   object \n",
      " 14  streaming_tv       7043 non-null   object \n",
      " 15  streaming_movies   7043 non-null   object \n",
      " 16  contract           7043 non-null   object \n",
      " 17  paperless_billing  7043 non-null   object \n",
      " 18  payment_method     7043 non-null   object \n",
      " 19  charges_monthly    7043 non-null   float64\n",
      " 20  charges_total      7043 non-null   object \n",
      "dtypes: float64(1), int64(2), object(18)\n",
      "memory usage: 1.1+ MB\n"
     ]
    }
   ],
   "source": [
    "# Resetar o index e validar modificações\n",
    "df3 = df3.reset_index(drop=True)\n",
    "df3.info()"
   ]
  },
  {
   "cell_type": "markdown",
   "id": "68c60b9f",
   "metadata": {
    "hidden": true
   },
   "source": [
    "### 3.1.2. Substituir a terceira opção por 'No'"
   ]
  },
  {
   "cell_type": "code",
   "execution_count": 19,
   "id": "38d1a50d",
   "metadata": {
    "ExecuteTime": {
     "end_time": "2023-09-05T23:35:53.319260Z",
     "start_time": "2023-09-05T23:35:53.229605Z"
    },
    "hidden": true
   },
   "outputs": [],
   "source": [
    "col_yes_no = ['multiple_lines', 'online_security', 'online_backup', \n",
    "              'device_protection', 'tech_support', 'streaming_tv', 'streaming_movies']\n",
    "\n",
    "for col in col_yes_no:\n",
    "    df3[col] = df3[col].apply(lambda x: 'No' if x not in ['Yes', 'No'] else x)"
   ]
  },
  {
   "cell_type": "code",
   "execution_count": 20,
   "id": "5c3bf354",
   "metadata": {
    "ExecuteTime": {
     "end_time": "2023-09-05T23:35:53.351067Z",
     "start_time": "2023-09-05T23:35:53.323272Z"
    },
    "hidden": true
   },
   "outputs": [
    {
     "name": "stdout",
     "output_type": "stream",
     "text": [
      "multiple_lines ['No' 'Yes']\n",
      "online_security ['No' 'Yes']\n",
      "online_backup ['Yes' 'No']\n",
      "device_protection ['No' 'Yes']\n",
      "tech_support ['Yes' 'No']\n",
      "streaming_tv ['Yes' 'No']\n",
      "streaming_movies ['No' 'Yes']\n"
     ]
    }
   ],
   "source": [
    "for col in col_yes_no:\n",
    "    print(col, df3[col].unique())"
   ]
  },
  {
   "cell_type": "markdown",
   "id": "a7e9c418",
   "metadata": {
    "heading_collapsed": true,
    "hidden": true
   },
   "source": [
    "### 3.1.3. Tratar linhas com 'charges_total' vazio"
   ]
  },
  {
   "cell_type": "code",
   "execution_count": 21,
   "id": "ee6b695a",
   "metadata": {
    "ExecuteTime": {
     "end_time": "2023-09-05T23:35:53.414035Z",
     "start_time": "2023-09-05T23:35:53.355070Z"
    },
    "hidden": true
   },
   "outputs": [
    {
     "data": {
      "text/html": [
       "<div>\n",
       "<style scoped>\n",
       "    .dataframe tbody tr th:only-of-type {\n",
       "        vertical-align: middle;\n",
       "    }\n",
       "\n",
       "    .dataframe tbody tr th {\n",
       "        vertical-align: top;\n",
       "    }\n",
       "\n",
       "    .dataframe thead th {\n",
       "        text-align: right;\n",
       "    }\n",
       "</style>\n",
       "<table border=\"1\" class=\"dataframe\">\n",
       "  <thead>\n",
       "    <tr style=\"text-align: right;\">\n",
       "      <th></th>\n",
       "      <th>tenure</th>\n",
       "      <th>contract</th>\n",
       "      <th>charges_monthly</th>\n",
       "      <th>charges_total</th>\n",
       "    </tr>\n",
       "  </thead>\n",
       "  <tbody>\n",
       "    <tr>\n",
       "      <th>945</th>\n",
       "      <td>0</td>\n",
       "      <td>Two year</td>\n",
       "      <td>56.05</td>\n",
       "      <td></td>\n",
       "    </tr>\n",
       "    <tr>\n",
       "      <th>1731</th>\n",
       "      <td>0</td>\n",
       "      <td>Two year</td>\n",
       "      <td>20.00</td>\n",
       "      <td></td>\n",
       "    </tr>\n",
       "    <tr>\n",
       "      <th>1906</th>\n",
       "      <td>0</td>\n",
       "      <td>Two year</td>\n",
       "      <td>61.90</td>\n",
       "      <td></td>\n",
       "    </tr>\n",
       "    <tr>\n",
       "      <th>2025</th>\n",
       "      <td>0</td>\n",
       "      <td>One year</td>\n",
       "      <td>19.70</td>\n",
       "      <td></td>\n",
       "    </tr>\n",
       "    <tr>\n",
       "      <th>2176</th>\n",
       "      <td>0</td>\n",
       "      <td>Two year</td>\n",
       "      <td>20.25</td>\n",
       "      <td></td>\n",
       "    </tr>\n",
       "    <tr>\n",
       "      <th>2250</th>\n",
       "      <td>0</td>\n",
       "      <td>Two year</td>\n",
       "      <td>25.35</td>\n",
       "      <td></td>\n",
       "    </tr>\n",
       "    <tr>\n",
       "      <th>2855</th>\n",
       "      <td>0</td>\n",
       "      <td>Two year</td>\n",
       "      <td>73.35</td>\n",
       "      <td></td>\n",
       "    </tr>\n",
       "    <tr>\n",
       "      <th>3052</th>\n",
       "      <td>0</td>\n",
       "      <td>Two year</td>\n",
       "      <td>25.75</td>\n",
       "      <td></td>\n",
       "    </tr>\n",
       "    <tr>\n",
       "      <th>3118</th>\n",
       "      <td>0</td>\n",
       "      <td>Two year</td>\n",
       "      <td>52.55</td>\n",
       "      <td></td>\n",
       "    </tr>\n",
       "    <tr>\n",
       "      <th>4054</th>\n",
       "      <td>0</td>\n",
       "      <td>Two year</td>\n",
       "      <td>80.85</td>\n",
       "      <td></td>\n",
       "    </tr>\n",
       "    <tr>\n",
       "      <th>5433</th>\n",
       "      <td>0</td>\n",
       "      <td>Two year</td>\n",
       "      <td>19.85</td>\n",
       "      <td></td>\n",
       "    </tr>\n",
       "  </tbody>\n",
       "</table>\n",
       "</div>"
      ],
      "text/plain": [
       "      tenure  contract  charges_monthly charges_total\n",
       "945        0  Two year            56.05              \n",
       "1731       0  Two year            20.00              \n",
       "1906       0  Two year            61.90              \n",
       "2025       0  One year            19.70              \n",
       "2176       0  Two year            20.25              \n",
       "2250       0  Two year            25.35              \n",
       "2855       0  Two year            73.35              \n",
       "3052       0  Two year            25.75              \n",
       "3118       0  Two year            52.55              \n",
       "4054       0  Two year            80.85              \n",
       "5433       0  Two year            19.85              "
      ]
     },
     "execution_count": 21,
     "metadata": {},
     "output_type": "execute_result"
    }
   ],
   "source": [
    "# Ao tratar a coluna 'charges_total' tb será necessário tratar 'tenure'\n",
    "df3.loc[df3['charges_total'] == ' ', ['tenure', 'contract', 'charges_monthly', 'charges_total']]"
   ]
  },
  {
   "cell_type": "code",
   "execution_count": 22,
   "id": "e6876fce",
   "metadata": {
    "ExecuteTime": {
     "end_time": "2023-09-05T23:35:53.460875Z",
     "start_time": "2023-09-05T23:35:53.418782Z"
    },
    "hidden": true
   },
   "outputs": [],
   "source": [
    "idx1 = df3.loc[(df3['charges_total'] == ' ') & (df3['contract'] == 'One year'), ['contract', 'charges_monthly', 'charges_total']].index\n",
    "idx2 = df3.loc[(df3['charges_total'] == ' ') & (df3['contract'] == 'Two year'), ['contract', 'charges_monthly', 'charges_total']].index"
   ]
  },
  {
   "cell_type": "code",
   "execution_count": 23,
   "id": "efe7846b",
   "metadata": {
    "ExecuteTime": {
     "end_time": "2023-09-05T23:35:53.492347Z",
     "start_time": "2023-09-05T23:35:53.464874Z"
    },
    "hidden": true
   },
   "outputs": [],
   "source": [
    "df3.loc[idx1, 'charges_total'] = df3['charges_monthly'] * 12\n",
    "df3.loc[idx2, 'charges_total'] = df3['charges_monthly'] * 24"
   ]
  },
  {
   "cell_type": "code",
   "execution_count": 24,
   "id": "ec1a411c",
   "metadata": {
    "ExecuteTime": {
     "end_time": "2023-09-05T23:35:53.540058Z",
     "start_time": "2023-09-05T23:35:53.497881Z"
    },
    "hidden": true
   },
   "outputs": [
    {
     "data": {
      "text/html": [
       "<div>\n",
       "<style scoped>\n",
       "    .dataframe tbody tr th:only-of-type {\n",
       "        vertical-align: middle;\n",
       "    }\n",
       "\n",
       "    .dataframe tbody tr th {\n",
       "        vertical-align: top;\n",
       "    }\n",
       "\n",
       "    .dataframe thead th {\n",
       "        text-align: right;\n",
       "    }\n",
       "</style>\n",
       "<table border=\"1\" class=\"dataframe\">\n",
       "  <thead>\n",
       "    <tr style=\"text-align: right;\">\n",
       "      <th></th>\n",
       "      <th>tenure</th>\n",
       "      <th>contract</th>\n",
       "      <th>charges_monthly</th>\n",
       "      <th>charges_total</th>\n",
       "    </tr>\n",
       "  </thead>\n",
       "  <tbody>\n",
       "    <tr>\n",
       "      <th>2025</th>\n",
       "      <td>0</td>\n",
       "      <td>One year</td>\n",
       "      <td>19.7</td>\n",
       "      <td>236.4</td>\n",
       "    </tr>\n",
       "  </tbody>\n",
       "</table>\n",
       "</div>"
      ],
      "text/plain": [
       "      tenure  contract  charges_monthly charges_total\n",
       "2025       0  One year             19.7         236.4"
      ]
     },
     "execution_count": 24,
     "metadata": {},
     "output_type": "execute_result"
    }
   ],
   "source": [
    "df3.loc[idx1, ['tenure', 'contract', 'charges_monthly', 'charges_total']]"
   ]
  },
  {
   "cell_type": "code",
   "execution_count": 25,
   "id": "d0ab3861",
   "metadata": {
    "ExecuteTime": {
     "end_time": "2023-09-05T23:35:53.603803Z",
     "start_time": "2023-09-05T23:35:53.557126Z"
    },
    "hidden": true
   },
   "outputs": [
    {
     "data": {
      "text/html": [
       "<div>\n",
       "<style scoped>\n",
       "    .dataframe tbody tr th:only-of-type {\n",
       "        vertical-align: middle;\n",
       "    }\n",
       "\n",
       "    .dataframe tbody tr th {\n",
       "        vertical-align: top;\n",
       "    }\n",
       "\n",
       "    .dataframe thead th {\n",
       "        text-align: right;\n",
       "    }\n",
       "</style>\n",
       "<table border=\"1\" class=\"dataframe\">\n",
       "  <thead>\n",
       "    <tr style=\"text-align: right;\">\n",
       "      <th></th>\n",
       "      <th>tenure</th>\n",
       "      <th>contract</th>\n",
       "      <th>charges_monthly</th>\n",
       "      <th>charges_total</th>\n",
       "    </tr>\n",
       "  </thead>\n",
       "  <tbody>\n",
       "    <tr>\n",
       "      <th>945</th>\n",
       "      <td>0</td>\n",
       "      <td>Two year</td>\n",
       "      <td>56.05</td>\n",
       "      <td>1345.2</td>\n",
       "    </tr>\n",
       "    <tr>\n",
       "      <th>1731</th>\n",
       "      <td>0</td>\n",
       "      <td>Two year</td>\n",
       "      <td>20.00</td>\n",
       "      <td>480.0</td>\n",
       "    </tr>\n",
       "    <tr>\n",
       "      <th>1906</th>\n",
       "      <td>0</td>\n",
       "      <td>Two year</td>\n",
       "      <td>61.90</td>\n",
       "      <td>1485.6</td>\n",
       "    </tr>\n",
       "    <tr>\n",
       "      <th>2176</th>\n",
       "      <td>0</td>\n",
       "      <td>Two year</td>\n",
       "      <td>20.25</td>\n",
       "      <td>486.0</td>\n",
       "    </tr>\n",
       "    <tr>\n",
       "      <th>2250</th>\n",
       "      <td>0</td>\n",
       "      <td>Two year</td>\n",
       "      <td>25.35</td>\n",
       "      <td>608.4</td>\n",
       "    </tr>\n",
       "    <tr>\n",
       "      <th>2855</th>\n",
       "      <td>0</td>\n",
       "      <td>Two year</td>\n",
       "      <td>73.35</td>\n",
       "      <td>1760.4</td>\n",
       "    </tr>\n",
       "    <tr>\n",
       "      <th>3052</th>\n",
       "      <td>0</td>\n",
       "      <td>Two year</td>\n",
       "      <td>25.75</td>\n",
       "      <td>618.0</td>\n",
       "    </tr>\n",
       "    <tr>\n",
       "      <th>3118</th>\n",
       "      <td>0</td>\n",
       "      <td>Two year</td>\n",
       "      <td>52.55</td>\n",
       "      <td>1261.2</td>\n",
       "    </tr>\n",
       "    <tr>\n",
       "      <th>4054</th>\n",
       "      <td>0</td>\n",
       "      <td>Two year</td>\n",
       "      <td>80.85</td>\n",
       "      <td>1940.4</td>\n",
       "    </tr>\n",
       "    <tr>\n",
       "      <th>5433</th>\n",
       "      <td>0</td>\n",
       "      <td>Two year</td>\n",
       "      <td>19.85</td>\n",
       "      <td>476.4</td>\n",
       "    </tr>\n",
       "  </tbody>\n",
       "</table>\n",
       "</div>"
      ],
      "text/plain": [
       "      tenure  contract  charges_monthly charges_total\n",
       "945        0  Two year            56.05        1345.2\n",
       "1731       0  Two year            20.00         480.0\n",
       "1906       0  Two year            61.90        1485.6\n",
       "2176       0  Two year            20.25         486.0\n",
       "2250       0  Two year            25.35         608.4\n",
       "2855       0  Two year            73.35        1760.4\n",
       "3052       0  Two year            25.75         618.0\n",
       "3118       0  Two year            52.55        1261.2\n",
       "4054       0  Two year            80.85        1940.4\n",
       "5433       0  Two year            19.85         476.4"
      ]
     },
     "execution_count": 25,
     "metadata": {},
     "output_type": "execute_result"
    }
   ],
   "source": [
    "df3.loc[idx2, ['tenure', 'contract', 'charges_monthly', 'charges_total']]"
   ]
  },
  {
   "cell_type": "code",
   "execution_count": 26,
   "id": "e738bf52",
   "metadata": {
    "ExecuteTime": {
     "end_time": "2023-09-05T23:35:53.650124Z",
     "start_time": "2023-09-05T23:35:53.610377Z"
    },
    "hidden": true
   },
   "outputs": [],
   "source": [
    "df3['charges_total'] = df3['charges_total'].astype(np.float64)"
   ]
  },
  {
   "cell_type": "markdown",
   "id": "6317de3f",
   "metadata": {
    "heading_collapsed": true,
    "hidden": true
   },
   "source": [
    "### 3.1.4. Tratar linhas com 'tenure' igual a 0"
   ]
  },
  {
   "cell_type": "code",
   "execution_count": 27,
   "id": "97fb0918",
   "metadata": {
    "ExecuteTime": {
     "end_time": "2023-09-05T23:35:53.665294Z",
     "start_time": "2023-09-05T23:35:53.654123Z"
    },
    "hidden": true
   },
   "outputs": [],
   "source": [
    "idx = df3.loc[df3['tenure'] == 0, ['tenure', 'contract', 'charges_monthly', 'charges_total']].index"
   ]
  },
  {
   "cell_type": "code",
   "execution_count": 28,
   "id": "90290f04",
   "metadata": {
    "ExecuteTime": {
     "end_time": "2023-09-05T23:35:53.696870Z",
     "start_time": "2023-09-05T23:35:53.676874Z"
    },
    "hidden": true
   },
   "outputs": [],
   "source": [
    "df3.loc[idx, 'tenure'] = np.ceil(df3['charges_total'] / df3['charges_monthly']).astype(np.int64)"
   ]
  },
  {
   "cell_type": "code",
   "execution_count": 29,
   "id": "69e8d709",
   "metadata": {
    "ExecuteTime": {
     "end_time": "2023-09-05T23:35:53.727985Z",
     "start_time": "2023-09-05T23:35:53.701874Z"
    },
    "hidden": true
   },
   "outputs": [
    {
     "data": {
      "text/html": [
       "<div>\n",
       "<style scoped>\n",
       "    .dataframe tbody tr th:only-of-type {\n",
       "        vertical-align: middle;\n",
       "    }\n",
       "\n",
       "    .dataframe tbody tr th {\n",
       "        vertical-align: top;\n",
       "    }\n",
       "\n",
       "    .dataframe thead th {\n",
       "        text-align: right;\n",
       "    }\n",
       "</style>\n",
       "<table border=\"1\" class=\"dataframe\">\n",
       "  <thead>\n",
       "    <tr style=\"text-align: right;\">\n",
       "      <th></th>\n",
       "      <th>tenure</th>\n",
       "      <th>contract</th>\n",
       "      <th>charges_monthly</th>\n",
       "      <th>charges_total</th>\n",
       "    </tr>\n",
       "  </thead>\n",
       "  <tbody>\n",
       "    <tr>\n",
       "      <th>945</th>\n",
       "      <td>24</td>\n",
       "      <td>Two year</td>\n",
       "      <td>56.05</td>\n",
       "      <td>1345.2</td>\n",
       "    </tr>\n",
       "    <tr>\n",
       "      <th>1731</th>\n",
       "      <td>24</td>\n",
       "      <td>Two year</td>\n",
       "      <td>20.00</td>\n",
       "      <td>480.0</td>\n",
       "    </tr>\n",
       "    <tr>\n",
       "      <th>1906</th>\n",
       "      <td>24</td>\n",
       "      <td>Two year</td>\n",
       "      <td>61.90</td>\n",
       "      <td>1485.6</td>\n",
       "    </tr>\n",
       "    <tr>\n",
       "      <th>2025</th>\n",
       "      <td>12</td>\n",
       "      <td>One year</td>\n",
       "      <td>19.70</td>\n",
       "      <td>236.4</td>\n",
       "    </tr>\n",
       "    <tr>\n",
       "      <th>2176</th>\n",
       "      <td>24</td>\n",
       "      <td>Two year</td>\n",
       "      <td>20.25</td>\n",
       "      <td>486.0</td>\n",
       "    </tr>\n",
       "    <tr>\n",
       "      <th>2250</th>\n",
       "      <td>25</td>\n",
       "      <td>Two year</td>\n",
       "      <td>25.35</td>\n",
       "      <td>608.4</td>\n",
       "    </tr>\n",
       "    <tr>\n",
       "      <th>2855</th>\n",
       "      <td>24</td>\n",
       "      <td>Two year</td>\n",
       "      <td>73.35</td>\n",
       "      <td>1760.4</td>\n",
       "    </tr>\n",
       "    <tr>\n",
       "      <th>3052</th>\n",
       "      <td>24</td>\n",
       "      <td>Two year</td>\n",
       "      <td>25.75</td>\n",
       "      <td>618.0</td>\n",
       "    </tr>\n",
       "    <tr>\n",
       "      <th>3118</th>\n",
       "      <td>24</td>\n",
       "      <td>Two year</td>\n",
       "      <td>52.55</td>\n",
       "      <td>1261.2</td>\n",
       "    </tr>\n",
       "    <tr>\n",
       "      <th>4054</th>\n",
       "      <td>24</td>\n",
       "      <td>Two year</td>\n",
       "      <td>80.85</td>\n",
       "      <td>1940.4</td>\n",
       "    </tr>\n",
       "    <tr>\n",
       "      <th>5433</th>\n",
       "      <td>24</td>\n",
       "      <td>Two year</td>\n",
       "      <td>19.85</td>\n",
       "      <td>476.4</td>\n",
       "    </tr>\n",
       "  </tbody>\n",
       "</table>\n",
       "</div>"
      ],
      "text/plain": [
       "      tenure  contract  charges_monthly  charges_total\n",
       "945       24  Two year            56.05         1345.2\n",
       "1731      24  Two year            20.00          480.0\n",
       "1906      24  Two year            61.90         1485.6\n",
       "2025      12  One year            19.70          236.4\n",
       "2176      24  Two year            20.25          486.0\n",
       "2250      25  Two year            25.35          608.4\n",
       "2855      24  Two year            73.35         1760.4\n",
       "3052      24  Two year            25.75          618.0\n",
       "3118      24  Two year            52.55         1261.2\n",
       "4054      24  Two year            80.85         1940.4\n",
       "5433      24  Two year            19.85          476.4"
      ]
     },
     "execution_count": 29,
     "metadata": {},
     "output_type": "execute_result"
    }
   ],
   "source": [
    "df3.loc[idx, ['tenure', 'contract', 'charges_monthly', 'charges_total']]"
   ]
  },
  {
   "cell_type": "markdown",
   "id": "02425723",
   "metadata": {
    "heading_collapsed": true,
    "hidden": true
   },
   "source": [
    "## 3.2. Seleção das Colunas"
   ]
  },
  {
   "cell_type": "markdown",
   "id": "2338edba",
   "metadata": {
    "hidden": true
   },
   "source": [
    "### 3.2.1. Remover coluna customer"
   ]
  },
  {
   "cell_type": "code",
   "execution_count": 30,
   "id": "c9f121fb",
   "metadata": {
    "ExecuteTime": {
     "end_time": "2023-09-05T23:35:53.759240Z",
     "start_time": "2023-09-05T23:35:53.732983Z"
    },
    "hidden": true
   },
   "outputs": [],
   "source": [
    "df3.drop('customer', axis=1, inplace=True)"
   ]
  },
  {
   "cell_type": "markdown",
   "id": "1a8a8229",
   "metadata": {
    "hidden": true
   },
   "source": [
    "### 3.2.2. Converter senior_citizen em categórico ('Yes', 'No')"
   ]
  },
  {
   "cell_type": "code",
   "execution_count": 31,
   "id": "6156887a",
   "metadata": {
    "ExecuteTime": {
     "end_time": "2023-09-05T23:35:53.790932Z",
     "start_time": "2023-09-05T23:35:53.765240Z"
    },
    "hidden": true
   },
   "outputs": [],
   "source": [
    "# Converter senior_citizen em categórico ('Yes', 'No')\n",
    "df3['senior_citizen'] = df3['senior_citizen'].map({0: 'No', 1: 'Yes'})"
   ]
  },
  {
   "cell_type": "code",
   "execution_count": 32,
   "id": "38e17e61",
   "metadata": {
    "ExecuteTime": {
     "end_time": "2023-09-05T23:35:53.931363Z",
     "start_time": "2023-09-05T23:35:53.796450Z"
    },
    "hidden": true
   },
   "outputs": [
    {
     "data": {
      "text/html": [
       "<div>\n",
       "<style scoped>\n",
       "    .dataframe tbody tr th:only-of-type {\n",
       "        vertical-align: middle;\n",
       "    }\n",
       "\n",
       "    .dataframe tbody tr th {\n",
       "        vertical-align: top;\n",
       "    }\n",
       "\n",
       "    .dataframe thead th {\n",
       "        text-align: right;\n",
       "    }\n",
       "</style>\n",
       "<table border=\"1\" class=\"dataframe\">\n",
       "  <thead>\n",
       "    <tr style=\"text-align: right;\">\n",
       "      <th></th>\n",
       "      <th>count</th>\n",
       "      <th>content</th>\n",
       "    </tr>\n",
       "  </thead>\n",
       "  <tbody>\n",
       "    <tr>\n",
       "      <th>churn</th>\n",
       "      <td>2</td>\n",
       "      <td>[No, Yes]</td>\n",
       "    </tr>\n",
       "    <tr>\n",
       "      <th>gender</th>\n",
       "      <td>2</td>\n",
       "      <td>[Female, Male]</td>\n",
       "    </tr>\n",
       "    <tr>\n",
       "      <th>senior_citizen</th>\n",
       "      <td>2</td>\n",
       "      <td>[No, Yes]</td>\n",
       "    </tr>\n",
       "    <tr>\n",
       "      <th>partner</th>\n",
       "      <td>2</td>\n",
       "      <td>[Yes, No]</td>\n",
       "    </tr>\n",
       "    <tr>\n",
       "      <th>dependents</th>\n",
       "      <td>2</td>\n",
       "      <td>[Yes, No]</td>\n",
       "    </tr>\n",
       "    <tr>\n",
       "      <th>tenure</th>\n",
       "      <td>72</td>\n",
       "      <td>[9, 4, 13, 3, 71, 63, 7, 65, 54, 72, 5, 56, 34...</td>\n",
       "    </tr>\n",
       "    <tr>\n",
       "      <th>phone_service</th>\n",
       "      <td>2</td>\n",
       "      <td>[Yes, No]</td>\n",
       "    </tr>\n",
       "    <tr>\n",
       "      <th>multiple_lines</th>\n",
       "      <td>2</td>\n",
       "      <td>[No, Yes]</td>\n",
       "    </tr>\n",
       "    <tr>\n",
       "      <th>internet_service</th>\n",
       "      <td>3</td>\n",
       "      <td>[DSL, Fiber optic, No]</td>\n",
       "    </tr>\n",
       "    <tr>\n",
       "      <th>online_security</th>\n",
       "      <td>2</td>\n",
       "      <td>[No, Yes]</td>\n",
       "    </tr>\n",
       "    <tr>\n",
       "      <th>online_backup</th>\n",
       "      <td>2</td>\n",
       "      <td>[Yes, No]</td>\n",
       "    </tr>\n",
       "    <tr>\n",
       "      <th>device_protection</th>\n",
       "      <td>2</td>\n",
       "      <td>[No, Yes]</td>\n",
       "    </tr>\n",
       "    <tr>\n",
       "      <th>tech_support</th>\n",
       "      <td>2</td>\n",
       "      <td>[Yes, No]</td>\n",
       "    </tr>\n",
       "    <tr>\n",
       "      <th>streaming_tv</th>\n",
       "      <td>2</td>\n",
       "      <td>[Yes, No]</td>\n",
       "    </tr>\n",
       "    <tr>\n",
       "      <th>streaming_movies</th>\n",
       "      <td>2</td>\n",
       "      <td>[No, Yes]</td>\n",
       "    </tr>\n",
       "    <tr>\n",
       "      <th>contract</th>\n",
       "      <td>3</td>\n",
       "      <td>[One year, Month-to-month, Two year]</td>\n",
       "    </tr>\n",
       "    <tr>\n",
       "      <th>paperless_billing</th>\n",
       "      <td>2</td>\n",
       "      <td>[Yes, No]</td>\n",
       "    </tr>\n",
       "    <tr>\n",
       "      <th>payment_method</th>\n",
       "      <td>4</td>\n",
       "      <td>[Mailed check, Electronic check, Credit card (...</td>\n",
       "    </tr>\n",
       "    <tr>\n",
       "      <th>charges_monthly</th>\n",
       "      <td>1585</td>\n",
       "      <td>[65.6, 59.9, 73.9, 98.0, 83.9, 69.4, 109.7, 84...</td>\n",
       "    </tr>\n",
       "    <tr>\n",
       "      <th>charges_total</th>\n",
       "      <td>6541</td>\n",
       "      <td>[593.3, 542.4, 280.85, 1237.85, 267.4, 571.45,...</td>\n",
       "    </tr>\n",
       "  </tbody>\n",
       "</table>\n",
       "</div>"
      ],
      "text/plain": [
       "                   count                                            content\n",
       "churn                  2                                          [No, Yes]\n",
       "gender                 2                                     [Female, Male]\n",
       "senior_citizen         2                                          [No, Yes]\n",
       "partner                2                                          [Yes, No]\n",
       "dependents             2                                          [Yes, No]\n",
       "tenure                72  [9, 4, 13, 3, 71, 63, 7, 65, 54, 72, 5, 56, 34...\n",
       "phone_service          2                                          [Yes, No]\n",
       "multiple_lines         2                                          [No, Yes]\n",
       "internet_service       3                             [DSL, Fiber optic, No]\n",
       "online_security        2                                          [No, Yes]\n",
       "online_backup          2                                          [Yes, No]\n",
       "device_protection      2                                          [No, Yes]\n",
       "tech_support           2                                          [Yes, No]\n",
       "streaming_tv           2                                          [Yes, No]\n",
       "streaming_movies       2                                          [No, Yes]\n",
       "contract               3               [One year, Month-to-month, Two year]\n",
       "paperless_billing      2                                          [Yes, No]\n",
       "payment_method         4  [Mailed check, Electronic check, Credit card (...\n",
       "charges_monthly     1585  [65.6, 59.9, 73.9, 98.0, 83.9, 69.4, 109.7, 84...\n",
       "charges_total       6541  [593.3, 542.4, 280.85, 1237.85, 267.4, 571.45,..."
      ]
     },
     "execution_count": 32,
     "metadata": {},
     "output_type": "execute_result"
    }
   ],
   "source": [
    "tab_unique(df3)"
   ]
  },
  {
   "cell_type": "markdown",
   "id": "f69ab9ef",
   "metadata": {},
   "source": [
    "# 4. EXPLORATORY DATA ANALYSIS (EDA)"
   ]
  },
  {
   "cell_type": "code",
   "execution_count": 33,
   "id": "0bd0f97d",
   "metadata": {
    "ExecuteTime": {
     "end_time": "2023-09-05T23:35:53.962253Z",
     "start_time": "2023-09-05T23:35:53.934876Z"
    }
   },
   "outputs": [],
   "source": [
    "df4 = df3.copy()"
   ]
  },
  {
   "cell_type": "code",
   "execution_count": 34,
   "id": "cb26e416",
   "metadata": {
    "ExecuteTime": {
     "end_time": "2023-09-05T23:35:53.993585Z",
     "start_time": "2023-09-05T23:35:53.966326Z"
    }
   },
   "outputs": [],
   "source": [
    "# Separar os tipos de dados categóricos dos numéricos\n",
    "df_num = df4.select_dtypes(include = ['int64', 'float64'])\n",
    "df_cat = df4.select_dtypes(exclude = ['int64', 'float64'])"
   ]
  },
  {
   "cell_type": "markdown",
   "id": "5afef12f",
   "metadata": {},
   "source": [
    "## 4.1. Análise Univariada"
   ]
  },
  {
   "cell_type": "markdown",
   "id": "d68f1390",
   "metadata": {},
   "source": [
    "* Como são as variáveis? \n",
    "* Estatística descritiva."
   ]
  },
  {
   "cell_type": "markdown",
   "id": "aeb1df81",
   "metadata": {
    "heading_collapsed": true
   },
   "source": [
    "### 4.1.1. Response Variable"
   ]
  },
  {
   "cell_type": "code",
   "execution_count": 35,
   "id": "ae0833fc",
   "metadata": {
    "ExecuteTime": {
     "end_time": "2023-09-05T23:35:54.009679Z",
     "start_time": "2023-09-05T23:35:53.997157Z"
    },
    "hidden": true
   },
   "outputs": [
    {
     "data": {
      "text/plain": [
       "Index(['churn', 'gender', 'senior_citizen', 'partner', 'dependents', 'tenure',\n",
       "       'phone_service', 'multiple_lines', 'internet_service',\n",
       "       'online_security', 'online_backup', 'device_protection', 'tech_support',\n",
       "       'streaming_tv', 'streaming_movies', 'contract', 'paperless_billing',\n",
       "       'payment_method', 'charges_monthly', 'charges_total'],\n",
       "      dtype='object')"
      ]
     },
     "execution_count": 35,
     "metadata": {},
     "output_type": "execute_result"
    }
   ],
   "source": [
    "df4.columns"
   ]
  },
  {
   "cell_type": "code",
   "execution_count": 36,
   "id": "3dec5f8f",
   "metadata": {
    "ExecuteTime": {
     "end_time": "2023-09-05T23:35:54.415781Z",
     "start_time": "2023-09-05T23:35:54.013678Z"
    },
    "hidden": true
   },
   "outputs": [
    {
     "data": {
      "image/png": "[encoded data removed]",
      "text/plain": [
       "<Figure size 864x360 with 1 Axes>"
      ]
     },
     "metadata": {
      "needs_background": "light"
     },
     "output_type": "display_data"
    }
   ],
   "source": [
    "col = 'churn'\n",
    "\n",
    "aux = df4[col].value_counts(normalize=True).to_frame() * 100\n",
    "aux = aux.sort_values(col, ascending=False)\n",
    "\n",
    "cores = [paleta_personalizada['orange'] if tipo == aux[col].idxmin() else \n",
    "         paleta_personalizada['black'] for tipo in aux.index]\n",
    "\n",
    "fig, ax = plt.subplots(figsize=(12, 5))\n",
    "ax.barh(aux.index, aux[col], color=cores)\n",
    "\n",
    "ax.yaxis.set_tick_params(labelsize=14)\n",
    "ax.set_title(f'O churn atual é de {aux[col].min():.1f}% dos clientes', \n",
    "             loc='left', fontsize=16, fontweight='bold')\n",
    "\n",
    "for i, v in enumerate(aux[col]):\n",
    "    formatted_value = '{:.1f}%'.format(v)\n",
    "    ax.text(v + 1, i, formatted_value, color='black', fontsize=12, ha='left', va='center')\n",
    "    \n",
    "ax.set_frame_on(False)\n",
    "ax.get_xaxis().set_visible(False)\n",
    "ax.tick_params(axis='both', which='both', length=0)\n",
    "\n",
    "plt.show()"
   ]
  },
  {
   "cell_type": "markdown",
   "id": "585544f1",
   "metadata": {
    "heading_collapsed": true
   },
   "source": [
    "### 4.1.2. Numerical Variable"
   ]
  },
  {
   "cell_type": "markdown",
   "id": "c5a8ead7",
   "metadata": {
    "hidden": true
   },
   "source": [
    "Nome | Descrição\n",
    "--|--\n",
    "tenure |  meses de contrato do cliente\n",
    "Charges.Monthly | total de todos os serviços do cliente por mês\n",
    "Charges.Total | total gasto pelo cliente"
   ]
  },
  {
   "cell_type": "code",
   "execution_count": 37,
   "id": "39a15b20",
   "metadata": {
    "ExecuteTime": {
     "end_time": "2023-09-05T23:35:54.494110Z",
     "start_time": "2023-09-05T23:35:54.419785Z"
    },
    "hidden": true
   },
   "outputs": [
    {
     "data": {
      "text/html": [
       "<div>\n",
       "<style scoped>\n",
       "    .dataframe tbody tr th:only-of-type {\n",
       "        vertical-align: middle;\n",
       "    }\n",
       "\n",
       "    .dataframe tbody tr th {\n",
       "        vertical-align: top;\n",
       "    }\n",
       "\n",
       "    .dataframe thead th {\n",
       "        text-align: right;\n",
       "    }\n",
       "</style>\n",
       "<table border=\"1\" class=\"dataframe\">\n",
       "  <thead>\n",
       "    <tr style=\"text-align: right;\">\n",
       "      <th></th>\n",
       "      <th>count</th>\n",
       "      <th>mean</th>\n",
       "      <th>std</th>\n",
       "      <th>min</th>\n",
       "      <th>25%</th>\n",
       "      <th>50%</th>\n",
       "      <th>75%</th>\n",
       "      <th>max</th>\n",
       "      <th>range</th>\n",
       "      <th>skew</th>\n",
       "      <th>kurtosis</th>\n",
       "    </tr>\n",
       "  </thead>\n",
       "  <tbody>\n",
       "    <tr>\n",
       "      <th>tenure</th>\n",
       "      <td>7043.0</td>\n",
       "      <td>32.407071</td>\n",
       "      <td>24.529292</td>\n",
       "      <td>1.00</td>\n",
       "      <td>9.0</td>\n",
       "      <td>29.00</td>\n",
       "      <td>55.00</td>\n",
       "      <td>72.00</td>\n",
       "      <td>71.0</td>\n",
       "      <td>0.239486</td>\n",
       "      <td>-1.385484</td>\n",
       "    </tr>\n",
       "    <tr>\n",
       "      <th>charges_monthly</th>\n",
       "      <td>7043.0</td>\n",
       "      <td>64.761692</td>\n",
       "      <td>30.090047</td>\n",
       "      <td>18.25</td>\n",
       "      <td>35.5</td>\n",
       "      <td>70.35</td>\n",
       "      <td>89.85</td>\n",
       "      <td>118.75</td>\n",
       "      <td>100.5</td>\n",
       "      <td>-0.220524</td>\n",
       "      <td>-1.257260</td>\n",
       "    </tr>\n",
       "    <tr>\n",
       "      <th>charges_total</th>\n",
       "      <td>7043.0</td>\n",
       "      <td>2281.253259</td>\n",
       "      <td>2265.703526</td>\n",
       "      <td>18.80</td>\n",
       "      <td>401.9</td>\n",
       "      <td>1396.25</td>\n",
       "      <td>3786.60</td>\n",
       "      <td>8684.80</td>\n",
       "      <td>8666.0</td>\n",
       "      <td>0.963745</td>\n",
       "      <td>-0.227068</td>\n",
       "    </tr>\n",
       "  </tbody>\n",
       "</table>\n",
       "</div>"
      ],
      "text/plain": [
       "                  count         mean          std    min    25%      50%  \\\n",
       "tenure           7043.0    32.407071    24.529292   1.00    9.0    29.00   \n",
       "charges_monthly  7043.0    64.761692    30.090047  18.25   35.5    70.35   \n",
       "charges_total    7043.0  2281.253259  2265.703526  18.80  401.9  1396.25   \n",
       "\n",
       "                     75%      max   range      skew  kurtosis  \n",
       "tenure             55.00    72.00    71.0  0.239486 -1.385484  \n",
       "charges_monthly    89.85   118.75   100.5 -0.220524 -1.257260  \n",
       "charges_total    3786.60  8684.80  8666.0  0.963745 -0.227068  "
      ]
     },
     "execution_count": 37,
     "metadata": {},
     "output_type": "execute_result"
    }
   ],
   "source": [
    "# Incluir: Range, kurtosis, skew e std \n",
    "num_describe = df_num.describe().T\n",
    "num_describe['range'] = pd.DataFrame(df_num.apply(lambda x: x.max() - x.min()))\n",
    "num_describe['skew'] = pd.DataFrame(df_num.apply(lambda x: x.skew()))\n",
    "num_describe['kurtosis'] = pd.DataFrame(df_num.apply(lambda x: x.kurtosis()))\n",
    "num_describe"
   ]
  },
  {
   "cell_type": "code",
   "execution_count": 38,
   "id": "9b96bc8a",
   "metadata": {
    "ExecuteTime": {
     "end_time": "2023-09-05T23:35:57.958770Z",
     "start_time": "2023-09-05T23:35:54.499880Z"
    },
    "hidden": true
   },
   "outputs": [
    {
     "data": {
      "image/png": "[encoded data removed]",
      "text/plain": [
       "<Figure size 864x360 with 2 Axes>"
      ]
     },
     "metadata": {
      "needs_background": "light"
     },
     "output_type": "display_data"
    },
    {
     "data": {
      "image/png": "[encoded data removed]",
      "text/plain": [
       "<Figure size 864x360 with 2 Axes>"
      ]
     },
     "metadata": {
      "needs_background": "light"
     },
     "output_type": "display_data"
    },
    {
     "data": {
      "image/png": "[encoded data removed]",
      "text/plain": [
       "<Figure size 864x360 with 2 Axes>"
      ]
     },
     "metadata": {
      "needs_background": "light"
     },
     "output_type": "display_data"
    }
   ],
   "source": [
    "def grafics_num_attribute(df, col):\n",
    "    # Calcular a média e a mediana\n",
    "    mean_value = np.mean(df[col])\n",
    "    median_value = np.median(df[col])\n",
    "    std_low = mean_value - np.std(df[col])\n",
    "    std_high = mean_value + np.std(df[col])\n",
    "\n",
    "    # Criação dos subplots\n",
    "    fig, (ax1, ax2) = plt.subplots(1, 2, figsize=(12, 5))\n",
    "\n",
    "    # Plotagem do histograma no primeiro subplot\n",
    "    ax1.hist(df[col], bins=20, edgecolor='black', alpha=0.7, color=paleta_personalizada['black'])\n",
    "    ax1.axvline(mean_value, color=paleta_personalizada['orange'], linewidth=2, label='Média')\n",
    "    ax1.axvline(median_value, color=paleta_personalizada['purple'], linewidth=2, label='Mediana')\n",
    "    ax1.axvline(std_low, color=paleta_personalizada['orange'], linestyle='dashed', linewidth=2, label='Low std')\n",
    "    ax1.axvline(std_high, color=paleta_personalizada['orange'], linestyle='dashed', linewidth=2, label='High std')\n",
    "    ax1.set_xlabel(col)\n",
    "    ax1.set_ylabel('Frequência')\n",
    "    ax1.set_title(f'Histograma de {col}', fontsize=14, fontweight='bold')\n",
    "    ax1.legend()\n",
    "\n",
    "    # Plotagem do boxplot no segundo subplot\n",
    "    ax2.boxplot(df[col], vert=False, medianprops={'color': paleta_personalizada['purple'], 'linewidth': 2})\n",
    "    ax2.set_xlabel(col)\n",
    "    ax2.set_title(f'Boxplot de {col} c/ mediana', fontsize=14, fontweight='bold')\n",
    "\n",
    "    # Ajustar espaçamento entre os subplots\n",
    "    plt.tight_layout()\n",
    "\n",
    "    # Exibir os subplots\n",
    "    plt.show()\n",
    "\n",
    "# Chamar a função para cada atributo\n",
    "for col in ['tenure', 'charges_monthly', 'charges_total']:\n",
    "    grafics_num_attribute(df_num, col)"
   ]
  },
  {
   "cell_type": "markdown",
   "id": "0f61a3d4",
   "metadata": {},
   "source": [
    "### 4.1.3. Categorical Variable"
   ]
  },
  {
   "cell_type": "code",
   "execution_count": 39,
   "id": "9069f814",
   "metadata": {
    "ExecuteTime": {
     "end_time": "2023-09-05T23:35:57.991390Z",
     "start_time": "2023-09-05T23:35:57.962772Z"
    }
   },
   "outputs": [
    {
     "data": {
      "text/plain": [
       "Index(['churn', 'gender', 'senior_citizen', 'partner', 'dependents',\n",
       "       'phone_service', 'multiple_lines', 'internet_service',\n",
       "       'online_security', 'online_backup', 'device_protection', 'tech_support',\n",
       "       'streaming_tv', 'streaming_movies', 'contract', 'paperless_billing',\n",
       "       'payment_method'],\n",
       "      dtype='object')"
      ]
     },
     "execution_count": 39,
     "metadata": {},
     "output_type": "execute_result"
    }
   ],
   "source": [
    "df_cat.columns"
   ]
  },
  {
   "cell_type": "markdown",
   "id": "5efc44fd",
   "metadata": {},
   "source": [
    "#### 4.1.3.1. Variáveis relativas ao cliente "
   ]
  },
  {
   "cell_type": "markdown",
   "id": "032dec43",
   "metadata": {},
   "source": [
    "Variáveis relativas ao cliente | Descrição\n",
    "--|--\n",
    "gender | gênero (masculino e feminino) \n",
    "SeniorCitizen | informação sobre um cliente ter ou não idade igual ou maior que 65 anos \n",
    "Partner |  se o cliente possui ou não um parceiro ou parceira\n",
    "Dependents | se o cliente possui ou não dependentes\n",
    "PaperlessBilling | se o cliente prefere receber online a fatura"
   ]
  },
  {
   "cell_type": "code",
   "execution_count": 194,
   "id": "ff9dcebb",
   "metadata": {
    "ExecuteTime": {
     "end_time": "2023-09-08T18:11:36.751500Z",
     "start_time": "2023-09-08T18:11:36.720830Z"
    }
   },
   "outputs": [
    {
     "data": {
      "text/plain": [
       "Male      50.47565\n",
       "Female    49.52435\n",
       "Name: gender, dtype: float64"
      ]
     },
     "execution_count": 194,
     "metadata": {},
     "output_type": "execute_result"
    }
   ],
   "source": [
    "df_cat['gender'].value_counts(normalize=True) * 100"
   ]
  },
  {
   "cell_type": "code",
   "execution_count": 225,
   "id": "3228fabe",
   "metadata": {
    "ExecuteTime": {
     "end_time": "2023-09-08T18:55:43.825573Z",
     "start_time": "2023-09-08T18:55:43.794557Z"
    }
   },
   "outputs": [],
   "source": [
    "customer_cols = ['gender', 'senior_citizen', 'partner', 'dependents', 'paperless_billing']\n",
    "df_customer = df_cat.loc[:, customer_cols].copy()"
   ]
  },
  {
   "cell_type": "code",
   "execution_count": 226,
   "id": "0f610110",
   "metadata": {
    "ExecuteTime": {
     "end_time": "2023-09-08T18:55:45.419429Z",
     "start_time": "2023-09-08T18:55:45.394426Z"
    }
   },
   "outputs": [
    {
     "data": {
      "text/plain": [
       "array(['Yes', 'No'], dtype=object)"
      ]
     },
     "execution_count": 226,
     "metadata": {},
     "output_type": "execute_result"
    }
   ],
   "source": [
    "# Transformar em internet_service em binário para visualização generalizada dos serviços assinados\n",
    "df_customer['gender'] = df_customer['gender'].map(lambda x: 'Yes' if x == 'Female' else 'No')\n",
    "df_customer['gender'].unique()"
   ]
  },
  {
   "cell_type": "code",
   "execution_count": 227,
   "id": "903df093",
   "metadata": {
    "ExecuteTime": {
     "end_time": "2023-09-08T18:55:46.928037Z",
     "start_time": "2023-09-08T18:55:46.855035Z"
    }
   },
   "outputs": [
    {
     "data": {
      "text/html": [
       "<div>\n",
       "<style scoped>\n",
       "    .dataframe tbody tr th:only-of-type {\n",
       "        vertical-align: middle;\n",
       "    }\n",
       "\n",
       "    .dataframe tbody tr th {\n",
       "        vertical-align: top;\n",
       "    }\n",
       "\n",
       "    .dataframe thead th {\n",
       "        text-align: right;\n",
       "    }\n",
       "</style>\n",
       "<table border=\"1\" class=\"dataframe\">\n",
       "  <thead>\n",
       "    <tr style=\"text-align: right;\">\n",
       "      <th></th>\n",
       "      <th>No</th>\n",
       "      <th>Yes</th>\n",
       "    </tr>\n",
       "  </thead>\n",
       "  <tbody>\n",
       "    <tr>\n",
       "      <th>Prefere receber a fatura impressa</th>\n",
       "      <td>40.778078</td>\n",
       "      <td>59.221922</td>\n",
       "    </tr>\n",
       "    <tr>\n",
       "      <th>É do sexo masculino</th>\n",
       "      <td>50.475650</td>\n",
       "      <td>49.524350</td>\n",
       "    </tr>\n",
       "    <tr>\n",
       "      <th>Não possui parceiro(a)</th>\n",
       "      <td>51.696720</td>\n",
       "      <td>48.303280</td>\n",
       "    </tr>\n",
       "    <tr>\n",
       "      <th>Não Possui dependentes</th>\n",
       "      <td>70.041176</td>\n",
       "      <td>29.958824</td>\n",
       "    </tr>\n",
       "    <tr>\n",
       "      <th>Tem menos de 65 anos</th>\n",
       "      <td>83.785319</td>\n",
       "      <td>16.214681</td>\n",
       "    </tr>\n",
       "  </tbody>\n",
       "</table>\n",
       "</div>"
      ],
      "text/plain": [
       "                                          No        Yes\n",
       "Prefere receber a fatura impressa  40.778078  59.221922\n",
       "É do sexo masculino                50.475650  49.524350\n",
       "Não possui parceiro(a)             51.696720  48.303280\n",
       "Não Possui dependentes             70.041176  29.958824\n",
       "Tem menos de 65 anos               83.785319  16.214681"
      ]
     },
     "execution_count": 227,
     "metadata": {},
     "output_type": "execute_result"
    }
   ],
   "source": [
    "# Constroi tabela de frequência relativa das features\n",
    "customer_relative_frequency = pd.DataFrame()\n",
    "for col in list(df_customer.columns):\n",
    "    customer_relative_frequency[col] = df_customer[col].value_counts(normalize=True) * 100\n",
    "\n",
    "mapa = {'gender'            : 'É do sexo masculino',\n",
    "        'senior_citizen'    : 'Tem menos de 65 anos',\n",
    "        'partner'           : 'Não possui parceiro(a)',\n",
    "        'dependents'        : 'Não Possui dependentes',\n",
    "        'paperless_billing' : 'Prefere receber a fatura impressa' \n",
    "       }\n",
    "\n",
    "customer_relative_frequency = customer_relative_frequency.rename(columns = mapa)\n",
    "customer_relative_frequency = customer_relative_frequency.T\n",
    "customer_relative_frequency.columns = ['No', 'Yes']\n",
    "\n",
    "customer_relative_frequency_sorted = customer_relative_frequency.sort_values(by='No', ascending=True)\n",
    "customer_relative_frequency_sorted"
   ]
  },
  {
   "cell_type": "code",
   "execution_count": 230,
   "id": "1e052846",
   "metadata": {
    "ExecuteTime": {
     "end_time": "2023-09-08T18:57:11.656141Z",
     "start_time": "2023-09-08T18:57:11.122819Z"
    }
   },
   "outputs": [
    {
     "data": {
      "image/png": "[encoded data removed]",
      "text/plain": [
       "<Figure size 1080x648 with 1 Axes>"
      ]
     },
     "metadata": {
      "needs_background": "light"
     },
     "output_type": "display_data"
    }
   ],
   "source": [
    "col_left  = 'No'\n",
    "col_right = 'Yes'\n",
    "aux = customer_relative_frequency_sorted\n",
    "\n",
    "# Crie um gráfico de barras empilhadas horizontal\n",
    "fig, ax = plt.subplots(figsize=(15, 9))\n",
    "\n",
    "# Primeira camada (col_left)\n",
    "ax.barh(aux.index, aux[col_left], color=paleta_personalizada['orange'])\n",
    "\n",
    "# Crie o texto\n",
    "ax.set_title('Características refentes ao perfil dos clientes da amostra\\n', \n",
    "             loc='left', fontsize=16, fontweight='bold')\n",
    "\n",
    "# Segunda camada (col_right)\n",
    "ax.barh(aux.index, aux[col_right], left=aux[col_left], color=paleta_personalizada['black'])\n",
    "\n",
    "# Adicionar col_left com uma cor diferente\n",
    "ax.text(0, 1, '% de dados nas categorias:         | Não', \n",
    "        color=paleta_personalizada['black'], fontsize=16, fontweight='bold', transform=ax.transAxes)\n",
    "\n",
    "ax.text(0.31, 1, 'Sim', color=paleta_personalizada['orange'], \n",
    "        fontsize=16, fontweight='bold', transform=ax.transAxes)\n",
    "\n",
    "ax.legend(loc='upper center', ncol=2, frameon=False, labels=[]).set_visible(False)\n",
    "ax.set_frame_on(False)\n",
    "ax.get_xaxis().set_visible(False)\n",
    "ax.tick_params(axis='both', which='both', length=0)\n",
    "ax.yaxis.set_tick_params(labelsize=14)\n",
    "    \n",
    "# Adicionar os valores dentro das barras\n",
    "for c in ax.containers:\n",
    "    labels = [f'{w:0.1f}%' if (w := v.get_width()) > 0 else '' for v in c]\n",
    "    ax.bar_label(c, labels=labels, label_type='center', padding=0.3, color='w', fontsize=12, fontweight='bold')\n",
    "    \n",
    "plt.show();"
   ]
  },
  {
   "cell_type": "markdown",
   "id": "aba329a0",
   "metadata": {},
   "source": [
    "#### 4.1.3.2. Variáveis relativas ao pagamento"
   ]
  },
  {
   "cell_type": "markdown",
   "id": "5ac4a0c9",
   "metadata": {
    "ExecuteTime": {
     "end_time": "2023-09-05T22:04:02.824448Z",
     "start_time": "2023-09-05T22:04:02.812882Z"
    }
   },
   "source": [
    "Variáveis relativas ao pagamento | Descrição\n",
    "--|--\n",
    "Contract | tipo de contrato\n",
    "PaymentMethod | forma de pagamento"
   ]
  },
  {
   "cell_type": "code",
   "execution_count": 231,
   "id": "663d004b",
   "metadata": {
    "ExecuteTime": {
     "end_time": "2023-09-08T18:57:31.347021Z",
     "start_time": "2023-09-08T18:57:31.267326Z"
    }
   },
   "outputs": [
    {
     "data": {
      "text/html": [
       "<div>\n",
       "<style scoped>\n",
       "    .dataframe tbody tr th:only-of-type {\n",
       "        vertical-align: middle;\n",
       "    }\n",
       "\n",
       "    .dataframe tbody tr th {\n",
       "        vertical-align: top;\n",
       "    }\n",
       "\n",
       "    .dataframe thead th {\n",
       "        text-align: right;\n",
       "    }\n",
       "</style>\n",
       "<table border=\"1\" class=\"dataframe\">\n",
       "  <thead>\n",
       "    <tr style=\"text-align: right;\">\n",
       "      <th></th>\n",
       "      <th>count</th>\n",
       "      <th>content</th>\n",
       "    </tr>\n",
       "  </thead>\n",
       "  <tbody>\n",
       "    <tr>\n",
       "      <th>contract</th>\n",
       "      <td>3</td>\n",
       "      <td>[One year, Month-to-month, Two year]</td>\n",
       "    </tr>\n",
       "    <tr>\n",
       "      <th>payment_method</th>\n",
       "      <td>4</td>\n",
       "      <td>[Mailed check, Electronic check, Credit card (...</td>\n",
       "    </tr>\n",
       "  </tbody>\n",
       "</table>\n",
       "</div>"
      ],
      "text/plain": [
       "                count                                            content\n",
       "contract            3               [One year, Month-to-month, Two year]\n",
       "payment_method      4  [Mailed check, Electronic check, Credit card (..."
      ]
     },
     "execution_count": 231,
     "metadata": {},
     "output_type": "execute_result"
    }
   ],
   "source": [
    "payments_cols = ['contract', 'payment_method']\n",
    "df_payments = df_cat.loc[:, payments_cols].copy()\n",
    "tab_unique(df_payments)"
   ]
  },
  {
   "cell_type": "code",
   "execution_count": 241,
   "id": "23c1666c",
   "metadata": {
    "ExecuteTime": {
     "end_time": "2023-09-08T19:06:31.385200Z",
     "start_time": "2023-09-08T19:06:31.345843Z"
    }
   },
   "outputs": [
    {
     "data": {
      "text/html": [
       "<div>\n",
       "<style scoped>\n",
       "    .dataframe tbody tr th:only-of-type {\n",
       "        vertical-align: middle;\n",
       "    }\n",
       "\n",
       "    .dataframe tbody tr th {\n",
       "        vertical-align: top;\n",
       "    }\n",
       "\n",
       "    .dataframe thead th {\n",
       "        text-align: right;\n",
       "    }\n",
       "</style>\n",
       "<table border=\"1\" class=\"dataframe\">\n",
       "  <thead>\n",
       "    <tr style=\"text-align: right;\">\n",
       "      <th></th>\n",
       "      <th>contract</th>\n",
       "    </tr>\n",
       "  </thead>\n",
       "  <tbody>\n",
       "    <tr>\n",
       "      <th>Month-to-month</th>\n",
       "      <td>55.019168</td>\n",
       "    </tr>\n",
       "    <tr>\n",
       "      <th>Two year</th>\n",
       "      <td>24.066449</td>\n",
       "    </tr>\n",
       "    <tr>\n",
       "      <th>One year</th>\n",
       "      <td>20.914383</td>\n",
       "    </tr>\n",
       "  </tbody>\n",
       "</table>\n",
       "</div>"
      ],
      "text/plain": [
       "                 contract\n",
       "Month-to-month  55.019168\n",
       "Two year        24.066449\n",
       "One year        20.914383"
      ]
     },
     "execution_count": 241,
     "metadata": {},
     "output_type": "execute_result"
    }
   ],
   "source": [
    "df_payments['contract'].value_counts(normalize=True).to_frame().sort_values(by='contract', ascending=False) *100"
   ]
  },
  {
   "cell_type": "code",
   "execution_count": 240,
   "id": "29a3e5a3",
   "metadata": {
    "ExecuteTime": {
     "end_time": "2023-09-08T19:06:05.676949Z",
     "start_time": "2023-09-08T19:06:05.635899Z"
    }
   },
   "outputs": [
    {
     "data": {
      "text/html": [
       "<div>\n",
       "<style scoped>\n",
       "    .dataframe tbody tr th:only-of-type {\n",
       "        vertical-align: middle;\n",
       "    }\n",
       "\n",
       "    .dataframe tbody tr th {\n",
       "        vertical-align: top;\n",
       "    }\n",
       "\n",
       "    .dataframe thead th {\n",
       "        text-align: right;\n",
       "    }\n",
       "</style>\n",
       "<table border=\"1\" class=\"dataframe\">\n",
       "  <thead>\n",
       "    <tr style=\"text-align: right;\">\n",
       "      <th></th>\n",
       "      <th>payment_method</th>\n",
       "    </tr>\n",
       "  </thead>\n",
       "  <tbody>\n",
       "    <tr>\n",
       "      <th>Electronic check</th>\n",
       "      <td>33.579441</td>\n",
       "    </tr>\n",
       "    <tr>\n",
       "      <th>Mailed check</th>\n",
       "      <td>22.887974</td>\n",
       "    </tr>\n",
       "    <tr>\n",
       "      <th>Bank transfer (automatic)</th>\n",
       "      <td>21.922476</td>\n",
       "    </tr>\n",
       "    <tr>\n",
       "      <th>Credit card (automatic)</th>\n",
       "      <td>21.610109</td>\n",
       "    </tr>\n",
       "  </tbody>\n",
       "</table>\n",
       "</div>"
      ],
      "text/plain": [
       "                           payment_method\n",
       "Electronic check                33.579441\n",
       "Mailed check                    22.887974\n",
       "Bank transfer (automatic)       21.922476\n",
       "Credit card (automatic)         21.610109"
      ]
     },
     "execution_count": 240,
     "metadata": {},
     "output_type": "execute_result"
    }
   ],
   "source": [
    "df_payments['payment_method'].value_counts(normalize=True).to_frame().sort_values(by='payment_method', ascending=False) *100"
   ]
  },
  {
   "cell_type": "markdown",
   "id": "890baf45",
   "metadata": {},
   "source": [
    "#### 4.1.3.3. Variáveis relativas aos serviços contratados"
   ]
  },
  {
   "cell_type": "markdown",
   "id": "7c3e234b",
   "metadata": {},
   "source": [
    "Variáveis relativas aos serviços contratados | Descrição\n",
    "--|--\n",
    "PhoneService | assinatura de serviço telefônico \n",
    "MultipleLines | assisnatura de mais de uma linha de telefone \n",
    "InternetService | assinatura de um provedor internet \n",
    "OnlineSecurity | assinatura adicional de segurança online \n",
    "OnlineBackup | assinatura adicional de backup online \n",
    "DeviceProtection | assinatura adicional de proteção no dispositivo \n",
    "TechSupport | assinatura adicional de suporte técnico, menos tempo de espera\n",
    "StreamingTV | assinatura de TV a cabo \n",
    "StreamingMovies | assinatura de streaming de filmes "
   ]
  },
  {
   "cell_type": "code",
   "execution_count": 116,
   "id": "33cd25a8",
   "metadata": {
    "ExecuteTime": {
     "end_time": "2023-09-06T13:47:41.139658Z",
     "start_time": "2023-09-06T13:47:41.105649Z"
    }
   },
   "outputs": [],
   "source": [
    "service_cols = ['phone_service', 'multiple_lines', 'internet_service',\n",
    "                'online_security', 'online_backup', 'device_protection', 'tech_support',\n",
    "                'streaming_tv', 'streaming_movies']\n",
    "\n",
    "df_service = df_cat.loc[:, service_cols].copy()"
   ]
  },
  {
   "cell_type": "code",
   "execution_count": 117,
   "id": "1e3cdb1f",
   "metadata": {
    "ExecuteTime": {
     "end_time": "2023-09-06T13:47:55.585200Z",
     "start_time": "2023-09-06T13:47:55.550899Z"
    }
   },
   "outputs": [
    {
     "data": {
      "text/plain": [
       "array(['Yes', 'No'], dtype=object)"
      ]
     },
     "execution_count": 117,
     "metadata": {},
     "output_type": "execute_result"
    }
   ],
   "source": [
    "# Transformar em internet_service em binário para visualização generalizada dos serviços assinados\n",
    "df_service['internet_service'] = df_service['internet_service'].map(lambda x: 'Yes' if x != 'No' else x)\n",
    "df_service['internet_service'].unique()"
   ]
  },
  {
   "cell_type": "code",
   "execution_count": 118,
   "id": "bfe43986",
   "metadata": {
    "ExecuteTime": {
     "end_time": "2023-09-06T13:48:39.561037Z",
     "start_time": "2023-09-06T13:48:39.472506Z"
    }
   },
   "outputs": [],
   "source": [
    "# Constroi tabela de frequência relativa das features\n",
    "service_relative_frequency = pd.DataFrame()\n",
    "for col in list(df_service.columns):\n",
    "    service_relative_frequency[col] = df_service[col].value_counts(normalize=True) * 100\n",
    "\n",
    "mapa = {'phone_service'     : 'Serviço telefônico',\n",
    "        'multiple_lines'    : '>= 2 linha de telefone',\n",
    "        'internet_service'  : 'Serviço de internet',\n",
    "        'online_security'   : 'Adicional de segurança online',\n",
    "        'online_backup'     : 'Adicional de backup online',\n",
    "        'device_protection' : 'Adicional de proteção no dispositivo',\n",
    "        'tech_support'      : 'Adicional de suporte técnico',\n",
    "        'streaming_tv'      : 'Assinatura de TV a cabo',\n",
    "        'streaming_movies'  : 'Assinatura de streaming de filmes'\n",
    "       }\n",
    "\n",
    "service_relative_frequency = service_relative_frequency.rename(columns = mapa)\n",
    "service_relative_frequency = service_relative_frequency.T\n",
    "\n",
    "service_relative_frequency_sorted = service_relative_frequency.sort_values(by='Yes', ascending=True)"
   ]
  },
  {
   "cell_type": "code",
   "execution_count": 119,
   "id": "044e5346",
   "metadata": {
    "ExecuteTime": {
     "end_time": "2023-09-06T13:48:46.240058Z",
     "start_time": "2023-09-06T13:48:45.742428Z"
    }
   },
   "outputs": [
    {
     "data": {
      "image/png": "[encoded data removed]",
      "text/plain": [
       "<Figure size 864x360 with 1 Axes>"
      ]
     },
     "metadata": {
      "needs_background": "light"
     },
     "output_type": "display_data"
    }
   ],
   "source": [
    "col = 'Yes'\n",
    "aux = service_relative_frequency_sorted\n",
    "\n",
    "# Defina a lista de cores\n",
    "cores = [paleta_personalizada['orange'] if v > 50 else paleta_personalizada['black'] for v in aux[col]]\n",
    "\n",
    "# Crie o texto\n",
    "texto = ', '.join([aux.index[i] for i, v in reversed(list(enumerate(aux[col]))) if v > 50])\n",
    "\n",
    "fig, ax = plt.subplots(figsize=(12, 5))\n",
    "ax.barh(aux.index, aux[col], color=cores)\n",
    "ax.set_title(f'Os serviços mais assinados são:\\n', \n",
    "             loc='left', fontsize=16, fontweight='bold')\n",
    "\n",
    "ax.text(0, 1, texto, \n",
    "        color=paleta_personalizada['orange'], fontsize=16, fontweight='bold', transform=ax.transAxes)\n",
    "\n",
    "for i, v in enumerate(aux[col]):\n",
    "    formatted_value = '{:.1f}%'.format(v)\n",
    "    ax.text(v + 1, i, formatted_value, color='black', fontsize=12, ha='left', va='center')\n",
    "    \n",
    "ax.set_frame_on(False)\n",
    "ax.get_xaxis().set_visible(False)\n",
    "ax.tick_params(axis='both', which='both', length=0)\n",
    "ax.yaxis.set_tick_params(labelsize=14)\n",
    "\n",
    "plt.show()"
   ]
  },
  {
   "cell_type": "markdown",
   "id": "c97b07f8",
   "metadata": {},
   "source": [
    "#### 4.1.3.1. Binary columns \"Yes\" or \"No\" columns"
   ]
  },
  {
   "cell_type": "markdown",
   "id": "dc3fa6db",
   "metadata": {
    "heading_collapsed": true
   },
   "source": [
    "#### 4.1.3.2. internet_service"
   ]
  },
  {
   "cell_type": "code",
   "execution_count": null,
   "id": "7f1557c2",
   "metadata": {
    "ExecuteTime": {
     "end_time": "2023-09-05T21:57:23.044899Z",
     "start_time": "2023-09-05T21:57:23.044899Z"
    },
    "hidden": true
   },
   "outputs": [],
   "source": [
    "col = 'internet_service'\n",
    "\n",
    "aux = df_cat_not_binary[col].value_counts(normalize=True).to_frame() * 100\n",
    "aux = aux.sort_values(col, ascending = False)\n",
    "\n",
    "cores = [paleta_personalizada['orange'] if tipo == aux[col].idxmin() else \n",
    "         paleta_personalizada['black'] for tipo in aux.index]\n",
    "\n",
    "fig, ax = plt.subplots(figsize=(12, 5))\n",
    "ax.barh(aux.index, aux[col], color=cores)\n",
    "ax.yaxis.set_tick_params(labelsize=14)\n",
    "\n",
    "ax.set_title(f'Apenas {aux[col].min():.1f}% dos clientes não têm um provedor de internet', \n",
    "             loc='left', fontsize=16, fontweight='bold')\n",
    "\n",
    "for i, v in enumerate(aux[col]):\n",
    "    formatted_value = '{:.1f}%'.format(v)\n",
    "    ax.text(v + 1, i, formatted_value, color='black', fontsize=12, ha='left', va='center')\n",
    "    \n",
    "ax.set_frame_on(False)\n",
    "ax.get_xaxis().set_visible(False)\n",
    "ax.tick_params(axis='both', which='both', length=0)\n",
    "\n",
    "plt.show()"
   ]
  },
  {
   "cell_type": "markdown",
   "id": "37583601",
   "metadata": {
    "heading_collapsed": true
   },
   "source": [
    "#### 4.1.3.3. Contract"
   ]
  },
  {
   "cell_type": "code",
   "execution_count": null,
   "id": "8b1ba13d",
   "metadata": {
    "ExecuteTime": {
     "end_time": "2023-09-05T21:57:23.049689Z",
     "start_time": "2023-09-05T21:57:23.049689Z"
    },
    "hidden": true
   },
   "outputs": [],
   "source": [
    "col = 'contract'\n",
    "\n",
    "aux = df_cat_not_binary[col].value_counts(normalize=True).to_frame() * 100\n",
    "aux = aux.sort_values(col)\n",
    "\n",
    "cores = [paleta_personalizada['orange'] if tipo == aux[col].idxmax() else \n",
    "         paleta_personalizada['black'] for tipo in aux.index]\n",
    "\n",
    "fig, ax = plt.subplots(figsize=(12, 5))\n",
    "ax.barh(aux.index, aux[col], color=cores)\n",
    "ax.yaxis.set_tick_params(labelsize=14)\n",
    "\n",
    "ax.set_title(f'{aux[col].max():.1f}% dos clientes têm contrato de pagamento mês a mês', \n",
    "             loc='left', fontsize=16, fontweight='bold')\n",
    "\n",
    "for i, v in enumerate(aux[col]):\n",
    "    formatted_value = '{:.1f}%'.format(v)\n",
    "    ax.text(v + 1, i, formatted_value, color='black', fontsize=12, ha='left', va='center')\n",
    "    \n",
    "ax.set_frame_on(False)\n",
    "ax.get_xaxis().set_visible(False)\n",
    "ax.tick_params(axis='both', which='both', length=0)\n",
    "\n",
    "plt.show()"
   ]
  },
  {
   "cell_type": "markdown",
   "id": "a566ebd0",
   "metadata": {
    "heading_collapsed": true
   },
   "source": [
    "#### 4.1.3.4. payment_method"
   ]
  },
  {
   "cell_type": "code",
   "execution_count": null,
   "id": "1a772b04",
   "metadata": {
    "ExecuteTime": {
     "end_time": "2023-09-05T21:57:23.053693Z",
     "start_time": "2023-09-05T21:57:23.053693Z"
    },
    "hidden": true
   },
   "outputs": [],
   "source": [
    "col = 'payment_method'\n",
    "\n",
    "aux = df_cat_not_binary[col].value_counts(normalize=True).to_frame() * 100\n",
    "aux = aux.sort_values(col, ascending=False)\n",
    "\n",
    "cores = [paleta_personalizada['orange'] if 'automatic' in tipo else \n",
    "         paleta_personalizada['black'] for tipo in aux.index]\n",
    "\n",
    "soma_automatic = aux[aux.index.str.contains('automatic')][col].sum()\n",
    "\n",
    "fig, ax = plt.subplots(figsize=(12, 5))\n",
    "ax.barh(aux.index, aux[col], color=cores)\n",
    "ax.yaxis.set_tick_params(labelsize=14)\n",
    "\n",
    "ax.set_title(f'{soma_automatic:.1f}% dos clientes fazem pagamento automático', \n",
    "             loc='left', fontsize=16, fontweight='bold')\n",
    "\n",
    "for i, v in enumerate(aux[col]):\n",
    "    formatted_value = '{:.1f}%'.format(v)\n",
    "    ax.text(v + 1, i, formatted_value, color='black', fontsize=12, ha='left', va='center')\n",
    "    \n",
    "ax.set_frame_on(False)\n",
    "ax.get_xaxis().set_visible(False)\n",
    "ax.tick_params(axis='both', which='both', length=0)\n",
    "\n",
    "plt.show()\n"
   ]
  },
  {
   "cell_type": "markdown",
   "id": "ddefea80",
   "metadata": {},
   "source": [
    "## 4.2. Análise Bivariada"
   ]
  },
  {
   "cell_type": "markdown",
   "id": "debc5926",
   "metadata": {},
   "source": [
    "* Como as variáveis impactam no fenômeno?\n",
    "* Qual a força deste impacto?\n",
    "* Levantamento de hipóteses."
   ]
  },
  {
   "cell_type": "markdown",
   "id": "9d874600",
   "metadata": {
    "heading_collapsed": true
   },
   "source": [
    "### 4.2.1. Numerical Variable"
   ]
  },
  {
   "cell_type": "code",
   "execution_count": null,
   "id": "fcd23959",
   "metadata": {
    "ExecuteTime": {
     "end_time": "2023-09-05T21:57:23.055694Z",
     "start_time": "2023-09-05T21:57:23.055694Z"
    },
    "hidden": true
   },
   "outputs": [],
   "source": [
    "df_num.columns"
   ]
  },
  {
   "cell_type": "code",
   "execution_count": null,
   "id": "ce8e4590",
   "metadata": {
    "ExecuteTime": {
     "end_time": "2023-09-05T21:57:23.060250Z",
     "start_time": "2023-09-05T21:57:23.060250Z"
    },
    "hidden": true
   },
   "outputs": [],
   "source": [
    "df_num_churn_yes = df4.loc[df4['churn'] == 'Yes', ['churn', 'tenure', 'charges_monthly', 'charges_total']].reset_index(drop=True)\n",
    "df_num_churn_yes"
   ]
  },
  {
   "cell_type": "code",
   "execution_count": null,
   "id": "4e107d40",
   "metadata": {
    "ExecuteTime": {
     "end_time": "2023-09-05T21:57:23.065255Z",
     "start_time": "2023-09-05T21:57:23.064254Z"
    },
    "hidden": true
   },
   "outputs": [],
   "source": [
    "num_describe_churn_yes = df_num_churn_yes.describe().T\n",
    "num_describe_churn_yes['range'] = pd.DataFrame(df_num.apply(lambda x: x.max() - x.min()))\n",
    "num_describe_churn_yes['skew'] = pd.DataFrame(df_num.apply(lambda x: x.skew()))\n",
    "num_describe_churn_yes['kurtosis'] = pd.DataFrame(df_num.apply(lambda x: x.kurtosis()))\n",
    "num_describe_churn_yes"
   ]
  },
  {
   "cell_type": "code",
   "execution_count": null,
   "id": "fadc0b90",
   "metadata": {
    "ExecuteTime": {
     "end_time": "2023-09-05T21:57:23.068776Z",
     "start_time": "2023-09-05T21:57:23.068776Z"
    },
    "hidden": true
   },
   "outputs": [],
   "source": [
    "# Fazer a concentração entre os quartis: o menor range é o mais concentrado\n",
    "# Usar a skew para falar sobre o deslocamento da mediana "
   ]
  },
  {
   "cell_type": "code",
   "execution_count": null,
   "id": "004c786a",
   "metadata": {
    "ExecuteTime": {
     "end_time": "2023-09-05T21:57:23.072779Z",
     "start_time": "2023-09-05T21:57:23.072779Z"
    },
    "hidden": true
   },
   "outputs": [],
   "source": [
    "col = 'charges_monthly'\n",
    "\n",
    "# Criar a matriz de gráficos\n",
    "fig, axs = plt.subplots(3, 2, figsize=(20, 15))\n",
    "# fig.subplots_adjust(top=0.8)\n",
    "fig.subplots_adjust(hspace=0.25, wspace=0.1)\n",
    "\n",
    "formatted_text = ('A maior concentração de churn está entre $ {:.2f} e $ {:.2f}'.format(\n",
    "    df_num_churn_yes[col].quantile(.5), df_num_churn_yes[col].quantile(.75)))\n",
    "\n",
    "fig.suptitle(formatted_text, color=paleta_personalizada['black'], \n",
    "             fontsize=16, fontweight='bold')\n",
    "\n",
    "# Definir a paleta personalizada\n",
    "paleta_personalizada2 = {'No': 'silver', 'Yes': paleta_personalizada['orange']}\n",
    "\n",
    "# Atribua a paleta personalizada\n",
    "sns.set_palette(paleta_personalizada2.values())\n",
    "\n",
    "# Criar um gráfico de densidade \n",
    "sns.kdeplot(data=df4, x=col, hue='churn', fill=True, ax=axs[0, 0])\n",
    "axs[0, 0].set_xlabel('Monthly Charges')\n",
    "axs[0, 0].set_ylabel('Density')\n",
    "axs[0, 0].set_title('Gráfico de Densidade entre Charges Mensais e Churn')\n",
    "axs[0, 0].legend(title='Churn', labels=[]).set_visible(False)\n",
    "axs[0, 0].spines[['top', 'right']].set_visible(False)\n",
    "\n",
    "# Criar um gráfico de densidade \n",
    "sns.boxplot(data=df4, x=col, y='churn', orient='h', ax=axs[0,1])\n",
    "axs[0, 1].set_title('Boxplot de Charges Mensais por Churn')\n",
    "axs[0, 1].legend(title='Churn', labels=[]).set_visible(False)\n",
    "axs[0, 1].spines[['top', 'right']].set_visible(False)\n",
    "axs[0, 1].tick_params(axis='both', which='both', length=0)\n",
    "\n",
    "plt.show()"
   ]
  },
  {
   "cell_type": "code",
   "execution_count": null,
   "id": "7c969ae7",
   "metadata": {
    "ExecuteTime": {
     "end_time": "2023-09-05T21:57:23.075780Z",
     "start_time": "2023-09-05T21:57:23.075780Z"
    },
    "hidden": true
   },
   "outputs": [],
   "source": [
    "import seaborn as sns\n",
    "\n",
    "sns.scatterplot(x='churn', y=col, data=df4)\n"
   ]
  },
  {
   "cell_type": "code",
   "execution_count": null,
   "id": "e706a06f",
   "metadata": {
    "ExecuteTime": {
     "end_time": "2023-09-05T21:57:23.079328Z",
     "start_time": "2023-09-05T21:57:23.079328Z"
    },
    "hidden": true
   },
   "outputs": [],
   "source": [
    "col = 'churn'\n",
    "\n",
    "aux = df4[col].value_counts(normalize=True).to_frame() * 100\n",
    "aux = aux.sort_values(col, ascending=False)\n",
    "\n",
    "cores = [paleta_personalizada['orange'] if tipo == aux[col].idxmin() else \n",
    "         paleta_personalizada['black'] for tipo in aux.index]"
   ]
  },
  {
   "cell_type": "code",
   "execution_count": null,
   "id": "233c19db",
   "metadata": {
    "ExecuteTime": {
     "end_time": "2023-09-05T21:57:23.083332Z",
     "start_time": "2023-09-05T21:57:23.083332Z"
    },
    "hidden": true
   },
   "outputs": [],
   "source": [
    "fig, ax = plt.subplots(figsize=(12, 5))\n",
    "ax.barh(aux.index, aux[col], color=cores)\n",
    "\n",
    "ax.yaxis.set_tick_params(labelsize=14)\n",
    "ax.set_title(f'O churn atual é de {aux[col].min():.1f}% dos clientes', \n",
    "             loc='left', fontsize=16, fontweight='bold')\n",
    "\n",
    "for i, v in enumerate(aux[col]):\n",
    "    formatted_value = '{:.1f}%'.format(v)\n",
    "    ax.text(v + 1, i, formatted_value, color='black', fontsize=12, ha='left', va='center')\n",
    "    \n",
    "ax.set_frame_on(False)\n",
    "ax.get_xaxis().set_visible(False)\n",
    "ax.tick_params(axis='both', which='both', length=0)\n",
    "\n",
    "plt.show()"
   ]
  },
  {
   "cell_type": "markdown",
   "id": "4599899b",
   "metadata": {},
   "source": [
    "### 4.2.2. Categorical Variable"
   ]
  },
  {
   "cell_type": "code",
   "execution_count": null,
   "id": "1cd76111",
   "metadata": {},
   "outputs": [],
   "source": []
  },
  {
   "cell_type": "markdown",
   "id": "0906864c",
   "metadata": {
    "ExecuteTime": {
     "end_time": "2023-09-04T13:46:06.562257Z",
     "start_time": "2023-09-04T13:46:06.545252Z"
    }
   },
   "source": [
    "## 4.3. Análise Multivariada"
   ]
  },
  {
   "cell_type": "markdown",
   "id": "5ed62c36",
   "metadata": {},
   "source": [
    "* Como as variáveis estão correlacionadas?\n",
    "* Qual a força de correlação entre elas?\n",
    "* Identificar e remover colunas que carregam o mesmo conteúdo de informação.\n",
    "\n",
    "👉 É sempre bom lembrar que correlação não implica causalidade, só pq as variáveis estão correlacionadas não necessariamente uma causa a outra."
   ]
  },
  {
   "cell_type": "markdown",
   "id": "0eeb7eca",
   "metadata": {},
   "source": [
    "# 5. DATA PREPARATION"
   ]
  },
  {
   "cell_type": "code",
   "execution_count": null,
   "id": "42f14351",
   "metadata": {
    "ExecuteTime": {
     "end_time": "2023-09-05T21:57:23.087331Z",
     "start_time": "2023-09-05T21:57:23.087331Z"
    }
   },
   "outputs": [],
   "source": [
    "df5 = df4.copy()"
   ]
  },
  {
   "cell_type": "code",
   "execution_count": null,
   "id": "79ee9df0",
   "metadata": {},
   "outputs": [],
   "source": []
  }
 ],
 "metadata": {
  "kernelspec": {
   "display_name": "Python 3 (ipykernel)",
   "language": "python",
   "name": "python3"
  },
  "language_info": {
   "codemirror_mode": {
    "name": "ipython",
    "version": 3
   },
   "file_extension": ".py",
   "mimetype": "text/x-python",
   "name": "python",
   "nbconvert_exporter": "python",
   "pygments_lexer": "ipython3",
   "version": "3.9.12"
  }
 },
 "nbformat": 4,
 "nbformat_minor": 5
}
