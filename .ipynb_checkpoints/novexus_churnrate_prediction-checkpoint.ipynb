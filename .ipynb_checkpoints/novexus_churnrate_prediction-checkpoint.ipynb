{
 "cells": [
  {
   "cell_type": "markdown",
   "id": "5046e5e1",
   "metadata": {},
   "source": [
    "# 0. IMPORTS"
   ]
  },
  {
   "cell_type": "markdown",
   "id": "e2be086f",
   "metadata": {},
   "source": [
    "## 0.1. Importing libraries"
   ]
  },
  {
   "cell_type": "code",
   "execution_count": 1,
   "id": "62e25e32",
   "metadata": {
    "ExecuteTime": {
     "end_time": "2023-08-31T13:12:22.505419Z",
     "start_time": "2023-08-31T13:12:17.588945Z"
    }
   },
   "outputs": [],
   "source": [
    "import pandas as pd\n",
    "import numpy as np\n",
    "import matplotlib.pyplot as plt\n",
    "import seaborn as sns\n",
    "import inflection"
   ]
  },
  {
   "cell_type": "markdown",
   "id": "46e47382",
   "metadata": {},
   "source": [
    "## 0.2. Loading data"
   ]
  },
  {
   "cell_type": "code",
   "execution_count": 2,
   "id": "764ae82c",
   "metadata": {
    "ExecuteTime": {
     "end_time": "2023-08-31T13:12:32.415317Z",
     "start_time": "2023-08-31T13:12:24.573360Z"
    }
   },
   "outputs": [],
   "source": [
    "url = 'https://challenge-data-science-3ed.s3.amazonaws.com/Telco-Customer-Churn.json'\n",
    "df = pd.read_json(url)"
   ]
  },
  {
   "cell_type": "markdown",
   "id": "5faa60bf",
   "metadata": {},
   "source": [
    "## 0.3. Dicionário de dados"
   ]
  },
  {
   "cell_type": "markdown",
   "id": "90ab01b5",
   "metadata": {},
   "source": [
    "Nome | Descrição\n",
    "--|--\n",
    "customerID | número de identificação único de cada cliente\n",
    "Churn | se o cliente deixou ou não a empresa \n",
    "gender | gênero (masculino e feminino) \n",
    "SeniorCitizen | informação sobre um cliente ter ou não idade igual ou maior que 65 anos \n",
    "Partner |  se o cliente possui ou não um parceiro ou parceira\n",
    "Dependents | se o cliente possui ou não dependentes\n",
    "tenure |  meses de contrato do cliente\n",
    "PhoneService | assinatura de serviço telefônico \n",
    "MultipleLines | assisnatura de mais de uma linha de telefone \n",
    "InternetService | assinatura de um provedor internet \n",
    "OnlineSecurity | assinatura adicional de segurança online \n",
    "OnlineBackup | assinatura adicional de backup online \n",
    "DeviceProtection | assinatura adicional de proteção no dispositivo \n",
    "TechSupport | assinatura adicional de suporte técnico, menos tempo de espera\n",
    "StreamingTV | assinatura de TV a cabo \n",
    "StreamingMovies | assinatura de streaming de filmes \n",
    "Contract | tipo de contrato\n",
    "PaperlessBilling | se o cliente prefere receber online a fatura\n",
    "PaymentMethod | forma de pagamento\n",
    "Charges.Monthly | total de todos os serviços do cliente por mês\n",
    "Charges.Total | total gasto pelo cliente"
   ]
  },
  {
   "cell_type": "markdown",
   "id": "0b71fdeb",
   "metadata": {
    "ExecuteTime": {
     "end_time": "2023-08-29T13:44:57.684526Z",
     "start_time": "2023-08-29T13:44:57.668812Z"
    }
   },
   "source": [
    "## 0.3. Helper functions"
   ]
  },
  {
   "cell_type": "code",
   "execution_count": 3,
   "id": "cff6aaed",
   "metadata": {
    "ExecuteTime": {
     "end_time": "2023-08-31T13:12:40.471093Z",
     "start_time": "2023-08-31T13:12:40.410201Z"
    }
   },
   "outputs": [],
   "source": [
    "def rename_columns(cols):\n",
    "    cols = list(map(lambda x: inflection.titleize(x), cols))\n",
    "    cols = list(map(lambda x: x.replace(\" \", \"\"), cols))\n",
    "    cols = list(map(lambda x: x.replace(\".\", \"\"), cols))\n",
    "    cols = list(map(lambda x: inflection.underscore(x), cols))\n",
    "    return cols\n",
    "\n",
    "def fill_nas(df, col, text):\n",
    "    df_aux = df[col]. map({'Yes': 'Yes', 'No': 'No', text: 'No'})\n",
    "    return df_aux\n",
    "\n",
    "def convert_and_replace(value):\n",
    "    try:\n",
    "        return float(value)\n",
    "    except (ValueError, TypeError):\n",
    "        return 0.0\n",
    "  \n",
    "def grafics_num_attribute(df, col):\n",
    "    # Calcular a média e a mediana\n",
    "    mean_value = np.mean(df[col])\n",
    "    median_value = np.median(df[col])\n",
    "    std_low = mean_value - np.std(df[col])\n",
    "    std_high = mean_value + np.std(df[col])\n",
    "\n",
    "    # Criação dos subplots\n",
    "    fig, (ax1, ax2) = plt.subplots(1, 2, figsize=(12, 5))\n",
    "\n",
    "    # Plotagem do histograma no primeiro subplot\n",
    "    ax1.hist(df[col], bins=20, edgecolor='black', alpha=0.7, color='gray')\n",
    "    ax1.axvline(mean_value, color='red', linewidth=2, label='Média')\n",
    "    ax1.axvline(median_value, color='blue', linewidth=2, label='Mediana')\n",
    "    ax1.axvline(std_low, color='red', linestyle='dashed', linewidth=2, label='Low std')\n",
    "    ax1.axvline(std_high, color='red', linestyle='dashed', linewidth=2, label='High std')\n",
    "    ax1.set_xlabel(col)\n",
    "    ax1.set_ylabel('Frequência')\n",
    "    ax1.set_title(f'Histograma de {col} com Média e Mediana')\n",
    "    ax1.legend()\n",
    "\n",
    "    # Plotagem do boxplot no segundo subplot\n",
    "    ax2.boxplot(df[col], vert=False, medianprops={'color': 'blue', 'linewidth': 2})\n",
    "    ax2.set_xlabel(col)\n",
    "    ax2.set_title(f'Boxplot de {col}')\n",
    "\n",
    "    # Ajustar espaçamento entre os subplots\n",
    "    plt.tight_layout()\n",
    "\n",
    "    # Exibir os subplots\n",
    "    plt.show()\n"
   ]
  },
  {
   "cell_type": "markdown",
   "id": "e8082b20",
   "metadata": {},
   "source": [
    "# 1. PASSO 01 - DATA DESCRIPTION"
   ]
  },
  {
   "cell_type": "code",
   "execution_count": 4,
   "id": "ebb969fa",
   "metadata": {
    "ExecuteTime": {
     "end_time": "2023-08-31T13:12:49.616824Z",
     "start_time": "2023-08-31T13:12:49.592304Z"
    }
   },
   "outputs": [],
   "source": [
    "df1 = df.copy()"
   ]
  },
  {
   "cell_type": "markdown",
   "id": "dfc49386",
   "metadata": {},
   "source": [
    "## 1.1. Normalize Columns"
   ]
  },
  {
   "cell_type": "code",
   "execution_count": 5,
   "id": "ad99354b",
   "metadata": {
    "ExecuteTime": {
     "end_time": "2023-08-31T13:12:53.929414Z",
     "start_time": "2023-08-31T13:12:53.362207Z"
    }
   },
   "outputs": [
    {
     "data": {
      "text/html": [
       "<div>\n",
       "<style scoped>\n",
       "    .dataframe tbody tr th:only-of-type {\n",
       "        vertical-align: middle;\n",
       "    }\n",
       "\n",
       "    .dataframe tbody tr th {\n",
       "        vertical-align: top;\n",
       "    }\n",
       "\n",
       "    .dataframe thead th {\n",
       "        text-align: right;\n",
       "    }\n",
       "</style>\n",
       "<table border=\"1\" class=\"dataframe\">\n",
       "  <thead>\n",
       "    <tr style=\"text-align: right;\">\n",
       "      <th></th>\n",
       "      <th>customerID</th>\n",
       "      <th>Churn</th>\n",
       "      <th>gender</th>\n",
       "      <th>SeniorCitizen</th>\n",
       "      <th>Partner</th>\n",
       "      <th>Dependents</th>\n",
       "      <th>tenure</th>\n",
       "      <th>PhoneService</th>\n",
       "      <th>MultipleLines</th>\n",
       "      <th>InternetService</th>\n",
       "      <th>...</th>\n",
       "      <th>OnlineBackup</th>\n",
       "      <th>DeviceProtection</th>\n",
       "      <th>TechSupport</th>\n",
       "      <th>StreamingTV</th>\n",
       "      <th>StreamingMovies</th>\n",
       "      <th>Contract</th>\n",
       "      <th>PaperlessBilling</th>\n",
       "      <th>PaymentMethod</th>\n",
       "      <th>Charges.Monthly</th>\n",
       "      <th>Charges.Total</th>\n",
       "    </tr>\n",
       "  </thead>\n",
       "  <tbody>\n",
       "    <tr>\n",
       "      <th>0</th>\n",
       "      <td>0002-ORFBO</td>\n",
       "      <td>No</td>\n",
       "      <td>Female</td>\n",
       "      <td>0</td>\n",
       "      <td>Yes</td>\n",
       "      <td>Yes</td>\n",
       "      <td>9</td>\n",
       "      <td>Yes</td>\n",
       "      <td>No</td>\n",
       "      <td>DSL</td>\n",
       "      <td>...</td>\n",
       "      <td>Yes</td>\n",
       "      <td>No</td>\n",
       "      <td>Yes</td>\n",
       "      <td>Yes</td>\n",
       "      <td>No</td>\n",
       "      <td>One year</td>\n",
       "      <td>Yes</td>\n",
       "      <td>Mailed check</td>\n",
       "      <td>65.6</td>\n",
       "      <td>593.3</td>\n",
       "    </tr>\n",
       "    <tr>\n",
       "      <th>1</th>\n",
       "      <td>0003-MKNFE</td>\n",
       "      <td>No</td>\n",
       "      <td>Male</td>\n",
       "      <td>0</td>\n",
       "      <td>No</td>\n",
       "      <td>No</td>\n",
       "      <td>9</td>\n",
       "      <td>Yes</td>\n",
       "      <td>Yes</td>\n",
       "      <td>DSL</td>\n",
       "      <td>...</td>\n",
       "      <td>No</td>\n",
       "      <td>No</td>\n",
       "      <td>No</td>\n",
       "      <td>No</td>\n",
       "      <td>Yes</td>\n",
       "      <td>Month-to-month</td>\n",
       "      <td>No</td>\n",
       "      <td>Mailed check</td>\n",
       "      <td>59.9</td>\n",
       "      <td>542.4</td>\n",
       "    </tr>\n",
       "    <tr>\n",
       "      <th>2</th>\n",
       "      <td>0004-TLHLJ</td>\n",
       "      <td>Yes</td>\n",
       "      <td>Male</td>\n",
       "      <td>0</td>\n",
       "      <td>No</td>\n",
       "      <td>No</td>\n",
       "      <td>4</td>\n",
       "      <td>Yes</td>\n",
       "      <td>No</td>\n",
       "      <td>Fiber optic</td>\n",
       "      <td>...</td>\n",
       "      <td>No</td>\n",
       "      <td>Yes</td>\n",
       "      <td>No</td>\n",
       "      <td>No</td>\n",
       "      <td>No</td>\n",
       "      <td>Month-to-month</td>\n",
       "      <td>Yes</td>\n",
       "      <td>Electronic check</td>\n",
       "      <td>73.9</td>\n",
       "      <td>280.85</td>\n",
       "    </tr>\n",
       "    <tr>\n",
       "      <th>3</th>\n",
       "      <td>0011-IGKFF</td>\n",
       "      <td>Yes</td>\n",
       "      <td>Male</td>\n",
       "      <td>1</td>\n",
       "      <td>Yes</td>\n",
       "      <td>No</td>\n",
       "      <td>13</td>\n",
       "      <td>Yes</td>\n",
       "      <td>No</td>\n",
       "      <td>Fiber optic</td>\n",
       "      <td>...</td>\n",
       "      <td>Yes</td>\n",
       "      <td>Yes</td>\n",
       "      <td>No</td>\n",
       "      <td>Yes</td>\n",
       "      <td>Yes</td>\n",
       "      <td>Month-to-month</td>\n",
       "      <td>Yes</td>\n",
       "      <td>Electronic check</td>\n",
       "      <td>98.0</td>\n",
       "      <td>1237.85</td>\n",
       "    </tr>\n",
       "    <tr>\n",
       "      <th>4</th>\n",
       "      <td>0013-EXCHZ</td>\n",
       "      <td>Yes</td>\n",
       "      <td>Female</td>\n",
       "      <td>1</td>\n",
       "      <td>Yes</td>\n",
       "      <td>No</td>\n",
       "      <td>3</td>\n",
       "      <td>Yes</td>\n",
       "      <td>No</td>\n",
       "      <td>Fiber optic</td>\n",
       "      <td>...</td>\n",
       "      <td>No</td>\n",
       "      <td>No</td>\n",
       "      <td>Yes</td>\n",
       "      <td>Yes</td>\n",
       "      <td>No</td>\n",
       "      <td>Month-to-month</td>\n",
       "      <td>Yes</td>\n",
       "      <td>Mailed check</td>\n",
       "      <td>83.9</td>\n",
       "      <td>267.4</td>\n",
       "    </tr>\n",
       "  </tbody>\n",
       "</table>\n",
       "<p>5 rows × 21 columns</p>\n",
       "</div>"
      ],
      "text/plain": [
       "   customerID Churn  gender  SeniorCitizen Partner Dependents  tenure  \\\n",
       "0  0002-ORFBO    No  Female              0     Yes        Yes       9   \n",
       "1  0003-MKNFE    No    Male              0      No         No       9   \n",
       "2  0004-TLHLJ   Yes    Male              0      No         No       4   \n",
       "3  0011-IGKFF   Yes    Male              1     Yes         No      13   \n",
       "4  0013-EXCHZ   Yes  Female              1     Yes         No       3   \n",
       "\n",
       "  PhoneService MultipleLines InternetService  ... OnlineBackup  \\\n",
       "0          Yes            No             DSL  ...          Yes   \n",
       "1          Yes           Yes             DSL  ...           No   \n",
       "2          Yes            No     Fiber optic  ...           No   \n",
       "3          Yes            No     Fiber optic  ...          Yes   \n",
       "4          Yes            No     Fiber optic  ...           No   \n",
       "\n",
       "  DeviceProtection TechSupport StreamingTV StreamingMovies        Contract  \\\n",
       "0               No         Yes         Yes              No        One year   \n",
       "1               No          No          No             Yes  Month-to-month   \n",
       "2              Yes          No          No              No  Month-to-month   \n",
       "3              Yes          No         Yes             Yes  Month-to-month   \n",
       "4               No         Yes         Yes              No  Month-to-month   \n",
       "\n",
       "  PaperlessBilling     PaymentMethod Charges.Monthly  Charges.Total  \n",
       "0              Yes      Mailed check            65.6          593.3  \n",
       "1               No      Mailed check            59.9          542.4  \n",
       "2              Yes  Electronic check            73.9         280.85  \n",
       "3              Yes  Electronic check            98.0        1237.85  \n",
       "4              Yes      Mailed check            83.9          267.4  \n",
       "\n",
       "[5 rows x 21 columns]"
      ]
     },
     "execution_count": 5,
     "metadata": {},
     "output_type": "execute_result"
    }
   ],
   "source": [
    "# Normalizar colunas com dicionários aninhados\n",
    "columns_to_normalize = ['customer', 'phone', 'internet', 'account']\n",
    "for col in columns_to_normalize:\n",
    "    df1 = pd.concat([df1.drop([col], axis=1), pd.json_normalize(df1[col])], axis=1)\n",
    "df1.head()"
   ]
  },
  {
   "cell_type": "markdown",
   "id": "6c0f6056",
   "metadata": {},
   "source": [
    "## 1.2. Rename Columns"
   ]
  },
  {
   "cell_type": "code",
   "execution_count": 6,
   "id": "586cd77a",
   "metadata": {
    "ExecuteTime": {
     "end_time": "2023-08-31T13:12:56.568349Z",
     "start_time": "2023-08-31T13:12:56.484989Z"
    }
   },
   "outputs": [
    {
     "data": {
      "text/html": [
       "<div>\n",
       "<style scoped>\n",
       "    .dataframe tbody tr th:only-of-type {\n",
       "        vertical-align: middle;\n",
       "    }\n",
       "\n",
       "    .dataframe tbody tr th {\n",
       "        vertical-align: top;\n",
       "    }\n",
       "\n",
       "    .dataframe thead th {\n",
       "        text-align: right;\n",
       "    }\n",
       "</style>\n",
       "<table border=\"1\" class=\"dataframe\">\n",
       "  <thead>\n",
       "    <tr style=\"text-align: right;\">\n",
       "      <th></th>\n",
       "      <th>customer</th>\n",
       "      <th>churn</th>\n",
       "      <th>gender</th>\n",
       "      <th>senior_citizen</th>\n",
       "      <th>partner</th>\n",
       "      <th>dependents</th>\n",
       "      <th>tenure</th>\n",
       "      <th>phone_service</th>\n",
       "      <th>multiple_lines</th>\n",
       "      <th>internet_service</th>\n",
       "      <th>...</th>\n",
       "      <th>online_backup</th>\n",
       "      <th>device_protection</th>\n",
       "      <th>tech_support</th>\n",
       "      <th>streaming_tv</th>\n",
       "      <th>streaming_movies</th>\n",
       "      <th>contract</th>\n",
       "      <th>paperless_billing</th>\n",
       "      <th>payment_method</th>\n",
       "      <th>charges_monthly</th>\n",
       "      <th>charges_total</th>\n",
       "    </tr>\n",
       "  </thead>\n",
       "  <tbody>\n",
       "    <tr>\n",
       "      <th>0</th>\n",
       "      <td>0002-ORFBO</td>\n",
       "      <td>No</td>\n",
       "      <td>Female</td>\n",
       "      <td>0</td>\n",
       "      <td>Yes</td>\n",
       "      <td>Yes</td>\n",
       "      <td>9</td>\n",
       "      <td>Yes</td>\n",
       "      <td>No</td>\n",
       "      <td>DSL</td>\n",
       "      <td>...</td>\n",
       "      <td>Yes</td>\n",
       "      <td>No</td>\n",
       "      <td>Yes</td>\n",
       "      <td>Yes</td>\n",
       "      <td>No</td>\n",
       "      <td>One year</td>\n",
       "      <td>Yes</td>\n",
       "      <td>Mailed check</td>\n",
       "      <td>65.6</td>\n",
       "      <td>593.3</td>\n",
       "    </tr>\n",
       "    <tr>\n",
       "      <th>1</th>\n",
       "      <td>0003-MKNFE</td>\n",
       "      <td>No</td>\n",
       "      <td>Male</td>\n",
       "      <td>0</td>\n",
       "      <td>No</td>\n",
       "      <td>No</td>\n",
       "      <td>9</td>\n",
       "      <td>Yes</td>\n",
       "      <td>Yes</td>\n",
       "      <td>DSL</td>\n",
       "      <td>...</td>\n",
       "      <td>No</td>\n",
       "      <td>No</td>\n",
       "      <td>No</td>\n",
       "      <td>No</td>\n",
       "      <td>Yes</td>\n",
       "      <td>Month-to-month</td>\n",
       "      <td>No</td>\n",
       "      <td>Mailed check</td>\n",
       "      <td>59.9</td>\n",
       "      <td>542.4</td>\n",
       "    </tr>\n",
       "    <tr>\n",
       "      <th>2</th>\n",
       "      <td>0004-TLHLJ</td>\n",
       "      <td>Yes</td>\n",
       "      <td>Male</td>\n",
       "      <td>0</td>\n",
       "      <td>No</td>\n",
       "      <td>No</td>\n",
       "      <td>4</td>\n",
       "      <td>Yes</td>\n",
       "      <td>No</td>\n",
       "      <td>Fiber optic</td>\n",
       "      <td>...</td>\n",
       "      <td>No</td>\n",
       "      <td>Yes</td>\n",
       "      <td>No</td>\n",
       "      <td>No</td>\n",
       "      <td>No</td>\n",
       "      <td>Month-to-month</td>\n",
       "      <td>Yes</td>\n",
       "      <td>Electronic check</td>\n",
       "      <td>73.9</td>\n",
       "      <td>280.85</td>\n",
       "    </tr>\n",
       "    <tr>\n",
       "      <th>3</th>\n",
       "      <td>0011-IGKFF</td>\n",
       "      <td>Yes</td>\n",
       "      <td>Male</td>\n",
       "      <td>1</td>\n",
       "      <td>Yes</td>\n",
       "      <td>No</td>\n",
       "      <td>13</td>\n",
       "      <td>Yes</td>\n",
       "      <td>No</td>\n",
       "      <td>Fiber optic</td>\n",
       "      <td>...</td>\n",
       "      <td>Yes</td>\n",
       "      <td>Yes</td>\n",
       "      <td>No</td>\n",
       "      <td>Yes</td>\n",
       "      <td>Yes</td>\n",
       "      <td>Month-to-month</td>\n",
       "      <td>Yes</td>\n",
       "      <td>Electronic check</td>\n",
       "      <td>98.0</td>\n",
       "      <td>1237.85</td>\n",
       "    </tr>\n",
       "    <tr>\n",
       "      <th>4</th>\n",
       "      <td>0013-EXCHZ</td>\n",
       "      <td>Yes</td>\n",
       "      <td>Female</td>\n",
       "      <td>1</td>\n",
       "      <td>Yes</td>\n",
       "      <td>No</td>\n",
       "      <td>3</td>\n",
       "      <td>Yes</td>\n",
       "      <td>No</td>\n",
       "      <td>Fiber optic</td>\n",
       "      <td>...</td>\n",
       "      <td>No</td>\n",
       "      <td>No</td>\n",
       "      <td>Yes</td>\n",
       "      <td>Yes</td>\n",
       "      <td>No</td>\n",
       "      <td>Month-to-month</td>\n",
       "      <td>Yes</td>\n",
       "      <td>Mailed check</td>\n",
       "      <td>83.9</td>\n",
       "      <td>267.4</td>\n",
       "    </tr>\n",
       "  </tbody>\n",
       "</table>\n",
       "<p>5 rows × 21 columns</p>\n",
       "</div>"
      ],
      "text/plain": [
       "     customer churn  gender  senior_citizen partner dependents  tenure  \\\n",
       "0  0002-ORFBO    No  Female               0     Yes        Yes       9   \n",
       "1  0003-MKNFE    No    Male               0      No         No       9   \n",
       "2  0004-TLHLJ   Yes    Male               0      No         No       4   \n",
       "3  0011-IGKFF   Yes    Male               1     Yes         No      13   \n",
       "4  0013-EXCHZ   Yes  Female               1     Yes         No       3   \n",
       "\n",
       "  phone_service multiple_lines internet_service  ... online_backup  \\\n",
       "0           Yes             No              DSL  ...           Yes   \n",
       "1           Yes            Yes              DSL  ...            No   \n",
       "2           Yes             No      Fiber optic  ...            No   \n",
       "3           Yes             No      Fiber optic  ...           Yes   \n",
       "4           Yes             No      Fiber optic  ...            No   \n",
       "\n",
       "  device_protection tech_support streaming_tv streaming_movies  \\\n",
       "0                No          Yes          Yes               No   \n",
       "1                No           No           No              Yes   \n",
       "2               Yes           No           No               No   \n",
       "3               Yes           No          Yes              Yes   \n",
       "4                No          Yes          Yes               No   \n",
       "\n",
       "         contract paperless_billing    payment_method charges_monthly  \\\n",
       "0        One year               Yes      Mailed check            65.6   \n",
       "1  Month-to-month                No      Mailed check            59.9   \n",
       "2  Month-to-month               Yes  Electronic check            73.9   \n",
       "3  Month-to-month               Yes  Electronic check            98.0   \n",
       "4  Month-to-month               Yes      Mailed check            83.9   \n",
       "\n",
       "   charges_total  \n",
       "0          593.3  \n",
       "1          542.4  \n",
       "2         280.85  \n",
       "3        1237.85  \n",
       "4          267.4  \n",
       "\n",
       "[5 rows x 21 columns]"
      ]
     },
     "execution_count": 6,
     "metadata": {},
     "output_type": "execute_result"
    }
   ],
   "source": [
    "df1.columns = rename_columns(df1.columns)\n",
    "df1.head()"
   ]
  },
  {
   "cell_type": "markdown",
   "id": "1615b678",
   "metadata": {},
   "source": [
    "## 1.3. Data Dimensions"
   ]
  },
  {
   "cell_type": "code",
   "execution_count": 7,
   "id": "2d84371c",
   "metadata": {
    "ExecuteTime": {
     "end_time": "2023-08-31T13:12:59.914660Z",
     "start_time": "2023-08-31T13:12:59.892840Z"
    }
   },
   "outputs": [
    {
     "name": "stdout",
     "output_type": "stream",
     "text": [
      "Quantidade de linha: 7,267\n",
      "Quantidade de colunas: 21\n"
     ]
    }
   ],
   "source": [
    "print('Quantidade de linha: {:,}'.format(df1.shape[0]))\n",
    "print('Quantidade de colunas: {:,}'.format(df1.shape[1]))"
   ]
  },
  {
   "cell_type": "markdown",
   "id": "359de0ef",
   "metadata": {},
   "source": [
    "## 1.4. Data Types"
   ]
  },
  {
   "cell_type": "code",
   "execution_count": 8,
   "id": "fe28744f",
   "metadata": {
    "ExecuteTime": {
     "end_time": "2023-08-31T13:13:02.375640Z",
     "start_time": "2023-08-31T13:13:02.355551Z"
    }
   },
   "outputs": [
    {
     "data": {
      "text/plain": [
       "customer              object\n",
       "churn                 object\n",
       "gender                object\n",
       "senior_citizen         int64\n",
       "partner               object\n",
       "dependents            object\n",
       "tenure                 int64\n",
       "phone_service         object\n",
       "multiple_lines        object\n",
       "internet_service      object\n",
       "online_security       object\n",
       "online_backup         object\n",
       "device_protection     object\n",
       "tech_support          object\n",
       "streaming_tv          object\n",
       "streaming_movies      object\n",
       "contract              object\n",
       "paperless_billing     object\n",
       "payment_method        object\n",
       "charges_monthly      float64\n",
       "charges_total         object\n",
       "dtype: object"
      ]
     },
     "execution_count": 8,
     "metadata": {},
     "output_type": "execute_result"
    }
   ],
   "source": [
    "df1.dtypes"
   ]
  },
  {
   "cell_type": "code",
   "execution_count": 9,
   "id": "d0348127",
   "metadata": {
    "ExecuteTime": {
     "end_time": "2023-08-31T13:13:05.317170Z",
     "start_time": "2023-08-31T13:13:05.202863Z"
    }
   },
   "outputs": [
    {
     "name": "stdout",
     "output_type": "stream",
     "text": [
      "<class 'pandas.core.frame.DataFrame'>\n",
      "RangeIndex: 7267 entries, 0 to 7266\n",
      "Data columns (total 21 columns):\n",
      " #   Column             Non-Null Count  Dtype  \n",
      "---  ------             --------------  -----  \n",
      " 0   customer           7267 non-null   object \n",
      " 1   churn              7267 non-null   object \n",
      " 2   gender             7267 non-null   object \n",
      " 3   senior_citizen     7267 non-null   int64  \n",
      " 4   partner            7267 non-null   object \n",
      " 5   dependents         7267 non-null   object \n",
      " 6   tenure             7267 non-null   int64  \n",
      " 7   phone_service      7267 non-null   object \n",
      " 8   multiple_lines     7267 non-null   object \n",
      " 9   internet_service   7267 non-null   object \n",
      " 10  online_security    7267 non-null   object \n",
      " 11  online_backup      7267 non-null   object \n",
      " 12  device_protection  7267 non-null   object \n",
      " 13  tech_support       7267 non-null   object \n",
      " 14  streaming_tv       7267 non-null   object \n",
      " 15  streaming_movies   7267 non-null   object \n",
      " 16  contract           7267 non-null   object \n",
      " 17  paperless_billing  7267 non-null   object \n",
      " 18  payment_method     7267 non-null   object \n",
      " 19  charges_monthly    7267 non-null   float64\n",
      " 20  charges_total      7267 non-null   object \n",
      "dtypes: float64(1), int64(2), object(18)\n",
      "memory usage: 1.2+ MB\n"
     ]
    }
   ],
   "source": [
    "df1.info()"
   ]
  },
  {
   "cell_type": "markdown",
   "id": "88b5d488",
   "metadata": {},
   "source": [
    "## 1.5. Check NA's"
   ]
  },
  {
   "cell_type": "code",
   "execution_count": 10,
   "id": "e1c273f8",
   "metadata": {
    "ExecuteTime": {
     "end_time": "2023-08-31T13:13:09.013198Z",
     "start_time": "2023-08-31T13:13:08.905161Z"
    }
   },
   "outputs": [
    {
     "data": {
      "text/plain": [
       "customer             0\n",
       "churn                0\n",
       "gender               0\n",
       "senior_citizen       0\n",
       "partner              0\n",
       "dependents           0\n",
       "tenure               0\n",
       "phone_service        0\n",
       "multiple_lines       0\n",
       "internet_service     0\n",
       "online_security      0\n",
       "online_backup        0\n",
       "device_protection    0\n",
       "tech_support         0\n",
       "streaming_tv         0\n",
       "streaming_movies     0\n",
       "contract             0\n",
       "paperless_billing    0\n",
       "payment_method       0\n",
       "charges_monthly      0\n",
       "charges_total        0\n",
       "dtype: int64"
      ]
     },
     "execution_count": 10,
     "metadata": {},
     "output_type": "execute_result"
    }
   ],
   "source": [
    "df1.isna().sum()"
   ]
  },
  {
   "cell_type": "code",
   "execution_count": 11,
   "id": "4b35c73b",
   "metadata": {
    "ExecuteTime": {
     "end_time": "2023-08-30T19:50:06.002875Z",
     "start_time": "2023-08-30T19:50:05.992879Z"
    }
   },
   "outputs": [],
   "source": [
    "# Não foi possível trocar o tipo para float pq existem linhas ''\n",
    "# df1['charges_total'].astype(float)"
   ]
  },
  {
   "cell_type": "code",
   "execution_count": 11,
   "id": "334716d4",
   "metadata": {
    "ExecuteTime": {
     "end_time": "2023-08-31T13:13:12.929090Z",
     "start_time": "2023-08-31T13:13:12.756680Z"
    }
   },
   "outputs": [
    {
     "data": {
      "text/html": [
       "<div>\n",
       "<style scoped>\n",
       "    .dataframe tbody tr th:only-of-type {\n",
       "        vertical-align: middle;\n",
       "    }\n",
       "\n",
       "    .dataframe tbody tr th {\n",
       "        vertical-align: top;\n",
       "    }\n",
       "\n",
       "    .dataframe thead th {\n",
       "        text-align: right;\n",
       "    }\n",
       "</style>\n",
       "<table border=\"1\" class=\"dataframe\">\n",
       "  <thead>\n",
       "    <tr style=\"text-align: right;\">\n",
       "      <th></th>\n",
       "      <th>count</th>\n",
       "      <th>content</th>\n",
       "    </tr>\n",
       "  </thead>\n",
       "  <tbody>\n",
       "    <tr>\n",
       "      <th>customer</th>\n",
       "      <td>7267</td>\n",
       "      <td>[0002-ORFBO, 0003-MKNFE, 0004-TLHLJ, 0011-IGKF...</td>\n",
       "    </tr>\n",
       "    <tr>\n",
       "      <th>churn</th>\n",
       "      <td>3</td>\n",
       "      <td>[No, Yes, ]</td>\n",
       "    </tr>\n",
       "    <tr>\n",
       "      <th>gender</th>\n",
       "      <td>2</td>\n",
       "      <td>[Female, Male]</td>\n",
       "    </tr>\n",
       "    <tr>\n",
       "      <th>senior_citizen</th>\n",
       "      <td>2</td>\n",
       "      <td>[0, 1]</td>\n",
       "    </tr>\n",
       "    <tr>\n",
       "      <th>partner</th>\n",
       "      <td>2</td>\n",
       "      <td>[Yes, No]</td>\n",
       "    </tr>\n",
       "    <tr>\n",
       "      <th>dependents</th>\n",
       "      <td>2</td>\n",
       "      <td>[Yes, No]</td>\n",
       "    </tr>\n",
       "    <tr>\n",
       "      <th>tenure</th>\n",
       "      <td>73</td>\n",
       "      <td>[9, 4, 13, 3, 71, 63, 7, 65, 54, 72, 5, 56, 34...</td>\n",
       "    </tr>\n",
       "    <tr>\n",
       "      <th>phone_service</th>\n",
       "      <td>2</td>\n",
       "      <td>[Yes, No]</td>\n",
       "    </tr>\n",
       "    <tr>\n",
       "      <th>multiple_lines</th>\n",
       "      <td>3</td>\n",
       "      <td>[No, Yes, No phone service]</td>\n",
       "    </tr>\n",
       "    <tr>\n",
       "      <th>internet_service</th>\n",
       "      <td>3</td>\n",
       "      <td>[DSL, Fiber optic, No]</td>\n",
       "    </tr>\n",
       "    <tr>\n",
       "      <th>online_security</th>\n",
       "      <td>3</td>\n",
       "      <td>[No, Yes, No internet service]</td>\n",
       "    </tr>\n",
       "    <tr>\n",
       "      <th>online_backup</th>\n",
       "      <td>3</td>\n",
       "      <td>[Yes, No, No internet service]</td>\n",
       "    </tr>\n",
       "    <tr>\n",
       "      <th>device_protection</th>\n",
       "      <td>3</td>\n",
       "      <td>[No, Yes, No internet service]</td>\n",
       "    </tr>\n",
       "    <tr>\n",
       "      <th>tech_support</th>\n",
       "      <td>3</td>\n",
       "      <td>[Yes, No, No internet service]</td>\n",
       "    </tr>\n",
       "    <tr>\n",
       "      <th>streaming_tv</th>\n",
       "      <td>3</td>\n",
       "      <td>[Yes, No, No internet service]</td>\n",
       "    </tr>\n",
       "    <tr>\n",
       "      <th>streaming_movies</th>\n",
       "      <td>3</td>\n",
       "      <td>[No, Yes, No internet service]</td>\n",
       "    </tr>\n",
       "    <tr>\n",
       "      <th>contract</th>\n",
       "      <td>3</td>\n",
       "      <td>[One year, Month-to-month, Two year]</td>\n",
       "    </tr>\n",
       "    <tr>\n",
       "      <th>paperless_billing</th>\n",
       "      <td>2</td>\n",
       "      <td>[Yes, No]</td>\n",
       "    </tr>\n",
       "    <tr>\n",
       "      <th>payment_method</th>\n",
       "      <td>4</td>\n",
       "      <td>[Mailed check, Electronic check, Credit card (...</td>\n",
       "    </tr>\n",
       "    <tr>\n",
       "      <th>charges_monthly</th>\n",
       "      <td>1585</td>\n",
       "      <td>[65.6, 59.9, 73.9, 98.0, 83.9, 69.4, 109.7, 84...</td>\n",
       "    </tr>\n",
       "    <tr>\n",
       "      <th>charges_total</th>\n",
       "      <td>6531</td>\n",
       "      <td>[593.3, 542.4, 280.85, 1237.85, 267.4, 571.45,...</td>\n",
       "    </tr>\n",
       "  </tbody>\n",
       "</table>\n",
       "</div>"
      ],
      "text/plain": [
       "                   count                                            content\n",
       "customer            7267  [0002-ORFBO, 0003-MKNFE, 0004-TLHLJ, 0011-IGKF...\n",
       "churn                  3                                        [No, Yes, ]\n",
       "gender                 2                                     [Female, Male]\n",
       "senior_citizen         2                                             [0, 1]\n",
       "partner                2                                          [Yes, No]\n",
       "dependents             2                                          [Yes, No]\n",
       "tenure                73  [9, 4, 13, 3, 71, 63, 7, 65, 54, 72, 5, 56, 34...\n",
       "phone_service          2                                          [Yes, No]\n",
       "multiple_lines         3                        [No, Yes, No phone service]\n",
       "internet_service       3                             [DSL, Fiber optic, No]\n",
       "online_security        3                     [No, Yes, No internet service]\n",
       "online_backup          3                     [Yes, No, No internet service]\n",
       "device_protection      3                     [No, Yes, No internet service]\n",
       "tech_support           3                     [Yes, No, No internet service]\n",
       "streaming_tv           3                     [Yes, No, No internet service]\n",
       "streaming_movies       3                     [No, Yes, No internet service]\n",
       "contract               3               [One year, Month-to-month, Two year]\n",
       "paperless_billing      2                                          [Yes, No]\n",
       "payment_method         4  [Mailed check, Electronic check, Credit card (...\n",
       "charges_monthly     1585  [65.6, 59.9, 73.9, 98.0, 83.9, 69.4, 109.7, 84...\n",
       "charges_total       6531  [593.3, 542.4, 280.85, 1237.85, 267.4, 571.45,..."
      ]
     },
     "execution_count": 11,
     "metadata": {},
     "output_type": "execute_result"
    }
   ],
   "source": [
    "# Nota-se que existem Na's na terceira opção de algumas features de 'Yes' ou 'No' e charges_total que possui ''\n",
    "unicos = pd.DataFrame(df1.nunique())\n",
    "unicos.columns= ['count']\n",
    "unicos['content'] = df1.apply(lambda x: x.unique())\n",
    "unicos"
   ]
  },
  {
   "cell_type": "code",
   "execution_count": 12,
   "id": "1024e081",
   "metadata": {
    "ExecuteTime": {
     "end_time": "2023-08-31T13:13:19.141940Z",
     "start_time": "2023-08-31T13:13:19.096466Z"
    }
   },
   "outputs": [
    {
     "data": {
      "text/html": [
       "<div>\n",
       "<style scoped>\n",
       "    .dataframe tbody tr th:only-of-type {\n",
       "        vertical-align: middle;\n",
       "    }\n",
       "\n",
       "    .dataframe tbody tr th {\n",
       "        vertical-align: top;\n",
       "    }\n",
       "\n",
       "    .dataframe thead th {\n",
       "        text-align: right;\n",
       "    }\n",
       "</style>\n",
       "<table border=\"1\" class=\"dataframe\">\n",
       "  <thead>\n",
       "    <tr style=\"text-align: right;\">\n",
       "      <th></th>\n",
       "      <th>qtd</th>\n",
       "      <th>%</th>\n",
       "    </tr>\n",
       "  </thead>\n",
       "  <tbody>\n",
       "    <tr>\n",
       "      <th>No</th>\n",
       "      <td>5174</td>\n",
       "      <td>71.20</td>\n",
       "    </tr>\n",
       "    <tr>\n",
       "      <th>Yes</th>\n",
       "      <td>1869</td>\n",
       "      <td>25.72</td>\n",
       "    </tr>\n",
       "    <tr>\n",
       "      <th></th>\n",
       "      <td>224</td>\n",
       "      <td>3.08</td>\n",
       "    </tr>\n",
       "  </tbody>\n",
       "</table>\n",
       "</div>"
      ],
      "text/plain": [
       "      qtd      %\n",
       "No   5174  71.20\n",
       "Yes  1869  25.72\n",
       "      224   3.08"
      ]
     },
     "execution_count": 12,
     "metadata": {},
     "output_type": "execute_result"
    }
   ],
   "source": [
    "# Avaliar % de dados vazios para analisar a possibilidade de deletá-los\n",
    "churn_vazios = df1['churn'].value_counts().to_frame()\n",
    "churn_vazios.columns = ['qtd']\n",
    "churn_vazios['%'] = round(df1['churn'].value_counts(normalize=True).sort_values() * 100, 2)\n",
    "churn_vazios"
   ]
  },
  {
   "cell_type": "markdown",
   "id": "c3b91bae",
   "metadata": {},
   "source": [
    "## 1.6. Fillout or delete NA's"
   ]
  },
  {
   "cell_type": "code",
   "execution_count": 13,
   "id": "94a2d091",
   "metadata": {
    "ExecuteTime": {
     "end_time": "2023-08-31T13:13:29.823304Z",
     "start_time": "2023-08-31T13:13:29.784128Z"
    }
   },
   "outputs": [],
   "source": [
    "df2 = df1.copy()"
   ]
  },
  {
   "cell_type": "markdown",
   "id": "0192de7b",
   "metadata": {},
   "source": [
    "### 1.6.1. Substituir a terceira opção por 'No'"
   ]
  },
  {
   "cell_type": "code",
   "execution_count": 14,
   "id": "df4c0b03",
   "metadata": {
    "ExecuteTime": {
     "end_time": "2023-08-31T13:13:39.610883Z",
     "start_time": "2023-08-31T13:13:39.489594Z"
    }
   },
   "outputs": [],
   "source": [
    "df2['multiple_lines']    = fill_nas(df2, 'multiple_lines', 'No phone service')\n",
    "df2['online_security']   = fill_nas(df2, 'online_security', 'No internet service')\n",
    "df2['online_backup']     = fill_nas(df2, 'online_backup', 'No internet service')\n",
    "df2['device_protection'] = fill_nas(df2, 'device_protection', 'No internet service')\n",
    "df2['tech_support']      = fill_nas(df2, 'tech_support', 'No internet service')\n",
    "df2['streaming_tv']      = fill_nas(df2, 'streaming_tv', 'No internet service')\n",
    "df2['streaming_movies']  = fill_nas(df2, 'streaming_movies', 'No internet service')"
   ]
  },
  {
   "cell_type": "code",
   "execution_count": 15,
   "id": "f69e1d3b",
   "metadata": {
    "ExecuteTime": {
     "end_time": "2023-08-31T13:14:12.131212Z",
     "start_time": "2023-08-31T13:14:11.981148Z"
    }
   },
   "outputs": [
    {
     "data": {
      "text/html": [
       "<div>\n",
       "<style scoped>\n",
       "    .dataframe tbody tr th:only-of-type {\n",
       "        vertical-align: middle;\n",
       "    }\n",
       "\n",
       "    .dataframe tbody tr th {\n",
       "        vertical-align: top;\n",
       "    }\n",
       "\n",
       "    .dataframe thead th {\n",
       "        text-align: right;\n",
       "    }\n",
       "</style>\n",
       "<table border=\"1\" class=\"dataframe\">\n",
       "  <thead>\n",
       "    <tr style=\"text-align: right;\">\n",
       "      <th></th>\n",
       "      <th>count</th>\n",
       "      <th>content</th>\n",
       "    </tr>\n",
       "  </thead>\n",
       "  <tbody>\n",
       "    <tr>\n",
       "      <th>customer</th>\n",
       "      <td>7267</td>\n",
       "      <td>[0002-ORFBO, 0003-MKNFE, 0004-TLHLJ, 0011-IGKF...</td>\n",
       "    </tr>\n",
       "    <tr>\n",
       "      <th>churn</th>\n",
       "      <td>3</td>\n",
       "      <td>[No, Yes, ]</td>\n",
       "    </tr>\n",
       "    <tr>\n",
       "      <th>gender</th>\n",
       "      <td>2</td>\n",
       "      <td>[Female, Male]</td>\n",
       "    </tr>\n",
       "    <tr>\n",
       "      <th>senior_citizen</th>\n",
       "      <td>2</td>\n",
       "      <td>[0, 1]</td>\n",
       "    </tr>\n",
       "    <tr>\n",
       "      <th>partner</th>\n",
       "      <td>2</td>\n",
       "      <td>[Yes, No]</td>\n",
       "    </tr>\n",
       "    <tr>\n",
       "      <th>dependents</th>\n",
       "      <td>2</td>\n",
       "      <td>[Yes, No]</td>\n",
       "    </tr>\n",
       "    <tr>\n",
       "      <th>tenure</th>\n",
       "      <td>73</td>\n",
       "      <td>[9, 4, 13, 3, 71, 63, 7, 65, 54, 72, 5, 56, 34...</td>\n",
       "    </tr>\n",
       "    <tr>\n",
       "      <th>phone_service</th>\n",
       "      <td>2</td>\n",
       "      <td>[Yes, No]</td>\n",
       "    </tr>\n",
       "    <tr>\n",
       "      <th>multiple_lines</th>\n",
       "      <td>2</td>\n",
       "      <td>[No, Yes]</td>\n",
       "    </tr>\n",
       "    <tr>\n",
       "      <th>internet_service</th>\n",
       "      <td>3</td>\n",
       "      <td>[DSL, Fiber optic, No]</td>\n",
       "    </tr>\n",
       "    <tr>\n",
       "      <th>online_security</th>\n",
       "      <td>2</td>\n",
       "      <td>[No, Yes]</td>\n",
       "    </tr>\n",
       "    <tr>\n",
       "      <th>online_backup</th>\n",
       "      <td>2</td>\n",
       "      <td>[Yes, No]</td>\n",
       "    </tr>\n",
       "    <tr>\n",
       "      <th>device_protection</th>\n",
       "      <td>2</td>\n",
       "      <td>[No, Yes]</td>\n",
       "    </tr>\n",
       "    <tr>\n",
       "      <th>tech_support</th>\n",
       "      <td>2</td>\n",
       "      <td>[Yes, No]</td>\n",
       "    </tr>\n",
       "    <tr>\n",
       "      <th>streaming_tv</th>\n",
       "      <td>2</td>\n",
       "      <td>[Yes, No]</td>\n",
       "    </tr>\n",
       "    <tr>\n",
       "      <th>streaming_movies</th>\n",
       "      <td>2</td>\n",
       "      <td>[No, Yes]</td>\n",
       "    </tr>\n",
       "    <tr>\n",
       "      <th>contract</th>\n",
       "      <td>3</td>\n",
       "      <td>[One year, Month-to-month, Two year]</td>\n",
       "    </tr>\n",
       "    <tr>\n",
       "      <th>paperless_billing</th>\n",
       "      <td>2</td>\n",
       "      <td>[Yes, No]</td>\n",
       "    </tr>\n",
       "    <tr>\n",
       "      <th>payment_method</th>\n",
       "      <td>4</td>\n",
       "      <td>[Mailed check, Electronic check, Credit card (...</td>\n",
       "    </tr>\n",
       "    <tr>\n",
       "      <th>charges_monthly</th>\n",
       "      <td>1585</td>\n",
       "      <td>[65.6, 59.9, 73.9, 98.0, 83.9, 69.4, 109.7, 84...</td>\n",
       "    </tr>\n",
       "    <tr>\n",
       "      <th>charges_total</th>\n",
       "      <td>6531</td>\n",
       "      <td>[593.3, 542.4, 280.85, 1237.85, 267.4, 571.45,...</td>\n",
       "    </tr>\n",
       "  </tbody>\n",
       "</table>\n",
       "</div>"
      ],
      "text/plain": [
       "                   count                                            content\n",
       "customer            7267  [0002-ORFBO, 0003-MKNFE, 0004-TLHLJ, 0011-IGKF...\n",
       "churn                  3                                        [No, Yes, ]\n",
       "gender                 2                                     [Female, Male]\n",
       "senior_citizen         2                                             [0, 1]\n",
       "partner                2                                          [Yes, No]\n",
       "dependents             2                                          [Yes, No]\n",
       "tenure                73  [9, 4, 13, 3, 71, 63, 7, 65, 54, 72, 5, 56, 34...\n",
       "phone_service          2                                          [Yes, No]\n",
       "multiple_lines         2                                          [No, Yes]\n",
       "internet_service       3                             [DSL, Fiber optic, No]\n",
       "online_security        2                                          [No, Yes]\n",
       "online_backup          2                                          [Yes, No]\n",
       "device_protection      2                                          [No, Yes]\n",
       "tech_support           2                                          [Yes, No]\n",
       "streaming_tv           2                                          [Yes, No]\n",
       "streaming_movies       2                                          [No, Yes]\n",
       "contract               3               [One year, Month-to-month, Two year]\n",
       "paperless_billing      2                                          [Yes, No]\n",
       "payment_method         4  [Mailed check, Electronic check, Credit card (...\n",
       "charges_monthly     1585  [65.6, 59.9, 73.9, 98.0, 83.9, 69.4, 109.7, 84...\n",
       "charges_total       6531  [593.3, 542.4, 280.85, 1237.85, 267.4, 571.45,..."
      ]
     },
     "execution_count": 15,
     "metadata": {},
     "output_type": "execute_result"
    }
   ],
   "source": [
    "unicos = pd.DataFrame(df2.nunique())\n",
    "unicos.columns= ['count']\n",
    "unicos['content'] = df2.apply(lambda x: x.unique())\n",
    "unicos"
   ]
  },
  {
   "cell_type": "markdown",
   "id": "c2499fea",
   "metadata": {},
   "source": [
    "### 1.6.2. Remover linhas com churn vazio"
   ]
  },
  {
   "cell_type": "code",
   "execution_count": 18,
   "id": "10d80a2e",
   "metadata": {
    "ExecuteTime": {
     "end_time": "2023-08-31T13:17:17.346199Z",
     "start_time": "2023-08-31T13:17:17.305082Z"
    }
   },
   "outputs": [],
   "source": [
    "churn_vazio = df2.query('churn == \"\"').index\n",
    "df2.drop(churn_vazio, axis=0, inplace=True)"
   ]
  },
  {
   "cell_type": "code",
   "execution_count": 19,
   "id": "f14bae38",
   "metadata": {
    "ExecuteTime": {
     "end_time": "2023-08-31T13:17:19.801036Z",
     "start_time": "2023-08-31T13:17:19.709005Z"
    }
   },
   "outputs": [
    {
     "data": {
      "text/html": [
       "<div>\n",
       "<style scoped>\n",
       "    .dataframe tbody tr th:only-of-type {\n",
       "        vertical-align: middle;\n",
       "    }\n",
       "\n",
       "    .dataframe tbody tr th {\n",
       "        vertical-align: top;\n",
       "    }\n",
       "\n",
       "    .dataframe thead th {\n",
       "        text-align: right;\n",
       "    }\n",
       "</style>\n",
       "<table border=\"1\" class=\"dataframe\">\n",
       "  <thead>\n",
       "    <tr style=\"text-align: right;\">\n",
       "      <th></th>\n",
       "      <th>customer</th>\n",
       "      <th>churn</th>\n",
       "      <th>gender</th>\n",
       "      <th>senior_citizen</th>\n",
       "      <th>partner</th>\n",
       "      <th>dependents</th>\n",
       "      <th>tenure</th>\n",
       "      <th>phone_service</th>\n",
       "      <th>multiple_lines</th>\n",
       "      <th>internet_service</th>\n",
       "      <th>...</th>\n",
       "      <th>online_backup</th>\n",
       "      <th>device_protection</th>\n",
       "      <th>tech_support</th>\n",
       "      <th>streaming_tv</th>\n",
       "      <th>streaming_movies</th>\n",
       "      <th>contract</th>\n",
       "      <th>paperless_billing</th>\n",
       "      <th>payment_method</th>\n",
       "      <th>charges_monthly</th>\n",
       "      <th>charges_total</th>\n",
       "    </tr>\n",
       "  </thead>\n",
       "  <tbody>\n",
       "    <tr>\n",
       "      <th>0</th>\n",
       "      <td>0002-ORFBO</td>\n",
       "      <td>No</td>\n",
       "      <td>Female</td>\n",
       "      <td>0</td>\n",
       "      <td>Yes</td>\n",
       "      <td>Yes</td>\n",
       "      <td>9</td>\n",
       "      <td>Yes</td>\n",
       "      <td>No</td>\n",
       "      <td>DSL</td>\n",
       "      <td>...</td>\n",
       "      <td>Yes</td>\n",
       "      <td>No</td>\n",
       "      <td>Yes</td>\n",
       "      <td>Yes</td>\n",
       "      <td>No</td>\n",
       "      <td>One year</td>\n",
       "      <td>Yes</td>\n",
       "      <td>Mailed check</td>\n",
       "      <td>65.6</td>\n",
       "      <td>593.3</td>\n",
       "    </tr>\n",
       "    <tr>\n",
       "      <th>1</th>\n",
       "      <td>0003-MKNFE</td>\n",
       "      <td>No</td>\n",
       "      <td>Male</td>\n",
       "      <td>0</td>\n",
       "      <td>No</td>\n",
       "      <td>No</td>\n",
       "      <td>9</td>\n",
       "      <td>Yes</td>\n",
       "      <td>Yes</td>\n",
       "      <td>DSL</td>\n",
       "      <td>...</td>\n",
       "      <td>No</td>\n",
       "      <td>No</td>\n",
       "      <td>No</td>\n",
       "      <td>No</td>\n",
       "      <td>Yes</td>\n",
       "      <td>Month-to-month</td>\n",
       "      <td>No</td>\n",
       "      <td>Mailed check</td>\n",
       "      <td>59.9</td>\n",
       "      <td>542.4</td>\n",
       "    </tr>\n",
       "    <tr>\n",
       "      <th>2</th>\n",
       "      <td>0004-TLHLJ</td>\n",
       "      <td>Yes</td>\n",
       "      <td>Male</td>\n",
       "      <td>0</td>\n",
       "      <td>No</td>\n",
       "      <td>No</td>\n",
       "      <td>4</td>\n",
       "      <td>Yes</td>\n",
       "      <td>No</td>\n",
       "      <td>Fiber optic</td>\n",
       "      <td>...</td>\n",
       "      <td>No</td>\n",
       "      <td>Yes</td>\n",
       "      <td>No</td>\n",
       "      <td>No</td>\n",
       "      <td>No</td>\n",
       "      <td>Month-to-month</td>\n",
       "      <td>Yes</td>\n",
       "      <td>Electronic check</td>\n",
       "      <td>73.9</td>\n",
       "      <td>280.85</td>\n",
       "    </tr>\n",
       "    <tr>\n",
       "      <th>3</th>\n",
       "      <td>0011-IGKFF</td>\n",
       "      <td>Yes</td>\n",
       "      <td>Male</td>\n",
       "      <td>1</td>\n",
       "      <td>Yes</td>\n",
       "      <td>No</td>\n",
       "      <td>13</td>\n",
       "      <td>Yes</td>\n",
       "      <td>No</td>\n",
       "      <td>Fiber optic</td>\n",
       "      <td>...</td>\n",
       "      <td>Yes</td>\n",
       "      <td>Yes</td>\n",
       "      <td>No</td>\n",
       "      <td>Yes</td>\n",
       "      <td>Yes</td>\n",
       "      <td>Month-to-month</td>\n",
       "      <td>Yes</td>\n",
       "      <td>Electronic check</td>\n",
       "      <td>98.0</td>\n",
       "      <td>1237.85</td>\n",
       "    </tr>\n",
       "    <tr>\n",
       "      <th>4</th>\n",
       "      <td>0013-EXCHZ</td>\n",
       "      <td>Yes</td>\n",
       "      <td>Female</td>\n",
       "      <td>1</td>\n",
       "      <td>Yes</td>\n",
       "      <td>No</td>\n",
       "      <td>3</td>\n",
       "      <td>Yes</td>\n",
       "      <td>No</td>\n",
       "      <td>Fiber optic</td>\n",
       "      <td>...</td>\n",
       "      <td>No</td>\n",
       "      <td>No</td>\n",
       "      <td>Yes</td>\n",
       "      <td>Yes</td>\n",
       "      <td>No</td>\n",
       "      <td>Month-to-month</td>\n",
       "      <td>Yes</td>\n",
       "      <td>Mailed check</td>\n",
       "      <td>83.9</td>\n",
       "      <td>267.4</td>\n",
       "    </tr>\n",
       "  </tbody>\n",
       "</table>\n",
       "<p>5 rows × 21 columns</p>\n",
       "</div>"
      ],
      "text/plain": [
       "     customer churn  gender  senior_citizen partner dependents  tenure  \\\n",
       "0  0002-ORFBO    No  Female               0     Yes        Yes       9   \n",
       "1  0003-MKNFE    No    Male               0      No         No       9   \n",
       "2  0004-TLHLJ   Yes    Male               0      No         No       4   \n",
       "3  0011-IGKFF   Yes    Male               1     Yes         No      13   \n",
       "4  0013-EXCHZ   Yes  Female               1     Yes         No       3   \n",
       "\n",
       "  phone_service multiple_lines internet_service  ... online_backup  \\\n",
       "0           Yes             No              DSL  ...           Yes   \n",
       "1           Yes            Yes              DSL  ...            No   \n",
       "2           Yes             No      Fiber optic  ...            No   \n",
       "3           Yes             No      Fiber optic  ...           Yes   \n",
       "4           Yes             No      Fiber optic  ...            No   \n",
       "\n",
       "  device_protection tech_support streaming_tv streaming_movies  \\\n",
       "0                No          Yes          Yes               No   \n",
       "1                No           No           No              Yes   \n",
       "2               Yes           No           No               No   \n",
       "3               Yes           No          Yes              Yes   \n",
       "4                No          Yes          Yes               No   \n",
       "\n",
       "         contract paperless_billing    payment_method charges_monthly  \\\n",
       "0        One year               Yes      Mailed check            65.6   \n",
       "1  Month-to-month                No      Mailed check            59.9   \n",
       "2  Month-to-month               Yes  Electronic check            73.9   \n",
       "3  Month-to-month               Yes  Electronic check            98.0   \n",
       "4  Month-to-month               Yes      Mailed check            83.9   \n",
       "\n",
       "   charges_total  \n",
       "0          593.3  \n",
       "1          542.4  \n",
       "2         280.85  \n",
       "3        1237.85  \n",
       "4          267.4  \n",
       "\n",
       "[5 rows x 21 columns]"
      ]
     },
     "execution_count": 19,
     "metadata": {},
     "output_type": "execute_result"
    }
   ],
   "source": [
    "df2 = df2.reset_index(drop=True)\n",
    "df2.head()"
   ]
  },
  {
   "cell_type": "markdown",
   "id": "00d2bfb1",
   "metadata": {},
   "source": [
    "## 1.7. Change Data Types"
   ]
  },
  {
   "cell_type": "code",
   "execution_count": 21,
   "id": "c4949d5c",
   "metadata": {
    "ExecuteTime": {
     "end_time": "2023-08-31T13:19:54.685451Z",
     "start_time": "2023-08-31T13:19:54.649775Z"
    }
   },
   "outputs": [],
   "source": [
    "# Converter charges_total para float\n",
    "df2['charges_total'] = df2['charges_total'].apply(convert_and_replace)"
   ]
  },
  {
   "cell_type": "code",
   "execution_count": 22,
   "id": "6156887a",
   "metadata": {
    "ExecuteTime": {
     "end_time": "2023-08-31T13:19:57.905110Z",
     "start_time": "2023-08-31T13:19:57.889009Z"
    }
   },
   "outputs": [],
   "source": [
    "# Converter senior_citizen em categórico ('Yes', 'No')\n",
    "df2['senior_citizen'] = df2['senior_citizen'].map({0: 'No', 1: 'Yes'})"
   ]
  },
  {
   "cell_type": "code",
   "execution_count": 23,
   "id": "3e7e7da6",
   "metadata": {
    "ExecuteTime": {
     "end_time": "2023-08-31T13:20:00.407121Z",
     "start_time": "2023-08-31T13:20:00.388017Z"
    }
   },
   "outputs": [],
   "source": [
    "# Converter churn em numérico (0, 1)\n",
    "df2['churn'] = df2['churn'].map({'No': 0, 'Yes': 1})"
   ]
  },
  {
   "cell_type": "code",
   "execution_count": 24,
   "id": "0a9db7ef",
   "metadata": {
    "ExecuteTime": {
     "end_time": "2023-08-31T13:20:02.605867Z",
     "start_time": "2023-08-31T13:20:02.488632Z"
    }
   },
   "outputs": [
    {
     "name": "stdout",
     "output_type": "stream",
     "text": [
      "<class 'pandas.core.frame.DataFrame'>\n",
      "RangeIndex: 7043 entries, 0 to 7042\n",
      "Data columns (total 21 columns):\n",
      " #   Column             Non-Null Count  Dtype  \n",
      "---  ------             --------------  -----  \n",
      " 0   customer           7043 non-null   object \n",
      " 1   churn              7043 non-null   int64  \n",
      " 2   gender             7043 non-null   object \n",
      " 3   senior_citizen     7043 non-null   object \n",
      " 4   partner            7043 non-null   object \n",
      " 5   dependents         7043 non-null   object \n",
      " 6   tenure             7043 non-null   int64  \n",
      " 7   phone_service      7043 non-null   object \n",
      " 8   multiple_lines     7043 non-null   object \n",
      " 9   internet_service   7043 non-null   object \n",
      " 10  online_security    7043 non-null   object \n",
      " 11  online_backup      7043 non-null   object \n",
      " 12  device_protection  7043 non-null   object \n",
      " 13  tech_support       7043 non-null   object \n",
      " 14  streaming_tv       7043 non-null   object \n",
      " 15  streaming_movies   7043 non-null   object \n",
      " 16  contract           7043 non-null   object \n",
      " 17  paperless_billing  7043 non-null   object \n",
      " 18  payment_method     7043 non-null   object \n",
      " 19  charges_monthly    7043 non-null   float64\n",
      " 20  charges_total      7043 non-null   float64\n",
      "dtypes: float64(2), int64(2), object(17)\n",
      "memory usage: 1.1+ MB\n"
     ]
    }
   ],
   "source": [
    "df2.info()"
   ]
  },
  {
   "cell_type": "markdown",
   "id": "fd5aa9f4",
   "metadata": {},
   "source": [
    "## 1.8. Descriptive Statics"
   ]
  },
  {
   "cell_type": "code",
   "execution_count": 25,
   "id": "f9957aef",
   "metadata": {
    "ExecuteTime": {
     "end_time": "2023-08-31T13:20:13.523687Z",
     "start_time": "2023-08-31T13:20:13.511121Z"
    }
   },
   "outputs": [],
   "source": [
    "# Separar os tipos de dados categóricos dos numéricos\n",
    "num = df2.select_dtypes(include = ['int64', 'int32', 'float64'])\n",
    "cat = df2.select_dtypes(exclude = ['int64', 'int32', 'float64'])"
   ]
  },
  {
   "cell_type": "markdown",
   "id": "585544f1",
   "metadata": {},
   "source": [
    "### 1.7.1. Numerical attributes"
   ]
  },
  {
   "cell_type": "code",
   "execution_count": 26,
   "id": "39a15b20",
   "metadata": {
    "ExecuteTime": {
     "end_time": "2023-08-31T13:20:16.234549Z",
     "start_time": "2023-08-31T13:20:16.137371Z"
    }
   },
   "outputs": [
    {
     "data": {
      "text/html": [
       "<div>\n",
       "<style scoped>\n",
       "    .dataframe tbody tr th:only-of-type {\n",
       "        vertical-align: middle;\n",
       "    }\n",
       "\n",
       "    .dataframe tbody tr th {\n",
       "        vertical-align: top;\n",
       "    }\n",
       "\n",
       "    .dataframe thead th {\n",
       "        text-align: right;\n",
       "    }\n",
       "</style>\n",
       "<table border=\"1\" class=\"dataframe\">\n",
       "  <thead>\n",
       "    <tr style=\"text-align: right;\">\n",
       "      <th></th>\n",
       "      <th>count</th>\n",
       "      <th>mean</th>\n",
       "      <th>std</th>\n",
       "      <th>min</th>\n",
       "      <th>25%</th>\n",
       "      <th>50%</th>\n",
       "      <th>75%</th>\n",
       "      <th>max</th>\n",
       "      <th>range</th>\n",
       "      <th>skew</th>\n",
       "      <th>kurtosis</th>\n",
       "    </tr>\n",
       "  </thead>\n",
       "  <tbody>\n",
       "    <tr>\n",
       "      <th>churn</th>\n",
       "      <td>7043.0</td>\n",
       "      <td>0.265370</td>\n",
       "      <td>0.441561</td>\n",
       "      <td>0.00</td>\n",
       "      <td>0.00</td>\n",
       "      <td>0.00</td>\n",
       "      <td>1.00</td>\n",
       "      <td>1.00</td>\n",
       "      <td>1.0</td>\n",
       "      <td>1.063031</td>\n",
       "      <td>-0.870211</td>\n",
       "    </tr>\n",
       "    <tr>\n",
       "      <th>tenure</th>\n",
       "      <td>7043.0</td>\n",
       "      <td>32.371149</td>\n",
       "      <td>24.559481</td>\n",
       "      <td>0.00</td>\n",
       "      <td>9.00</td>\n",
       "      <td>29.00</td>\n",
       "      <td>55.00</td>\n",
       "      <td>72.00</td>\n",
       "      <td>72.0</td>\n",
       "      <td>0.239540</td>\n",
       "      <td>-1.387372</td>\n",
       "    </tr>\n",
       "    <tr>\n",
       "      <th>charges_monthly</th>\n",
       "      <td>7043.0</td>\n",
       "      <td>64.761692</td>\n",
       "      <td>30.090047</td>\n",
       "      <td>18.25</td>\n",
       "      <td>35.50</td>\n",
       "      <td>70.35</td>\n",
       "      <td>89.85</td>\n",
       "      <td>118.75</td>\n",
       "      <td>100.5</td>\n",
       "      <td>-0.220524</td>\n",
       "      <td>-1.257260</td>\n",
       "    </tr>\n",
       "    <tr>\n",
       "      <th>charges_total</th>\n",
       "      <td>7043.0</td>\n",
       "      <td>2279.734304</td>\n",
       "      <td>2266.794470</td>\n",
       "      <td>0.00</td>\n",
       "      <td>398.55</td>\n",
       "      <td>1394.55</td>\n",
       "      <td>3786.60</td>\n",
       "      <td>8684.80</td>\n",
       "      <td>8684.8</td>\n",
       "      <td>0.963235</td>\n",
       "      <td>-0.228580</td>\n",
       "    </tr>\n",
       "  </tbody>\n",
       "</table>\n",
       "</div>"
      ],
      "text/plain": [
       "                  count         mean          std    min     25%      50%  \\\n",
       "churn            7043.0     0.265370     0.441561   0.00    0.00     0.00   \n",
       "tenure           7043.0    32.371149    24.559481   0.00    9.00    29.00   \n",
       "charges_monthly  7043.0    64.761692    30.090047  18.25   35.50    70.35   \n",
       "charges_total    7043.0  2279.734304  2266.794470   0.00  398.55  1394.55   \n",
       "\n",
       "                     75%      max   range      skew  kurtosis  \n",
       "churn               1.00     1.00     1.0  1.063031 -0.870211  \n",
       "tenure             55.00    72.00    72.0  0.239540 -1.387372  \n",
       "charges_monthly    89.85   118.75   100.5 -0.220524 -1.257260  \n",
       "charges_total    3786.60  8684.80  8684.8  0.963235 -0.228580  "
      ]
     },
     "execution_count": 26,
     "metadata": {},
     "output_type": "execute_result"
    }
   ],
   "source": [
    "# Incluir: Range, kurtosis, skew e std \n",
    "num_describe = num.describe().T\n",
    "num_describe['range'] = pd.DataFrame(num.apply(lambda x: x.max() - x.min()))\n",
    "num_describe['skew'] = pd.DataFrame(num.apply(lambda x: x.skew()))\n",
    "num_describe['kurtosis'] = pd.DataFrame(num.apply(lambda x: x.kurtosis()))\n",
    "num_describe"
   ]
  },
  {
   "cell_type": "code",
   "execution_count": 27,
   "id": "f14e5635",
   "metadata": {
    "ExecuteTime": {
     "end_time": "2023-08-31T13:20:26.700310Z",
     "start_time": "2023-08-31T13:20:22.845945Z"
    }
   },
   "outputs": [
    {
     "data": {
      "image/png": "[encoded data removed]",
      "text/plain": [
       "<Figure size 864x360 with 2 Axes>"
      ]
     },
     "metadata": {
      "needs_background": "light"
     },
     "output_type": "display_data"
    },
    {
     "data": {
      "image/png": "[encoded data removed]",
      "text/plain": [
       "<Figure size 864x360 with 2 Axes>"
      ]
     },
     "metadata": {
      "needs_background": "light"
     },
     "output_type": "display_data"
    },
    {
     "data": {
      "image/png": "[encoded data removed]",
      "text/plain": [
       "<Figure size 864x360 with 2 Axes>"
      ]
     },
     "metadata": {
      "needs_background": "light"
     },
     "output_type": "display_data"
    }
   ],
   "source": [
    "# Chamar a função para cada atributo\n",
    "for col in ['tenure', 'charges_monthly', 'charges_total']:\n",
    "    grafics_num_attribute(num, col)"
   ]
  },
  {
   "cell_type": "markdown",
   "id": "0f61a3d4",
   "metadata": {},
   "source": [
    "### 1.7.2. Categorical attributes"
   ]
  },
  {
   "cell_type": "code",
   "execution_count": 28,
   "id": "61304afc",
   "metadata": {
    "ExecuteTime": {
     "end_time": "2023-08-31T13:20:32.443038Z",
     "start_time": "2023-08-31T13:20:32.294580Z"
    }
   },
   "outputs": [
    {
     "data": {
      "text/html": [
       "<div>\n",
       "<style scoped>\n",
       "    .dataframe tbody tr th:only-of-type {\n",
       "        vertical-align: middle;\n",
       "    }\n",
       "\n",
       "    .dataframe tbody tr th {\n",
       "        vertical-align: top;\n",
       "    }\n",
       "\n",
       "    .dataframe thead th {\n",
       "        text-align: right;\n",
       "    }\n",
       "</style>\n",
       "<table border=\"1\" class=\"dataframe\">\n",
       "  <thead>\n",
       "    <tr style=\"text-align: right;\">\n",
       "      <th></th>\n",
       "      <th>count</th>\n",
       "      <th>content</th>\n",
       "    </tr>\n",
       "  </thead>\n",
       "  <tbody>\n",
       "    <tr>\n",
       "      <th>customer</th>\n",
       "      <td>7043</td>\n",
       "      <td>[0002-ORFBO, 0003-MKNFE, 0004-TLHLJ, 0011-IGKF...</td>\n",
       "    </tr>\n",
       "    <tr>\n",
       "      <th>gender</th>\n",
       "      <td>2</td>\n",
       "      <td>[Female, Male]</td>\n",
       "    </tr>\n",
       "    <tr>\n",
       "      <th>senior_citizen</th>\n",
       "      <td>2</td>\n",
       "      <td>[No, Yes]</td>\n",
       "    </tr>\n",
       "    <tr>\n",
       "      <th>partner</th>\n",
       "      <td>2</td>\n",
       "      <td>[Yes, No]</td>\n",
       "    </tr>\n",
       "    <tr>\n",
       "      <th>dependents</th>\n",
       "      <td>2</td>\n",
       "      <td>[Yes, No]</td>\n",
       "    </tr>\n",
       "    <tr>\n",
       "      <th>phone_service</th>\n",
       "      <td>2</td>\n",
       "      <td>[Yes, No]</td>\n",
       "    </tr>\n",
       "    <tr>\n",
       "      <th>multiple_lines</th>\n",
       "      <td>2</td>\n",
       "      <td>[No, Yes]</td>\n",
       "    </tr>\n",
       "    <tr>\n",
       "      <th>internet_service</th>\n",
       "      <td>3</td>\n",
       "      <td>[DSL, Fiber optic, No]</td>\n",
       "    </tr>\n",
       "    <tr>\n",
       "      <th>online_security</th>\n",
       "      <td>2</td>\n",
       "      <td>[No, Yes]</td>\n",
       "    </tr>\n",
       "    <tr>\n",
       "      <th>online_backup</th>\n",
       "      <td>2</td>\n",
       "      <td>[Yes, No]</td>\n",
       "    </tr>\n",
       "    <tr>\n",
       "      <th>device_protection</th>\n",
       "      <td>2</td>\n",
       "      <td>[No, Yes]</td>\n",
       "    </tr>\n",
       "    <tr>\n",
       "      <th>tech_support</th>\n",
       "      <td>2</td>\n",
       "      <td>[Yes, No]</td>\n",
       "    </tr>\n",
       "    <tr>\n",
       "      <th>streaming_tv</th>\n",
       "      <td>2</td>\n",
       "      <td>[Yes, No]</td>\n",
       "    </tr>\n",
       "    <tr>\n",
       "      <th>streaming_movies</th>\n",
       "      <td>2</td>\n",
       "      <td>[No, Yes]</td>\n",
       "    </tr>\n",
       "    <tr>\n",
       "      <th>contract</th>\n",
       "      <td>3</td>\n",
       "      <td>[One year, Month-to-month, Two year]</td>\n",
       "    </tr>\n",
       "    <tr>\n",
       "      <th>paperless_billing</th>\n",
       "      <td>2</td>\n",
       "      <td>[Yes, No]</td>\n",
       "    </tr>\n",
       "    <tr>\n",
       "      <th>payment_method</th>\n",
       "      <td>4</td>\n",
       "      <td>[Mailed check, Electronic check, Credit card (...</td>\n",
       "    </tr>\n",
       "  </tbody>\n",
       "</table>\n",
       "</div>"
      ],
      "text/plain": [
       "                   count                                            content\n",
       "customer            7043  [0002-ORFBO, 0003-MKNFE, 0004-TLHLJ, 0011-IGKF...\n",
       "gender                 2                                     [Female, Male]\n",
       "senior_citizen         2                                          [No, Yes]\n",
       "partner                2                                          [Yes, No]\n",
       "dependents             2                                          [Yes, No]\n",
       "phone_service          2                                          [Yes, No]\n",
       "multiple_lines         2                                          [No, Yes]\n",
       "internet_service       3                             [DSL, Fiber optic, No]\n",
       "online_security        2                                          [No, Yes]\n",
       "online_backup          2                                          [Yes, No]\n",
       "device_protection      2                                          [No, Yes]\n",
       "tech_support           2                                          [Yes, No]\n",
       "streaming_tv           2                                          [Yes, No]\n",
       "streaming_movies       2                                          [No, Yes]\n",
       "contract               3               [One year, Month-to-month, Two year]\n",
       "paperless_billing      2                                          [Yes, No]\n",
       "payment_method         4  [Mailed check, Electronic check, Credit card (..."
      ]
     },
     "execution_count": 28,
     "metadata": {},
     "output_type": "execute_result"
    }
   ],
   "source": [
    "cat_unicos = pd.DataFrame(cat.nunique())\n",
    "cat_unicos.columns= ['count']\n",
    "cat_unicos['content'] = cat.apply(lambda x: x.unique())\n",
    "cat_unicos"
   ]
  },
  {
   "cell_type": "code",
   "execution_count": 29,
   "id": "a2d464c8",
   "metadata": {
    "ExecuteTime": {
     "end_time": "2023-08-31T13:20:46.448963Z",
     "start_time": "2023-08-31T13:20:46.338416Z"
    }
   },
   "outputs": [
    {
     "data": {
      "text/html": [
       "<div>\n",
       "<style scoped>\n",
       "    .dataframe tbody tr th:only-of-type {\n",
       "        vertical-align: middle;\n",
       "    }\n",
       "\n",
       "    .dataframe tbody tr th {\n",
       "        vertical-align: top;\n",
       "    }\n",
       "\n",
       "    .dataframe thead th {\n",
       "        text-align: right;\n",
       "    }\n",
       "</style>\n",
       "<table border=\"1\" class=\"dataframe\">\n",
       "  <thead>\n",
       "    <tr style=\"text-align: right;\">\n",
       "      <th></th>\n",
       "      <th>No</th>\n",
       "      <th>Yes</th>\n",
       "    </tr>\n",
       "  </thead>\n",
       "  <tbody>\n",
       "    <tr>\n",
       "      <th>phone_service</th>\n",
       "      <td>9.683374</td>\n",
       "      <td>90.316626</td>\n",
       "    </tr>\n",
       "    <tr>\n",
       "      <th>paperless_billing</th>\n",
       "      <td>40.778078</td>\n",
       "      <td>59.221922</td>\n",
       "    </tr>\n",
       "    <tr>\n",
       "      <th>partner</th>\n",
       "      <td>51.696720</td>\n",
       "      <td>48.303280</td>\n",
       "    </tr>\n",
       "    <tr>\n",
       "      <th>multiple_lines</th>\n",
       "      <td>57.816271</td>\n",
       "      <td>42.183729</td>\n",
       "    </tr>\n",
       "    <tr>\n",
       "      <th>streaming_movies</th>\n",
       "      <td>61.209712</td>\n",
       "      <td>38.790288</td>\n",
       "    </tr>\n",
       "    <tr>\n",
       "      <th>streaming_tv</th>\n",
       "      <td>61.564674</td>\n",
       "      <td>38.435326</td>\n",
       "    </tr>\n",
       "    <tr>\n",
       "      <th>online_backup</th>\n",
       "      <td>65.511856</td>\n",
       "      <td>34.488144</td>\n",
       "    </tr>\n",
       "    <tr>\n",
       "      <th>device_protection</th>\n",
       "      <td>65.611245</td>\n",
       "      <td>34.388755</td>\n",
       "    </tr>\n",
       "    <tr>\n",
       "      <th>dependents</th>\n",
       "      <td>70.041176</td>\n",
       "      <td>29.958824</td>\n",
       "    </tr>\n",
       "    <tr>\n",
       "      <th>tech_support</th>\n",
       "      <td>70.978276</td>\n",
       "      <td>29.021724</td>\n",
       "    </tr>\n",
       "    <tr>\n",
       "      <th>online_security</th>\n",
       "      <td>71.333239</td>\n",
       "      <td>28.666761</td>\n",
       "    </tr>\n",
       "    <tr>\n",
       "      <th>senior_citizen</th>\n",
       "      <td>83.785319</td>\n",
       "      <td>16.214681</td>\n",
       "    </tr>\n",
       "  </tbody>\n",
       "</table>\n",
       "</div>"
      ],
      "text/plain": [
       "                          No        Yes\n",
       "phone_service       9.683374  90.316626\n",
       "paperless_billing  40.778078  59.221922\n",
       "partner            51.696720  48.303280\n",
       "multiple_lines     57.816271  42.183729\n",
       "streaming_movies   61.209712  38.790288\n",
       "streaming_tv       61.564674  38.435326\n",
       "online_backup      65.511856  34.488144\n",
       "device_protection  65.611245  34.388755\n",
       "dependents         70.041176  29.958824\n",
       "tech_support       70.978276  29.021724\n",
       "online_security    71.333239  28.666761\n",
       "senior_citizen     83.785319  16.214681"
      ]
     },
     "execution_count": 29,
     "metadata": {},
     "output_type": "execute_result"
    }
   ],
   "source": [
    "# Constroi tabela com % de cada categoria\n",
    "def make_table_yes_no(df, col):\n",
    "    table_yes_no[col] = df[col].value_counts(normalize=True) * 100\n",
    "    return table_yes_no\n",
    "\n",
    "# Colunas com categorias 'Yes' e 'No'\n",
    "list_yes_no = ['partner', 'dependents', 'phone_service', 'multiple_lines', 'online_security', \n",
    "'online_backup', 'device_protection', 'tech_support', 'streaming_tv', 'streaming_movies', 'paperless_billing']\n",
    "\n",
    "table_yes_no = df2['senior_citizen'].value_counts(normalize=True).to_frame() * 100\n",
    "for col in list_yes_no:\n",
    "    table_yes_no = make_table_yes_no(cat, col)\n",
    "    \n",
    "table_yes_no = table_yes_no.T\n",
    "table_yes_no_sorted = table_yes_no.sort_values(by='Yes', ascending=False)\n",
    "table_yes_no_sorted"
   ]
  },
  {
   "cell_type": "code",
   "execution_count": 33,
   "id": "ecdaea3d",
   "metadata": {
    "ExecuteTime": {
     "end_time": "2023-08-31T13:22:55.252217Z",
     "start_time": "2023-08-31T13:22:54.279887Z"
    }
   },
   "outputs": [
    {
     "data": {
      "image/png": "[encoded data removed]",
      "text/plain": [
       "<Figure size 1080x648 with 1 Axes>"
      ]
     },
     "metadata": {
      "needs_background": "light"
     },
     "output_type": "display_data"
    }
   ],
   "source": [
    "# create stacked bar chart\n",
    "ax = table_yes_no_sorted.plot(kind='barh', stacked=True, figsize=(15, 9), color=['gray', 'darkblue'], xticks=[])\n",
    "ax.legend(loc='upper center', bbox_to_anchor=(0.5, -0.05), ncol=2, frameon=False)\n",
    "ax.spines[['top', 'bottom', 'left', 'right']].set_visible(False)\n",
    "    \n",
    "# Adicionar os valores dentro das barras\n",
    "for c in ax.containers:\n",
    "    # custom label calculates percent and add an empty string so 0 value bars don't have a number\n",
    "    labels = [f'{w:0.1f}%' if (w := v.get_width()) > 0 else '' for v in c]\n",
    "    ax.bar_label(c, labels=labels, label_type='center', padding=0.3, color='w')\n",
    "    \n",
    "# Title and Labels\n",
    "plt.title('% das categorias No e Yes para cada feature');"
   ]
  },
  {
   "cell_type": "code",
   "execution_count": 128,
   "id": "bf1a822a",
   "metadata": {
    "ExecuteTime": {
     "end_time": "2023-08-30T23:12:42.601254Z",
     "start_time": "2023-08-30T23:12:39.218973Z"
    }
   },
   "outputs": [
    {
     "data": {
      "image/png": "[encoded data removed]",
      "text/plain": [
       "<Figure size 1080x720 with 4 Axes>"
      ]
     },
     "metadata": {
      "needs_background": "light"
     },
     "output_type": "display_data"
    }
   ],
   "source": [
    "# Gráfico de barras\n",
    "plt.figure(figsize=(15,10))\n",
    "plt.subplot( 2, 2, 1 )\n",
    "sns.barplot( x='gender', y='churn', data=df2 )\n",
    "sns.despine(offset = 10, trim = True)\n",
    "plt.title('Churn por gênero')\n",
    "\n",
    "plt.subplot( 2, 2, 2 )\n",
    "sns.barplot( x='internet_service', y='churn', data=df2 )\n",
    "sns.despine(offset = 10, trim = True)\n",
    "plt.title('Churn por tipo de internet')\n",
    "\n",
    "plt.subplot( 2, 2, 3 )\n",
    "sns.barplot( x='contract', y='churn', data=df2 )\n",
    "sns.despine(offset = 10, trim = True)\n",
    "plt.title('Churn por tipo de contrato')\n",
    "\n",
    "plt.subplot( 2, 2, 4 )\n",
    "sns.barplot( x='payment_method', y='churn', data=df2 )\n",
    "sns.despine(offset = 10, trim = True)\n",
    "plt.title('Churn por forma de pagamento');"
   ]
  },
  {
   "cell_type": "code",
   "execution_count": 55,
   "id": "8b76d9b3",
   "metadata": {
    "ExecuteTime": {
     "end_time": "2023-08-31T14:11:49.821437Z",
     "start_time": "2023-08-31T14:11:47.464807Z"
    }
   },
   "outputs": [
    {
     "name": "stderr",
     "output_type": "stream",
     "text": [
      "No artists with labels found to put in legend.  Note that artists whose label start with an underscore are ignored when legend() is called with no argument.\n"
     ]
    },
    {
     "data": {
      "image/png": "[encoded data removed]",
      "text/plain": [
       "<Figure size 432x288 with 1 Axes>"
      ]
     },
     "metadata": {
      "needs_background": "light"
     },
     "output_type": "display_data"
    },
    {
     "name": "stderr",
     "output_type": "stream",
     "text": [
      "No artists with labels found to put in legend.  Note that artists whose label start with an underscore are ignored when legend() is called with no argument.\n"
     ]
    },
    {
     "data": {
      "image/png": "[encoded data removed]",
      "text/plain": [
       "<Figure size 432x288 with 1 Axes>"
      ]
     },
     "metadata": {
      "needs_background": "light"
     },
     "output_type": "display_data"
    },
    {
     "name": "stderr",
     "output_type": "stream",
     "text": [
      "No artists with labels found to put in legend.  Note that artists whose label start with an underscore are ignored when legend() is called with no argument.\n"
     ]
    },
    {
     "data": {
      "image/png": "[encoded data removed]",
      "text/plain": [
       "<Figure size 432x288 with 1 Axes>"
      ]
     },
     "metadata": {
      "needs_background": "light"
     },
     "output_type": "display_data"
    },
    {
     "name": "stderr",
     "output_type": "stream",
     "text": [
      "No artists with labels found to put in legend.  Note that artists whose label start with an underscore are ignored when legend() is called with no argument.\n"
     ]
    },
    {
     "data": {
      "image/png": "[encoded data removed]",
      "text/plain": [
       "<Figure size 432x288 with 1 Axes>"
      ]
     },
     "metadata": {
      "needs_background": "light"
     },
     "output_type": "display_data"
    }
   ],
   "source": [
    "def grafics_cat_attribute(df, col):\n",
    "    # Criar tabela de frequência por categoria\n",
    "    df_aux = df[col].value_counts().reset_index()\n",
    "    df_aux\n",
    "    \n",
    "    # Criação dos subplots\n",
    "    ax1 = sns.barplot(x='index', y=col, data=df_aux)\n",
    "#    ax = table_yes_no_sorted.plot(kind='barh', stacked=True, figsize=(15, 9), color=['gray', 'darkblue'], xticks=[])\n",
    "\n",
    "#    fig, (ax1, ax2) = plt.subplots(1, 2, figsize=(12, 5))\n",
    "\n",
    "    # Plotagem do histograma no primeiro subplot\n",
    "    sns.barplot(x='index', y=col, data=df_aux, color='gray')\n",
    "    ax1.set_xlabel(col)\n",
    "    ax1.set_ylabel('Frequência')\n",
    "    ax1.set_title(f'Histograma {col}')\n",
    "    ax1.legend()\n",
    "\n",
    "    # Ajustar espaçamento entre os subplots\n",
    "    plt.tight_layout()\n",
    "\n",
    "    # Exibir os subplots\n",
    "    plt.show();\n",
    "    \n",
    "# Chamar a função para cada atributo\n",
    "for col in ['gender', 'internet_service', 'contract', 'payment_method']:\n",
    "    grafics_cat_attribute(cat, col)"
   ]
  },
  {
   "cell_type": "markdown",
   "id": "99d84d47",
   "metadata": {},
   "source": [
    "# 2. PASSO 02 - FEATURE ENGINEERING"
   ]
  },
  {
   "cell_type": "code",
   "execution_count": null,
   "id": "95f110a9",
   "metadata": {},
   "outputs": [],
   "source": []
  },
  {
   "cell_type": "markdown",
   "id": "c31bfac4",
   "metadata": {},
   "source": [
    "## 2.1. Mapa Mental de Hipóteses"
   ]
  },
  {
   "cell_type": "code",
   "execution_count": null,
   "id": "f8ee8970",
   "metadata": {},
   "outputs": [],
   "source": []
  },
  {
   "cell_type": "markdown",
   "id": "f717a7b3",
   "metadata": {},
   "source": [
    "## 2.4. Feature Engineering"
   ]
  },
  {
   "cell_type": "markdown",
   "id": "975ab6ea",
   "metadata": {},
   "source": [
    "### 2.4.1. Converter"
   ]
  },
  {
   "cell_type": "markdown",
   "id": "13b9edd8",
   "metadata": {},
   "source": [
    "### 2.4.2. Criar"
   ]
  }
 ],
 "metadata": {
  "kernelspec": {
   "display_name": "Python 3 (ipykernel)",
   "language": "python",
   "name": "python3"
  },
  "language_info": {
   "codemirror_mode": {
    "name": "ipython",
    "version": 3
   },
   "file_extension": ".py",
   "mimetype": "text/x-python",
   "name": "python",
   "nbconvert_exporter": "python",
   "pygments_lexer": "ipython3",
   "version": "3.9.12"
  }
 },
 "nbformat": 4,
 "nbformat_minor": 5
}
