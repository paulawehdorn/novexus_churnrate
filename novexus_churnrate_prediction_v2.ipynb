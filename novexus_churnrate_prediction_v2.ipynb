{
 "cells": [
  {
   "cell_type": "markdown",
   "id": "5046e5e1",
   "metadata": {
    "heading_collapsed": true
   },
   "source": [
    "# 0. IMPORTS"
   ]
  },
  {
   "cell_type": "markdown",
   "id": "e2be086f",
   "metadata": {
    "hidden": true
   },
   "source": [
    "## 0.1. Importing libraries"
   ]
  },
  {
   "cell_type": "code",
   "execution_count": 1,
   "id": "62e25e32",
   "metadata": {
    "ExecuteTime": {
     "end_time": "2023-09-03T15:30:32.591844Z",
     "start_time": "2023-09-03T15:30:27.694190Z"
    },
    "hidden": true
   },
   "outputs": [],
   "source": [
    "import pandas as pd\n",
    "import numpy as np\n",
    "import matplotlib.pyplot as plt\n",
    "import seaborn as sns\n",
    "import inflection"
   ]
  },
  {
   "cell_type": "markdown",
   "id": "46e47382",
   "metadata": {
    "hidden": true
   },
   "source": [
    "## 0.2. Loading data"
   ]
  },
  {
   "cell_type": "code",
   "execution_count": 2,
   "id": "764ae82c",
   "metadata": {
    "ExecuteTime": {
     "end_time": "2023-09-03T15:30:35.588950Z",
     "start_time": "2023-09-03T15:30:32.596843Z"
    },
    "hidden": true
   },
   "outputs": [],
   "source": [
    "url = 'https://challenge-data-science-3ed.s3.amazonaws.com/Telco-Customer-Churn.json'\n",
    "df = pd.read_json(url)"
   ]
  },
  {
   "cell_type": "markdown",
   "id": "5faa60bf",
   "metadata": {
    "hidden": true
   },
   "source": [
    "## 0.3. Dicionário de dados"
   ]
  },
  {
   "cell_type": "markdown",
   "id": "90ab01b5",
   "metadata": {
    "hidden": true
   },
   "source": [
    "Nome | Descrição\n",
    "--|--\n",
    "customerID | número de identificação único de cada cliente\n",
    "Churn | se o cliente deixou ou não a empresa \n",
    "gender | gênero (masculino e feminino) \n",
    "SeniorCitizen | informação sobre um cliente ter ou não idade igual ou maior que 65 anos \n",
    "Partner |  se o cliente possui ou não um parceiro ou parceira\n",
    "Dependents | se o cliente possui ou não dependentes\n",
    "tenure |  meses de contrato do cliente\n",
    "PhoneService | assinatura de serviço telefônico \n",
    "MultipleLines | assisnatura de mais de uma linha de telefone \n",
    "InternetService | assinatura de um provedor internet \n",
    "OnlineSecurity | assinatura adicional de segurança online \n",
    "OnlineBackup | assinatura adicional de backup online \n",
    "DeviceProtection | assinatura adicional de proteção no dispositivo \n",
    "TechSupport | assinatura adicional de suporte técnico, menos tempo de espera\n",
    "StreamingTV | assinatura de TV a cabo \n",
    "StreamingMovies | assinatura de streaming de filmes \n",
    "Contract | tipo de contrato\n",
    "PaperlessBilling | se o cliente prefere receber online a fatura\n",
    "PaymentMethod | forma de pagamento\n",
    "Charges.Monthly | total de todos os serviços do cliente por mês\n",
    "Charges.Total | total gasto pelo cliente"
   ]
  },
  {
   "cell_type": "markdown",
   "id": "0b71fdeb",
   "metadata": {
    "ExecuteTime": {
     "end_time": "2023-08-29T13:44:57.684526Z",
     "start_time": "2023-08-29T13:44:57.668812Z"
    },
    "hidden": true
   },
   "source": [
    "## 0.3. Helper functions"
   ]
  },
  {
   "cell_type": "code",
   "execution_count": 95,
   "id": "cff6aaed",
   "metadata": {
    "ExecuteTime": {
     "end_time": "2023-09-03T16:44:37.304047Z",
     "start_time": "2023-09-03T16:44:37.274367Z"
    },
    "hidden": true
   },
   "outputs": [],
   "source": [
    "def rename_columns(cols):\n",
    "    cols = list(map(lambda x: inflection.titleize(x), cols))\n",
    "    cols = list(map(lambda x: x.replace(\" \", \"\"), cols))\n",
    "    cols = list(map(lambda x: x.replace(\".\", \"\"), cols))\n",
    "    cols = list(map(lambda x: inflection.underscore(x), cols))\n",
    "    return cols\n",
    "\n",
    "def tab_unique(df):\n",
    "    tab_unicos = pd.DataFrame(df.nunique())\n",
    "    tab_unicos.columns= ['count']\n",
    "    tab_unicos['content'] = df.apply(lambda x: x.unique())\n",
    "    return tab_unicos"
   ]
  },
  {
   "cell_type": "markdown",
   "id": "f7880784",
   "metadata": {
    "hidden": true
   },
   "source": [
    "## 0.4. Identidade Visual"
   ]
  },
  {
   "cell_type": "code",
   "execution_count": 330,
   "id": "67ec15e5",
   "metadata": {
    "ExecuteTime": {
     "end_time": "2023-09-03T22:46:49.106578Z",
     "start_time": "2023-09-03T22:46:49.092461Z"
    },
    "hidden": true
   },
   "outputs": [],
   "source": [
    "paleta_personalizada = {\n",
    "    'black': '#171821',\n",
    "    'purple': '#872b95',\n",
    "    'orange': '#ff7131',\n",
    "    'pink': '#fe3d67'\n",
    "}"
   ]
  },
  {
   "cell_type": "markdown",
   "id": "e8082b20",
   "metadata": {
    "heading_collapsed": true
   },
   "source": [
    "# 1. DATA DESCRIPTION"
   ]
  },
  {
   "cell_type": "code",
   "execution_count": 4,
   "id": "ebb969fa",
   "metadata": {
    "ExecuteTime": {
     "end_time": "2023-09-03T15:31:37.774181Z",
     "start_time": "2023-09-03T15:31:37.755099Z"
    },
    "hidden": true
   },
   "outputs": [],
   "source": [
    "df1 = df.copy()"
   ]
  },
  {
   "cell_type": "markdown",
   "id": "dfc49386",
   "metadata": {
    "heading_collapsed": true,
    "hidden": true
   },
   "source": [
    "## 1.1. Normalize Columns"
   ]
  },
  {
   "cell_type": "code",
   "execution_count": 5,
   "id": "ad99354b",
   "metadata": {
    "ExecuteTime": {
     "end_time": "2023-09-03T15:33:15.010707Z",
     "start_time": "2023-09-03T15:33:14.363729Z"
    },
    "hidden": true
   },
   "outputs": [
    {
     "data": {
      "text/html": [
       "<div>\n",
       "<style scoped>\n",
       "    .dataframe tbody tr th:only-of-type {\n",
       "        vertical-align: middle;\n",
       "    }\n",
       "\n",
       "    .dataframe tbody tr th {\n",
       "        vertical-align: top;\n",
       "    }\n",
       "\n",
       "    .dataframe thead th {\n",
       "        text-align: right;\n",
       "    }\n",
       "</style>\n",
       "<table border=\"1\" class=\"dataframe\">\n",
       "  <thead>\n",
       "    <tr style=\"text-align: right;\">\n",
       "      <th></th>\n",
       "      <th>customerID</th>\n",
       "      <th>Churn</th>\n",
       "      <th>gender</th>\n",
       "      <th>SeniorCitizen</th>\n",
       "      <th>Partner</th>\n",
       "      <th>Dependents</th>\n",
       "      <th>tenure</th>\n",
       "      <th>PhoneService</th>\n",
       "      <th>MultipleLines</th>\n",
       "      <th>InternetService</th>\n",
       "      <th>...</th>\n",
       "      <th>OnlineBackup</th>\n",
       "      <th>DeviceProtection</th>\n",
       "      <th>TechSupport</th>\n",
       "      <th>StreamingTV</th>\n",
       "      <th>StreamingMovies</th>\n",
       "      <th>Contract</th>\n",
       "      <th>PaperlessBilling</th>\n",
       "      <th>PaymentMethod</th>\n",
       "      <th>Charges.Monthly</th>\n",
       "      <th>Charges.Total</th>\n",
       "    </tr>\n",
       "  </thead>\n",
       "  <tbody>\n",
       "    <tr>\n",
       "      <th>0</th>\n",
       "      <td>0002-ORFBO</td>\n",
       "      <td>No</td>\n",
       "      <td>Female</td>\n",
       "      <td>0</td>\n",
       "      <td>Yes</td>\n",
       "      <td>Yes</td>\n",
       "      <td>9</td>\n",
       "      <td>Yes</td>\n",
       "      <td>No</td>\n",
       "      <td>DSL</td>\n",
       "      <td>...</td>\n",
       "      <td>Yes</td>\n",
       "      <td>No</td>\n",
       "      <td>Yes</td>\n",
       "      <td>Yes</td>\n",
       "      <td>No</td>\n",
       "      <td>One year</td>\n",
       "      <td>Yes</td>\n",
       "      <td>Mailed check</td>\n",
       "      <td>65.6</td>\n",
       "      <td>593.3</td>\n",
       "    </tr>\n",
       "    <tr>\n",
       "      <th>1</th>\n",
       "      <td>0003-MKNFE</td>\n",
       "      <td>No</td>\n",
       "      <td>Male</td>\n",
       "      <td>0</td>\n",
       "      <td>No</td>\n",
       "      <td>No</td>\n",
       "      <td>9</td>\n",
       "      <td>Yes</td>\n",
       "      <td>Yes</td>\n",
       "      <td>DSL</td>\n",
       "      <td>...</td>\n",
       "      <td>No</td>\n",
       "      <td>No</td>\n",
       "      <td>No</td>\n",
       "      <td>No</td>\n",
       "      <td>Yes</td>\n",
       "      <td>Month-to-month</td>\n",
       "      <td>No</td>\n",
       "      <td>Mailed check</td>\n",
       "      <td>59.9</td>\n",
       "      <td>542.4</td>\n",
       "    </tr>\n",
       "    <tr>\n",
       "      <th>2</th>\n",
       "      <td>0004-TLHLJ</td>\n",
       "      <td>Yes</td>\n",
       "      <td>Male</td>\n",
       "      <td>0</td>\n",
       "      <td>No</td>\n",
       "      <td>No</td>\n",
       "      <td>4</td>\n",
       "      <td>Yes</td>\n",
       "      <td>No</td>\n",
       "      <td>Fiber optic</td>\n",
       "      <td>...</td>\n",
       "      <td>No</td>\n",
       "      <td>Yes</td>\n",
       "      <td>No</td>\n",
       "      <td>No</td>\n",
       "      <td>No</td>\n",
       "      <td>Month-to-month</td>\n",
       "      <td>Yes</td>\n",
       "      <td>Electronic check</td>\n",
       "      <td>73.9</td>\n",
       "      <td>280.85</td>\n",
       "    </tr>\n",
       "    <tr>\n",
       "      <th>3</th>\n",
       "      <td>0011-IGKFF</td>\n",
       "      <td>Yes</td>\n",
       "      <td>Male</td>\n",
       "      <td>1</td>\n",
       "      <td>Yes</td>\n",
       "      <td>No</td>\n",
       "      <td>13</td>\n",
       "      <td>Yes</td>\n",
       "      <td>No</td>\n",
       "      <td>Fiber optic</td>\n",
       "      <td>...</td>\n",
       "      <td>Yes</td>\n",
       "      <td>Yes</td>\n",
       "      <td>No</td>\n",
       "      <td>Yes</td>\n",
       "      <td>Yes</td>\n",
       "      <td>Month-to-month</td>\n",
       "      <td>Yes</td>\n",
       "      <td>Electronic check</td>\n",
       "      <td>98.0</td>\n",
       "      <td>1237.85</td>\n",
       "    </tr>\n",
       "    <tr>\n",
       "      <th>4</th>\n",
       "      <td>0013-EXCHZ</td>\n",
       "      <td>Yes</td>\n",
       "      <td>Female</td>\n",
       "      <td>1</td>\n",
       "      <td>Yes</td>\n",
       "      <td>No</td>\n",
       "      <td>3</td>\n",
       "      <td>Yes</td>\n",
       "      <td>No</td>\n",
       "      <td>Fiber optic</td>\n",
       "      <td>...</td>\n",
       "      <td>No</td>\n",
       "      <td>No</td>\n",
       "      <td>Yes</td>\n",
       "      <td>Yes</td>\n",
       "      <td>No</td>\n",
       "      <td>Month-to-month</td>\n",
       "      <td>Yes</td>\n",
       "      <td>Mailed check</td>\n",
       "      <td>83.9</td>\n",
       "      <td>267.4</td>\n",
       "    </tr>\n",
       "  </tbody>\n",
       "</table>\n",
       "<p>5 rows × 21 columns</p>\n",
       "</div>"
      ],
      "text/plain": [
       "   customerID Churn  gender  SeniorCitizen Partner Dependents  tenure  \\\n",
       "0  0002-ORFBO    No  Female              0     Yes        Yes       9   \n",
       "1  0003-MKNFE    No    Male              0      No         No       9   \n",
       "2  0004-TLHLJ   Yes    Male              0      No         No       4   \n",
       "3  0011-IGKFF   Yes    Male              1     Yes         No      13   \n",
       "4  0013-EXCHZ   Yes  Female              1     Yes         No       3   \n",
       "\n",
       "  PhoneService MultipleLines InternetService  ... OnlineBackup  \\\n",
       "0          Yes            No             DSL  ...          Yes   \n",
       "1          Yes           Yes             DSL  ...           No   \n",
       "2          Yes            No     Fiber optic  ...           No   \n",
       "3          Yes            No     Fiber optic  ...          Yes   \n",
       "4          Yes            No     Fiber optic  ...           No   \n",
       "\n",
       "  DeviceProtection TechSupport StreamingTV StreamingMovies        Contract  \\\n",
       "0               No         Yes         Yes              No        One year   \n",
       "1               No          No          No             Yes  Month-to-month   \n",
       "2              Yes          No          No              No  Month-to-month   \n",
       "3              Yes          No         Yes             Yes  Month-to-month   \n",
       "4               No         Yes         Yes              No  Month-to-month   \n",
       "\n",
       "  PaperlessBilling     PaymentMethod Charges.Monthly  Charges.Total  \n",
       "0              Yes      Mailed check            65.6          593.3  \n",
       "1               No      Mailed check            59.9          542.4  \n",
       "2              Yes  Electronic check            73.9         280.85  \n",
       "3              Yes  Electronic check            98.0        1237.85  \n",
       "4              Yes      Mailed check            83.9          267.4  \n",
       "\n",
       "[5 rows x 21 columns]"
      ]
     },
     "execution_count": 5,
     "metadata": {},
     "output_type": "execute_result"
    }
   ],
   "source": [
    "# Normalizar colunas com dicionários aninhados\n",
    "columns_to_normalize = ['customer', 'phone', 'internet', 'account']\n",
    "for col in columns_to_normalize:\n",
    "    df1 = pd.concat([df1.drop([col], axis=1), pd.json_normalize(df1[col])], axis=1)\n",
    "df1.head()"
   ]
  },
  {
   "cell_type": "markdown",
   "id": "6c0f6056",
   "metadata": {
    "heading_collapsed": true,
    "hidden": true
   },
   "source": [
    "## 1.2. Rename Columns"
   ]
  },
  {
   "cell_type": "code",
   "execution_count": 8,
   "id": "586cd77a",
   "metadata": {
    "ExecuteTime": {
     "end_time": "2023-09-03T15:33:36.888410Z",
     "start_time": "2023-09-03T15:33:36.814892Z"
    },
    "hidden": true
   },
   "outputs": [
    {
     "data": {
      "text/html": [
       "<div>\n",
       "<style scoped>\n",
       "    .dataframe tbody tr th:only-of-type {\n",
       "        vertical-align: middle;\n",
       "    }\n",
       "\n",
       "    .dataframe tbody tr th {\n",
       "        vertical-align: top;\n",
       "    }\n",
       "\n",
       "    .dataframe thead th {\n",
       "        text-align: right;\n",
       "    }\n",
       "</style>\n",
       "<table border=\"1\" class=\"dataframe\">\n",
       "  <thead>\n",
       "    <tr style=\"text-align: right;\">\n",
       "      <th></th>\n",
       "      <th>customer</th>\n",
       "      <th>churn</th>\n",
       "      <th>gender</th>\n",
       "      <th>senior_citizen</th>\n",
       "      <th>partner</th>\n",
       "      <th>dependents</th>\n",
       "      <th>tenure</th>\n",
       "      <th>phone_service</th>\n",
       "      <th>multiple_lines</th>\n",
       "      <th>internet_service</th>\n",
       "      <th>...</th>\n",
       "      <th>online_backup</th>\n",
       "      <th>device_protection</th>\n",
       "      <th>tech_support</th>\n",
       "      <th>streaming_tv</th>\n",
       "      <th>streaming_movies</th>\n",
       "      <th>contract</th>\n",
       "      <th>paperless_billing</th>\n",
       "      <th>payment_method</th>\n",
       "      <th>charges_monthly</th>\n",
       "      <th>charges_total</th>\n",
       "    </tr>\n",
       "  </thead>\n",
       "  <tbody>\n",
       "    <tr>\n",
       "      <th>0</th>\n",
       "      <td>0002-ORFBO</td>\n",
       "      <td>No</td>\n",
       "      <td>Female</td>\n",
       "      <td>0</td>\n",
       "      <td>Yes</td>\n",
       "      <td>Yes</td>\n",
       "      <td>9</td>\n",
       "      <td>Yes</td>\n",
       "      <td>No</td>\n",
       "      <td>DSL</td>\n",
       "      <td>...</td>\n",
       "      <td>Yes</td>\n",
       "      <td>No</td>\n",
       "      <td>Yes</td>\n",
       "      <td>Yes</td>\n",
       "      <td>No</td>\n",
       "      <td>One year</td>\n",
       "      <td>Yes</td>\n",
       "      <td>Mailed check</td>\n",
       "      <td>65.6</td>\n",
       "      <td>593.3</td>\n",
       "    </tr>\n",
       "    <tr>\n",
       "      <th>1</th>\n",
       "      <td>0003-MKNFE</td>\n",
       "      <td>No</td>\n",
       "      <td>Male</td>\n",
       "      <td>0</td>\n",
       "      <td>No</td>\n",
       "      <td>No</td>\n",
       "      <td>9</td>\n",
       "      <td>Yes</td>\n",
       "      <td>Yes</td>\n",
       "      <td>DSL</td>\n",
       "      <td>...</td>\n",
       "      <td>No</td>\n",
       "      <td>No</td>\n",
       "      <td>No</td>\n",
       "      <td>No</td>\n",
       "      <td>Yes</td>\n",
       "      <td>Month-to-month</td>\n",
       "      <td>No</td>\n",
       "      <td>Mailed check</td>\n",
       "      <td>59.9</td>\n",
       "      <td>542.4</td>\n",
       "    </tr>\n",
       "    <tr>\n",
       "      <th>2</th>\n",
       "      <td>0004-TLHLJ</td>\n",
       "      <td>Yes</td>\n",
       "      <td>Male</td>\n",
       "      <td>0</td>\n",
       "      <td>No</td>\n",
       "      <td>No</td>\n",
       "      <td>4</td>\n",
       "      <td>Yes</td>\n",
       "      <td>No</td>\n",
       "      <td>Fiber optic</td>\n",
       "      <td>...</td>\n",
       "      <td>No</td>\n",
       "      <td>Yes</td>\n",
       "      <td>No</td>\n",
       "      <td>No</td>\n",
       "      <td>No</td>\n",
       "      <td>Month-to-month</td>\n",
       "      <td>Yes</td>\n",
       "      <td>Electronic check</td>\n",
       "      <td>73.9</td>\n",
       "      <td>280.85</td>\n",
       "    </tr>\n",
       "    <tr>\n",
       "      <th>3</th>\n",
       "      <td>0011-IGKFF</td>\n",
       "      <td>Yes</td>\n",
       "      <td>Male</td>\n",
       "      <td>1</td>\n",
       "      <td>Yes</td>\n",
       "      <td>No</td>\n",
       "      <td>13</td>\n",
       "      <td>Yes</td>\n",
       "      <td>No</td>\n",
       "      <td>Fiber optic</td>\n",
       "      <td>...</td>\n",
       "      <td>Yes</td>\n",
       "      <td>Yes</td>\n",
       "      <td>No</td>\n",
       "      <td>Yes</td>\n",
       "      <td>Yes</td>\n",
       "      <td>Month-to-month</td>\n",
       "      <td>Yes</td>\n",
       "      <td>Electronic check</td>\n",
       "      <td>98.0</td>\n",
       "      <td>1237.85</td>\n",
       "    </tr>\n",
       "    <tr>\n",
       "      <th>4</th>\n",
       "      <td>0013-EXCHZ</td>\n",
       "      <td>Yes</td>\n",
       "      <td>Female</td>\n",
       "      <td>1</td>\n",
       "      <td>Yes</td>\n",
       "      <td>No</td>\n",
       "      <td>3</td>\n",
       "      <td>Yes</td>\n",
       "      <td>No</td>\n",
       "      <td>Fiber optic</td>\n",
       "      <td>...</td>\n",
       "      <td>No</td>\n",
       "      <td>No</td>\n",
       "      <td>Yes</td>\n",
       "      <td>Yes</td>\n",
       "      <td>No</td>\n",
       "      <td>Month-to-month</td>\n",
       "      <td>Yes</td>\n",
       "      <td>Mailed check</td>\n",
       "      <td>83.9</td>\n",
       "      <td>267.4</td>\n",
       "    </tr>\n",
       "  </tbody>\n",
       "</table>\n",
       "<p>5 rows × 21 columns</p>\n",
       "</div>"
      ],
      "text/plain": [
       "     customer churn  gender  senior_citizen partner dependents  tenure  \\\n",
       "0  0002-ORFBO    No  Female               0     Yes        Yes       9   \n",
       "1  0003-MKNFE    No    Male               0      No         No       9   \n",
       "2  0004-TLHLJ   Yes    Male               0      No         No       4   \n",
       "3  0011-IGKFF   Yes    Male               1     Yes         No      13   \n",
       "4  0013-EXCHZ   Yes  Female               1     Yes         No       3   \n",
       "\n",
       "  phone_service multiple_lines internet_service  ... online_backup  \\\n",
       "0           Yes             No              DSL  ...           Yes   \n",
       "1           Yes            Yes              DSL  ...            No   \n",
       "2           Yes             No      Fiber optic  ...            No   \n",
       "3           Yes             No      Fiber optic  ...           Yes   \n",
       "4           Yes             No      Fiber optic  ...            No   \n",
       "\n",
       "  device_protection tech_support streaming_tv streaming_movies  \\\n",
       "0                No          Yes          Yes               No   \n",
       "1                No           No           No              Yes   \n",
       "2               Yes           No           No               No   \n",
       "3               Yes           No          Yes              Yes   \n",
       "4                No          Yes          Yes               No   \n",
       "\n",
       "         contract paperless_billing    payment_method charges_monthly  \\\n",
       "0        One year               Yes      Mailed check            65.6   \n",
       "1  Month-to-month                No      Mailed check            59.9   \n",
       "2  Month-to-month               Yes  Electronic check            73.9   \n",
       "3  Month-to-month               Yes  Electronic check            98.0   \n",
       "4  Month-to-month               Yes      Mailed check            83.9   \n",
       "\n",
       "   charges_total  \n",
       "0          593.3  \n",
       "1          542.4  \n",
       "2         280.85  \n",
       "3        1237.85  \n",
       "4          267.4  \n",
       "\n",
       "[5 rows x 21 columns]"
      ]
     },
     "execution_count": 8,
     "metadata": {},
     "output_type": "execute_result"
    }
   ],
   "source": [
    "df1.columns = rename_columns(df1.columns)\n",
    "df1.head()"
   ]
  },
  {
   "cell_type": "markdown",
   "id": "1615b678",
   "metadata": {
    "heading_collapsed": true,
    "hidden": true
   },
   "source": [
    "## 1.3. Data Dimensions"
   ]
  },
  {
   "cell_type": "code",
   "execution_count": 9,
   "id": "2d84371c",
   "metadata": {
    "ExecuteTime": {
     "end_time": "2023-09-03T15:33:42.239393Z",
     "start_time": "2023-09-03T15:33:42.224392Z"
    },
    "hidden": true
   },
   "outputs": [
    {
     "name": "stdout",
     "output_type": "stream",
     "text": [
      "Quantidade de linha: 7,267\n",
      "Quantidade de colunas: 21\n"
     ]
    }
   ],
   "source": [
    "print('Quantidade de linha: {:,}'.format(df1.shape[0]))\n",
    "print('Quantidade de colunas: {:,}'.format(df1.shape[1]))"
   ]
  },
  {
   "cell_type": "markdown",
   "id": "359de0ef",
   "metadata": {
    "heading_collapsed": true,
    "hidden": true
   },
   "source": [
    "## 1.4. Data Types"
   ]
  },
  {
   "cell_type": "code",
   "execution_count": 10,
   "id": "fe28744f",
   "metadata": {
    "ExecuteTime": {
     "end_time": "2023-09-03T15:33:45.458386Z",
     "start_time": "2023-09-03T15:33:45.439374Z"
    },
    "hidden": true
   },
   "outputs": [
    {
     "data": {
      "text/plain": [
       "customer              object\n",
       "churn                 object\n",
       "gender                object\n",
       "senior_citizen         int64\n",
       "partner               object\n",
       "dependents            object\n",
       "tenure                 int64\n",
       "phone_service         object\n",
       "multiple_lines        object\n",
       "internet_service      object\n",
       "online_security       object\n",
       "online_backup         object\n",
       "device_protection     object\n",
       "tech_support          object\n",
       "streaming_tv          object\n",
       "streaming_movies      object\n",
       "contract              object\n",
       "paperless_billing     object\n",
       "payment_method        object\n",
       "charges_monthly      float64\n",
       "charges_total         object\n",
       "dtype: object"
      ]
     },
     "execution_count": 10,
     "metadata": {},
     "output_type": "execute_result"
    }
   ],
   "source": [
    "df1.dtypes"
   ]
  },
  {
   "cell_type": "code",
   "execution_count": 11,
   "id": "d0348127",
   "metadata": {
    "ExecuteTime": {
     "end_time": "2023-09-03T15:33:47.754498Z",
     "start_time": "2023-09-03T15:33:47.631787Z"
    },
    "hidden": true
   },
   "outputs": [
    {
     "name": "stdout",
     "output_type": "stream",
     "text": [
      "<class 'pandas.core.frame.DataFrame'>\n",
      "RangeIndex: 7267 entries, 0 to 7266\n",
      "Data columns (total 21 columns):\n",
      " #   Column             Non-Null Count  Dtype  \n",
      "---  ------             --------------  -----  \n",
      " 0   customer           7267 non-null   object \n",
      " 1   churn              7267 non-null   object \n",
      " 2   gender             7267 non-null   object \n",
      " 3   senior_citizen     7267 non-null   int64  \n",
      " 4   partner            7267 non-null   object \n",
      " 5   dependents         7267 non-null   object \n",
      " 6   tenure             7267 non-null   int64  \n",
      " 7   phone_service      7267 non-null   object \n",
      " 8   multiple_lines     7267 non-null   object \n",
      " 9   internet_service   7267 non-null   object \n",
      " 10  online_security    7267 non-null   object \n",
      " 11  online_backup      7267 non-null   object \n",
      " 12  device_protection  7267 non-null   object \n",
      " 13  tech_support       7267 non-null   object \n",
      " 14  streaming_tv       7267 non-null   object \n",
      " 15  streaming_movies   7267 non-null   object \n",
      " 16  contract           7267 non-null   object \n",
      " 17  paperless_billing  7267 non-null   object \n",
      " 18  payment_method     7267 non-null   object \n",
      " 19  charges_monthly    7267 non-null   float64\n",
      " 20  charges_total      7267 non-null   object \n",
      "dtypes: float64(1), int64(2), object(18)\n",
      "memory usage: 1.2+ MB\n"
     ]
    }
   ],
   "source": [
    "df1.info()"
   ]
  },
  {
   "cell_type": "markdown",
   "id": "88b5d488",
   "metadata": {
    "hidden": true
   },
   "source": [
    "## 1.5. Check NA's"
   ]
  },
  {
   "cell_type": "code",
   "execution_count": 13,
   "id": "e1c273f8",
   "metadata": {
    "ExecuteTime": {
     "end_time": "2023-09-03T15:35:01.831885Z",
     "start_time": "2023-09-03T15:35:01.683844Z"
    },
    "hidden": true
   },
   "outputs": [
    {
     "data": {
      "text/plain": [
       "customer             0\n",
       "churn                0\n",
       "gender               0\n",
       "senior_citizen       0\n",
       "partner              0\n",
       "dependents           0\n",
       "tenure               0\n",
       "phone_service        0\n",
       "multiple_lines       0\n",
       "internet_service     0\n",
       "online_security      0\n",
       "online_backup        0\n",
       "device_protection    0\n",
       "tech_support         0\n",
       "streaming_tv         0\n",
       "streaming_movies     0\n",
       "contract             0\n",
       "paperless_billing    0\n",
       "payment_method       0\n",
       "charges_monthly      0\n",
       "charges_total        0\n",
       "dtype: int64"
      ]
     },
     "execution_count": 13,
     "metadata": {},
     "output_type": "execute_result"
    }
   ],
   "source": [
    "# Aparentemente não há NA's, mas é necessário analisar mais de perto cada feature\n",
    "df1.isna().sum()"
   ]
  },
  {
   "cell_type": "code",
   "execution_count": 94,
   "id": "334716d4",
   "metadata": {
    "ExecuteTime": {
     "end_time": "2023-09-03T16:44:23.707561Z",
     "start_time": "2023-09-03T16:44:23.490497Z"
    },
    "hidden": true
   },
   "outputs": [
    {
     "data": {
      "text/html": [
       "<div>\n",
       "<style scoped>\n",
       "    .dataframe tbody tr th:only-of-type {\n",
       "        vertical-align: middle;\n",
       "    }\n",
       "\n",
       "    .dataframe tbody tr th {\n",
       "        vertical-align: top;\n",
       "    }\n",
       "\n",
       "    .dataframe thead th {\n",
       "        text-align: right;\n",
       "    }\n",
       "</style>\n",
       "<table border=\"1\" class=\"dataframe\">\n",
       "  <thead>\n",
       "    <tr style=\"text-align: right;\">\n",
       "      <th></th>\n",
       "      <th>count</th>\n",
       "      <th>content</th>\n",
       "    </tr>\n",
       "  </thead>\n",
       "  <tbody>\n",
       "    <tr>\n",
       "      <th>customer</th>\n",
       "      <td>7267</td>\n",
       "      <td>[0002-ORFBO, 0003-MKNFE, 0004-TLHLJ, 0011-IGKF...</td>\n",
       "    </tr>\n",
       "    <tr>\n",
       "      <th>churn</th>\n",
       "      <td>3</td>\n",
       "      <td>[No, Yes, ]</td>\n",
       "    </tr>\n",
       "    <tr>\n",
       "      <th>gender</th>\n",
       "      <td>2</td>\n",
       "      <td>[Female, Male]</td>\n",
       "    </tr>\n",
       "    <tr>\n",
       "      <th>senior_citizen</th>\n",
       "      <td>2</td>\n",
       "      <td>[0, 1]</td>\n",
       "    </tr>\n",
       "    <tr>\n",
       "      <th>partner</th>\n",
       "      <td>2</td>\n",
       "      <td>[Yes, No]</td>\n",
       "    </tr>\n",
       "    <tr>\n",
       "      <th>dependents</th>\n",
       "      <td>2</td>\n",
       "      <td>[Yes, No]</td>\n",
       "    </tr>\n",
       "    <tr>\n",
       "      <th>tenure</th>\n",
       "      <td>73</td>\n",
       "      <td>[9, 4, 13, 3, 71, 63, 7, 65, 54, 72, 5, 56, 34...</td>\n",
       "    </tr>\n",
       "    <tr>\n",
       "      <th>phone_service</th>\n",
       "      <td>2</td>\n",
       "      <td>[Yes, No]</td>\n",
       "    </tr>\n",
       "    <tr>\n",
       "      <th>multiple_lines</th>\n",
       "      <td>3</td>\n",
       "      <td>[No, Yes, No phone service]</td>\n",
       "    </tr>\n",
       "    <tr>\n",
       "      <th>internet_service</th>\n",
       "      <td>3</td>\n",
       "      <td>[DSL, Fiber optic, No]</td>\n",
       "    </tr>\n",
       "    <tr>\n",
       "      <th>online_security</th>\n",
       "      <td>3</td>\n",
       "      <td>[No, Yes, No internet service]</td>\n",
       "    </tr>\n",
       "    <tr>\n",
       "      <th>online_backup</th>\n",
       "      <td>3</td>\n",
       "      <td>[Yes, No, No internet service]</td>\n",
       "    </tr>\n",
       "    <tr>\n",
       "      <th>device_protection</th>\n",
       "      <td>3</td>\n",
       "      <td>[No, Yes, No internet service]</td>\n",
       "    </tr>\n",
       "    <tr>\n",
       "      <th>tech_support</th>\n",
       "      <td>3</td>\n",
       "      <td>[Yes, No, No internet service]</td>\n",
       "    </tr>\n",
       "    <tr>\n",
       "      <th>streaming_tv</th>\n",
       "      <td>3</td>\n",
       "      <td>[Yes, No, No internet service]</td>\n",
       "    </tr>\n",
       "    <tr>\n",
       "      <th>streaming_movies</th>\n",
       "      <td>3</td>\n",
       "      <td>[No, Yes, No internet service]</td>\n",
       "    </tr>\n",
       "    <tr>\n",
       "      <th>contract</th>\n",
       "      <td>3</td>\n",
       "      <td>[One year, Month-to-month, Two year]</td>\n",
       "    </tr>\n",
       "    <tr>\n",
       "      <th>paperless_billing</th>\n",
       "      <td>2</td>\n",
       "      <td>[Yes, No]</td>\n",
       "    </tr>\n",
       "    <tr>\n",
       "      <th>payment_method</th>\n",
       "      <td>4</td>\n",
       "      <td>[Mailed check, Electronic check, Credit card (...</td>\n",
       "    </tr>\n",
       "    <tr>\n",
       "      <th>charges_monthly</th>\n",
       "      <td>1585</td>\n",
       "      <td>[65.6, 59.9, 73.9, 98.0, 83.9, 69.4, 109.7, 84...</td>\n",
       "    </tr>\n",
       "    <tr>\n",
       "      <th>charges_total</th>\n",
       "      <td>6531</td>\n",
       "      <td>[593.3, 542.4, 280.85, 1237.85, 267.4, 571.45,...</td>\n",
       "    </tr>\n",
       "  </tbody>\n",
       "</table>\n",
       "</div>"
      ],
      "text/plain": [
       "                   count                                            content\n",
       "customer            7267  [0002-ORFBO, 0003-MKNFE, 0004-TLHLJ, 0011-IGKF...\n",
       "churn                  3                                        [No, Yes, ]\n",
       "gender                 2                                     [Female, Male]\n",
       "senior_citizen         2                                             [0, 1]\n",
       "partner                2                                          [Yes, No]\n",
       "dependents             2                                          [Yes, No]\n",
       "tenure                73  [9, 4, 13, 3, 71, 63, 7, 65, 54, 72, 5, 56, 34...\n",
       "phone_service          2                                          [Yes, No]\n",
       "multiple_lines         3                        [No, Yes, No phone service]\n",
       "internet_service       3                             [DSL, Fiber optic, No]\n",
       "online_security        3                     [No, Yes, No internet service]\n",
       "online_backup          3                     [Yes, No, No internet service]\n",
       "device_protection      3                     [No, Yes, No internet service]\n",
       "tech_support           3                     [Yes, No, No internet service]\n",
       "streaming_tv           3                     [Yes, No, No internet service]\n",
       "streaming_movies       3                     [No, Yes, No internet service]\n",
       "contract               3               [One year, Month-to-month, Two year]\n",
       "paperless_billing      2                                          [Yes, No]\n",
       "payment_method         4  [Mailed check, Electronic check, Credit card (...\n",
       "charges_monthly     1585  [65.6, 59.9, 73.9, 98.0, 83.9, 69.4, 109.7, 84...\n",
       "charges_total       6531  [593.3, 542.4, 280.85, 1237.85, 267.4, 571.45,..."
      ]
     },
     "execution_count": 94,
     "metadata": {},
     "output_type": "execute_result"
    }
   ],
   "source": [
    "# Nota-se que existem Na's:\n",
    "# > churn == ' '\n",
    "# > na terceira opção de algumas features de 'Yes' ou 'No' \n",
    "# > charges_total == ' '\n",
    "tab_unique(df1)"
   ]
  },
  {
   "cell_type": "code",
   "execution_count": 15,
   "id": "34597c20",
   "metadata": {
    "ExecuteTime": {
     "end_time": "2023-09-03T15:38:44.655336Z",
     "start_time": "2023-09-03T15:38:44.633333Z"
    },
    "hidden": true
   },
   "outputs": [
    {
     "data": {
      "text/plain": [
       "array(['Mailed check', 'Electronic check', 'Credit card (automatic)',\n",
       "       'Bank transfer (automatic)'], dtype=object)"
      ]
     },
     "execution_count": 15,
     "metadata": {},
     "output_type": "execute_result"
    }
   ],
   "source": [
    "df1['payment_method'].unique()"
   ]
  },
  {
   "cell_type": "markdown",
   "id": "f69e378c",
   "metadata": {},
   "source": [
    "# 2. FEATURE ENGINEERING"
   ]
  },
  {
   "cell_type": "code",
   "execution_count": 406,
   "id": "21b6207c",
   "metadata": {
    "ExecuteTime": {
     "end_time": "2023-09-04T13:32:51.950253Z",
     "start_time": "2023-09-04T13:32:51.914252Z"
    }
   },
   "outputs": [],
   "source": [
    "df2 = df1.copy()"
   ]
  },
  {
   "cell_type": "markdown",
   "id": "d9826ccd",
   "metadata": {
    "heading_collapsed": true
   },
   "source": [
    "# 3. FILTRAGEM DE VARIÁVEIS"
   ]
  },
  {
   "cell_type": "code",
   "execution_count": 407,
   "id": "ea117c9b",
   "metadata": {
    "ExecuteTime": {
     "end_time": "2023-09-04T13:32:53.825381Z",
     "start_time": "2023-09-04T13:32:53.802377Z"
    },
    "hidden": true
   },
   "outputs": [],
   "source": [
    "df3 = df2.copy()"
   ]
  },
  {
   "cell_type": "markdown",
   "id": "f69779b8",
   "metadata": {
    "hidden": true
   },
   "source": [
    "## 3.1. Filtragem das Linhas"
   ]
  },
  {
   "cell_type": "markdown",
   "id": "2c436d3b",
   "metadata": {
    "heading_collapsed": true,
    "hidden": true
   },
   "source": [
    "### 3.1.1. Remover linhas com churn vazio"
   ]
  },
  {
   "cell_type": "code",
   "execution_count": 408,
   "id": "dc78d2f4",
   "metadata": {
    "ExecuteTime": {
     "end_time": "2023-09-04T13:32:58.324305Z",
     "start_time": "2023-09-04T13:32:58.280307Z"
    },
    "hidden": true
   },
   "outputs": [
    {
     "data": {
      "text/html": [
       "<div>\n",
       "<style scoped>\n",
       "    .dataframe tbody tr th:only-of-type {\n",
       "        vertical-align: middle;\n",
       "    }\n",
       "\n",
       "    .dataframe tbody tr th {\n",
       "        vertical-align: top;\n",
       "    }\n",
       "\n",
       "    .dataframe thead th {\n",
       "        text-align: right;\n",
       "    }\n",
       "</style>\n",
       "<table border=\"1\" class=\"dataframe\">\n",
       "  <thead>\n",
       "    <tr style=\"text-align: right;\">\n",
       "      <th></th>\n",
       "      <th>count</th>\n",
       "      <th>%</th>\n",
       "    </tr>\n",
       "  </thead>\n",
       "  <tbody>\n",
       "    <tr>\n",
       "      <th>No</th>\n",
       "      <td>5174</td>\n",
       "      <td>71.20</td>\n",
       "    </tr>\n",
       "    <tr>\n",
       "      <th>Yes</th>\n",
       "      <td>1869</td>\n",
       "      <td>25.72</td>\n",
       "    </tr>\n",
       "    <tr>\n",
       "      <th></th>\n",
       "      <td>224</td>\n",
       "      <td>3.08</td>\n",
       "    </tr>\n",
       "  </tbody>\n",
       "</table>\n",
       "</div>"
      ],
      "text/plain": [
       "     count      %\n",
       "No    5174  71.20\n",
       "Yes   1869  25.72\n",
       "       224   3.08"
      ]
     },
     "execution_count": 408,
     "metadata": {},
     "output_type": "execute_result"
    }
   ],
   "source": [
    "# Precisamos remover dados com churn vazio. os vazios representam 3,08% dos dados.\n",
    "churn_vazios = df3['churn'].value_counts().to_frame()\n",
    "churn_vazios.columns = ['count']\n",
    "churn_vazios['%'] = round(df3['churn'].value_counts(normalize=True).sort_values() * 100, 2)\n",
    "churn_vazios"
   ]
  },
  {
   "cell_type": "code",
   "execution_count": 409,
   "id": "dbe1636a",
   "metadata": {
    "ExecuteTime": {
     "end_time": "2023-09-04T13:33:23.550042Z",
     "start_time": "2023-09-04T13:33:23.481729Z"
    },
    "hidden": true
   },
   "outputs": [
    {
     "data": {
      "text/plain": [
       "array(['No', 'Yes'], dtype=object)"
      ]
     },
     "execution_count": 409,
     "metadata": {},
     "output_type": "execute_result"
    }
   ],
   "source": [
    "# Selecionar as linhas com churn vazio\n",
    "churn_vazio = df3.query('churn == \"\"').index\n",
    "\n",
    "# Deletar essas linhas\n",
    "df3.drop(churn_vazio, axis=0, inplace=True)\n",
    "\n",
    "# Validar alterações\n",
    "df3['churn'].unique()"
   ]
  },
  {
   "cell_type": "code",
   "execution_count": 410,
   "id": "d8030663",
   "metadata": {
    "ExecuteTime": {
     "end_time": "2023-09-04T13:33:33.148657Z",
     "start_time": "2023-09-04T13:33:33.041343Z"
    },
    "hidden": true
   },
   "outputs": [
    {
     "name": "stdout",
     "output_type": "stream",
     "text": [
      "<class 'pandas.core.frame.DataFrame'>\n",
      "RangeIndex: 7043 entries, 0 to 7042\n",
      "Data columns (total 21 columns):\n",
      " #   Column             Non-Null Count  Dtype  \n",
      "---  ------             --------------  -----  \n",
      " 0   customer           7043 non-null   object \n",
      " 1   churn              7043 non-null   object \n",
      " 2   gender             7043 non-null   object \n",
      " 3   senior_citizen     7043 non-null   int64  \n",
      " 4   partner            7043 non-null   object \n",
      " 5   dependents         7043 non-null   object \n",
      " 6   tenure             7043 non-null   int64  \n",
      " 7   phone_service      7043 non-null   object \n",
      " 8   multiple_lines     7043 non-null   object \n",
      " 9   internet_service   7043 non-null   object \n",
      " 10  online_security    7043 non-null   object \n",
      " 11  online_backup      7043 non-null   object \n",
      " 12  device_protection  7043 non-null   object \n",
      " 13  tech_support       7043 non-null   object \n",
      " 14  streaming_tv       7043 non-null   object \n",
      " 15  streaming_movies   7043 non-null   object \n",
      " 16  contract           7043 non-null   object \n",
      " 17  paperless_billing  7043 non-null   object \n",
      " 18  payment_method     7043 non-null   object \n",
      " 19  charges_monthly    7043 non-null   float64\n",
      " 20  charges_total      7043 non-null   object \n",
      "dtypes: float64(1), int64(2), object(18)\n",
      "memory usage: 1.1+ MB\n"
     ]
    }
   ],
   "source": [
    "# Resetar o index e validar modificações\n",
    "df3 = df3.reset_index(drop=True)\n",
    "df3.info()"
   ]
  },
  {
   "cell_type": "markdown",
   "id": "68c60b9f",
   "metadata": {
    "hidden": true
   },
   "source": [
    "### 3.1.2. Substituir a terceira opção por 'No'"
   ]
  },
  {
   "cell_type": "code",
   "execution_count": 411,
   "id": "13a81068",
   "metadata": {
    "ExecuteTime": {
     "end_time": "2023-09-04T13:33:52.488926Z",
     "start_time": "2023-09-04T13:33:52.370052Z"
    },
    "hidden": true
   },
   "outputs": [],
   "source": [
    "col_yes_no = ['multiple_lines', 'online_security', 'online_backup', \n",
    "              'device_protection', 'tech_support', 'streaming_tv', 'streaming_movies']\n",
    "\n",
    "for col in col_yes_no:\n",
    "    df3[col] = df3[col].apply(lambda x: 'No' if x not in ['Yes', 'No'] else x)"
   ]
  },
  {
   "cell_type": "code",
   "execution_count": 412,
   "id": "22bb14dc",
   "metadata": {
    "ExecuteTime": {
     "end_time": "2023-09-04T13:34:08.561495Z",
     "start_time": "2023-09-04T13:34:08.528486Z"
    },
    "hidden": true
   },
   "outputs": [
    {
     "name": "stdout",
     "output_type": "stream",
     "text": [
      "multiple_lines ['No' 'Yes']\n",
      "online_security ['No' 'Yes']\n",
      "online_backup ['Yes' 'No']\n",
      "device_protection ['No' 'Yes']\n",
      "tech_support ['Yes' 'No']\n",
      "streaming_tv ['Yes' 'No']\n",
      "streaming_movies ['No' 'Yes']\n"
     ]
    }
   ],
   "source": [
    "for col in col_yes_no:\n",
    "    print(col, df3[col].unique())"
   ]
  },
  {
   "cell_type": "markdown",
   "id": "65230c2b",
   "metadata": {
    "heading_collapsed": true,
    "hidden": true
   },
   "source": [
    "### 3.1.3. Tratar linhas com 'charges_total' vazio"
   ]
  },
  {
   "cell_type": "code",
   "execution_count": 413,
   "id": "ab97bdeb",
   "metadata": {
    "ExecuteTime": {
     "end_time": "2023-09-04T13:35:11.858957Z",
     "start_time": "2023-09-04T13:35:11.793945Z"
    },
    "hidden": true
   },
   "outputs": [
    {
     "data": {
      "text/html": [
       "<div>\n",
       "<style scoped>\n",
       "    .dataframe tbody tr th:only-of-type {\n",
       "        vertical-align: middle;\n",
       "    }\n",
       "\n",
       "    .dataframe tbody tr th {\n",
       "        vertical-align: top;\n",
       "    }\n",
       "\n",
       "    .dataframe thead th {\n",
       "        text-align: right;\n",
       "    }\n",
       "</style>\n",
       "<table border=\"1\" class=\"dataframe\">\n",
       "  <thead>\n",
       "    <tr style=\"text-align: right;\">\n",
       "      <th></th>\n",
       "      <th>tenure</th>\n",
       "      <th>contract</th>\n",
       "      <th>charges_monthly</th>\n",
       "      <th>charges_total</th>\n",
       "    </tr>\n",
       "  </thead>\n",
       "  <tbody>\n",
       "    <tr>\n",
       "      <th>945</th>\n",
       "      <td>0</td>\n",
       "      <td>Two year</td>\n",
       "      <td>56.05</td>\n",
       "      <td></td>\n",
       "    </tr>\n",
       "    <tr>\n",
       "      <th>1731</th>\n",
       "      <td>0</td>\n",
       "      <td>Two year</td>\n",
       "      <td>20.00</td>\n",
       "      <td></td>\n",
       "    </tr>\n",
       "    <tr>\n",
       "      <th>1906</th>\n",
       "      <td>0</td>\n",
       "      <td>Two year</td>\n",
       "      <td>61.90</td>\n",
       "      <td></td>\n",
       "    </tr>\n",
       "    <tr>\n",
       "      <th>2025</th>\n",
       "      <td>0</td>\n",
       "      <td>One year</td>\n",
       "      <td>19.70</td>\n",
       "      <td></td>\n",
       "    </tr>\n",
       "    <tr>\n",
       "      <th>2176</th>\n",
       "      <td>0</td>\n",
       "      <td>Two year</td>\n",
       "      <td>20.25</td>\n",
       "      <td></td>\n",
       "    </tr>\n",
       "    <tr>\n",
       "      <th>2250</th>\n",
       "      <td>0</td>\n",
       "      <td>Two year</td>\n",
       "      <td>25.35</td>\n",
       "      <td></td>\n",
       "    </tr>\n",
       "    <tr>\n",
       "      <th>2855</th>\n",
       "      <td>0</td>\n",
       "      <td>Two year</td>\n",
       "      <td>73.35</td>\n",
       "      <td></td>\n",
       "    </tr>\n",
       "    <tr>\n",
       "      <th>3052</th>\n",
       "      <td>0</td>\n",
       "      <td>Two year</td>\n",
       "      <td>25.75</td>\n",
       "      <td></td>\n",
       "    </tr>\n",
       "    <tr>\n",
       "      <th>3118</th>\n",
       "      <td>0</td>\n",
       "      <td>Two year</td>\n",
       "      <td>52.55</td>\n",
       "      <td></td>\n",
       "    </tr>\n",
       "    <tr>\n",
       "      <th>4054</th>\n",
       "      <td>0</td>\n",
       "      <td>Two year</td>\n",
       "      <td>80.85</td>\n",
       "      <td></td>\n",
       "    </tr>\n",
       "    <tr>\n",
       "      <th>5433</th>\n",
       "      <td>0</td>\n",
       "      <td>Two year</td>\n",
       "      <td>19.85</td>\n",
       "      <td></td>\n",
       "    </tr>\n",
       "  </tbody>\n",
       "</table>\n",
       "</div>"
      ],
      "text/plain": [
       "      tenure  contract  charges_monthly charges_total\n",
       "945        0  Two year            56.05              \n",
       "1731       0  Two year            20.00              \n",
       "1906       0  Two year            61.90              \n",
       "2025       0  One year            19.70              \n",
       "2176       0  Two year            20.25              \n",
       "2250       0  Two year            25.35              \n",
       "2855       0  Two year            73.35              \n",
       "3052       0  Two year            25.75              \n",
       "3118       0  Two year            52.55              \n",
       "4054       0  Two year            80.85              \n",
       "5433       0  Two year            19.85              "
      ]
     },
     "execution_count": 413,
     "metadata": {},
     "output_type": "execute_result"
    }
   ],
   "source": [
    "# Ao tratar a coluna 'charges_total' tb será necessário tratar 'tenure'\n",
    "df3.loc[df3['charges_total'] == ' ', ['tenure', 'contract', 'charges_monthly', 'charges_total']]"
   ]
  },
  {
   "cell_type": "code",
   "execution_count": 414,
   "id": "162d4c47",
   "metadata": {
    "ExecuteTime": {
     "end_time": "2023-09-04T13:35:32.937950Z",
     "start_time": "2023-09-04T13:35:32.904949Z"
    },
    "hidden": true
   },
   "outputs": [],
   "source": [
    "idx1 = df3.loc[(df3['charges_total'] == ' ') & (df3['contract'] == 'One year'), ['contract', 'charges_monthly', 'charges_total']].index\n",
    "idx2 = df3.loc[(df3['charges_total'] == ' ') & (df3['contract'] == 'Two year'), ['contract', 'charges_monthly', 'charges_total']].index"
   ]
  },
  {
   "cell_type": "code",
   "execution_count": 415,
   "id": "4b4633f4",
   "metadata": {
    "ExecuteTime": {
     "end_time": "2023-09-04T13:35:44.134794Z",
     "start_time": "2023-09-04T13:35:44.110819Z"
    },
    "hidden": true
   },
   "outputs": [],
   "source": [
    "df3.loc[idx1, 'charges_total'] = df3['charges_monthly'] * 12\n",
    "df3.loc[idx2, 'charges_total'] = df3['charges_monthly'] * 24"
   ]
  },
  {
   "cell_type": "code",
   "execution_count": 416,
   "id": "e25b7d46",
   "metadata": {
    "ExecuteTime": {
     "end_time": "2023-09-04T13:35:50.044021Z",
     "start_time": "2023-09-04T13:35:50.014014Z"
    },
    "hidden": true
   },
   "outputs": [
    {
     "data": {
      "text/html": [
       "<div>\n",
       "<style scoped>\n",
       "    .dataframe tbody tr th:only-of-type {\n",
       "        vertical-align: middle;\n",
       "    }\n",
       "\n",
       "    .dataframe tbody tr th {\n",
       "        vertical-align: top;\n",
       "    }\n",
       "\n",
       "    .dataframe thead th {\n",
       "        text-align: right;\n",
       "    }\n",
       "</style>\n",
       "<table border=\"1\" class=\"dataframe\">\n",
       "  <thead>\n",
       "    <tr style=\"text-align: right;\">\n",
       "      <th></th>\n",
       "      <th>tenure</th>\n",
       "      <th>contract</th>\n",
       "      <th>charges_monthly</th>\n",
       "      <th>charges_total</th>\n",
       "    </tr>\n",
       "  </thead>\n",
       "  <tbody>\n",
       "    <tr>\n",
       "      <th>2025</th>\n",
       "      <td>0</td>\n",
       "      <td>One year</td>\n",
       "      <td>19.7</td>\n",
       "      <td>236.4</td>\n",
       "    </tr>\n",
       "  </tbody>\n",
       "</table>\n",
       "</div>"
      ],
      "text/plain": [
       "      tenure  contract  charges_monthly charges_total\n",
       "2025       0  One year             19.7         236.4"
      ]
     },
     "execution_count": 416,
     "metadata": {},
     "output_type": "execute_result"
    }
   ],
   "source": [
    "df3.loc[idx1, ['tenure', 'contract', 'charges_monthly', 'charges_total']]"
   ]
  },
  {
   "cell_type": "code",
   "execution_count": 417,
   "id": "3706159b",
   "metadata": {
    "ExecuteTime": {
     "end_time": "2023-09-04T13:35:57.092073Z",
     "start_time": "2023-09-04T13:35:57.026337Z"
    },
    "hidden": true
   },
   "outputs": [
    {
     "data": {
      "text/html": [
       "<div>\n",
       "<style scoped>\n",
       "    .dataframe tbody tr th:only-of-type {\n",
       "        vertical-align: middle;\n",
       "    }\n",
       "\n",
       "    .dataframe tbody tr th {\n",
       "        vertical-align: top;\n",
       "    }\n",
       "\n",
       "    .dataframe thead th {\n",
       "        text-align: right;\n",
       "    }\n",
       "</style>\n",
       "<table border=\"1\" class=\"dataframe\">\n",
       "  <thead>\n",
       "    <tr style=\"text-align: right;\">\n",
       "      <th></th>\n",
       "      <th>tenure</th>\n",
       "      <th>contract</th>\n",
       "      <th>charges_monthly</th>\n",
       "      <th>charges_total</th>\n",
       "    </tr>\n",
       "  </thead>\n",
       "  <tbody>\n",
       "    <tr>\n",
       "      <th>945</th>\n",
       "      <td>0</td>\n",
       "      <td>Two year</td>\n",
       "      <td>56.05</td>\n",
       "      <td>1345.2</td>\n",
       "    </tr>\n",
       "    <tr>\n",
       "      <th>1731</th>\n",
       "      <td>0</td>\n",
       "      <td>Two year</td>\n",
       "      <td>20.00</td>\n",
       "      <td>480.0</td>\n",
       "    </tr>\n",
       "    <tr>\n",
       "      <th>1906</th>\n",
       "      <td>0</td>\n",
       "      <td>Two year</td>\n",
       "      <td>61.90</td>\n",
       "      <td>1485.6</td>\n",
       "    </tr>\n",
       "    <tr>\n",
       "      <th>2176</th>\n",
       "      <td>0</td>\n",
       "      <td>Two year</td>\n",
       "      <td>20.25</td>\n",
       "      <td>486.0</td>\n",
       "    </tr>\n",
       "    <tr>\n",
       "      <th>2250</th>\n",
       "      <td>0</td>\n",
       "      <td>Two year</td>\n",
       "      <td>25.35</td>\n",
       "      <td>608.4</td>\n",
       "    </tr>\n",
       "    <tr>\n",
       "      <th>2855</th>\n",
       "      <td>0</td>\n",
       "      <td>Two year</td>\n",
       "      <td>73.35</td>\n",
       "      <td>1760.4</td>\n",
       "    </tr>\n",
       "    <tr>\n",
       "      <th>3052</th>\n",
       "      <td>0</td>\n",
       "      <td>Two year</td>\n",
       "      <td>25.75</td>\n",
       "      <td>618.0</td>\n",
       "    </tr>\n",
       "    <tr>\n",
       "      <th>3118</th>\n",
       "      <td>0</td>\n",
       "      <td>Two year</td>\n",
       "      <td>52.55</td>\n",
       "      <td>1261.2</td>\n",
       "    </tr>\n",
       "    <tr>\n",
       "      <th>4054</th>\n",
       "      <td>0</td>\n",
       "      <td>Two year</td>\n",
       "      <td>80.85</td>\n",
       "      <td>1940.4</td>\n",
       "    </tr>\n",
       "    <tr>\n",
       "      <th>5433</th>\n",
       "      <td>0</td>\n",
       "      <td>Two year</td>\n",
       "      <td>19.85</td>\n",
       "      <td>476.4</td>\n",
       "    </tr>\n",
       "  </tbody>\n",
       "</table>\n",
       "</div>"
      ],
      "text/plain": [
       "      tenure  contract  charges_monthly charges_total\n",
       "945        0  Two year            56.05        1345.2\n",
       "1731       0  Two year            20.00         480.0\n",
       "1906       0  Two year            61.90        1485.6\n",
       "2176       0  Two year            20.25         486.0\n",
       "2250       0  Two year            25.35         608.4\n",
       "2855       0  Two year            73.35        1760.4\n",
       "3052       0  Two year            25.75         618.0\n",
       "3118       0  Two year            52.55        1261.2\n",
       "4054       0  Two year            80.85        1940.4\n",
       "5433       0  Two year            19.85         476.4"
      ]
     },
     "execution_count": 417,
     "metadata": {},
     "output_type": "execute_result"
    }
   ],
   "source": [
    "df3.loc[idx2, ['tenure', 'contract', 'charges_monthly', 'charges_total']]"
   ]
  },
  {
   "cell_type": "code",
   "execution_count": 418,
   "id": "2d665643",
   "metadata": {
    "ExecuteTime": {
     "end_time": "2023-09-04T13:36:04.744975Z",
     "start_time": "2023-09-04T13:36:04.705762Z"
    },
    "hidden": true
   },
   "outputs": [],
   "source": [
    "df3['charges_total'] = df3['charges_total'].astype(np.float64)"
   ]
  },
  {
   "cell_type": "markdown",
   "id": "a5a56c2d",
   "metadata": {
    "heading_collapsed": true,
    "hidden": true
   },
   "source": [
    "### 3.1.4. Tratar linhas com 'tenure' igual a 0"
   ]
  },
  {
   "cell_type": "code",
   "execution_count": 419,
   "id": "d13766a5",
   "metadata": {
    "ExecuteTime": {
     "end_time": "2023-09-04T13:36:20.563313Z",
     "start_time": "2023-09-04T13:36:20.537310Z"
    },
    "hidden": true
   },
   "outputs": [],
   "source": [
    "idx = df3.loc[df3['tenure'] == 0, ['tenure', 'contract', 'charges_monthly', 'charges_total']].index"
   ]
  },
  {
   "cell_type": "code",
   "execution_count": 420,
   "id": "5e040d39",
   "metadata": {
    "ExecuteTime": {
     "end_time": "2023-09-04T13:36:30.026434Z",
     "start_time": "2023-09-04T13:36:29.997311Z"
    },
    "hidden": true
   },
   "outputs": [],
   "source": [
    "df3.loc[idx, 'tenure'] = np.ceil(df3['charges_total'] / df3['charges_monthly']).astype(np.int64)"
   ]
  },
  {
   "cell_type": "code",
   "execution_count": 421,
   "id": "845c6378",
   "metadata": {
    "ExecuteTime": {
     "end_time": "2023-09-04T13:36:35.470685Z",
     "start_time": "2023-09-04T13:36:35.433052Z"
    },
    "hidden": true
   },
   "outputs": [
    {
     "data": {
      "text/html": [
       "<div>\n",
       "<style scoped>\n",
       "    .dataframe tbody tr th:only-of-type {\n",
       "        vertical-align: middle;\n",
       "    }\n",
       "\n",
       "    .dataframe tbody tr th {\n",
       "        vertical-align: top;\n",
       "    }\n",
       "\n",
       "    .dataframe thead th {\n",
       "        text-align: right;\n",
       "    }\n",
       "</style>\n",
       "<table border=\"1\" class=\"dataframe\">\n",
       "  <thead>\n",
       "    <tr style=\"text-align: right;\">\n",
       "      <th></th>\n",
       "      <th>tenure</th>\n",
       "      <th>contract</th>\n",
       "      <th>charges_monthly</th>\n",
       "      <th>charges_total</th>\n",
       "    </tr>\n",
       "  </thead>\n",
       "  <tbody>\n",
       "    <tr>\n",
       "      <th>945</th>\n",
       "      <td>24</td>\n",
       "      <td>Two year</td>\n",
       "      <td>56.05</td>\n",
       "      <td>1345.2</td>\n",
       "    </tr>\n",
       "    <tr>\n",
       "      <th>1731</th>\n",
       "      <td>24</td>\n",
       "      <td>Two year</td>\n",
       "      <td>20.00</td>\n",
       "      <td>480.0</td>\n",
       "    </tr>\n",
       "    <tr>\n",
       "      <th>1906</th>\n",
       "      <td>24</td>\n",
       "      <td>Two year</td>\n",
       "      <td>61.90</td>\n",
       "      <td>1485.6</td>\n",
       "    </tr>\n",
       "    <tr>\n",
       "      <th>2025</th>\n",
       "      <td>12</td>\n",
       "      <td>One year</td>\n",
       "      <td>19.70</td>\n",
       "      <td>236.4</td>\n",
       "    </tr>\n",
       "    <tr>\n",
       "      <th>2176</th>\n",
       "      <td>24</td>\n",
       "      <td>Two year</td>\n",
       "      <td>20.25</td>\n",
       "      <td>486.0</td>\n",
       "    </tr>\n",
       "    <tr>\n",
       "      <th>2250</th>\n",
       "      <td>25</td>\n",
       "      <td>Two year</td>\n",
       "      <td>25.35</td>\n",
       "      <td>608.4</td>\n",
       "    </tr>\n",
       "    <tr>\n",
       "      <th>2855</th>\n",
       "      <td>24</td>\n",
       "      <td>Two year</td>\n",
       "      <td>73.35</td>\n",
       "      <td>1760.4</td>\n",
       "    </tr>\n",
       "    <tr>\n",
       "      <th>3052</th>\n",
       "      <td>24</td>\n",
       "      <td>Two year</td>\n",
       "      <td>25.75</td>\n",
       "      <td>618.0</td>\n",
       "    </tr>\n",
       "    <tr>\n",
       "      <th>3118</th>\n",
       "      <td>24</td>\n",
       "      <td>Two year</td>\n",
       "      <td>52.55</td>\n",
       "      <td>1261.2</td>\n",
       "    </tr>\n",
       "    <tr>\n",
       "      <th>4054</th>\n",
       "      <td>24</td>\n",
       "      <td>Two year</td>\n",
       "      <td>80.85</td>\n",
       "      <td>1940.4</td>\n",
       "    </tr>\n",
       "    <tr>\n",
       "      <th>5433</th>\n",
       "      <td>24</td>\n",
       "      <td>Two year</td>\n",
       "      <td>19.85</td>\n",
       "      <td>476.4</td>\n",
       "    </tr>\n",
       "  </tbody>\n",
       "</table>\n",
       "</div>"
      ],
      "text/plain": [
       "      tenure  contract  charges_monthly  charges_total\n",
       "945       24  Two year            56.05         1345.2\n",
       "1731      24  Two year            20.00          480.0\n",
       "1906      24  Two year            61.90         1485.6\n",
       "2025      12  One year            19.70          236.4\n",
       "2176      24  Two year            20.25          486.0\n",
       "2250      25  Two year            25.35          608.4\n",
       "2855      24  Two year            73.35         1760.4\n",
       "3052      24  Two year            25.75          618.0\n",
       "3118      24  Two year            52.55         1261.2\n",
       "4054      24  Two year            80.85         1940.4\n",
       "5433      24  Two year            19.85          476.4"
      ]
     },
     "execution_count": 421,
     "metadata": {},
     "output_type": "execute_result"
    }
   ],
   "source": [
    "df3.loc[idx, ['tenure', 'contract', 'charges_monthly', 'charges_total']]"
   ]
  },
  {
   "cell_type": "markdown",
   "id": "3dc0e071",
   "metadata": {
    "heading_collapsed": true,
    "hidden": true
   },
   "source": [
    "## 3.2. Seleção das Colunas"
   ]
  },
  {
   "cell_type": "markdown",
   "id": "611a37e6",
   "metadata": {
    "hidden": true
   },
   "source": [
    "### 3.2.1. Remover coluna customer"
   ]
  },
  {
   "cell_type": "code",
   "execution_count": 422,
   "id": "5187fa7c",
   "metadata": {
    "ExecuteTime": {
     "end_time": "2023-09-04T13:36:45.007302Z",
     "start_time": "2023-09-04T13:36:44.973301Z"
    },
    "hidden": true
   },
   "outputs": [],
   "source": [
    "df3.drop('customer', axis=1, inplace=True)"
   ]
  },
  {
   "cell_type": "markdown",
   "id": "a2bbc97f",
   "metadata": {
    "hidden": true
   },
   "source": [
    "### 3.2.2. Converter senior_citizen em categórico ('Yes', 'No')"
   ]
  },
  {
   "cell_type": "code",
   "execution_count": 423,
   "id": "6156887a",
   "metadata": {
    "ExecuteTime": {
     "end_time": "2023-09-04T13:36:56.070268Z",
     "start_time": "2023-09-04T13:36:56.044467Z"
    },
    "hidden": true
   },
   "outputs": [],
   "source": [
    "# Converter senior_citizen em categórico ('Yes', 'No')\n",
    "df3['senior_citizen'] = df3['senior_citizen'].map({0: 'No', 1: 'Yes'})"
   ]
  },
  {
   "cell_type": "code",
   "execution_count": 424,
   "id": "dfbde226",
   "metadata": {
    "ExecuteTime": {
     "end_time": "2023-09-04T13:37:00.000623Z",
     "start_time": "2023-09-04T13:36:59.859923Z"
    },
    "hidden": true
   },
   "outputs": [
    {
     "data": {
      "text/html": [
       "<div>\n",
       "<style scoped>\n",
       "    .dataframe tbody tr th:only-of-type {\n",
       "        vertical-align: middle;\n",
       "    }\n",
       "\n",
       "    .dataframe tbody tr th {\n",
       "        vertical-align: top;\n",
       "    }\n",
       "\n",
       "    .dataframe thead th {\n",
       "        text-align: right;\n",
       "    }\n",
       "</style>\n",
       "<table border=\"1\" class=\"dataframe\">\n",
       "  <thead>\n",
       "    <tr style=\"text-align: right;\">\n",
       "      <th></th>\n",
       "      <th>count</th>\n",
       "      <th>content</th>\n",
       "    </tr>\n",
       "  </thead>\n",
       "  <tbody>\n",
       "    <tr>\n",
       "      <th>churn</th>\n",
       "      <td>2</td>\n",
       "      <td>[No, Yes]</td>\n",
       "    </tr>\n",
       "    <tr>\n",
       "      <th>gender</th>\n",
       "      <td>2</td>\n",
       "      <td>[Female, Male]</td>\n",
       "    </tr>\n",
       "    <tr>\n",
       "      <th>senior_citizen</th>\n",
       "      <td>2</td>\n",
       "      <td>[No, Yes]</td>\n",
       "    </tr>\n",
       "    <tr>\n",
       "      <th>partner</th>\n",
       "      <td>2</td>\n",
       "      <td>[Yes, No]</td>\n",
       "    </tr>\n",
       "    <tr>\n",
       "      <th>dependents</th>\n",
       "      <td>2</td>\n",
       "      <td>[Yes, No]</td>\n",
       "    </tr>\n",
       "    <tr>\n",
       "      <th>tenure</th>\n",
       "      <td>72</td>\n",
       "      <td>[9, 4, 13, 3, 71, 63, 7, 65, 54, 72, 5, 56, 34...</td>\n",
       "    </tr>\n",
       "    <tr>\n",
       "      <th>phone_service</th>\n",
       "      <td>2</td>\n",
       "      <td>[Yes, No]</td>\n",
       "    </tr>\n",
       "    <tr>\n",
       "      <th>multiple_lines</th>\n",
       "      <td>2</td>\n",
       "      <td>[No, Yes]</td>\n",
       "    </tr>\n",
       "    <tr>\n",
       "      <th>internet_service</th>\n",
       "      <td>3</td>\n",
       "      <td>[DSL, Fiber optic, No]</td>\n",
       "    </tr>\n",
       "    <tr>\n",
       "      <th>online_security</th>\n",
       "      <td>2</td>\n",
       "      <td>[No, Yes]</td>\n",
       "    </tr>\n",
       "    <tr>\n",
       "      <th>online_backup</th>\n",
       "      <td>2</td>\n",
       "      <td>[Yes, No]</td>\n",
       "    </tr>\n",
       "    <tr>\n",
       "      <th>device_protection</th>\n",
       "      <td>2</td>\n",
       "      <td>[No, Yes]</td>\n",
       "    </tr>\n",
       "    <tr>\n",
       "      <th>tech_support</th>\n",
       "      <td>2</td>\n",
       "      <td>[Yes, No]</td>\n",
       "    </tr>\n",
       "    <tr>\n",
       "      <th>streaming_tv</th>\n",
       "      <td>2</td>\n",
       "      <td>[Yes, No]</td>\n",
       "    </tr>\n",
       "    <tr>\n",
       "      <th>streaming_movies</th>\n",
       "      <td>2</td>\n",
       "      <td>[No, Yes]</td>\n",
       "    </tr>\n",
       "    <tr>\n",
       "      <th>contract</th>\n",
       "      <td>3</td>\n",
       "      <td>[One year, Month-to-month, Two year]</td>\n",
       "    </tr>\n",
       "    <tr>\n",
       "      <th>paperless_billing</th>\n",
       "      <td>2</td>\n",
       "      <td>[Yes, No]</td>\n",
       "    </tr>\n",
       "    <tr>\n",
       "      <th>payment_method</th>\n",
       "      <td>4</td>\n",
       "      <td>[Mailed check, Electronic check, Credit card (...</td>\n",
       "    </tr>\n",
       "    <tr>\n",
       "      <th>charges_monthly</th>\n",
       "      <td>1585</td>\n",
       "      <td>[65.6, 59.9, 73.9, 98.0, 83.9, 69.4, 109.7, 84...</td>\n",
       "    </tr>\n",
       "    <tr>\n",
       "      <th>charges_total</th>\n",
       "      <td>6541</td>\n",
       "      <td>[593.3, 542.4, 280.85, 1237.85, 267.4, 571.45,...</td>\n",
       "    </tr>\n",
       "  </tbody>\n",
       "</table>\n",
       "</div>"
      ],
      "text/plain": [
       "                   count                                            content\n",
       "churn                  2                                          [No, Yes]\n",
       "gender                 2                                     [Female, Male]\n",
       "senior_citizen         2                                          [No, Yes]\n",
       "partner                2                                          [Yes, No]\n",
       "dependents             2                                          [Yes, No]\n",
       "tenure                72  [9, 4, 13, 3, 71, 63, 7, 65, 54, 72, 5, 56, 34...\n",
       "phone_service          2                                          [Yes, No]\n",
       "multiple_lines         2                                          [No, Yes]\n",
       "internet_service       3                             [DSL, Fiber optic, No]\n",
       "online_security        2                                          [No, Yes]\n",
       "online_backup          2                                          [Yes, No]\n",
       "device_protection      2                                          [No, Yes]\n",
       "tech_support           2                                          [Yes, No]\n",
       "streaming_tv           2                                          [Yes, No]\n",
       "streaming_movies       2                                          [No, Yes]\n",
       "contract               3               [One year, Month-to-month, Two year]\n",
       "paperless_billing      2                                          [Yes, No]\n",
       "payment_method         4  [Mailed check, Electronic check, Credit card (...\n",
       "charges_monthly     1585  [65.6, 59.9, 73.9, 98.0, 83.9, 69.4, 109.7, 84...\n",
       "charges_total       6541  [593.3, 542.4, 280.85, 1237.85, 267.4, 571.45,..."
      ]
     },
     "execution_count": 424,
     "metadata": {},
     "output_type": "execute_result"
    }
   ],
   "source": [
    "tab_unique(df3)"
   ]
  },
  {
   "cell_type": "markdown",
   "id": "883a766e",
   "metadata": {},
   "source": [
    "# 4. EXPLORATORY DATA ANALYSIS (EDA)"
   ]
  },
  {
   "cell_type": "code",
   "execution_count": 462,
   "id": "53b86df9",
   "metadata": {
    "ExecuteTime": {
     "end_time": "2023-09-04T14:41:42.130748Z",
     "start_time": "2023-09-04T14:41:42.098137Z"
    }
   },
   "outputs": [],
   "source": [
    "df4 = df3.copy()"
   ]
  },
  {
   "cell_type": "code",
   "execution_count": 463,
   "id": "4ccac943",
   "metadata": {
    "ExecuteTime": {
     "end_time": "2023-09-04T14:41:43.836753Z",
     "start_time": "2023-09-04T14:41:43.808188Z"
    }
   },
   "outputs": [],
   "source": [
    "# Separar os tipos de dados categóricos dos numéricos\n",
    "df_num = df4.select_dtypes(include = ['int64', 'float64'])\n",
    "df_cat = df4.select_dtypes(exclude = ['int64', 'float64'])"
   ]
  },
  {
   "cell_type": "markdown",
   "id": "92546485",
   "metadata": {},
   "source": [
    "## 4.1. Análise Univariada"
   ]
  },
  {
   "cell_type": "markdown",
   "id": "a2ecd6e4",
   "metadata": {},
   "source": [
    "* Como são as variáveis? \n",
    "* Estatística descritiva."
   ]
  },
  {
   "cell_type": "markdown",
   "id": "9ebcf908",
   "metadata": {
    "heading_collapsed": true
   },
   "source": [
    "### 4.1.1. Response Variable"
   ]
  },
  {
   "cell_type": "code",
   "execution_count": 464,
   "id": "68dfa60c",
   "metadata": {
    "ExecuteTime": {
     "end_time": "2023-09-04T14:41:46.381888Z",
     "start_time": "2023-09-04T14:41:46.355185Z"
    },
    "hidden": true
   },
   "outputs": [
    {
     "data": {
      "text/plain": [
       "Index(['churn', 'gender', 'senior_citizen', 'partner', 'dependents', 'tenure',\n",
       "       'phone_service', 'multiple_lines', 'internet_service',\n",
       "       'online_security', 'online_backup', 'device_protection', 'tech_support',\n",
       "       'streaming_tv', 'streaming_movies', 'contract', 'paperless_billing',\n",
       "       'payment_method', 'charges_monthly', 'charges_total'],\n",
       "      dtype='object')"
      ]
     },
     "execution_count": 464,
     "metadata": {},
     "output_type": "execute_result"
    }
   ],
   "source": [
    "df4.columns"
   ]
  },
  {
   "cell_type": "code",
   "execution_count": 478,
   "id": "3bc491fe",
   "metadata": {
    "ExecuteTime": {
     "end_time": "2023-09-04T14:48:52.561731Z",
     "start_time": "2023-09-04T14:48:52.180905Z"
    },
    "hidden": true
   },
   "outputs": [
    {
     "data": {
      "image/png": "[encoded data removed]",
      "text/plain": [
       "<Figure size 864x360 with 1 Axes>"
      ]
     },
     "metadata": {
      "needs_background": "light"
     },
     "output_type": "display_data"
    }
   ],
   "source": [
    "col = 'churn'\n",
    "\n",
    "aux = df4[col].value_counts(normalize=True).to_frame() * 100\n",
    "aux = aux.sort_values(col, ascending=False)\n",
    "\n",
    "cores = [paleta_personalizada['orange'] if tipo == aux[col].idxmin() else \n",
    "         paleta_personalizada['black'] for tipo in aux.index]\n",
    "\n",
    "fig, ax = plt.subplots(figsize=(12, 5))\n",
    "ax.barh(aux.index, aux[col], color=cores)\n",
    "\n",
    "ax.yaxis.set_tick_params(labelsize=14)\n",
    "ax.set_title(f'O churn atual é de {aux[col].min():.1f}% dos clientes', \n",
    "             loc='left', fontsize=16, fontweight='bold')\n",
    "\n",
    "for i, v in enumerate(aux[col]):\n",
    "    formatted_value = '{:.1f}%'.format(v)\n",
    "    ax.text(v + 1, i, formatted_value, color='black', fontsize=12, ha='left', va='center')\n",
    "    \n",
    "ax.set_frame_on(False)\n",
    "ax.get_xaxis().set_visible(False)\n",
    "ax.tick_params(axis='both', which='both', length=0)\n",
    "\n",
    "plt.show()"
   ]
  },
  {
   "cell_type": "markdown",
   "id": "585544f1",
   "metadata": {
    "heading_collapsed": true
   },
   "source": [
    "### 4.1.2. Numerical Variable"
   ]
  },
  {
   "cell_type": "markdown",
   "id": "ae2cf332",
   "metadata": {
    "hidden": true
   },
   "source": [
    "Nome | Descrição\n",
    "--|--\n",
    "tenure |  meses de contrato do cliente\n",
    "Charges.Monthly | total de todos os serviços do cliente por mês\n",
    "Charges.Total | total gasto pelo cliente"
   ]
  },
  {
   "cell_type": "code",
   "execution_count": 479,
   "id": "39a15b20",
   "metadata": {
    "ExecuteTime": {
     "end_time": "2023-09-04T14:49:24.689786Z",
     "start_time": "2023-09-04T14:49:24.563757Z"
    },
    "hidden": true
   },
   "outputs": [
    {
     "data": {
      "text/html": [
       "<div>\n",
       "<style scoped>\n",
       "    .dataframe tbody tr th:only-of-type {\n",
       "        vertical-align: middle;\n",
       "    }\n",
       "\n",
       "    .dataframe tbody tr th {\n",
       "        vertical-align: top;\n",
       "    }\n",
       "\n",
       "    .dataframe thead th {\n",
       "        text-align: right;\n",
       "    }\n",
       "</style>\n",
       "<table border=\"1\" class=\"dataframe\">\n",
       "  <thead>\n",
       "    <tr style=\"text-align: right;\">\n",
       "      <th></th>\n",
       "      <th>count</th>\n",
       "      <th>mean</th>\n",
       "      <th>std</th>\n",
       "      <th>min</th>\n",
       "      <th>25%</th>\n",
       "      <th>50%</th>\n",
       "      <th>75%</th>\n",
       "      <th>max</th>\n",
       "      <th>range</th>\n",
       "      <th>skew</th>\n",
       "      <th>kurtosis</th>\n",
       "    </tr>\n",
       "  </thead>\n",
       "  <tbody>\n",
       "    <tr>\n",
       "      <th>tenure</th>\n",
       "      <td>7043.0</td>\n",
       "      <td>32.407071</td>\n",
       "      <td>24.529292</td>\n",
       "      <td>1.00</td>\n",
       "      <td>9.0</td>\n",
       "      <td>29.00</td>\n",
       "      <td>55.00</td>\n",
       "      <td>72.00</td>\n",
       "      <td>71.0</td>\n",
       "      <td>0.239486</td>\n",
       "      <td>-1.385484</td>\n",
       "    </tr>\n",
       "    <tr>\n",
       "      <th>charges_monthly</th>\n",
       "      <td>7043.0</td>\n",
       "      <td>64.761692</td>\n",
       "      <td>30.090047</td>\n",
       "      <td>18.25</td>\n",
       "      <td>35.5</td>\n",
       "      <td>70.35</td>\n",
       "      <td>89.85</td>\n",
       "      <td>118.75</td>\n",
       "      <td>100.5</td>\n",
       "      <td>-0.220524</td>\n",
       "      <td>-1.257260</td>\n",
       "    </tr>\n",
       "    <tr>\n",
       "      <th>charges_total</th>\n",
       "      <td>7043.0</td>\n",
       "      <td>2281.253259</td>\n",
       "      <td>2265.703526</td>\n",
       "      <td>18.80</td>\n",
       "      <td>401.9</td>\n",
       "      <td>1396.25</td>\n",
       "      <td>3786.60</td>\n",
       "      <td>8684.80</td>\n",
       "      <td>8666.0</td>\n",
       "      <td>0.963745</td>\n",
       "      <td>-0.227068</td>\n",
       "    </tr>\n",
       "  </tbody>\n",
       "</table>\n",
       "</div>"
      ],
      "text/plain": [
       "                  count         mean          std    min    25%      50%  \\\n",
       "tenure           7043.0    32.407071    24.529292   1.00    9.0    29.00   \n",
       "charges_monthly  7043.0    64.761692    30.090047  18.25   35.5    70.35   \n",
       "charges_total    7043.0  2281.253259  2265.703526  18.80  401.9  1396.25   \n",
       "\n",
       "                     75%      max   range      skew  kurtosis  \n",
       "tenure             55.00    72.00    71.0  0.239486 -1.385484  \n",
       "charges_monthly    89.85   118.75   100.5 -0.220524 -1.257260  \n",
       "charges_total    3786.60  8684.80  8666.0  0.963745 -0.227068  "
      ]
     },
     "execution_count": 479,
     "metadata": {},
     "output_type": "execute_result"
    }
   ],
   "source": [
    "# Incluir: Range, kurtosis, skew e std \n",
    "num_describe = df_num.describe().T\n",
    "num_describe['range'] = pd.DataFrame(df_num.apply(lambda x: x.max() - x.min()))\n",
    "num_describe['skew'] = pd.DataFrame(df_num.apply(lambda x: x.skew()))\n",
    "num_describe['kurtosis'] = pd.DataFrame(df_num.apply(lambda x: x.kurtosis()))\n",
    "num_describe"
   ]
  },
  {
   "cell_type": "code",
   "execution_count": 496,
   "id": "426a5fb0",
   "metadata": {
    "ExecuteTime": {
     "end_time": "2023-09-04T14:56:35.507879Z",
     "start_time": "2023-09-04T14:56:31.531364Z"
    },
    "hidden": true
   },
   "outputs": [
    {
     "data": {
      "image/png": "[encoded data removed]",
      "text/plain": [
       "<Figure size 864x360 with 2 Axes>"
      ]
     },
     "metadata": {
      "needs_background": "light"
     },
     "output_type": "display_data"
    },
    {
     "data": {
      "image/png": "[encoded data removed]",
      "text/plain": [
       "<Figure size 864x360 with 2 Axes>"
      ]
     },
     "metadata": {
      "needs_background": "light"
     },
     "output_type": "display_data"
    },
    {
     "data": {
      "image/png": "[encoded data removed]",
      "text/plain": [
       "<Figure size 864x360 with 2 Axes>"
      ]
     },
     "metadata": {
      "needs_background": "light"
     },
     "output_type": "display_data"
    }
   ],
   "source": [
    "def grafics_num_attribute(df, col):\n",
    "    # Calcular a média e a mediana\n",
    "    mean_value = np.mean(df[col])\n",
    "    median_value = np.median(df[col])\n",
    "    std_low = mean_value - np.std(df[col])\n",
    "    std_high = mean_value + np.std(df[col])\n",
    "\n",
    "    # Criação dos subplots\n",
    "    fig, (ax1, ax2) = plt.subplots(1, 2, figsize=(12, 5))\n",
    "\n",
    "    # Plotagem do histograma no primeiro subplot\n",
    "    ax1.hist(df[col], bins=20, edgecolor='black', alpha=0.7, color=paleta_personalizada['black'])\n",
    "    ax1.axvline(mean_value, color=paleta_personalizada['orange'], linewidth=2, label='Média')\n",
    "    ax1.axvline(median_value, color=paleta_personalizada['purple'], linewidth=2, label='Mediana')\n",
    "    ax1.axvline(std_low, color=paleta_personalizada['orange'], linestyle='dashed', linewidth=2, label='Low std')\n",
    "    ax1.axvline(std_high, color=paleta_personalizada['orange'], linestyle='dashed', linewidth=2, label='High std')\n",
    "    ax1.set_xlabel(col)\n",
    "    ax1.set_ylabel('Frequência')\n",
    "    ax1.set_title(f'Histograma de {col}', fontsize=14, fontweight='bold')\n",
    "    ax1.legend()\n",
    "\n",
    "    # Plotagem do boxplot no segundo subplot\n",
    "    ax2.boxplot(df[col], vert=False, medianprops={'color': paleta_personalizada['purple'], 'linewidth': 2})\n",
    "    ax2.set_xlabel(col)\n",
    "    ax2.set_title(f'Boxplot de {col} c/ mediana', fontsize=14, fontweight='bold')\n",
    "\n",
    "    # Ajustar espaçamento entre os subplots\n",
    "    plt.tight_layout()\n",
    "\n",
    "    # Exibir os subplots\n",
    "    plt.show()\n",
    "\n",
    "# Chamar a função para cada atributo\n",
    "for col in ['tenure', 'charges_monthly', 'charges_total']:\n",
    "    grafics_num_attribute(df_num, col)"
   ]
  },
  {
   "cell_type": "markdown",
   "id": "0f61a3d4",
   "metadata": {},
   "source": [
    "### 4.1.3. Categorical Variable"
   ]
  },
  {
   "cell_type": "markdown",
   "id": "0795e343",
   "metadata": {},
   "source": [
    "Variáveis relativas ao cliente | Descrição\n",
    "--|--\n",
    "gender | gênero (masculino e feminino) \n",
    "SeniorCitizen | informação sobre um cliente ter ou não idade igual ou maior que 65 anos \n",
    "Partner |  se o cliente possui ou não um parceiro ou parceira\n",
    "Dependents | se o cliente possui ou não dependentes\n",
    "customerID | número de identificação único de cada cliente\n",
    "Churn | se o cliente deixou ou não a empresa \n",
    "\n",
    "Variáveis relativas ao pagamento | Descrição\n",
    "--|--\n",
    "Contract | tipo de contrato\n",
    "PaperlessBilling | se o cliente prefere receber online a fatura\n",
    "PaymentMethod | forma de pagamento\n",
    "\n",
    "Variáveis relativas aos serviços contratados | Descrição\n",
    "--|--\n",
    "PhoneService | assinatura de serviço telefônico \n",
    "MultipleLines | assisnatura de mais de uma linha de telefone \n",
    "InternetService | assinatura de um provedor internet \n",
    "OnlineSecurity | assinatura adicional de segurança online \n",
    "OnlineBackup | assinatura adicional de backup online \n",
    "DeviceProtection | assinatura adicional de proteção no dispositivo \n",
    "TechSupport | assinatura adicional de suporte técnico, menos tempo de espera\n",
    "StreamingTV | assinatura de TV a cabo \n",
    "StreamingMovies | assinatura de streaming de filmes "
   ]
  },
  {
   "cell_type": "code",
   "execution_count": 486,
   "id": "f3344ba6",
   "metadata": {
    "ExecuteTime": {
     "end_time": "2023-09-04T14:50:22.428012Z",
     "start_time": "2023-09-04T14:50:22.307891Z"
    }
   },
   "outputs": [],
   "source": [
    "binary_cols = list(tab_unique(df_cat).query('count == 2').T.columns)\n",
    "\n",
    "# Remover gender\n",
    "yes_no_cols = ['senior_citizen', 'partner', 'dependents', 'phone_service', \n",
    "               'multiple_lines', 'online_security', 'online_backup', 'device_protection',\n",
    "               'tech_support', 'streaming_tv', 'streaming_movies', 'paperless_billing']"
   ]
  },
  {
   "cell_type": "code",
   "execution_count": 487,
   "id": "25f37b2b",
   "metadata": {
    "ExecuteTime": {
     "end_time": "2023-09-04T14:50:24.300481Z",
     "start_time": "2023-09-04T14:50:24.160165Z"
    }
   },
   "outputs": [
    {
     "name": "stdout",
     "output_type": "stream",
     "text": [
      "internet_service ['DSL' 'Fiber optic' 'No']\n",
      "contract ['One year' 'Month-to-month' 'Two year']\n",
      "payment_method ['Mailed check' 'Electronic check' 'Credit card (automatic)'\n",
      " 'Bank transfer (automatic)']\n"
     ]
    }
   ],
   "source": [
    "# Selecionar apenas as colunas categóricas NÃO binárias\n",
    "not_binary_cols = list(tab_unique(df_cat).query('count > 2').T.columns)\n",
    "df_cat_not_binary = df_cat.loc[:, not_binary_cols]\n",
    "\n",
    "for col in df_cat_not_binary.columns:\n",
    "    print(col, df_cat_not_binary[col].unique())"
   ]
  },
  {
   "cell_type": "markdown",
   "id": "7b43cdca",
   "metadata": {},
   "source": [
    "#### 4.1.3.1. Binary columns \"Yes\" or \"No\" columns"
   ]
  },
  {
   "cell_type": "code",
   "execution_count": 488,
   "id": "bdcd792d",
   "metadata": {
    "ExecuteTime": {
     "end_time": "2023-09-04T14:50:26.330727Z",
     "start_time": "2023-09-04T14:50:26.266825Z"
    }
   },
   "outputs": [
    {
     "name": "stdout",
     "output_type": "stream",
     "text": [
      "senior_citizen ['No' 'Yes']\n",
      "partner ['Yes' 'No']\n",
      "dependents ['Yes' 'No']\n",
      "phone_service ['Yes' 'No']\n",
      "multiple_lines ['No' 'Yes']\n",
      "online_security ['No' 'Yes']\n",
      "online_backup ['Yes' 'No']\n",
      "device_protection ['No' 'Yes']\n",
      "tech_support ['Yes' 'No']\n",
      "streaming_tv ['Yes' 'No']\n",
      "streaming_movies ['No' 'Yes']\n",
      "paperless_billing ['Yes' 'No']\n"
     ]
    }
   ],
   "source": [
    "df_yes_no = df_cat.loc[:, yes_no_cols]\n",
    "\n",
    "for col in df_yes_no.columns:\n",
    "    print(col, df_yes_no[col].unique())"
   ]
  },
  {
   "cell_type": "code",
   "execution_count": 489,
   "id": "e76333f3",
   "metadata": {
    "ExecuteTime": {
     "end_time": "2023-09-04T14:50:28.457299Z",
     "start_time": "2023-09-04T14:50:28.336098Z"
    }
   },
   "outputs": [
    {
     "data": {
      "text/html": [
       "<div>\n",
       "<style scoped>\n",
       "    .dataframe tbody tr th:only-of-type {\n",
       "        vertical-align: middle;\n",
       "    }\n",
       "\n",
       "    .dataframe tbody tr th {\n",
       "        vertical-align: top;\n",
       "    }\n",
       "\n",
       "    .dataframe thead th {\n",
       "        text-align: right;\n",
       "    }\n",
       "</style>\n",
       "<table border=\"1\" class=\"dataframe\">\n",
       "  <thead>\n",
       "    <tr style=\"text-align: right;\">\n",
       "      <th></th>\n",
       "      <th>No</th>\n",
       "      <th>Yes</th>\n",
       "    </tr>\n",
       "  </thead>\n",
       "  <tbody>\n",
       "    <tr>\n",
       "      <th>senior_citizen</th>\n",
       "      <td>83.785319</td>\n",
       "      <td>16.214681</td>\n",
       "    </tr>\n",
       "    <tr>\n",
       "      <th>online_security</th>\n",
       "      <td>71.333239</td>\n",
       "      <td>28.666761</td>\n",
       "    </tr>\n",
       "    <tr>\n",
       "      <th>tech_support</th>\n",
       "      <td>70.978276</td>\n",
       "      <td>29.021724</td>\n",
       "    </tr>\n",
       "    <tr>\n",
       "      <th>dependents</th>\n",
       "      <td>70.041176</td>\n",
       "      <td>29.958824</td>\n",
       "    </tr>\n",
       "    <tr>\n",
       "      <th>device_protection</th>\n",
       "      <td>65.611245</td>\n",
       "      <td>34.388755</td>\n",
       "    </tr>\n",
       "    <tr>\n",
       "      <th>online_backup</th>\n",
       "      <td>65.511856</td>\n",
       "      <td>34.488144</td>\n",
       "    </tr>\n",
       "    <tr>\n",
       "      <th>streaming_tv</th>\n",
       "      <td>61.564674</td>\n",
       "      <td>38.435326</td>\n",
       "    </tr>\n",
       "    <tr>\n",
       "      <th>streaming_movies</th>\n",
       "      <td>61.209712</td>\n",
       "      <td>38.790288</td>\n",
       "    </tr>\n",
       "    <tr>\n",
       "      <th>multiple_lines</th>\n",
       "      <td>57.816271</td>\n",
       "      <td>42.183729</td>\n",
       "    </tr>\n",
       "    <tr>\n",
       "      <th>partner</th>\n",
       "      <td>51.696720</td>\n",
       "      <td>48.303280</td>\n",
       "    </tr>\n",
       "    <tr>\n",
       "      <th>paperless_billing</th>\n",
       "      <td>40.778078</td>\n",
       "      <td>59.221922</td>\n",
       "    </tr>\n",
       "    <tr>\n",
       "      <th>phone_service</th>\n",
       "      <td>9.683374</td>\n",
       "      <td>90.316626</td>\n",
       "    </tr>\n",
       "  </tbody>\n",
       "</table>\n",
       "</div>"
      ],
      "text/plain": [
       "                          No        Yes\n",
       "senior_citizen     83.785319  16.214681\n",
       "online_security    71.333239  28.666761\n",
       "tech_support       70.978276  29.021724\n",
       "dependents         70.041176  29.958824\n",
       "device_protection  65.611245  34.388755\n",
       "online_backup      65.511856  34.488144\n",
       "streaming_tv       61.564674  38.435326\n",
       "streaming_movies   61.209712  38.790288\n",
       "multiple_lines     57.816271  42.183729\n",
       "partner            51.696720  48.303280\n",
       "paperless_billing  40.778078  59.221922\n",
       "phone_service       9.683374  90.316626"
      ]
     },
     "execution_count": 489,
     "metadata": {},
     "output_type": "execute_result"
    }
   ],
   "source": [
    "# Constroi tabela com % de cada categoria\n",
    "def make_table_yes_no(df, col):\n",
    "    table_yes_no[col] = df[col].value_counts(normalize=True) * 100\n",
    "    return table_yes_no\n",
    "\n",
    "# Colunas com categorias 'Yes' e 'No'\n",
    "list_yes_no = yes_no_cols\n",
    "\n",
    "table_yes_no = df4['senior_citizen'].value_counts(normalize=True).to_frame() * 100\n",
    "for col in list_yes_no:\n",
    "    table_yes_no = make_table_yes_no(df_cat, col)\n",
    "    \n",
    "table_yes_no = table_yes_no.T\n",
    "table_yes_no_sorted = table_yes_no.sort_values(by='Yes', ascending=True)\n",
    "table_yes_no_sorted"
   ]
  },
  {
   "cell_type": "code",
   "execution_count": 623,
   "id": "d46b8cf3",
   "metadata": {
    "ExecuteTime": {
     "end_time": "2023-09-05T22:54:36.019465Z",
     "start_time": "2023-09-05T22:54:34.867261Z"
    }
   },
   "outputs": [
    {
     "data": {
      "image/png": "[encoded data removed]",
      "text/plain": [
       "<Figure size 1080x648 with 1 Axes>"
      ]
     },
     "metadata": {
      "needs_background": "light"
     },
     "output_type": "display_data"
    }
   ],
   "source": [
    "# Crie um gráfico de barras empilhadas horizontal\n",
    "fig, ax = plt.subplots(figsize=(15, 9))\n",
    "\n",
    "# Primeira camada (valores \"Yes\")\n",
    "ax.barh(table_yes_no_sorted.index, table_yes_no_sorted['No'], color=paleta_personalizada['black'])\n",
    "ax.set_title('Os \\n', \n",
    "             loc='left', fontsize=16, fontweight='bold')\n",
    "\n",
    "# Segunda camada (valores \"No\")\n",
    "ax.barh(table_yes_no_sorted.index, table_yes_no_sorted['Yes'], left=table_yes_no_sorted['No'], color=paleta_personalizada['orange'])\n",
    "\n",
    "# Adicionar \"Yes\" com uma cor diferente\n",
    "ax.yaxis.set_tick_params(labelsize=12)\n",
    "ax.text(0, 1, '% de dados nas categorias binárias do tipo: No | ', \n",
    "        color=paleta_personalizada['black'], fontsize=16, fontweight='bold', transform=ax.transAxes)\n",
    "\n",
    "ax.text(0.52, 1, '  Yes', color=paleta_personalizada['orange'], \n",
    "        fontsize=16, fontweight='bold', transform=ax.transAxes)\n",
    "\n",
    "\n",
    "ax.legend(loc='upper center', ncol=2, frameon=False, labels=[]).set_visible(False)\n",
    "ax.set_frame_on(False)\n",
    "ax.get_xaxis().set_visible(False)\n",
    "ax.tick_params(axis='both', which='both', length=0)\n",
    "    \n",
    "# Adicionar os valores dentro das barras\n",
    "for c in ax.containers:\n",
    "    labels = [f'{w:0.1f}%' if (w := v.get_width()) > 0 else '' for v in c]\n",
    "    ax.bar_label(c, labels=labels, label_type='center', padding=0.3, color='w', fontsize=12, fontweight='bold')\n",
    "    \n",
    "# Adicionar um título ao gráfico\n",
    "#ax.set_title('Título do Gráfico', fontsize=18, fontweight='bold')\n",
    "\n",
    "plt.show();"
   ]
  },
  {
   "cell_type": "markdown",
   "id": "2c9c2850",
   "metadata": {
    "heading_collapsed": true
   },
   "source": [
    "#### 4.1.3.2. internet_service"
   ]
  },
  {
   "cell_type": "code",
   "execution_count": 491,
   "id": "51a45f41",
   "metadata": {
    "ExecuteTime": {
     "end_time": "2023-09-04T14:51:05.956344Z",
     "start_time": "2023-09-04T14:51:05.659941Z"
    },
    "hidden": true
   },
   "outputs": [
    {
     "data": {
      "image/png": "[encoded data removed]",
      "text/plain": [
       "<Figure size 864x360 with 1 Axes>"
      ]
     },
     "metadata": {
      "needs_background": "light"
     },
     "output_type": "display_data"
    }
   ],
   "source": [
    "col = 'internet_service'\n",
    "\n",
    "aux = df_cat_not_binary[col].value_counts(normalize=True).to_frame() * 100\n",
    "aux = aux.sort_values(col, ascending = False)\n",
    "\n",
    "cores = [paleta_personalizada['orange'] if tipo == aux[col].idxmin() else \n",
    "         paleta_personalizada['black'] for tipo in aux.index]\n",
    "\n",
    "fig, ax = plt.subplots(figsize=(12, 5))\n",
    "ax.barh(aux.index, aux[col], color=cores)\n",
    "ax.yaxis.set_tick_params(labelsize=14)\n",
    "\n",
    "ax.set_title(f'Apenas {aux[col].min():.1f}% dos clientes não têm um provedor de internet', \n",
    "             loc='left', fontsize=16, fontweight='bold')\n",
    "\n",
    "for i, v in enumerate(aux[col]):\n",
    "    formatted_value = '{:.1f}%'.format(v)\n",
    "    ax.text(v + 1, i, formatted_value, color='black', fontsize=12, ha='left', va='center')\n",
    "    \n",
    "ax.set_frame_on(False)\n",
    "ax.get_xaxis().set_visible(False)\n",
    "ax.tick_params(axis='both', which='both', length=0)\n",
    "\n",
    "plt.show()"
   ]
  },
  {
   "cell_type": "markdown",
   "id": "ada1840f",
   "metadata": {
    "heading_collapsed": true
   },
   "source": [
    "#### 4.1.3.3. Contract"
   ]
  },
  {
   "cell_type": "code",
   "execution_count": 492,
   "id": "1a770f9e",
   "metadata": {
    "ExecuteTime": {
     "end_time": "2023-09-04T14:51:35.561128Z",
     "start_time": "2023-09-04T14:51:35.104592Z"
    },
    "hidden": true
   },
   "outputs": [
    {
     "data": {
      "image/png": "[encoded data removed]",
      "text/plain": [
       "<Figure size 864x360 with 1 Axes>"
      ]
     },
     "metadata": {
      "needs_background": "light"
     },
     "output_type": "display_data"
    }
   ],
   "source": [
    "col = 'contract'\n",
    "\n",
    "aux = df_cat_not_binary[col].value_counts(normalize=True).to_frame() * 100\n",
    "aux = aux.sort_values(col)\n",
    "\n",
    "cores = [paleta_personalizada['orange'] if tipo == aux[col].idxmax() else \n",
    "         paleta_personalizada['black'] for tipo in aux.index]\n",
    "\n",
    "fig, ax = plt.subplots(figsize=(12, 5))\n",
    "ax.barh(aux.index, aux[col], color=cores)\n",
    "ax.yaxis.set_tick_params(labelsize=14)\n",
    "\n",
    "ax.set_title(f'{aux[col].max():.1f}% dos clientes têm contrato de pagamento mês a mês', \n",
    "             loc='left', fontsize=16, fontweight='bold')\n",
    "\n",
    "for i, v in enumerate(aux[col]):\n",
    "    formatted_value = '{:.1f}%'.format(v)\n",
    "    ax.text(v + 1, i, formatted_value, color='black', fontsize=12, ha='left', va='center')\n",
    "    \n",
    "ax.set_frame_on(False)\n",
    "ax.get_xaxis().set_visible(False)\n",
    "ax.tick_params(axis='both', which='both', length=0)\n",
    "\n",
    "plt.show()"
   ]
  },
  {
   "cell_type": "markdown",
   "id": "9a99b530",
   "metadata": {},
   "source": [
    "#### 4.1.3.4. payment_method"
   ]
  },
  {
   "cell_type": "code",
   "execution_count": 493,
   "id": "84437f58",
   "metadata": {
    "ExecuteTime": {
     "end_time": "2023-09-04T14:51:45.155723Z",
     "start_time": "2023-09-04T14:51:44.820464Z"
    }
   },
   "outputs": [
    {
     "data": {
      "image/png": "[encoded data removed]",
      "text/plain": [
       "<Figure size 864x360 with 1 Axes>"
      ]
     },
     "metadata": {
      "needs_background": "light"
     },
     "output_type": "display_data"
    }
   ],
   "source": [
    "col = 'payment_method'\n",
    "\n",
    "aux = df_cat_not_binary[col].value_counts(normalize=True).to_frame() * 100\n",
    "aux = aux.sort_values(col, ascending=False)\n",
    "\n",
    "cores = [paleta_personalizada['orange'] if 'automatic' in tipo else \n",
    "         paleta_personalizada['black'] for tipo in aux.index]\n",
    "\n",
    "soma_automatic = aux[aux.index.str.contains('automatic')][col].sum()\n",
    "\n",
    "fig, ax = plt.subplots(figsize=(12, 5))\n",
    "ax.barh(aux.index, aux[col], color=cores)\n",
    "ax.yaxis.set_tick_params(labelsize=14)\n",
    "\n",
    "ax.set_title(f'{soma_automatic:.1f}% dos clientes fazem pagamento automático', \n",
    "             loc='left', fontsize=16, fontweight='bold')\n",
    "\n",
    "for i, v in enumerate(aux[col]):\n",
    "    formatted_value = '{:.1f}%'.format(v)\n",
    "    ax.text(v + 1, i, formatted_value, color='black', fontsize=12, ha='left', va='center')\n",
    "    \n",
    "ax.set_frame_on(False)\n",
    "ax.get_xaxis().set_visible(False)\n",
    "ax.tick_params(axis='both', which='both', length=0)\n",
    "\n",
    "plt.show()\n"
   ]
  },
  {
   "cell_type": "markdown",
   "id": "ddefea80",
   "metadata": {},
   "source": [
    "## 4.2. Análise Bivariada"
   ]
  },
  {
   "cell_type": "markdown",
   "id": "85663ab6",
   "metadata": {},
   "source": [
    "* Como as variáveis impactam no fenômeno?\n",
    "* Qual a força deste impacto?\n",
    "* Levantamento de hipóteses."
   ]
  },
  {
   "cell_type": "markdown",
   "id": "27590806",
   "metadata": {},
   "source": [
    "### 4.2.1. Numerical Variable"
   ]
  },
  {
   "cell_type": "code",
   "execution_count": 497,
   "id": "a115adc1",
   "metadata": {
    "ExecuteTime": {
     "end_time": "2023-09-04T15:04:32.266678Z",
     "start_time": "2023-09-04T15:04:32.244270Z"
    }
   },
   "outputs": [
    {
     "data": {
      "text/plain": [
       "Index(['tenure', 'charges_monthly', 'charges_total'], dtype='object')"
      ]
     },
     "execution_count": 497,
     "metadata": {},
     "output_type": "execute_result"
    }
   ],
   "source": [
    "df_num.columns"
   ]
  },
  {
   "cell_type": "code",
   "execution_count": 571,
   "id": "4df03e69",
   "metadata": {
    "ExecuteTime": {
     "end_time": "2023-09-04T18:07:50.380224Z",
     "start_time": "2023-09-04T18:07:50.330221Z"
    }
   },
   "outputs": [
    {
     "data": {
      "text/html": [
       "<div>\n",
       "<style scoped>\n",
       "    .dataframe tbody tr th:only-of-type {\n",
       "        vertical-align: middle;\n",
       "    }\n",
       "\n",
       "    .dataframe tbody tr th {\n",
       "        vertical-align: top;\n",
       "    }\n",
       "\n",
       "    .dataframe thead th {\n",
       "        text-align: right;\n",
       "    }\n",
       "</style>\n",
       "<table border=\"1\" class=\"dataframe\">\n",
       "  <thead>\n",
       "    <tr style=\"text-align: right;\">\n",
       "      <th></th>\n",
       "      <th>churn</th>\n",
       "      <th>tenure</th>\n",
       "      <th>charges_monthly</th>\n",
       "      <th>charges_total</th>\n",
       "    </tr>\n",
       "  </thead>\n",
       "  <tbody>\n",
       "    <tr>\n",
       "      <th>0</th>\n",
       "      <td>Yes</td>\n",
       "      <td>4</td>\n",
       "      <td>73.90</td>\n",
       "      <td>280.85</td>\n",
       "    </tr>\n",
       "    <tr>\n",
       "      <th>1</th>\n",
       "      <td>Yes</td>\n",
       "      <td>13</td>\n",
       "      <td>98.00</td>\n",
       "      <td>1237.85</td>\n",
       "    </tr>\n",
       "    <tr>\n",
       "      <th>2</th>\n",
       "      <td>Yes</td>\n",
       "      <td>3</td>\n",
       "      <td>83.90</td>\n",
       "      <td>267.40</td>\n",
       "    </tr>\n",
       "    <tr>\n",
       "      <th>3</th>\n",
       "      <td>Yes</td>\n",
       "      <td>45</td>\n",
       "      <td>62.70</td>\n",
       "      <td>2791.50</td>\n",
       "    </tr>\n",
       "    <tr>\n",
       "      <th>4</th>\n",
       "      <td>Yes</td>\n",
       "      <td>1</td>\n",
       "      <td>25.10</td>\n",
       "      <td>25.10</td>\n",
       "    </tr>\n",
       "    <tr>\n",
       "      <th>...</th>\n",
       "      <td>...</td>\n",
       "      <td>...</td>\n",
       "      <td>...</td>\n",
       "      <td>...</td>\n",
       "    </tr>\n",
       "    <tr>\n",
       "      <th>1864</th>\n",
       "      <td>Yes</td>\n",
       "      <td>21</td>\n",
       "      <td>96.80</td>\n",
       "      <td>2030.30</td>\n",
       "    </tr>\n",
       "    <tr>\n",
       "      <th>1865</th>\n",
       "      <td>Yes</td>\n",
       "      <td>9</td>\n",
       "      <td>83.85</td>\n",
       "      <td>790.15</td>\n",
       "    </tr>\n",
       "    <tr>\n",
       "      <th>1866</th>\n",
       "      <td>Yes</td>\n",
       "      <td>1</td>\n",
       "      <td>70.15</td>\n",
       "      <td>70.15</td>\n",
       "    </tr>\n",
       "    <tr>\n",
       "      <th>1867</th>\n",
       "      <td>Yes</td>\n",
       "      <td>4</td>\n",
       "      <td>20.95</td>\n",
       "      <td>85.50</td>\n",
       "    </tr>\n",
       "    <tr>\n",
       "      <th>1868</th>\n",
       "      <td>Yes</td>\n",
       "      <td>22</td>\n",
       "      <td>85.10</td>\n",
       "      <td>1873.70</td>\n",
       "    </tr>\n",
       "  </tbody>\n",
       "</table>\n",
       "<p>1869 rows × 4 columns</p>\n",
       "</div>"
      ],
      "text/plain": [
       "     churn  tenure  charges_monthly  charges_total\n",
       "0      Yes       4            73.90         280.85\n",
       "1      Yes      13            98.00        1237.85\n",
       "2      Yes       3            83.90         267.40\n",
       "3      Yes      45            62.70        2791.50\n",
       "4      Yes       1            25.10          25.10\n",
       "...    ...     ...              ...            ...\n",
       "1864   Yes      21            96.80        2030.30\n",
       "1865   Yes       9            83.85         790.15\n",
       "1866   Yes       1            70.15          70.15\n",
       "1867   Yes       4            20.95          85.50\n",
       "1868   Yes      22            85.10        1873.70\n",
       "\n",
       "[1869 rows x 4 columns]"
      ]
     },
     "execution_count": 571,
     "metadata": {},
     "output_type": "execute_result"
    }
   ],
   "source": [
    "df_num_churn_yes = df4.loc[df4['churn'] == 'Yes', ['churn', 'tenure', 'charges_monthly', 'charges_total']].reset_index(drop=True)\n",
    "df_num_churn_yes"
   ]
  },
  {
   "cell_type": "code",
   "execution_count": 572,
   "id": "5a3ad842",
   "metadata": {
    "ExecuteTime": {
     "end_time": "2023-09-04T18:08:25.468182Z",
     "start_time": "2023-09-04T18:08:25.350180Z"
    }
   },
   "outputs": [
    {
     "data": {
      "text/html": [
       "<div>\n",
       "<style scoped>\n",
       "    .dataframe tbody tr th:only-of-type {\n",
       "        vertical-align: middle;\n",
       "    }\n",
       "\n",
       "    .dataframe tbody tr th {\n",
       "        vertical-align: top;\n",
       "    }\n",
       "\n",
       "    .dataframe thead th {\n",
       "        text-align: right;\n",
       "    }\n",
       "</style>\n",
       "<table border=\"1\" class=\"dataframe\">\n",
       "  <thead>\n",
       "    <tr style=\"text-align: right;\">\n",
       "      <th></th>\n",
       "      <th>count</th>\n",
       "      <th>mean</th>\n",
       "      <th>std</th>\n",
       "      <th>min</th>\n",
       "      <th>25%</th>\n",
       "      <th>50%</th>\n",
       "      <th>75%</th>\n",
       "      <th>max</th>\n",
       "      <th>range</th>\n",
       "      <th>skew</th>\n",
       "      <th>kurtosis</th>\n",
       "    </tr>\n",
       "  </thead>\n",
       "  <tbody>\n",
       "    <tr>\n",
       "      <th>tenure</th>\n",
       "      <td>1869.0</td>\n",
       "      <td>17.979133</td>\n",
       "      <td>19.531123</td>\n",
       "      <td>1.00</td>\n",
       "      <td>2.00</td>\n",
       "      <td>10.00</td>\n",
       "      <td>29.0</td>\n",
       "      <td>72.00</td>\n",
       "      <td>71.0</td>\n",
       "      <td>0.239486</td>\n",
       "      <td>-1.385484</td>\n",
       "    </tr>\n",
       "    <tr>\n",
       "      <th>charges_monthly</th>\n",
       "      <td>1869.0</td>\n",
       "      <td>74.441332</td>\n",
       "      <td>24.666053</td>\n",
       "      <td>18.85</td>\n",
       "      <td>56.15</td>\n",
       "      <td>79.65</td>\n",
       "      <td>94.2</td>\n",
       "      <td>118.35</td>\n",
       "      <td>100.5</td>\n",
       "      <td>-0.220524</td>\n",
       "      <td>-1.257260</td>\n",
       "    </tr>\n",
       "    <tr>\n",
       "      <th>charges_total</th>\n",
       "      <td>1869.0</td>\n",
       "      <td>1531.796094</td>\n",
       "      <td>1890.822994</td>\n",
       "      <td>18.85</td>\n",
       "      <td>134.50</td>\n",
       "      <td>703.55</td>\n",
       "      <td>2331.3</td>\n",
       "      <td>8684.80</td>\n",
       "      <td>8666.0</td>\n",
       "      <td>0.963745</td>\n",
       "      <td>-0.227068</td>\n",
       "    </tr>\n",
       "  </tbody>\n",
       "</table>\n",
       "</div>"
      ],
      "text/plain": [
       "                  count         mean          std    min     25%     50%  \\\n",
       "tenure           1869.0    17.979133    19.531123   1.00    2.00   10.00   \n",
       "charges_monthly  1869.0    74.441332    24.666053  18.85   56.15   79.65   \n",
       "charges_total    1869.0  1531.796094  1890.822994  18.85  134.50  703.55   \n",
       "\n",
       "                    75%      max   range      skew  kurtosis  \n",
       "tenure             29.0    72.00    71.0  0.239486 -1.385484  \n",
       "charges_monthly    94.2   118.35   100.5 -0.220524 -1.257260  \n",
       "charges_total    2331.3  8684.80  8666.0  0.963745 -0.227068  "
      ]
     },
     "execution_count": 572,
     "metadata": {},
     "output_type": "execute_result"
    }
   ],
   "source": [
    "num_describe_churn_yes = df_num_churn_yes.describe().T\n",
    "num_describe_churn_yes['range'] = pd.DataFrame(df_num.apply(lambda x: x.max() - x.min()))\n",
    "num_describe_churn_yes['skew'] = pd.DataFrame(df_num.apply(lambda x: x.skew()))\n",
    "num_describe_churn_yes['kurtosis'] = pd.DataFrame(df_num.apply(lambda x: x.kurtosis()))\n",
    "num_describe_churn_yes"
   ]
  },
  {
   "cell_type": "code",
   "execution_count": null,
   "id": "914fc75b",
   "metadata": {},
   "outputs": [],
   "source": [
    "# Fazer a concentração entre os quartis: o menor range é o mais concentrado\n",
    "# Usar a skew para falar sobre o deslocamento da mediana "
   ]
  },
  {
   "cell_type": "code",
   "execution_count": 609,
   "id": "f0218976",
   "metadata": {
    "ExecuteTime": {
     "end_time": "2023-09-04T20:43:09.690633Z",
     "start_time": "2023-09-04T20:43:07.304622Z"
    }
   },
   "outputs": [
    {
     "data": {
      "image/png": "[encoded data removed]",
      "text/plain": [
       "<Figure size 1440x1080 with 6 Axes>"
      ]
     },
     "metadata": {
      "needs_background": "light"
     },
     "output_type": "display_data"
    }
   ],
   "source": [
    "col = 'charges_monthly'\n",
    "\n",
    "# Criar a matriz de gráficos\n",
    "fig, axs = plt.subplots(3, 2, figsize=(20, 15))\n",
    "# fig.subplots_adjust(top=0.8)\n",
    "fig.subplots_adjust(hspace=0.25, wspace=0.1)\n",
    "\n",
    "formatted_text = ('A maior concentração de churn está entre $ {:.2f} e $ {:.2f}'.format(\n",
    "    df_num_churn_yes[col].quantile(.5), df_num_churn_yes[col].quantile(.75)))\n",
    "\n",
    "fig.suptitle(formatted_text, color=paleta_personalizada['black'], \n",
    "             fontsize=16, fontweight='bold')\n",
    "\n",
    "# Definir a paleta personalizada\n",
    "paleta_personalizada2 = {'No': 'silver', 'Yes': paleta_personalizada['orange']}\n",
    "\n",
    "# Atribua a paleta personalizada\n",
    "sns.set_palette(paleta_personalizada2.values())\n",
    "\n",
    "# Criar um gráfico de densidade \n",
    "sns.kdeplot(data=df4, x=col, hue='churn', fill=True, ax=axs[0, 0])\n",
    "axs[0, 0].set_xlabel('Monthly Charges')\n",
    "axs[0, 0].set_ylabel('Density')\n",
    "axs[0, 0].set_title('Gráfico de Densidade entre Charges Mensais e Churn')\n",
    "axs[0, 0].legend(title='Churn', labels=[]).set_visible(False)\n",
    "axs[0, 0].spines[['top', 'right']].set_visible(False)\n",
    "\n",
    "# Criar um gráfico de densidade \n",
    "sns.boxplot(data=df4, x=col, y='churn', orient='h', ax=axs[0,1])\n",
    "axs[0, 1].set_title('Boxplot de Charges Mensais por Churn')\n",
    "axs[0, 1].legend(title='Churn', labels=[]).set_visible(False)\n",
    "axs[0, 1].spines[['top', 'right']].set_visible(False)\n",
    "axs[0, 1].tick_params(axis='both', which='both', length=0)\n",
    "\n",
    "plt.show()"
   ]
  },
  {
   "cell_type": "code",
   "execution_count": 611,
   "id": "ffe040a4",
   "metadata": {
    "ExecuteTime": {
     "end_time": "2023-09-05T12:33:51.099341Z",
     "start_time": "2023-09-05T12:33:50.420888Z"
    }
   },
   "outputs": [
    {
     "data": {
      "text/plain": [
       "<Axes: xlabel='churn', ylabel='charges_monthly'>"
      ]
     },
     "execution_count": 611,
     "metadata": {},
     "output_type": "execute_result"
    },
    {
     "data": {
      "image/png": "[encoded data removed]",
      "text/plain": [
       "<Figure size 432x288 with 1 Axes>"
      ]
     },
     "metadata": {
      "needs_background": "light"
     },
     "output_type": "display_data"
    }
   ],
   "source": [
    "import seaborn as sns\n",
    "\n",
    "sns.scatterplot(x='churn', y=col, data=df4)\n"
   ]
  },
  {
   "cell_type": "code",
   "execution_count": null,
   "id": "9a0752d9",
   "metadata": {},
   "outputs": [],
   "source": [
    "col = 'churn'\n",
    "\n",
    "aux = df4[col].value_counts(normalize=True).to_frame() * 100\n",
    "aux = aux.sort_values(col, ascending=False)\n",
    "\n",
    "cores = [paleta_personalizada['orange'] if tipo == aux[col].idxmin() else \n",
    "         paleta_personalizada['black'] for tipo in aux.index]"
   ]
  },
  {
   "cell_type": "code",
   "execution_count": null,
   "id": "15e0e188",
   "metadata": {},
   "outputs": [],
   "source": [
    "fig, ax = plt.subplots(figsize=(12, 5))\n",
    "ax.barh(aux.index, aux[col], color=cores)\n",
    "\n",
    "ax.yaxis.set_tick_params(labelsize=14)\n",
    "ax.set_title(f'O churn atual é de {aux[col].min():.1f}% dos clientes', \n",
    "             loc='left', fontsize=16, fontweight='bold')\n",
    "\n",
    "for i, v in enumerate(aux[col]):\n",
    "    formatted_value = '{:.1f}%'.format(v)\n",
    "    ax.text(v + 1, i, formatted_value, color='black', fontsize=12, ha='left', va='center')\n",
    "    \n",
    "ax.set_frame_on(False)\n",
    "ax.get_xaxis().set_visible(False)\n",
    "ax.tick_params(axis='both', which='both', length=0)\n",
    "\n",
    "plt.show()"
   ]
  },
  {
   "cell_type": "markdown",
   "id": "598b4a4f",
   "metadata": {},
   "source": [
    "### 4.2.2. Categorical Variable"
   ]
  },
  {
   "cell_type": "code",
   "execution_count": null,
   "id": "0523bb5f",
   "metadata": {},
   "outputs": [],
   "source": []
  },
  {
   "cell_type": "markdown",
   "id": "0a8b40ad",
   "metadata": {
    "ExecuteTime": {
     "end_time": "2023-09-04T13:46:06.562257Z",
     "start_time": "2023-09-04T13:46:06.545252Z"
    }
   },
   "source": [
    "## 4.3. Análise Multivariada"
   ]
  },
  {
   "cell_type": "markdown",
   "id": "4a667438",
   "metadata": {},
   "source": [
    "* Como as variáveis estão correlacionadas?\n",
    "* Qual a força de correlação entre elas?\n",
    "* Identificar e remover colunas que carregam o mesmo conteúdo de informação.\n",
    "\n",
    "👉 É sempre bom lembrar que correlação não implica causalidade, só pq as variáveis estão correlacionadas não necessariamente uma causa a outra."
   ]
  },
  {
   "cell_type": "markdown",
   "id": "9c81c0e2",
   "metadata": {},
   "source": [
    "# 5. DATA PREPARATION"
   ]
  },
  {
   "cell_type": "code",
   "execution_count": null,
   "id": "3a7309c4",
   "metadata": {},
   "outputs": [],
   "source": [
    "df5 = df4.copy()"
   ]
  },
  {
   "cell_type": "code",
   "execution_count": null,
   "id": "f9376e8e",
   "metadata": {},
   "outputs": [],
   "source": []
  }
 ],
 "metadata": {
  "kernelspec": {
   "display_name": "Python 3 (ipykernel)",
   "language": "python",
   "name": "python3"
  },
  "language_info": {
   "codemirror_mode": {
    "name": "ipython",
    "version": 3
   },
   "file_extension": ".py",
   "mimetype": "text/x-python",
   "name": "python",
   "nbconvert_exporter": "python",
   "pygments_lexer": "ipython3",
   "version": "3.9.12"
  }
 },
 "nbformat": 4,
 "nbformat_minor": 5
}
