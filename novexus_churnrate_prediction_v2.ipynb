{
 "cells": [
  {
   "cell_type": "markdown",
   "id": "5046e5e1",
   "metadata": {},
   "source": [
    "# 0. IMPORTS"
   ]
  },
  {
   "cell_type": "markdown",
   "id": "e2be086f",
   "metadata": {},
   "source": [
    "## 0.1. Importing libraries"
   ]
  },
  {
   "cell_type": "code",
   "execution_count": 1,
   "id": "62e25e32",
   "metadata": {
    "ExecuteTime": {
     "end_time": "2023-09-03T15:30:32.591844Z",
     "start_time": "2023-09-03T15:30:27.694190Z"
    }
   },
   "outputs": [],
   "source": [
    "import pandas as pd\n",
    "import numpy as np\n",
    "import matplotlib.pyplot as plt\n",
    "import seaborn as sns\n",
    "import inflection"
   ]
  },
  {
   "cell_type": "markdown",
   "id": "46e47382",
   "metadata": {},
   "source": [
    "## 0.2. Loading data"
   ]
  },
  {
   "cell_type": "code",
   "execution_count": 2,
   "id": "764ae82c",
   "metadata": {
    "ExecuteTime": {
     "end_time": "2023-09-03T15:30:35.588950Z",
     "start_time": "2023-09-03T15:30:32.596843Z"
    }
   },
   "outputs": [],
   "source": [
    "url = 'https://challenge-data-science-3ed.s3.amazonaws.com/Telco-Customer-Churn.json'\n",
    "df = pd.read_json(url)"
   ]
  },
  {
   "cell_type": "markdown",
   "id": "5faa60bf",
   "metadata": {},
   "source": [
    "## 0.3. Dicionário de dados"
   ]
  },
  {
   "cell_type": "markdown",
   "id": "90ab01b5",
   "metadata": {},
   "source": [
    "Nome | Descrição\n",
    "--|--\n",
    "customerID | número de identificação único de cada cliente\n",
    "Churn | se o cliente deixou ou não a empresa \n",
    "gender | gênero (masculino e feminino) \n",
    "SeniorCitizen | informação sobre um cliente ter ou não idade igual ou maior que 65 anos \n",
    "Partner |  se o cliente possui ou não um parceiro ou parceira\n",
    "Dependents | se o cliente possui ou não dependentes\n",
    "tenure |  meses de contrato do cliente\n",
    "PhoneService | assinatura de serviço telefônico \n",
    "MultipleLines | assisnatura de mais de uma linha de telefone \n",
    "InternetService | assinatura de um provedor internet \n",
    "OnlineSecurity | assinatura adicional de segurança online \n",
    "OnlineBackup | assinatura adicional de backup online \n",
    "DeviceProtection | assinatura adicional de proteção no dispositivo \n",
    "TechSupport | assinatura adicional de suporte técnico, menos tempo de espera\n",
    "StreamingTV | assinatura de TV a cabo \n",
    "StreamingMovies | assinatura de streaming de filmes \n",
    "Contract | tipo de contrato\n",
    "PaperlessBilling | se o cliente prefere receber online a fatura\n",
    "PaymentMethod | forma de pagamento\n",
    "Charges.Monthly | total de todos os serviços do cliente por mês\n",
    "Charges.Total | total gasto pelo cliente"
   ]
  },
  {
   "cell_type": "markdown",
   "id": "0b71fdeb",
   "metadata": {
    "ExecuteTime": {
     "end_time": "2023-08-29T13:44:57.684526Z",
     "start_time": "2023-08-29T13:44:57.668812Z"
    }
   },
   "source": [
    "## 0.3. Helper functions"
   ]
  },
  {
   "cell_type": "code",
   "execution_count": 95,
   "id": "cff6aaed",
   "metadata": {
    "ExecuteTime": {
     "end_time": "2023-09-03T16:44:37.304047Z",
     "start_time": "2023-09-03T16:44:37.274367Z"
    }
   },
   "outputs": [],
   "source": [
    "def rename_columns(cols):\n",
    "    cols = list(map(lambda x: inflection.titleize(x), cols))\n",
    "    cols = list(map(lambda x: x.replace(\" \", \"\"), cols))\n",
    "    cols = list(map(lambda x: x.replace(\".\", \"\"), cols))\n",
    "    cols = list(map(lambda x: inflection.underscore(x), cols))\n",
    "    return cols\n",
    "\n",
    "def tab_unique(df):\n",
    "    tab_unicos = pd.DataFrame(df.nunique())\n",
    "    tab_unicos.columns= ['count']\n",
    "    tab_unicos['content'] = df.apply(lambda x: x.unique())\n",
    "    return tab_unicos"
   ]
  },
  {
   "cell_type": "markdown",
   "id": "7b4f1bda",
   "metadata": {},
   "source": [
    "## 0.4. Identidade Visual"
   ]
  },
  {
   "cell_type": "code",
   "execution_count": 330,
   "id": "675c72aa",
   "metadata": {
    "ExecuteTime": {
     "end_time": "2023-09-03T22:46:49.106578Z",
     "start_time": "2023-09-03T22:46:49.092461Z"
    }
   },
   "outputs": [],
   "source": [
    "paleta_personalizada = {\n",
    "    'black': '#171821',\n",
    "    'purple': '#872b95',\n",
    "    'orange': '#ff7131',\n",
    "    'pink': '#fe3d67'\n",
    "}"
   ]
  },
  {
   "cell_type": "markdown",
   "id": "e8082b20",
   "metadata": {},
   "source": [
    "# 1. DATA DESCRIPTION"
   ]
  },
  {
   "cell_type": "code",
   "execution_count": 4,
   "id": "ebb969fa",
   "metadata": {
    "ExecuteTime": {
     "end_time": "2023-09-03T15:31:37.774181Z",
     "start_time": "2023-09-03T15:31:37.755099Z"
    }
   },
   "outputs": [],
   "source": [
    "df1 = df.copy()"
   ]
  },
  {
   "cell_type": "markdown",
   "id": "dfc49386",
   "metadata": {
    "heading_collapsed": true
   },
   "source": [
    "## 1.1. Normalize Columns"
   ]
  },
  {
   "cell_type": "code",
   "execution_count": 5,
   "id": "ad99354b",
   "metadata": {
    "ExecuteTime": {
     "end_time": "2023-09-03T15:33:15.010707Z",
     "start_time": "2023-09-03T15:33:14.363729Z"
    },
    "hidden": true
   },
   "outputs": [
    {
     "data": {
      "text/html": [
       "<div>\n",
       "<style scoped>\n",
       "    .dataframe tbody tr th:only-of-type {\n",
       "        vertical-align: middle;\n",
       "    }\n",
       "\n",
       "    .dataframe tbody tr th {\n",
       "        vertical-align: top;\n",
       "    }\n",
       "\n",
       "    .dataframe thead th {\n",
       "        text-align: right;\n",
       "    }\n",
       "</style>\n",
       "<table border=\"1\" class=\"dataframe\">\n",
       "  <thead>\n",
       "    <tr style=\"text-align: right;\">\n",
       "      <th></th>\n",
       "      <th>customerID</th>\n",
       "      <th>Churn</th>\n",
       "      <th>gender</th>\n",
       "      <th>SeniorCitizen</th>\n",
       "      <th>Partner</th>\n",
       "      <th>Dependents</th>\n",
       "      <th>tenure</th>\n",
       "      <th>PhoneService</th>\n",
       "      <th>MultipleLines</th>\n",
       "      <th>InternetService</th>\n",
       "      <th>...</th>\n",
       "      <th>OnlineBackup</th>\n",
       "      <th>DeviceProtection</th>\n",
       "      <th>TechSupport</th>\n",
       "      <th>StreamingTV</th>\n",
       "      <th>StreamingMovies</th>\n",
       "      <th>Contract</th>\n",
       "      <th>PaperlessBilling</th>\n",
       "      <th>PaymentMethod</th>\n",
       "      <th>Charges.Monthly</th>\n",
       "      <th>Charges.Total</th>\n",
       "    </tr>\n",
       "  </thead>\n",
       "  <tbody>\n",
       "    <tr>\n",
       "      <th>0</th>\n",
       "      <td>0002-ORFBO</td>\n",
       "      <td>No</td>\n",
       "      <td>Female</td>\n",
       "      <td>0</td>\n",
       "      <td>Yes</td>\n",
       "      <td>Yes</td>\n",
       "      <td>9</td>\n",
       "      <td>Yes</td>\n",
       "      <td>No</td>\n",
       "      <td>DSL</td>\n",
       "      <td>...</td>\n",
       "      <td>Yes</td>\n",
       "      <td>No</td>\n",
       "      <td>Yes</td>\n",
       "      <td>Yes</td>\n",
       "      <td>No</td>\n",
       "      <td>One year</td>\n",
       "      <td>Yes</td>\n",
       "      <td>Mailed check</td>\n",
       "      <td>65.6</td>\n",
       "      <td>593.3</td>\n",
       "    </tr>\n",
       "    <tr>\n",
       "      <th>1</th>\n",
       "      <td>0003-MKNFE</td>\n",
       "      <td>No</td>\n",
       "      <td>Male</td>\n",
       "      <td>0</td>\n",
       "      <td>No</td>\n",
       "      <td>No</td>\n",
       "      <td>9</td>\n",
       "      <td>Yes</td>\n",
       "      <td>Yes</td>\n",
       "      <td>DSL</td>\n",
       "      <td>...</td>\n",
       "      <td>No</td>\n",
       "      <td>No</td>\n",
       "      <td>No</td>\n",
       "      <td>No</td>\n",
       "      <td>Yes</td>\n",
       "      <td>Month-to-month</td>\n",
       "      <td>No</td>\n",
       "      <td>Mailed check</td>\n",
       "      <td>59.9</td>\n",
       "      <td>542.4</td>\n",
       "    </tr>\n",
       "    <tr>\n",
       "      <th>2</th>\n",
       "      <td>0004-TLHLJ</td>\n",
       "      <td>Yes</td>\n",
       "      <td>Male</td>\n",
       "      <td>0</td>\n",
       "      <td>No</td>\n",
       "      <td>No</td>\n",
       "      <td>4</td>\n",
       "      <td>Yes</td>\n",
       "      <td>No</td>\n",
       "      <td>Fiber optic</td>\n",
       "      <td>...</td>\n",
       "      <td>No</td>\n",
       "      <td>Yes</td>\n",
       "      <td>No</td>\n",
       "      <td>No</td>\n",
       "      <td>No</td>\n",
       "      <td>Month-to-month</td>\n",
       "      <td>Yes</td>\n",
       "      <td>Electronic check</td>\n",
       "      <td>73.9</td>\n",
       "      <td>280.85</td>\n",
       "    </tr>\n",
       "    <tr>\n",
       "      <th>3</th>\n",
       "      <td>0011-IGKFF</td>\n",
       "      <td>Yes</td>\n",
       "      <td>Male</td>\n",
       "      <td>1</td>\n",
       "      <td>Yes</td>\n",
       "      <td>No</td>\n",
       "      <td>13</td>\n",
       "      <td>Yes</td>\n",
       "      <td>No</td>\n",
       "      <td>Fiber optic</td>\n",
       "      <td>...</td>\n",
       "      <td>Yes</td>\n",
       "      <td>Yes</td>\n",
       "      <td>No</td>\n",
       "      <td>Yes</td>\n",
       "      <td>Yes</td>\n",
       "      <td>Month-to-month</td>\n",
       "      <td>Yes</td>\n",
       "      <td>Electronic check</td>\n",
       "      <td>98.0</td>\n",
       "      <td>1237.85</td>\n",
       "    </tr>\n",
       "    <tr>\n",
       "      <th>4</th>\n",
       "      <td>0013-EXCHZ</td>\n",
       "      <td>Yes</td>\n",
       "      <td>Female</td>\n",
       "      <td>1</td>\n",
       "      <td>Yes</td>\n",
       "      <td>No</td>\n",
       "      <td>3</td>\n",
       "      <td>Yes</td>\n",
       "      <td>No</td>\n",
       "      <td>Fiber optic</td>\n",
       "      <td>...</td>\n",
       "      <td>No</td>\n",
       "      <td>No</td>\n",
       "      <td>Yes</td>\n",
       "      <td>Yes</td>\n",
       "      <td>No</td>\n",
       "      <td>Month-to-month</td>\n",
       "      <td>Yes</td>\n",
       "      <td>Mailed check</td>\n",
       "      <td>83.9</td>\n",
       "      <td>267.4</td>\n",
       "    </tr>\n",
       "  </tbody>\n",
       "</table>\n",
       "<p>5 rows × 21 columns</p>\n",
       "</div>"
      ],
      "text/plain": [
       "   customerID Churn  gender  SeniorCitizen Partner Dependents  tenure  \\\n",
       "0  0002-ORFBO    No  Female              0     Yes        Yes       9   \n",
       "1  0003-MKNFE    No    Male              0      No         No       9   \n",
       "2  0004-TLHLJ   Yes    Male              0      No         No       4   \n",
       "3  0011-IGKFF   Yes    Male              1     Yes         No      13   \n",
       "4  0013-EXCHZ   Yes  Female              1     Yes         No       3   \n",
       "\n",
       "  PhoneService MultipleLines InternetService  ... OnlineBackup  \\\n",
       "0          Yes            No             DSL  ...          Yes   \n",
       "1          Yes           Yes             DSL  ...           No   \n",
       "2          Yes            No     Fiber optic  ...           No   \n",
       "3          Yes            No     Fiber optic  ...          Yes   \n",
       "4          Yes            No     Fiber optic  ...           No   \n",
       "\n",
       "  DeviceProtection TechSupport StreamingTV StreamingMovies        Contract  \\\n",
       "0               No         Yes         Yes              No        One year   \n",
       "1               No          No          No             Yes  Month-to-month   \n",
       "2              Yes          No          No              No  Month-to-month   \n",
       "3              Yes          No         Yes             Yes  Month-to-month   \n",
       "4               No         Yes         Yes              No  Month-to-month   \n",
       "\n",
       "  PaperlessBilling     PaymentMethod Charges.Monthly  Charges.Total  \n",
       "0              Yes      Mailed check            65.6          593.3  \n",
       "1               No      Mailed check            59.9          542.4  \n",
       "2              Yes  Electronic check            73.9         280.85  \n",
       "3              Yes  Electronic check            98.0        1237.85  \n",
       "4              Yes      Mailed check            83.9          267.4  \n",
       "\n",
       "[5 rows x 21 columns]"
      ]
     },
     "execution_count": 5,
     "metadata": {},
     "output_type": "execute_result"
    }
   ],
   "source": [
    "# Normalizar colunas com dicionários aninhados\n",
    "columns_to_normalize = ['customer', 'phone', 'internet', 'account']\n",
    "for col in columns_to_normalize:\n",
    "    df1 = pd.concat([df1.drop([col], axis=1), pd.json_normalize(df1[col])], axis=1)\n",
    "df1.head()"
   ]
  },
  {
   "cell_type": "markdown",
   "id": "6c0f6056",
   "metadata": {
    "heading_collapsed": true
   },
   "source": [
    "## 1.2. Rename Columns"
   ]
  },
  {
   "cell_type": "code",
   "execution_count": 8,
   "id": "586cd77a",
   "metadata": {
    "ExecuteTime": {
     "end_time": "2023-09-03T15:33:36.888410Z",
     "start_time": "2023-09-03T15:33:36.814892Z"
    },
    "hidden": true
   },
   "outputs": [
    {
     "data": {
      "text/html": [
       "<div>\n",
       "<style scoped>\n",
       "    .dataframe tbody tr th:only-of-type {\n",
       "        vertical-align: middle;\n",
       "    }\n",
       "\n",
       "    .dataframe tbody tr th {\n",
       "        vertical-align: top;\n",
       "    }\n",
       "\n",
       "    .dataframe thead th {\n",
       "        text-align: right;\n",
       "    }\n",
       "</style>\n",
       "<table border=\"1\" class=\"dataframe\">\n",
       "  <thead>\n",
       "    <tr style=\"text-align: right;\">\n",
       "      <th></th>\n",
       "      <th>customer</th>\n",
       "      <th>churn</th>\n",
       "      <th>gender</th>\n",
       "      <th>senior_citizen</th>\n",
       "      <th>partner</th>\n",
       "      <th>dependents</th>\n",
       "      <th>tenure</th>\n",
       "      <th>phone_service</th>\n",
       "      <th>multiple_lines</th>\n",
       "      <th>internet_service</th>\n",
       "      <th>...</th>\n",
       "      <th>online_backup</th>\n",
       "      <th>device_protection</th>\n",
       "      <th>tech_support</th>\n",
       "      <th>streaming_tv</th>\n",
       "      <th>streaming_movies</th>\n",
       "      <th>contract</th>\n",
       "      <th>paperless_billing</th>\n",
       "      <th>payment_method</th>\n",
       "      <th>charges_monthly</th>\n",
       "      <th>charges_total</th>\n",
       "    </tr>\n",
       "  </thead>\n",
       "  <tbody>\n",
       "    <tr>\n",
       "      <th>0</th>\n",
       "      <td>0002-ORFBO</td>\n",
       "      <td>No</td>\n",
       "      <td>Female</td>\n",
       "      <td>0</td>\n",
       "      <td>Yes</td>\n",
       "      <td>Yes</td>\n",
       "      <td>9</td>\n",
       "      <td>Yes</td>\n",
       "      <td>No</td>\n",
       "      <td>DSL</td>\n",
       "      <td>...</td>\n",
       "      <td>Yes</td>\n",
       "      <td>No</td>\n",
       "      <td>Yes</td>\n",
       "      <td>Yes</td>\n",
       "      <td>No</td>\n",
       "      <td>One year</td>\n",
       "      <td>Yes</td>\n",
       "      <td>Mailed check</td>\n",
       "      <td>65.6</td>\n",
       "      <td>593.3</td>\n",
       "    </tr>\n",
       "    <tr>\n",
       "      <th>1</th>\n",
       "      <td>0003-MKNFE</td>\n",
       "      <td>No</td>\n",
       "      <td>Male</td>\n",
       "      <td>0</td>\n",
       "      <td>No</td>\n",
       "      <td>No</td>\n",
       "      <td>9</td>\n",
       "      <td>Yes</td>\n",
       "      <td>Yes</td>\n",
       "      <td>DSL</td>\n",
       "      <td>...</td>\n",
       "      <td>No</td>\n",
       "      <td>No</td>\n",
       "      <td>No</td>\n",
       "      <td>No</td>\n",
       "      <td>Yes</td>\n",
       "      <td>Month-to-month</td>\n",
       "      <td>No</td>\n",
       "      <td>Mailed check</td>\n",
       "      <td>59.9</td>\n",
       "      <td>542.4</td>\n",
       "    </tr>\n",
       "    <tr>\n",
       "      <th>2</th>\n",
       "      <td>0004-TLHLJ</td>\n",
       "      <td>Yes</td>\n",
       "      <td>Male</td>\n",
       "      <td>0</td>\n",
       "      <td>No</td>\n",
       "      <td>No</td>\n",
       "      <td>4</td>\n",
       "      <td>Yes</td>\n",
       "      <td>No</td>\n",
       "      <td>Fiber optic</td>\n",
       "      <td>...</td>\n",
       "      <td>No</td>\n",
       "      <td>Yes</td>\n",
       "      <td>No</td>\n",
       "      <td>No</td>\n",
       "      <td>No</td>\n",
       "      <td>Month-to-month</td>\n",
       "      <td>Yes</td>\n",
       "      <td>Electronic check</td>\n",
       "      <td>73.9</td>\n",
       "      <td>280.85</td>\n",
       "    </tr>\n",
       "    <tr>\n",
       "      <th>3</th>\n",
       "      <td>0011-IGKFF</td>\n",
       "      <td>Yes</td>\n",
       "      <td>Male</td>\n",
       "      <td>1</td>\n",
       "      <td>Yes</td>\n",
       "      <td>No</td>\n",
       "      <td>13</td>\n",
       "      <td>Yes</td>\n",
       "      <td>No</td>\n",
       "      <td>Fiber optic</td>\n",
       "      <td>...</td>\n",
       "      <td>Yes</td>\n",
       "      <td>Yes</td>\n",
       "      <td>No</td>\n",
       "      <td>Yes</td>\n",
       "      <td>Yes</td>\n",
       "      <td>Month-to-month</td>\n",
       "      <td>Yes</td>\n",
       "      <td>Electronic check</td>\n",
       "      <td>98.0</td>\n",
       "      <td>1237.85</td>\n",
       "    </tr>\n",
       "    <tr>\n",
       "      <th>4</th>\n",
       "      <td>0013-EXCHZ</td>\n",
       "      <td>Yes</td>\n",
       "      <td>Female</td>\n",
       "      <td>1</td>\n",
       "      <td>Yes</td>\n",
       "      <td>No</td>\n",
       "      <td>3</td>\n",
       "      <td>Yes</td>\n",
       "      <td>No</td>\n",
       "      <td>Fiber optic</td>\n",
       "      <td>...</td>\n",
       "      <td>No</td>\n",
       "      <td>No</td>\n",
       "      <td>Yes</td>\n",
       "      <td>Yes</td>\n",
       "      <td>No</td>\n",
       "      <td>Month-to-month</td>\n",
       "      <td>Yes</td>\n",
       "      <td>Mailed check</td>\n",
       "      <td>83.9</td>\n",
       "      <td>267.4</td>\n",
       "    </tr>\n",
       "  </tbody>\n",
       "</table>\n",
       "<p>5 rows × 21 columns</p>\n",
       "</div>"
      ],
      "text/plain": [
       "     customer churn  gender  senior_citizen partner dependents  tenure  \\\n",
       "0  0002-ORFBO    No  Female               0     Yes        Yes       9   \n",
       "1  0003-MKNFE    No    Male               0      No         No       9   \n",
       "2  0004-TLHLJ   Yes    Male               0      No         No       4   \n",
       "3  0011-IGKFF   Yes    Male               1     Yes         No      13   \n",
       "4  0013-EXCHZ   Yes  Female               1     Yes         No       3   \n",
       "\n",
       "  phone_service multiple_lines internet_service  ... online_backup  \\\n",
       "0           Yes             No              DSL  ...           Yes   \n",
       "1           Yes            Yes              DSL  ...            No   \n",
       "2           Yes             No      Fiber optic  ...            No   \n",
       "3           Yes             No      Fiber optic  ...           Yes   \n",
       "4           Yes             No      Fiber optic  ...            No   \n",
       "\n",
       "  device_protection tech_support streaming_tv streaming_movies  \\\n",
       "0                No          Yes          Yes               No   \n",
       "1                No           No           No              Yes   \n",
       "2               Yes           No           No               No   \n",
       "3               Yes           No          Yes              Yes   \n",
       "4                No          Yes          Yes               No   \n",
       "\n",
       "         contract paperless_billing    payment_method charges_monthly  \\\n",
       "0        One year               Yes      Mailed check            65.6   \n",
       "1  Month-to-month                No      Mailed check            59.9   \n",
       "2  Month-to-month               Yes  Electronic check            73.9   \n",
       "3  Month-to-month               Yes  Electronic check            98.0   \n",
       "4  Month-to-month               Yes      Mailed check            83.9   \n",
       "\n",
       "   charges_total  \n",
       "0          593.3  \n",
       "1          542.4  \n",
       "2         280.85  \n",
       "3        1237.85  \n",
       "4          267.4  \n",
       "\n",
       "[5 rows x 21 columns]"
      ]
     },
     "execution_count": 8,
     "metadata": {},
     "output_type": "execute_result"
    }
   ],
   "source": [
    "df1.columns = rename_columns(df1.columns)\n",
    "df1.head()"
   ]
  },
  {
   "cell_type": "markdown",
   "id": "1615b678",
   "metadata": {
    "heading_collapsed": true
   },
   "source": [
    "## 1.3. Data Dimensions"
   ]
  },
  {
   "cell_type": "code",
   "execution_count": 9,
   "id": "2d84371c",
   "metadata": {
    "ExecuteTime": {
     "end_time": "2023-09-03T15:33:42.239393Z",
     "start_time": "2023-09-03T15:33:42.224392Z"
    },
    "hidden": true
   },
   "outputs": [
    {
     "name": "stdout",
     "output_type": "stream",
     "text": [
      "Quantidade de linha: 7,267\n",
      "Quantidade de colunas: 21\n"
     ]
    }
   ],
   "source": [
    "print('Quantidade de linha: {:,}'.format(df1.shape[0]))\n",
    "print('Quantidade de colunas: {:,}'.format(df1.shape[1]))"
   ]
  },
  {
   "cell_type": "markdown",
   "id": "359de0ef",
   "metadata": {
    "heading_collapsed": true
   },
   "source": [
    "## 1.4. Data Types"
   ]
  },
  {
   "cell_type": "code",
   "execution_count": 10,
   "id": "fe28744f",
   "metadata": {
    "ExecuteTime": {
     "end_time": "2023-09-03T15:33:45.458386Z",
     "start_time": "2023-09-03T15:33:45.439374Z"
    },
    "hidden": true
   },
   "outputs": [
    {
     "data": {
      "text/plain": [
       "customer              object\n",
       "churn                 object\n",
       "gender                object\n",
       "senior_citizen         int64\n",
       "partner               object\n",
       "dependents            object\n",
       "tenure                 int64\n",
       "phone_service         object\n",
       "multiple_lines        object\n",
       "internet_service      object\n",
       "online_security       object\n",
       "online_backup         object\n",
       "device_protection     object\n",
       "tech_support          object\n",
       "streaming_tv          object\n",
       "streaming_movies      object\n",
       "contract              object\n",
       "paperless_billing     object\n",
       "payment_method        object\n",
       "charges_monthly      float64\n",
       "charges_total         object\n",
       "dtype: object"
      ]
     },
     "execution_count": 10,
     "metadata": {},
     "output_type": "execute_result"
    }
   ],
   "source": [
    "df1.dtypes"
   ]
  },
  {
   "cell_type": "code",
   "execution_count": 11,
   "id": "d0348127",
   "metadata": {
    "ExecuteTime": {
     "end_time": "2023-09-03T15:33:47.754498Z",
     "start_time": "2023-09-03T15:33:47.631787Z"
    },
    "hidden": true
   },
   "outputs": [
    {
     "name": "stdout",
     "output_type": "stream",
     "text": [
      "<class 'pandas.core.frame.DataFrame'>\n",
      "RangeIndex: 7267 entries, 0 to 7266\n",
      "Data columns (total 21 columns):\n",
      " #   Column             Non-Null Count  Dtype  \n",
      "---  ------             --------------  -----  \n",
      " 0   customer           7267 non-null   object \n",
      " 1   churn              7267 non-null   object \n",
      " 2   gender             7267 non-null   object \n",
      " 3   senior_citizen     7267 non-null   int64  \n",
      " 4   partner            7267 non-null   object \n",
      " 5   dependents         7267 non-null   object \n",
      " 6   tenure             7267 non-null   int64  \n",
      " 7   phone_service      7267 non-null   object \n",
      " 8   multiple_lines     7267 non-null   object \n",
      " 9   internet_service   7267 non-null   object \n",
      " 10  online_security    7267 non-null   object \n",
      " 11  online_backup      7267 non-null   object \n",
      " 12  device_protection  7267 non-null   object \n",
      " 13  tech_support       7267 non-null   object \n",
      " 14  streaming_tv       7267 non-null   object \n",
      " 15  streaming_movies   7267 non-null   object \n",
      " 16  contract           7267 non-null   object \n",
      " 17  paperless_billing  7267 non-null   object \n",
      " 18  payment_method     7267 non-null   object \n",
      " 19  charges_monthly    7267 non-null   float64\n",
      " 20  charges_total      7267 non-null   object \n",
      "dtypes: float64(1), int64(2), object(18)\n",
      "memory usage: 1.2+ MB\n"
     ]
    }
   ],
   "source": [
    "df1.info()"
   ]
  },
  {
   "cell_type": "markdown",
   "id": "88b5d488",
   "metadata": {
    "heading_collapsed": true
   },
   "source": [
    "## 1.5. Check NA's"
   ]
  },
  {
   "cell_type": "code",
   "execution_count": 13,
   "id": "e1c273f8",
   "metadata": {
    "ExecuteTime": {
     "end_time": "2023-09-03T15:35:01.831885Z",
     "start_time": "2023-09-03T15:35:01.683844Z"
    },
    "hidden": true
   },
   "outputs": [
    {
     "data": {
      "text/plain": [
       "customer             0\n",
       "churn                0\n",
       "gender               0\n",
       "senior_citizen       0\n",
       "partner              0\n",
       "dependents           0\n",
       "tenure               0\n",
       "phone_service        0\n",
       "multiple_lines       0\n",
       "internet_service     0\n",
       "online_security      0\n",
       "online_backup        0\n",
       "device_protection    0\n",
       "tech_support         0\n",
       "streaming_tv         0\n",
       "streaming_movies     0\n",
       "contract             0\n",
       "paperless_billing    0\n",
       "payment_method       0\n",
       "charges_monthly      0\n",
       "charges_total        0\n",
       "dtype: int64"
      ]
     },
     "execution_count": 13,
     "metadata": {},
     "output_type": "execute_result"
    }
   ],
   "source": [
    "# Aparentemente não há NA's, mas é necessário analisar mais de perto cada feature\n",
    "df1.isna().sum()"
   ]
  },
  {
   "cell_type": "code",
   "execution_count": 94,
   "id": "334716d4",
   "metadata": {
    "ExecuteTime": {
     "end_time": "2023-09-03T16:44:23.707561Z",
     "start_time": "2023-09-03T16:44:23.490497Z"
    },
    "hidden": true
   },
   "outputs": [
    {
     "data": {
      "text/html": [
       "<div>\n",
       "<style scoped>\n",
       "    .dataframe tbody tr th:only-of-type {\n",
       "        vertical-align: middle;\n",
       "    }\n",
       "\n",
       "    .dataframe tbody tr th {\n",
       "        vertical-align: top;\n",
       "    }\n",
       "\n",
       "    .dataframe thead th {\n",
       "        text-align: right;\n",
       "    }\n",
       "</style>\n",
       "<table border=\"1\" class=\"dataframe\">\n",
       "  <thead>\n",
       "    <tr style=\"text-align: right;\">\n",
       "      <th></th>\n",
       "      <th>count</th>\n",
       "      <th>content</th>\n",
       "    </tr>\n",
       "  </thead>\n",
       "  <tbody>\n",
       "    <tr>\n",
       "      <th>customer</th>\n",
       "      <td>7267</td>\n",
       "      <td>[0002-ORFBO, 0003-MKNFE, 0004-TLHLJ, 0011-IGKF...</td>\n",
       "    </tr>\n",
       "    <tr>\n",
       "      <th>churn</th>\n",
       "      <td>3</td>\n",
       "      <td>[No, Yes, ]</td>\n",
       "    </tr>\n",
       "    <tr>\n",
       "      <th>gender</th>\n",
       "      <td>2</td>\n",
       "      <td>[Female, Male]</td>\n",
       "    </tr>\n",
       "    <tr>\n",
       "      <th>senior_citizen</th>\n",
       "      <td>2</td>\n",
       "      <td>[0, 1]</td>\n",
       "    </tr>\n",
       "    <tr>\n",
       "      <th>partner</th>\n",
       "      <td>2</td>\n",
       "      <td>[Yes, No]</td>\n",
       "    </tr>\n",
       "    <tr>\n",
       "      <th>dependents</th>\n",
       "      <td>2</td>\n",
       "      <td>[Yes, No]</td>\n",
       "    </tr>\n",
       "    <tr>\n",
       "      <th>tenure</th>\n",
       "      <td>73</td>\n",
       "      <td>[9, 4, 13, 3, 71, 63, 7, 65, 54, 72, 5, 56, 34...</td>\n",
       "    </tr>\n",
       "    <tr>\n",
       "      <th>phone_service</th>\n",
       "      <td>2</td>\n",
       "      <td>[Yes, No]</td>\n",
       "    </tr>\n",
       "    <tr>\n",
       "      <th>multiple_lines</th>\n",
       "      <td>3</td>\n",
       "      <td>[No, Yes, No phone service]</td>\n",
       "    </tr>\n",
       "    <tr>\n",
       "      <th>internet_service</th>\n",
       "      <td>3</td>\n",
       "      <td>[DSL, Fiber optic, No]</td>\n",
       "    </tr>\n",
       "    <tr>\n",
       "      <th>online_security</th>\n",
       "      <td>3</td>\n",
       "      <td>[No, Yes, No internet service]</td>\n",
       "    </tr>\n",
       "    <tr>\n",
       "      <th>online_backup</th>\n",
       "      <td>3</td>\n",
       "      <td>[Yes, No, No internet service]</td>\n",
       "    </tr>\n",
       "    <tr>\n",
       "      <th>device_protection</th>\n",
       "      <td>3</td>\n",
       "      <td>[No, Yes, No internet service]</td>\n",
       "    </tr>\n",
       "    <tr>\n",
       "      <th>tech_support</th>\n",
       "      <td>3</td>\n",
       "      <td>[Yes, No, No internet service]</td>\n",
       "    </tr>\n",
       "    <tr>\n",
       "      <th>streaming_tv</th>\n",
       "      <td>3</td>\n",
       "      <td>[Yes, No, No internet service]</td>\n",
       "    </tr>\n",
       "    <tr>\n",
       "      <th>streaming_movies</th>\n",
       "      <td>3</td>\n",
       "      <td>[No, Yes, No internet service]</td>\n",
       "    </tr>\n",
       "    <tr>\n",
       "      <th>contract</th>\n",
       "      <td>3</td>\n",
       "      <td>[One year, Month-to-month, Two year]</td>\n",
       "    </tr>\n",
       "    <tr>\n",
       "      <th>paperless_billing</th>\n",
       "      <td>2</td>\n",
       "      <td>[Yes, No]</td>\n",
       "    </tr>\n",
       "    <tr>\n",
       "      <th>payment_method</th>\n",
       "      <td>4</td>\n",
       "      <td>[Mailed check, Electronic check, Credit card (...</td>\n",
       "    </tr>\n",
       "    <tr>\n",
       "      <th>charges_monthly</th>\n",
       "      <td>1585</td>\n",
       "      <td>[65.6, 59.9, 73.9, 98.0, 83.9, 69.4, 109.7, 84...</td>\n",
       "    </tr>\n",
       "    <tr>\n",
       "      <th>charges_total</th>\n",
       "      <td>6531</td>\n",
       "      <td>[593.3, 542.4, 280.85, 1237.85, 267.4, 571.45,...</td>\n",
       "    </tr>\n",
       "  </tbody>\n",
       "</table>\n",
       "</div>"
      ],
      "text/plain": [
       "                   count                                            content\n",
       "customer            7267  [0002-ORFBO, 0003-MKNFE, 0004-TLHLJ, 0011-IGKF...\n",
       "churn                  3                                        [No, Yes, ]\n",
       "gender                 2                                     [Female, Male]\n",
       "senior_citizen         2                                             [0, 1]\n",
       "partner                2                                          [Yes, No]\n",
       "dependents             2                                          [Yes, No]\n",
       "tenure                73  [9, 4, 13, 3, 71, 63, 7, 65, 54, 72, 5, 56, 34...\n",
       "phone_service          2                                          [Yes, No]\n",
       "multiple_lines         3                        [No, Yes, No phone service]\n",
       "internet_service       3                             [DSL, Fiber optic, No]\n",
       "online_security        3                     [No, Yes, No internet service]\n",
       "online_backup          3                     [Yes, No, No internet service]\n",
       "device_protection      3                     [No, Yes, No internet service]\n",
       "tech_support           3                     [Yes, No, No internet service]\n",
       "streaming_tv           3                     [Yes, No, No internet service]\n",
       "streaming_movies       3                     [No, Yes, No internet service]\n",
       "contract               3               [One year, Month-to-month, Two year]\n",
       "paperless_billing      2                                          [Yes, No]\n",
       "payment_method         4  [Mailed check, Electronic check, Credit card (...\n",
       "charges_monthly     1585  [65.6, 59.9, 73.9, 98.0, 83.9, 69.4, 109.7, 84...\n",
       "charges_total       6531  [593.3, 542.4, 280.85, 1237.85, 267.4, 571.45,..."
      ]
     },
     "execution_count": 94,
     "metadata": {},
     "output_type": "execute_result"
    }
   ],
   "source": [
    "# Nota-se que existem Na's:\n",
    "# > churn == ' '\n",
    "# > na terceira opção de algumas features de 'Yes' ou 'No' \n",
    "# > charges_total == ' '\n",
    "tab_unique(df1)"
   ]
  },
  {
   "cell_type": "code",
   "execution_count": 15,
   "id": "34597c20",
   "metadata": {
    "ExecuteTime": {
     "end_time": "2023-09-03T15:38:44.655336Z",
     "start_time": "2023-09-03T15:38:44.633333Z"
    },
    "hidden": true
   },
   "outputs": [
    {
     "data": {
      "text/plain": [
       "array(['Mailed check', 'Electronic check', 'Credit card (automatic)',\n",
       "       'Bank transfer (automatic)'], dtype=object)"
      ]
     },
     "execution_count": 15,
     "metadata": {},
     "output_type": "execute_result"
    }
   ],
   "source": [
    "df1['payment_method'].unique()"
   ]
  },
  {
   "cell_type": "markdown",
   "id": "c3b91bae",
   "metadata": {
    "heading_collapsed": true
   },
   "source": [
    "## 1.6. Tratamento de dados"
   ]
  },
  {
   "cell_type": "code",
   "execution_count": 109,
   "id": "94a2d091",
   "metadata": {
    "ExecuteTime": {
     "end_time": "2023-09-03T17:01:10.254489Z",
     "start_time": "2023-09-03T17:01:10.219970Z"
    },
    "hidden": true
   },
   "outputs": [],
   "source": [
    "df2 = df1.copy()"
   ]
  },
  {
   "cell_type": "markdown",
   "id": "2c436d3b",
   "metadata": {
    "heading_collapsed": true,
    "hidden": true
   },
   "source": [
    "### 1.6.1. Remover linhas com churn vazio"
   ]
  },
  {
   "cell_type": "code",
   "execution_count": 110,
   "id": "dc78d2f4",
   "metadata": {
    "ExecuteTime": {
     "end_time": "2023-09-03T17:01:14.115413Z",
     "start_time": "2023-09-03T17:01:14.073420Z"
    },
    "hidden": true
   },
   "outputs": [
    {
     "data": {
      "text/html": [
       "<div>\n",
       "<style scoped>\n",
       "    .dataframe tbody tr th:only-of-type {\n",
       "        vertical-align: middle;\n",
       "    }\n",
       "\n",
       "    .dataframe tbody tr th {\n",
       "        vertical-align: top;\n",
       "    }\n",
       "\n",
       "    .dataframe thead th {\n",
       "        text-align: right;\n",
       "    }\n",
       "</style>\n",
       "<table border=\"1\" class=\"dataframe\">\n",
       "  <thead>\n",
       "    <tr style=\"text-align: right;\">\n",
       "      <th></th>\n",
       "      <th>count</th>\n",
       "      <th>%</th>\n",
       "    </tr>\n",
       "  </thead>\n",
       "  <tbody>\n",
       "    <tr>\n",
       "      <th>No</th>\n",
       "      <td>5174</td>\n",
       "      <td>71.20</td>\n",
       "    </tr>\n",
       "    <tr>\n",
       "      <th>Yes</th>\n",
       "      <td>1869</td>\n",
       "      <td>25.72</td>\n",
       "    </tr>\n",
       "    <tr>\n",
       "      <th></th>\n",
       "      <td>224</td>\n",
       "      <td>3.08</td>\n",
       "    </tr>\n",
       "  </tbody>\n",
       "</table>\n",
       "</div>"
      ],
      "text/plain": [
       "     count      %\n",
       "No    5174  71.20\n",
       "Yes   1869  25.72\n",
       "       224   3.08"
      ]
     },
     "execution_count": 110,
     "metadata": {},
     "output_type": "execute_result"
    }
   ],
   "source": [
    "# Precisamos remover dados com churn vazio. os vazios representam 3,08% dos dados.\n",
    "churn_vazios = df1['churn'].value_counts().to_frame()\n",
    "churn_vazios.columns = ['count']\n",
    "churn_vazios['%'] = round(df1['churn'].value_counts(normalize=True).sort_values() * 100, 2)\n",
    "churn_vazios"
   ]
  },
  {
   "cell_type": "code",
   "execution_count": 111,
   "id": "dbe1636a",
   "metadata": {
    "ExecuteTime": {
     "end_time": "2023-09-03T17:01:15.806556Z",
     "start_time": "2023-09-03T17:01:15.758021Z"
    },
    "hidden": true
   },
   "outputs": [
    {
     "data": {
      "text/plain": [
       "array(['No', 'Yes'], dtype=object)"
      ]
     },
     "execution_count": 111,
     "metadata": {},
     "output_type": "execute_result"
    }
   ],
   "source": [
    "# Selecionar as linhas com churn vazio\n",
    "churn_vazio = df2.query('churn == \"\"').index\n",
    "\n",
    "# Deletar essas linhas\n",
    "df2.drop(churn_vazio, axis=0, inplace=True)\n",
    "\n",
    "# Validar alterações\n",
    "df2['churn'].unique()"
   ]
  },
  {
   "cell_type": "code",
   "execution_count": 112,
   "id": "0a87a729",
   "metadata": {
    "ExecuteTime": {
     "end_time": "2023-09-03T17:01:17.911731Z",
     "start_time": "2023-09-03T17:01:17.793009Z"
    },
    "hidden": true
   },
   "outputs": [
    {
     "name": "stdout",
     "output_type": "stream",
     "text": [
      "<class 'pandas.core.frame.DataFrame'>\n",
      "RangeIndex: 7043 entries, 0 to 7042\n",
      "Data columns (total 21 columns):\n",
      " #   Column             Non-Null Count  Dtype  \n",
      "---  ------             --------------  -----  \n",
      " 0   customer           7043 non-null   object \n",
      " 1   churn              7043 non-null   object \n",
      " 2   gender             7043 non-null   object \n",
      " 3   senior_citizen     7043 non-null   int64  \n",
      " 4   partner            7043 non-null   object \n",
      " 5   dependents         7043 non-null   object \n",
      " 6   tenure             7043 non-null   int64  \n",
      " 7   phone_service      7043 non-null   object \n",
      " 8   multiple_lines     7043 non-null   object \n",
      " 9   internet_service   7043 non-null   object \n",
      " 10  online_security    7043 non-null   object \n",
      " 11  online_backup      7043 non-null   object \n",
      " 12  device_protection  7043 non-null   object \n",
      " 13  tech_support       7043 non-null   object \n",
      " 14  streaming_tv       7043 non-null   object \n",
      " 15  streaming_movies   7043 non-null   object \n",
      " 16  contract           7043 non-null   object \n",
      " 17  paperless_billing  7043 non-null   object \n",
      " 18  payment_method     7043 non-null   object \n",
      " 19  charges_monthly    7043 non-null   float64\n",
      " 20  charges_total      7043 non-null   object \n",
      "dtypes: float64(1), int64(2), object(18)\n",
      "memory usage: 1.1+ MB\n"
     ]
    }
   ],
   "source": [
    "# Resetar o index e validar modificações\n",
    "df2 = df2.reset_index(drop=True)\n",
    "df2.info()"
   ]
  },
  {
   "cell_type": "markdown",
   "id": "68c60b9f",
   "metadata": {
    "heading_collapsed": true,
    "hidden": true
   },
   "source": [
    "### 1.6.2. Substituir a terceira opção por 'No'"
   ]
  },
  {
   "cell_type": "code",
   "execution_count": 113,
   "id": "5813e61c",
   "metadata": {
    "ExecuteTime": {
     "end_time": "2023-09-03T17:01:27.395810Z",
     "start_time": "2023-09-03T17:01:27.268291Z"
    },
    "hidden": true
   },
   "outputs": [],
   "source": [
    "col_yes_no = ['multiple_lines', 'online_security', 'online_backup', \n",
    "              'device_protection', 'tech_support', 'streaming_tv', 'streaming_movies']\n",
    "\n",
    "for col in col_yes_no:\n",
    "    df2[col] = df2[col].apply(lambda x: 'No' if x not in ['Yes', 'No'] else x)"
   ]
  },
  {
   "cell_type": "code",
   "execution_count": 114,
   "id": "81f4279a",
   "metadata": {
    "ExecuteTime": {
     "end_time": "2023-09-03T17:01:28.995560Z",
     "start_time": "2023-09-03T17:01:28.953549Z"
    },
    "hidden": true
   },
   "outputs": [
    {
     "name": "stdout",
     "output_type": "stream",
     "text": [
      "multiple_lines ['No' 'Yes']\n",
      "online_security ['No' 'Yes']\n",
      "online_backup ['Yes' 'No']\n",
      "device_protection ['No' 'Yes']\n",
      "tech_support ['Yes' 'No']\n",
      "streaming_tv ['Yes' 'No']\n",
      "streaming_movies ['No' 'Yes']\n"
     ]
    }
   ],
   "source": [
    "for col in col_yes_no:\n",
    "    print(col, df2[col].unique())"
   ]
  },
  {
   "cell_type": "markdown",
   "id": "214f8eba",
   "metadata": {
    "heading_collapsed": true,
    "hidden": true
   },
   "source": [
    "### 1.6.3. Tratar linhas com 'charges_total' vazio"
   ]
  },
  {
   "cell_type": "code",
   "execution_count": 115,
   "id": "24d644bd",
   "metadata": {
    "ExecuteTime": {
     "end_time": "2023-09-03T17:01:40.114566Z",
     "start_time": "2023-09-03T17:01:40.047363Z"
    },
    "hidden": true
   },
   "outputs": [
    {
     "data": {
      "text/html": [
       "<div>\n",
       "<style scoped>\n",
       "    .dataframe tbody tr th:only-of-type {\n",
       "        vertical-align: middle;\n",
       "    }\n",
       "\n",
       "    .dataframe tbody tr th {\n",
       "        vertical-align: top;\n",
       "    }\n",
       "\n",
       "    .dataframe thead th {\n",
       "        text-align: right;\n",
       "    }\n",
       "</style>\n",
       "<table border=\"1\" class=\"dataframe\">\n",
       "  <thead>\n",
       "    <tr style=\"text-align: right;\">\n",
       "      <th></th>\n",
       "      <th>tenure</th>\n",
       "      <th>contract</th>\n",
       "      <th>charges_monthly</th>\n",
       "      <th>charges_total</th>\n",
       "    </tr>\n",
       "  </thead>\n",
       "  <tbody>\n",
       "    <tr>\n",
       "      <th>945</th>\n",
       "      <td>0</td>\n",
       "      <td>Two year</td>\n",
       "      <td>56.05</td>\n",
       "      <td></td>\n",
       "    </tr>\n",
       "    <tr>\n",
       "      <th>1731</th>\n",
       "      <td>0</td>\n",
       "      <td>Two year</td>\n",
       "      <td>20.00</td>\n",
       "      <td></td>\n",
       "    </tr>\n",
       "    <tr>\n",
       "      <th>1906</th>\n",
       "      <td>0</td>\n",
       "      <td>Two year</td>\n",
       "      <td>61.90</td>\n",
       "      <td></td>\n",
       "    </tr>\n",
       "    <tr>\n",
       "      <th>2025</th>\n",
       "      <td>0</td>\n",
       "      <td>One year</td>\n",
       "      <td>19.70</td>\n",
       "      <td></td>\n",
       "    </tr>\n",
       "    <tr>\n",
       "      <th>2176</th>\n",
       "      <td>0</td>\n",
       "      <td>Two year</td>\n",
       "      <td>20.25</td>\n",
       "      <td></td>\n",
       "    </tr>\n",
       "    <tr>\n",
       "      <th>2250</th>\n",
       "      <td>0</td>\n",
       "      <td>Two year</td>\n",
       "      <td>25.35</td>\n",
       "      <td></td>\n",
       "    </tr>\n",
       "    <tr>\n",
       "      <th>2855</th>\n",
       "      <td>0</td>\n",
       "      <td>Two year</td>\n",
       "      <td>73.35</td>\n",
       "      <td></td>\n",
       "    </tr>\n",
       "    <tr>\n",
       "      <th>3052</th>\n",
       "      <td>0</td>\n",
       "      <td>Two year</td>\n",
       "      <td>25.75</td>\n",
       "      <td></td>\n",
       "    </tr>\n",
       "    <tr>\n",
       "      <th>3118</th>\n",
       "      <td>0</td>\n",
       "      <td>Two year</td>\n",
       "      <td>52.55</td>\n",
       "      <td></td>\n",
       "    </tr>\n",
       "    <tr>\n",
       "      <th>4054</th>\n",
       "      <td>0</td>\n",
       "      <td>Two year</td>\n",
       "      <td>80.85</td>\n",
       "      <td></td>\n",
       "    </tr>\n",
       "    <tr>\n",
       "      <th>5433</th>\n",
       "      <td>0</td>\n",
       "      <td>Two year</td>\n",
       "      <td>19.85</td>\n",
       "      <td></td>\n",
       "    </tr>\n",
       "  </tbody>\n",
       "</table>\n",
       "</div>"
      ],
      "text/plain": [
       "      tenure  contract  charges_monthly charges_total\n",
       "945        0  Two year            56.05              \n",
       "1731       0  Two year            20.00              \n",
       "1906       0  Two year            61.90              \n",
       "2025       0  One year            19.70              \n",
       "2176       0  Two year            20.25              \n",
       "2250       0  Two year            25.35              \n",
       "2855       0  Two year            73.35              \n",
       "3052       0  Two year            25.75              \n",
       "3118       0  Two year            52.55              \n",
       "4054       0  Two year            80.85              \n",
       "5433       0  Two year            19.85              "
      ]
     },
     "execution_count": 115,
     "metadata": {},
     "output_type": "execute_result"
    }
   ],
   "source": [
    "# Ao tratar a coluna 'charges_total' tb será necessário tratar 'tenure'\n",
    "df2.loc[df2['charges_total'] == ' ', ['tenure', 'contract', 'charges_monthly', 'charges_total']]"
   ]
  },
  {
   "cell_type": "code",
   "execution_count": 116,
   "id": "b3da929b",
   "metadata": {
    "ExecuteTime": {
     "end_time": "2023-09-03T17:01:42.769978Z",
     "start_time": "2023-09-03T17:01:42.736450Z"
    },
    "hidden": true
   },
   "outputs": [],
   "source": [
    "idx1 = df2.loc[(df2['charges_total'] == ' ') & (df2['contract'] == 'One year'), ['contract', 'charges_monthly', 'charges_total']].index\n",
    "idx2 = df2.loc[(df2['charges_total'] == ' ') & (df2['contract'] == 'Two year'), ['contract', 'charges_monthly', 'charges_total']].index"
   ]
  },
  {
   "cell_type": "code",
   "execution_count": 117,
   "id": "6c4700bb",
   "metadata": {
    "ExecuteTime": {
     "end_time": "2023-09-03T17:01:44.511488Z",
     "start_time": "2023-09-03T17:01:44.489476Z"
    },
    "hidden": true
   },
   "outputs": [],
   "source": [
    "df2.loc[idx1, 'charges_total'] = df2['charges_monthly'] * 12\n",
    "df2.loc[idx2, 'charges_total'] = df2['charges_monthly'] * 24"
   ]
  },
  {
   "cell_type": "code",
   "execution_count": 118,
   "id": "01694bff",
   "metadata": {
    "ExecuteTime": {
     "end_time": "2023-09-03T17:01:46.247108Z",
     "start_time": "2023-09-03T17:01:46.213729Z"
    },
    "hidden": true
   },
   "outputs": [
    {
     "data": {
      "text/html": [
       "<div>\n",
       "<style scoped>\n",
       "    .dataframe tbody tr th:only-of-type {\n",
       "        vertical-align: middle;\n",
       "    }\n",
       "\n",
       "    .dataframe tbody tr th {\n",
       "        vertical-align: top;\n",
       "    }\n",
       "\n",
       "    .dataframe thead th {\n",
       "        text-align: right;\n",
       "    }\n",
       "</style>\n",
       "<table border=\"1\" class=\"dataframe\">\n",
       "  <thead>\n",
       "    <tr style=\"text-align: right;\">\n",
       "      <th></th>\n",
       "      <th>tenure</th>\n",
       "      <th>contract</th>\n",
       "      <th>charges_monthly</th>\n",
       "      <th>charges_total</th>\n",
       "    </tr>\n",
       "  </thead>\n",
       "  <tbody>\n",
       "    <tr>\n",
       "      <th>2025</th>\n",
       "      <td>0</td>\n",
       "      <td>One year</td>\n",
       "      <td>19.7</td>\n",
       "      <td>236.4</td>\n",
       "    </tr>\n",
       "  </tbody>\n",
       "</table>\n",
       "</div>"
      ],
      "text/plain": [
       "      tenure  contract  charges_monthly charges_total\n",
       "2025       0  One year             19.7         236.4"
      ]
     },
     "execution_count": 118,
     "metadata": {},
     "output_type": "execute_result"
    }
   ],
   "source": [
    "df2.loc[idx1, ['tenure', 'contract', 'charges_monthly', 'charges_total']]"
   ]
  },
  {
   "cell_type": "code",
   "execution_count": 119,
   "id": "5871202b",
   "metadata": {
    "ExecuteTime": {
     "end_time": "2023-09-03T17:01:49.515008Z",
     "start_time": "2023-09-03T17:01:49.472080Z"
    },
    "hidden": true
   },
   "outputs": [
    {
     "data": {
      "text/html": [
       "<div>\n",
       "<style scoped>\n",
       "    .dataframe tbody tr th:only-of-type {\n",
       "        vertical-align: middle;\n",
       "    }\n",
       "\n",
       "    .dataframe tbody tr th {\n",
       "        vertical-align: top;\n",
       "    }\n",
       "\n",
       "    .dataframe thead th {\n",
       "        text-align: right;\n",
       "    }\n",
       "</style>\n",
       "<table border=\"1\" class=\"dataframe\">\n",
       "  <thead>\n",
       "    <tr style=\"text-align: right;\">\n",
       "      <th></th>\n",
       "      <th>tenure</th>\n",
       "      <th>contract</th>\n",
       "      <th>charges_monthly</th>\n",
       "      <th>charges_total</th>\n",
       "    </tr>\n",
       "  </thead>\n",
       "  <tbody>\n",
       "    <tr>\n",
       "      <th>945</th>\n",
       "      <td>0</td>\n",
       "      <td>Two year</td>\n",
       "      <td>56.05</td>\n",
       "      <td>1345.2</td>\n",
       "    </tr>\n",
       "    <tr>\n",
       "      <th>1731</th>\n",
       "      <td>0</td>\n",
       "      <td>Two year</td>\n",
       "      <td>20.00</td>\n",
       "      <td>480.0</td>\n",
       "    </tr>\n",
       "    <tr>\n",
       "      <th>1906</th>\n",
       "      <td>0</td>\n",
       "      <td>Two year</td>\n",
       "      <td>61.90</td>\n",
       "      <td>1485.6</td>\n",
       "    </tr>\n",
       "    <tr>\n",
       "      <th>2176</th>\n",
       "      <td>0</td>\n",
       "      <td>Two year</td>\n",
       "      <td>20.25</td>\n",
       "      <td>486.0</td>\n",
       "    </tr>\n",
       "    <tr>\n",
       "      <th>2250</th>\n",
       "      <td>0</td>\n",
       "      <td>Two year</td>\n",
       "      <td>25.35</td>\n",
       "      <td>608.4</td>\n",
       "    </tr>\n",
       "    <tr>\n",
       "      <th>2855</th>\n",
       "      <td>0</td>\n",
       "      <td>Two year</td>\n",
       "      <td>73.35</td>\n",
       "      <td>1760.4</td>\n",
       "    </tr>\n",
       "    <tr>\n",
       "      <th>3052</th>\n",
       "      <td>0</td>\n",
       "      <td>Two year</td>\n",
       "      <td>25.75</td>\n",
       "      <td>618.0</td>\n",
       "    </tr>\n",
       "    <tr>\n",
       "      <th>3118</th>\n",
       "      <td>0</td>\n",
       "      <td>Two year</td>\n",
       "      <td>52.55</td>\n",
       "      <td>1261.2</td>\n",
       "    </tr>\n",
       "    <tr>\n",
       "      <th>4054</th>\n",
       "      <td>0</td>\n",
       "      <td>Two year</td>\n",
       "      <td>80.85</td>\n",
       "      <td>1940.4</td>\n",
       "    </tr>\n",
       "    <tr>\n",
       "      <th>5433</th>\n",
       "      <td>0</td>\n",
       "      <td>Two year</td>\n",
       "      <td>19.85</td>\n",
       "      <td>476.4</td>\n",
       "    </tr>\n",
       "  </tbody>\n",
       "</table>\n",
       "</div>"
      ],
      "text/plain": [
       "      tenure  contract  charges_monthly charges_total\n",
       "945        0  Two year            56.05        1345.2\n",
       "1731       0  Two year            20.00         480.0\n",
       "1906       0  Two year            61.90        1485.6\n",
       "2176       0  Two year            20.25         486.0\n",
       "2250       0  Two year            25.35         608.4\n",
       "2855       0  Two year            73.35        1760.4\n",
       "3052       0  Two year            25.75         618.0\n",
       "3118       0  Two year            52.55        1261.2\n",
       "4054       0  Two year            80.85        1940.4\n",
       "5433       0  Two year            19.85         476.4"
      ]
     },
     "execution_count": 119,
     "metadata": {},
     "output_type": "execute_result"
    }
   ],
   "source": [
    "df2.loc[idx2, ['tenure', 'contract', 'charges_monthly', 'charges_total']]"
   ]
  },
  {
   "cell_type": "code",
   "execution_count": 120,
   "id": "8985a663",
   "metadata": {
    "ExecuteTime": {
     "end_time": "2023-09-03T17:01:53.632398Z",
     "start_time": "2023-09-03T17:01:53.591397Z"
    },
    "hidden": true
   },
   "outputs": [],
   "source": [
    "df2['charges_total'] = df2['charges_total'].astype(np.float64)"
   ]
  },
  {
   "cell_type": "markdown",
   "id": "fd4168ca",
   "metadata": {
    "heading_collapsed": true,
    "hidden": true
   },
   "source": [
    "### 1.6.4. Tratar linhas com 'tenure' igual a 0"
   ]
  },
  {
   "cell_type": "code",
   "execution_count": 121,
   "id": "cb9021e1",
   "metadata": {
    "ExecuteTime": {
     "end_time": "2023-09-03T17:02:06.842687Z",
     "start_time": "2023-09-03T17:02:06.818681Z"
    },
    "hidden": true
   },
   "outputs": [],
   "source": [
    "idx = df2.loc[df2['tenure'] == 0, ['tenure', 'contract', 'charges_monthly', 'charges_total']].index"
   ]
  },
  {
   "cell_type": "code",
   "execution_count": 125,
   "id": "ec26f586",
   "metadata": {
    "ExecuteTime": {
     "end_time": "2023-09-03T17:03:08.829476Z",
     "start_time": "2023-09-03T17:03:08.808241Z"
    },
    "hidden": true
   },
   "outputs": [],
   "source": [
    "df2.loc[idx, 'tenure'] = np.ceil(df2['charges_total'] / df2['charges_monthly']).astype(np.int64)"
   ]
  },
  {
   "cell_type": "code",
   "execution_count": 126,
   "id": "26bafb38",
   "metadata": {
    "ExecuteTime": {
     "end_time": "2023-09-03T17:03:12.584498Z",
     "start_time": "2023-09-03T17:03:12.555611Z"
    },
    "hidden": true
   },
   "outputs": [
    {
     "data": {
      "text/html": [
       "<div>\n",
       "<style scoped>\n",
       "    .dataframe tbody tr th:only-of-type {\n",
       "        vertical-align: middle;\n",
       "    }\n",
       "\n",
       "    .dataframe tbody tr th {\n",
       "        vertical-align: top;\n",
       "    }\n",
       "\n",
       "    .dataframe thead th {\n",
       "        text-align: right;\n",
       "    }\n",
       "</style>\n",
       "<table border=\"1\" class=\"dataframe\">\n",
       "  <thead>\n",
       "    <tr style=\"text-align: right;\">\n",
       "      <th></th>\n",
       "      <th>tenure</th>\n",
       "      <th>contract</th>\n",
       "      <th>charges_monthly</th>\n",
       "      <th>charges_total</th>\n",
       "    </tr>\n",
       "  </thead>\n",
       "  <tbody>\n",
       "    <tr>\n",
       "      <th>945</th>\n",
       "      <td>24</td>\n",
       "      <td>Two year</td>\n",
       "      <td>56.05</td>\n",
       "      <td>1345.2</td>\n",
       "    </tr>\n",
       "    <tr>\n",
       "      <th>1731</th>\n",
       "      <td>24</td>\n",
       "      <td>Two year</td>\n",
       "      <td>20.00</td>\n",
       "      <td>480.0</td>\n",
       "    </tr>\n",
       "    <tr>\n",
       "      <th>1906</th>\n",
       "      <td>24</td>\n",
       "      <td>Two year</td>\n",
       "      <td>61.90</td>\n",
       "      <td>1485.6</td>\n",
       "    </tr>\n",
       "    <tr>\n",
       "      <th>2025</th>\n",
       "      <td>12</td>\n",
       "      <td>One year</td>\n",
       "      <td>19.70</td>\n",
       "      <td>236.4</td>\n",
       "    </tr>\n",
       "    <tr>\n",
       "      <th>2176</th>\n",
       "      <td>24</td>\n",
       "      <td>Two year</td>\n",
       "      <td>20.25</td>\n",
       "      <td>486.0</td>\n",
       "    </tr>\n",
       "    <tr>\n",
       "      <th>2250</th>\n",
       "      <td>25</td>\n",
       "      <td>Two year</td>\n",
       "      <td>25.35</td>\n",
       "      <td>608.4</td>\n",
       "    </tr>\n",
       "    <tr>\n",
       "      <th>2855</th>\n",
       "      <td>24</td>\n",
       "      <td>Two year</td>\n",
       "      <td>73.35</td>\n",
       "      <td>1760.4</td>\n",
       "    </tr>\n",
       "    <tr>\n",
       "      <th>3052</th>\n",
       "      <td>24</td>\n",
       "      <td>Two year</td>\n",
       "      <td>25.75</td>\n",
       "      <td>618.0</td>\n",
       "    </tr>\n",
       "    <tr>\n",
       "      <th>3118</th>\n",
       "      <td>24</td>\n",
       "      <td>Two year</td>\n",
       "      <td>52.55</td>\n",
       "      <td>1261.2</td>\n",
       "    </tr>\n",
       "    <tr>\n",
       "      <th>4054</th>\n",
       "      <td>24</td>\n",
       "      <td>Two year</td>\n",
       "      <td>80.85</td>\n",
       "      <td>1940.4</td>\n",
       "    </tr>\n",
       "    <tr>\n",
       "      <th>5433</th>\n",
       "      <td>24</td>\n",
       "      <td>Two year</td>\n",
       "      <td>19.85</td>\n",
       "      <td>476.4</td>\n",
       "    </tr>\n",
       "  </tbody>\n",
       "</table>\n",
       "</div>"
      ],
      "text/plain": [
       "      tenure  contract  charges_monthly  charges_total\n",
       "945       24  Two year            56.05         1345.2\n",
       "1731      24  Two year            20.00          480.0\n",
       "1906      24  Two year            61.90         1485.6\n",
       "2025      12  One year            19.70          236.4\n",
       "2176      24  Two year            20.25          486.0\n",
       "2250      25  Two year            25.35          608.4\n",
       "2855      24  Two year            73.35         1760.4\n",
       "3052      24  Two year            25.75          618.0\n",
       "3118      24  Two year            52.55         1261.2\n",
       "4054      24  Two year            80.85         1940.4\n",
       "5433      24  Two year            19.85          476.4"
      ]
     },
     "execution_count": 126,
     "metadata": {},
     "output_type": "execute_result"
    }
   ],
   "source": [
    "df2.loc[idx, ['tenure', 'contract', 'charges_monthly', 'charges_total']]"
   ]
  },
  {
   "cell_type": "markdown",
   "id": "208382de",
   "metadata": {
    "heading_collapsed": true,
    "hidden": true
   },
   "source": [
    "### 1.6.5. Remover coluna customer"
   ]
  },
  {
   "cell_type": "code",
   "execution_count": 127,
   "id": "3533dd7d",
   "metadata": {
    "ExecuteTime": {
     "end_time": "2023-09-03T17:03:20.468721Z",
     "start_time": "2023-09-03T17:03:20.435160Z"
    },
    "hidden": true
   },
   "outputs": [],
   "source": [
    "df2.drop('customer', axis=1, inplace=True)"
   ]
  },
  {
   "cell_type": "markdown",
   "id": "c3ac537e",
   "metadata": {
    "heading_collapsed": true,
    "hidden": true
   },
   "source": [
    "### 1.6.6. Converter senior_citizen em categórico ('Yes', 'No')"
   ]
  },
  {
   "cell_type": "code",
   "execution_count": 135,
   "id": "6156887a",
   "metadata": {
    "ExecuteTime": {
     "end_time": "2023-09-03T17:17:17.548482Z",
     "start_time": "2023-09-03T17:17:17.526962Z"
    },
    "hidden": true
   },
   "outputs": [],
   "source": [
    "# Converter senior_citizen em categórico ('Yes', 'No')\n",
    "df2['senior_citizen'] = df2['senior_citizen'].map({0: 'No', 1: 'Yes'})"
   ]
  },
  {
   "cell_type": "code",
   "execution_count": 136,
   "id": "9218a5ee",
   "metadata": {
    "ExecuteTime": {
     "end_time": "2023-09-03T17:17:19.783193Z",
     "start_time": "2023-09-03T17:17:19.612025Z"
    },
    "hidden": true
   },
   "outputs": [
    {
     "data": {
      "text/html": [
       "<div>\n",
       "<style scoped>\n",
       "    .dataframe tbody tr th:only-of-type {\n",
       "        vertical-align: middle;\n",
       "    }\n",
       "\n",
       "    .dataframe tbody tr th {\n",
       "        vertical-align: top;\n",
       "    }\n",
       "\n",
       "    .dataframe thead th {\n",
       "        text-align: right;\n",
       "    }\n",
       "</style>\n",
       "<table border=\"1\" class=\"dataframe\">\n",
       "  <thead>\n",
       "    <tr style=\"text-align: right;\">\n",
       "      <th></th>\n",
       "      <th>count</th>\n",
       "      <th>content</th>\n",
       "    </tr>\n",
       "  </thead>\n",
       "  <tbody>\n",
       "    <tr>\n",
       "      <th>churn</th>\n",
       "      <td>2</td>\n",
       "      <td>[No, Yes]</td>\n",
       "    </tr>\n",
       "    <tr>\n",
       "      <th>gender</th>\n",
       "      <td>2</td>\n",
       "      <td>[Female, Male]</td>\n",
       "    </tr>\n",
       "    <tr>\n",
       "      <th>senior_citizen</th>\n",
       "      <td>2</td>\n",
       "      <td>[No, Yes]</td>\n",
       "    </tr>\n",
       "    <tr>\n",
       "      <th>partner</th>\n",
       "      <td>2</td>\n",
       "      <td>[Yes, No]</td>\n",
       "    </tr>\n",
       "    <tr>\n",
       "      <th>dependents</th>\n",
       "      <td>2</td>\n",
       "      <td>[Yes, No]</td>\n",
       "    </tr>\n",
       "    <tr>\n",
       "      <th>tenure</th>\n",
       "      <td>72</td>\n",
       "      <td>[9, 4, 13, 3, 71, 63, 7, 65, 54, 72, 5, 56, 34...</td>\n",
       "    </tr>\n",
       "    <tr>\n",
       "      <th>phone_service</th>\n",
       "      <td>2</td>\n",
       "      <td>[Yes, No]</td>\n",
       "    </tr>\n",
       "    <tr>\n",
       "      <th>multiple_lines</th>\n",
       "      <td>2</td>\n",
       "      <td>[No, Yes]</td>\n",
       "    </tr>\n",
       "    <tr>\n",
       "      <th>internet_service</th>\n",
       "      <td>3</td>\n",
       "      <td>[DSL, Fiber optic, No]</td>\n",
       "    </tr>\n",
       "    <tr>\n",
       "      <th>online_security</th>\n",
       "      <td>2</td>\n",
       "      <td>[No, Yes]</td>\n",
       "    </tr>\n",
       "    <tr>\n",
       "      <th>online_backup</th>\n",
       "      <td>2</td>\n",
       "      <td>[Yes, No]</td>\n",
       "    </tr>\n",
       "    <tr>\n",
       "      <th>device_protection</th>\n",
       "      <td>2</td>\n",
       "      <td>[No, Yes]</td>\n",
       "    </tr>\n",
       "    <tr>\n",
       "      <th>tech_support</th>\n",
       "      <td>2</td>\n",
       "      <td>[Yes, No]</td>\n",
       "    </tr>\n",
       "    <tr>\n",
       "      <th>streaming_tv</th>\n",
       "      <td>2</td>\n",
       "      <td>[Yes, No]</td>\n",
       "    </tr>\n",
       "    <tr>\n",
       "      <th>streaming_movies</th>\n",
       "      <td>2</td>\n",
       "      <td>[No, Yes]</td>\n",
       "    </tr>\n",
       "    <tr>\n",
       "      <th>contract</th>\n",
       "      <td>3</td>\n",
       "      <td>[One year, Month-to-month, Two year]</td>\n",
       "    </tr>\n",
       "    <tr>\n",
       "      <th>paperless_billing</th>\n",
       "      <td>2</td>\n",
       "      <td>[Yes, No]</td>\n",
       "    </tr>\n",
       "    <tr>\n",
       "      <th>payment_method</th>\n",
       "      <td>4</td>\n",
       "      <td>[Mailed check, Electronic check, Credit card (...</td>\n",
       "    </tr>\n",
       "    <tr>\n",
       "      <th>charges_monthly</th>\n",
       "      <td>1585</td>\n",
       "      <td>[65.6, 59.9, 73.9, 98.0, 83.9, 69.4, 109.7, 84...</td>\n",
       "    </tr>\n",
       "    <tr>\n",
       "      <th>charges_total</th>\n",
       "      <td>6541</td>\n",
       "      <td>[593.3, 542.4, 280.85, 1237.85, 267.4, 571.45,...</td>\n",
       "    </tr>\n",
       "  </tbody>\n",
       "</table>\n",
       "</div>"
      ],
      "text/plain": [
       "                   count                                            content\n",
       "churn                  2                                          [No, Yes]\n",
       "gender                 2                                     [Female, Male]\n",
       "senior_citizen         2                                          [No, Yes]\n",
       "partner                2                                          [Yes, No]\n",
       "dependents             2                                          [Yes, No]\n",
       "tenure                72  [9, 4, 13, 3, 71, 63, 7, 65, 54, 72, 5, 56, 34...\n",
       "phone_service          2                                          [Yes, No]\n",
       "multiple_lines         2                                          [No, Yes]\n",
       "internet_service       3                             [DSL, Fiber optic, No]\n",
       "online_security        2                                          [No, Yes]\n",
       "online_backup          2                                          [Yes, No]\n",
       "device_protection      2                                          [No, Yes]\n",
       "tech_support           2                                          [Yes, No]\n",
       "streaming_tv           2                                          [Yes, No]\n",
       "streaming_movies       2                                          [No, Yes]\n",
       "contract               3               [One year, Month-to-month, Two year]\n",
       "paperless_billing      2                                          [Yes, No]\n",
       "payment_method         4  [Mailed check, Electronic check, Credit card (...\n",
       "charges_monthly     1585  [65.6, 59.9, 73.9, 98.0, 83.9, 69.4, 109.7, 84...\n",
       "charges_total       6541  [593.3, 542.4, 280.85, 1237.85, 267.4, 571.45,..."
      ]
     },
     "execution_count": 136,
     "metadata": {},
     "output_type": "execute_result"
    }
   ],
   "source": [
    "tab_unique(df2)"
   ]
  },
  {
   "cell_type": "markdown",
   "id": "fd5aa9f4",
   "metadata": {},
   "source": [
    "## 1.8. Descriptive Statics"
   ]
  },
  {
   "cell_type": "code",
   "execution_count": 139,
   "id": "f9957aef",
   "metadata": {
    "ExecuteTime": {
     "end_time": "2023-09-03T17:19:08.207672Z",
     "start_time": "2023-09-03T17:19:08.180490Z"
    }
   },
   "outputs": [],
   "source": [
    "# Separar os tipos de dados categóricos dos numéricos\n",
    "df_num = df2.select_dtypes(include = ['int64', 'float64'])\n",
    "df_cat = df2.select_dtypes(exclude = ['int64', 'float64'])"
   ]
  },
  {
   "cell_type": "markdown",
   "id": "585544f1",
   "metadata": {
    "heading_collapsed": true
   },
   "source": [
    "### 1.7.1. Numerical attributes"
   ]
  },
  {
   "cell_type": "markdown",
   "id": "8109e58b",
   "metadata": {
    "hidden": true
   },
   "source": [
    "Nome | Descrição\n",
    "--|--\n",
    "tenure |  meses de contrato do cliente\n",
    "Charges.Monthly | total de todos os serviços do cliente por mês\n",
    "Charges.Total | total gasto pelo cliente"
   ]
  },
  {
   "cell_type": "code",
   "execution_count": 142,
   "id": "39a15b20",
   "metadata": {
    "ExecuteTime": {
     "end_time": "2023-09-03T17:19:59.893725Z",
     "start_time": "2023-09-03T17:19:59.797586Z"
    },
    "hidden": true
   },
   "outputs": [
    {
     "data": {
      "text/html": [
       "<div>\n",
       "<style scoped>\n",
       "    .dataframe tbody tr th:only-of-type {\n",
       "        vertical-align: middle;\n",
       "    }\n",
       "\n",
       "    .dataframe tbody tr th {\n",
       "        vertical-align: top;\n",
       "    }\n",
       "\n",
       "    .dataframe thead th {\n",
       "        text-align: right;\n",
       "    }\n",
       "</style>\n",
       "<table border=\"1\" class=\"dataframe\">\n",
       "  <thead>\n",
       "    <tr style=\"text-align: right;\">\n",
       "      <th></th>\n",
       "      <th>count</th>\n",
       "      <th>mean</th>\n",
       "      <th>std</th>\n",
       "      <th>min</th>\n",
       "      <th>25%</th>\n",
       "      <th>50%</th>\n",
       "      <th>75%</th>\n",
       "      <th>max</th>\n",
       "      <th>range</th>\n",
       "      <th>skew</th>\n",
       "      <th>kurtosis</th>\n",
       "    </tr>\n",
       "  </thead>\n",
       "  <tbody>\n",
       "    <tr>\n",
       "      <th>tenure</th>\n",
       "      <td>7043.0</td>\n",
       "      <td>32.407071</td>\n",
       "      <td>24.529292</td>\n",
       "      <td>1.00</td>\n",
       "      <td>9.0</td>\n",
       "      <td>29.00</td>\n",
       "      <td>55.00</td>\n",
       "      <td>72.00</td>\n",
       "      <td>71.0</td>\n",
       "      <td>0.239486</td>\n",
       "      <td>-1.385484</td>\n",
       "    </tr>\n",
       "    <tr>\n",
       "      <th>charges_monthly</th>\n",
       "      <td>7043.0</td>\n",
       "      <td>64.761692</td>\n",
       "      <td>30.090047</td>\n",
       "      <td>18.25</td>\n",
       "      <td>35.5</td>\n",
       "      <td>70.35</td>\n",
       "      <td>89.85</td>\n",
       "      <td>118.75</td>\n",
       "      <td>100.5</td>\n",
       "      <td>-0.220524</td>\n",
       "      <td>-1.257260</td>\n",
       "    </tr>\n",
       "    <tr>\n",
       "      <th>charges_total</th>\n",
       "      <td>7043.0</td>\n",
       "      <td>2281.253259</td>\n",
       "      <td>2265.703526</td>\n",
       "      <td>18.80</td>\n",
       "      <td>401.9</td>\n",
       "      <td>1396.25</td>\n",
       "      <td>3786.60</td>\n",
       "      <td>8684.80</td>\n",
       "      <td>8666.0</td>\n",
       "      <td>0.963745</td>\n",
       "      <td>-0.227068</td>\n",
       "    </tr>\n",
       "  </tbody>\n",
       "</table>\n",
       "</div>"
      ],
      "text/plain": [
       "                  count         mean          std    min    25%      50%  \\\n",
       "tenure           7043.0    32.407071    24.529292   1.00    9.0    29.00   \n",
       "charges_monthly  7043.0    64.761692    30.090047  18.25   35.5    70.35   \n",
       "charges_total    7043.0  2281.253259  2265.703526  18.80  401.9  1396.25   \n",
       "\n",
       "                     75%      max   range      skew  kurtosis  \n",
       "tenure             55.00    72.00    71.0  0.239486 -1.385484  \n",
       "charges_monthly    89.85   118.75   100.5 -0.220524 -1.257260  \n",
       "charges_total    3786.60  8684.80  8666.0  0.963745 -0.227068  "
      ]
     },
     "execution_count": 142,
     "metadata": {},
     "output_type": "execute_result"
    }
   ],
   "source": [
    "# Incluir: Range, kurtosis, skew e std \n",
    "num_describe = df_num.describe().T\n",
    "num_describe['range'] = pd.DataFrame(df_num.apply(lambda x: x.max() - x.min()))\n",
    "num_describe['skew'] = pd.DataFrame(df_num.apply(lambda x: x.skew()))\n",
    "num_describe['kurtosis'] = pd.DataFrame(df_num.apply(lambda x: x.kurtosis()))\n",
    "num_describe"
   ]
  },
  {
   "cell_type": "code",
   "execution_count": 400,
   "id": "28202d63",
   "metadata": {
    "ExecuteTime": {
     "end_time": "2023-09-04T13:09:28.188126Z",
     "start_time": "2023-09-04T13:09:24.021754Z"
    },
    "hidden": true
   },
   "outputs": [
    {
     "data": {
      "image/png": "[encoded data removed]",
      "text/plain": [
       "<Figure size 864x360 with 2 Axes>"
      ]
     },
     "metadata": {
      "needs_background": "light"
     },
     "output_type": "display_data"
    },
    {
     "data": {
      "image/png": "[encoded data removed]",
      "text/plain": [
       "<Figure size 864x360 with 2 Axes>"
      ]
     },
     "metadata": {
      "needs_background": "light"
     },
     "output_type": "display_data"
    },
    {
     "data": {
      "image/png": "[encoded data removed]",
      "text/plain": [
       "<Figure size 864x360 with 2 Axes>"
      ]
     },
     "metadata": {
      "needs_background": "light"
     },
     "output_type": "display_data"
    }
   ],
   "source": [
    "def grafics_num_attribute(df, col):\n",
    "    # Calcular a média e a mediana\n",
    "    mean_value = np.mean(df[col])\n",
    "    median_value = np.median(df[col])\n",
    "    std_low = mean_value - np.std(df[col])\n",
    "    std_high = mean_value + np.std(df[col])\n",
    "\n",
    "    # Criação dos subplots\n",
    "    fig, (ax1, ax2) = plt.subplots(1, 2, figsize=(12, 5))\n",
    "\n",
    "    # Plotagem do histograma no primeiro subplot\n",
    "    ax1.hist(df[col], bins=20, edgecolor='black', alpha=0.7, color=paleta_personalizada['black'])\n",
    "    ax1.axvline(mean_value, color=paleta_personalizada['pink'], linewidth=2, label='Média')\n",
    "    ax1.axvline(median_value, color=paleta_personalizada['purple'], linewidth=2, label='Mediana')\n",
    "    ax1.axvline(std_low, color=paleta_personalizada['pink'], linestyle='dashed', linewidth=2, label='Low std')\n",
    "    ax1.axvline(std_high, color=paleta_personalizada['pink'], linestyle='dashed', linewidth=2, label='High std')\n",
    "    ax1.set_xlabel(col)\n",
    "    ax1.set_ylabel('Frequência')\n",
    "    ax1.set_title(f'Histograma de {col}', fontsize=14, fontweight='bold')\n",
    "    ax1.legend()\n",
    "\n",
    "    # Plotagem do boxplot no segundo subplot\n",
    "    ax2.boxplot(df[col], vert=False, medianprops={'color': paleta_personalizada['purple'], 'linewidth': 2})\n",
    "    ax2.set_xlabel(col)\n",
    "    ax2.set_title(f'Boxplot de {col} c/ mediana', fontsize=14, fontweight='bold')\n",
    "\n",
    "    # Ajustar espaçamento entre os subplots\n",
    "    plt.tight_layout()\n",
    "\n",
    "    # Exibir os subplots\n",
    "    plt.show()\n",
    "\n",
    "# Chamar a função para cada atributo\n",
    "for col in ['tenure', 'charges_monthly', 'charges_total']:\n",
    "    grafics_num_attribute(df_num, col)"
   ]
  },
  {
   "cell_type": "markdown",
   "id": "0f61a3d4",
   "metadata": {
    "heading_collapsed": true
   },
   "source": [
    "### 1.7.2. Categorical attributes"
   ]
  },
  {
   "cell_type": "markdown",
   "id": "71800152",
   "metadata": {
    "heading_collapsed": true,
    "hidden": true
   },
   "source": [
    "#### 1.7.2.1. Binary columns"
   ]
  },
  {
   "cell_type": "markdown",
   "id": "8fbf7b09",
   "metadata": {
    "hidden": true
   },
   "source": [
    "Nome | Descrição\n",
    "--|--\n",
    "Churn | se o cliente deixou ou não a empresa \n",
    "gender | gênero (masculino e feminino) \n",
    "SeniorCitizen | informação sobre um cliente ter ou não idade igual ou maior que 65 anos \n",
    "Partner |  se o cliente possui ou não um parceiro ou parceira\n",
    "Dependents | se o cliente possui ou não dependentes\n",
    "PhoneService | assinatura de serviço telefônico \n",
    "MultipleLines | assisnatura de mais de uma linha de telefone \n",
    "OnlineSecurity | assinatura adicional de segurança online \n",
    "OnlineBackup | assinatura adicional de backup online \n",
    "DeviceProtection | assinatura adicional de proteção no dispositivo \n",
    "TechSupport | assinatura adicional de suporte técnico, menos tempo de espera\n",
    "StreamingTV | assinatura de TV a cabo \n",
    "StreamingMovies | assinatura de streaming de filmes \n",
    "PaperlessBilling | se o cliente prefere receber online a fatura"
   ]
  },
  {
   "cell_type": "code",
   "execution_count": 283,
   "id": "dbe780e8",
   "metadata": {
    "ExecuteTime": {
     "end_time": "2023-09-03T20:04:08.653224Z",
     "start_time": "2023-09-03T20:04:08.410946Z"
    },
    "hidden": true
   },
   "outputs": [],
   "source": [
    "binary_cols = list(tab_unique(df_cat).query('count == 2').T.columns)\n",
    "\n",
    "# Remover gender\n",
    "yes_no_cols = ['churn', 'senior_citizen', 'partner', 'dependents', 'phone_service', \n",
    "               'multiple_lines', 'online_security', 'online_backup', 'device_protection',\n",
    "               'tech_support', 'streaming_tv', 'streaming_movies', 'paperless_billing']"
   ]
  },
  {
   "cell_type": "code",
   "execution_count": 285,
   "id": "1960c740",
   "metadata": {
    "ExecuteTime": {
     "end_time": "2023-09-03T20:04:23.528957Z",
     "start_time": "2023-09-03T20:04:23.454947Z"
    },
    "hidden": true
   },
   "outputs": [
    {
     "name": "stdout",
     "output_type": "stream",
     "text": [
      "churn ['No' 'Yes']\n",
      "senior_citizen ['No' 'Yes']\n",
      "partner ['Yes' 'No']\n",
      "dependents ['Yes' 'No']\n",
      "phone_service ['Yes' 'No']\n",
      "multiple_lines ['No' 'Yes']\n",
      "online_security ['No' 'Yes']\n",
      "online_backup ['Yes' 'No']\n",
      "device_protection ['No' 'Yes']\n",
      "tech_support ['Yes' 'No']\n",
      "streaming_tv ['Yes' 'No']\n",
      "streaming_movies ['No' 'Yes']\n",
      "paperless_billing ['Yes' 'No']\n"
     ]
    }
   ],
   "source": [
    "df_yes_no = df_cat.loc[:, yes_no_cols]\n",
    "\n",
    "for col in df_yes_no.columns:\n",
    "    print(col, df_yes_no[col].unique())"
   ]
  },
  {
   "cell_type": "markdown",
   "id": "57a68bb1",
   "metadata": {
    "ExecuteTime": {
     "end_time": "2023-09-03T20:05:10.512375Z",
     "start_time": "2023-09-03T20:05:10.494367Z"
    },
    "hidden": true
   },
   "source": [
    "##### 1.7.2.1.2. Yes No columns"
   ]
  },
  {
   "cell_type": "code",
   "execution_count": 353,
   "id": "78555aa6",
   "metadata": {
    "ExecuteTime": {
     "end_time": "2023-09-04T00:04:17.077080Z",
     "start_time": "2023-09-04T00:04:16.943219Z"
    },
    "hidden": true
   },
   "outputs": [
    {
     "data": {
      "text/html": [
       "<div>\n",
       "<style scoped>\n",
       "    .dataframe tbody tr th:only-of-type {\n",
       "        vertical-align: middle;\n",
       "    }\n",
       "\n",
       "    .dataframe tbody tr th {\n",
       "        vertical-align: top;\n",
       "    }\n",
       "\n",
       "    .dataframe thead th {\n",
       "        text-align: right;\n",
       "    }\n",
       "</style>\n",
       "<table border=\"1\" class=\"dataframe\">\n",
       "  <thead>\n",
       "    <tr style=\"text-align: right;\">\n",
       "      <th></th>\n",
       "      <th>No</th>\n",
       "      <th>Yes</th>\n",
       "    </tr>\n",
       "  </thead>\n",
       "  <tbody>\n",
       "    <tr>\n",
       "      <th>senior_citizen</th>\n",
       "      <td>83.785319</td>\n",
       "      <td>16.214681</td>\n",
       "    </tr>\n",
       "    <tr>\n",
       "      <th>churn</th>\n",
       "      <td>73.463013</td>\n",
       "      <td>26.536987</td>\n",
       "    </tr>\n",
       "    <tr>\n",
       "      <th>online_security</th>\n",
       "      <td>71.333239</td>\n",
       "      <td>28.666761</td>\n",
       "    </tr>\n",
       "    <tr>\n",
       "      <th>tech_support</th>\n",
       "      <td>70.978276</td>\n",
       "      <td>29.021724</td>\n",
       "    </tr>\n",
       "    <tr>\n",
       "      <th>dependents</th>\n",
       "      <td>70.041176</td>\n",
       "      <td>29.958824</td>\n",
       "    </tr>\n",
       "    <tr>\n",
       "      <th>device_protection</th>\n",
       "      <td>65.611245</td>\n",
       "      <td>34.388755</td>\n",
       "    </tr>\n",
       "    <tr>\n",
       "      <th>online_backup</th>\n",
       "      <td>65.511856</td>\n",
       "      <td>34.488144</td>\n",
       "    </tr>\n",
       "    <tr>\n",
       "      <th>streaming_tv</th>\n",
       "      <td>61.564674</td>\n",
       "      <td>38.435326</td>\n",
       "    </tr>\n",
       "    <tr>\n",
       "      <th>streaming_movies</th>\n",
       "      <td>61.209712</td>\n",
       "      <td>38.790288</td>\n",
       "    </tr>\n",
       "    <tr>\n",
       "      <th>multiple_lines</th>\n",
       "      <td>57.816271</td>\n",
       "      <td>42.183729</td>\n",
       "    </tr>\n",
       "    <tr>\n",
       "      <th>partner</th>\n",
       "      <td>51.696720</td>\n",
       "      <td>48.303280</td>\n",
       "    </tr>\n",
       "    <tr>\n",
       "      <th>paperless_billing</th>\n",
       "      <td>40.778078</td>\n",
       "      <td>59.221922</td>\n",
       "    </tr>\n",
       "    <tr>\n",
       "      <th>phone_service</th>\n",
       "      <td>9.683374</td>\n",
       "      <td>90.316626</td>\n",
       "    </tr>\n",
       "  </tbody>\n",
       "</table>\n",
       "</div>"
      ],
      "text/plain": [
       "                          No        Yes\n",
       "senior_citizen     83.785319  16.214681\n",
       "churn              73.463013  26.536987\n",
       "online_security    71.333239  28.666761\n",
       "tech_support       70.978276  29.021724\n",
       "dependents         70.041176  29.958824\n",
       "device_protection  65.611245  34.388755\n",
       "online_backup      65.511856  34.488144\n",
       "streaming_tv       61.564674  38.435326\n",
       "streaming_movies   61.209712  38.790288\n",
       "multiple_lines     57.816271  42.183729\n",
       "partner            51.696720  48.303280\n",
       "paperless_billing  40.778078  59.221922\n",
       "phone_service       9.683374  90.316626"
      ]
     },
     "execution_count": 353,
     "metadata": {},
     "output_type": "execute_result"
    }
   ],
   "source": [
    "# Constroi tabela com % de cada categoria\n",
    "def make_table_yes_no(df, col):\n",
    "    table_yes_no[col] = df[col].value_counts(normalize=True) * 100\n",
    "    return table_yes_no\n",
    "\n",
    "# Colunas com categorias 'Yes' e 'No'\n",
    "list_yes_no = yes_no_cols\n",
    "\n",
    "table_yes_no = df2['senior_citizen'].value_counts(normalize=True).to_frame() * 100\n",
    "for col in list_yes_no:\n",
    "    table_yes_no = make_table_yes_no(df_cat, col)\n",
    "    \n",
    "table_yes_no = table_yes_no.T\n",
    "table_yes_no_sorted = table_yes_no.sort_values(by='Yes', ascending=True)\n",
    "table_yes_no_sorted"
   ]
  },
  {
   "cell_type": "code",
   "execution_count": 393,
   "id": "afaedcb4",
   "metadata": {
    "ExecuteTime": {
     "end_time": "2023-09-04T13:04:28.678668Z",
     "start_time": "2023-09-04T13:04:27.597590Z"
    },
    "hidden": true
   },
   "outputs": [
    {
     "name": "stderr",
     "output_type": "stream",
     "text": [
      "No artists with labels found to put in legend.  Note that artists whose label start with an underscore are ignored when legend() is called with no argument.\n"
     ]
    },
    {
     "data": {
      "image/png": "[encoded data removed]",
      "text/plain": [
       "<Figure size 1080x648 with 1 Axes>"
      ]
     },
     "metadata": {
      "needs_background": "light"
     },
     "output_type": "display_data"
    }
   ],
   "source": [
    "# Crie um gráfico de barras empilhadas horizontal\n",
    "fig, ax = plt.subplots(figsize=(15, 9))\n",
    "\n",
    "# Primeira camada (valores \"Yes\")\n",
    "ax.barh(table_yes_no_sorted.index, table_yes_no_sorted['No'], color=paleta_personalizada['black'])\n",
    "\n",
    "# Segunda camada (valores \"No\")\n",
    "ax.barh(table_yes_no_sorted.index, table_yes_no_sorted['Yes'], left=table_yes_no_sorted['No'], color=paleta_personalizada['pink'])\n",
    "\n",
    "# Adicionar \"Yes\" com uma cor diferente\n",
    "ax.text(0, 1, '% de dados nas categorias binárias do tipo: No | ', color=paleta_personalizada['black'], fontsize=16, fontweight='bold', transform=ax.transAxes)\n",
    "ax.text(0.52, 1, '  Yes', color=paleta_personalizada['pink'], fontsize=16, fontweight='bold', transform=ax.transAxes)\n",
    "ax.yaxis.set_tick_params(labelsize=12)\n",
    "\n",
    "ax.legend(loc='upper center', ncol=2, frameon=False).set_visible(False)\n",
    "ax.set_frame_on(False)\n",
    "ax.get_xaxis().set_visible(False)\n",
    "ax.tick_params(axis='both', which='both', length=0)\n",
    "    \n",
    "# Adicionar os valores dentro das barras\n",
    "for c in ax.containers:\n",
    "    labels = [f'{w:0.1f}%' if (w := v.get_width()) > 0 else '' for v in c]\n",
    "    ax.bar_label(c, labels=labels, label_type='center', padding=0.3, color='w', fontsize=12, fontweight='bold')\n",
    "    \n",
    "plt.show();"
   ]
  },
  {
   "cell_type": "markdown",
   "id": "e2a95acc",
   "metadata": {
    "ExecuteTime": {
     "end_time": "2023-09-03T19:10:26.921766Z",
     "start_time": "2023-09-03T19:10:26.888760Z"
    },
    "hidden": true
   },
   "source": [
    "Nome | Descrição\n",
    "--|--\n",
    "InternetService | assinatura de um provedor internet \n",
    "Contract | tipo de contrato\n",
    "PaymentMethod | forma de pagamento"
   ]
  },
  {
   "cell_type": "code",
   "execution_count": 187,
   "id": "dd9d9f64",
   "metadata": {
    "ExecuteTime": {
     "end_time": "2023-09-03T18:14:28.151090Z",
     "start_time": "2023-09-03T18:14:28.005884Z"
    },
    "hidden": true
   },
   "outputs": [
    {
     "name": "stdout",
     "output_type": "stream",
     "text": [
      "internet_service ['DSL' 'Fiber optic' 'No']\n",
      "contract ['One year' 'Month-to-month' 'Two year']\n",
      "payment_method ['Mailed check' 'Electronic check' 'Credit card (automatic)'\n",
      " 'Bank transfer (automatic)']\n"
     ]
    }
   ],
   "source": [
    "# Selecionar apenas as colunas categóricas NÃO binárias\n",
    "not_binary_cols = list(tab_unique(df_cat).query('count > 2').T.columns)\n",
    "df_cat_not_binary = df_cat.loc[:, not_binary_cols]\n",
    "\n",
    "for col in df_cat_not_binary.columns:\n",
    "    print(col, df_cat_not_binary[col].unique())"
   ]
  },
  {
   "cell_type": "code",
   "execution_count": 244,
   "id": "6a793d15",
   "metadata": {
    "ExecuteTime": {
     "end_time": "2023-09-03T19:24:42.520971Z",
     "start_time": "2023-09-03T19:24:42.504966Z"
    },
    "hidden": true
   },
   "outputs": [
    {
     "data": {
      "text/plain": [
       "['internet_service', 'contract', 'payment_method']"
      ]
     },
     "execution_count": 244,
     "metadata": {},
     "output_type": "execute_result"
    }
   ],
   "source": [
    "not_binary_cols"
   ]
  },
  {
   "cell_type": "markdown",
   "id": "4c9324dd",
   "metadata": {
    "heading_collapsed": true,
    "hidden": true
   },
   "source": [
    "#### 1.7.2.2. internet_service"
   ]
  },
  {
   "cell_type": "markdown",
   "id": "6b0c8500",
   "metadata": {
    "ExecuteTime": {
     "end_time": "2023-09-04T13:15:22.720130Z",
     "start_time": "2023-09-04T13:15:22.688205Z"
    },
    "hidden": true
   },
   "source": [
    "Nome | Descrição\n",
    "--|--\n",
    "InternetService | assinatura de um provedor internet "
   ]
  },
  {
   "cell_type": "code",
   "execution_count": 395,
   "id": "429b8445",
   "metadata": {
    "ExecuteTime": {
     "end_time": "2023-09-04T13:06:06.841670Z",
     "start_time": "2023-09-04T13:06:06.550155Z"
    },
    "hidden": true
   },
   "outputs": [
    {
     "data": {
      "image/png": "[encoded data removed]",
      "text/plain": [
       "<Figure size 864x360 with 1 Axes>"
      ]
     },
     "metadata": {
      "needs_background": "light"
     },
     "output_type": "display_data"
    }
   ],
   "source": [
    "col = 'internet_service'\n",
    "\n",
    "aux = df_cat_not_binary[col].value_counts(normalize=True).to_frame() * 100\n",
    "aux = aux.sort_values(col, ascending = False)\n",
    "\n",
    "cores = ['#ff7131' if tipo == aux[col].idxmin() else 'silver' for tipo in aux.index]\n",
    "\n",
    "fig, ax = plt.subplots(figsize=(12, 5))\n",
    "ax.barh(aux.index, aux[col], color=cores)\n",
    "ax.set_title('Apenas 21,7 % dos clientes não têm um provedor de internet', loc='left', fontsize=16, fontweight='bold')\n",
    "ax.yaxis.set_tick_params(labelsize=14)\n",
    "\n",
    "for i, v in enumerate(aux[col]):\n",
    "    formatted_value = '{:.1f}%'.format(v)\n",
    "    ax.text(v + 1, i, formatted_value, color='black', fontsize=12, ha='left', va='center')\n",
    "    \n",
    "ax.set_frame_on(False)\n",
    "ax.get_xaxis().set_visible(False)\n",
    "ax.tick_params(axis='both', which='both', length=0)\n",
    "\n",
    "plt.show()"
   ]
  },
  {
   "cell_type": "markdown",
   "id": "8f283501",
   "metadata": {
    "hidden": true
   },
   "source": [
    "#### 1.7.2.4. Contract"
   ]
  },
  {
   "cell_type": "markdown",
   "id": "f930f7b2",
   "metadata": {
    "hidden": true
   },
   "source": [
    "Nome | Descrição\n",
    "--|--\n",
    "Contract | tipo de contrato"
   ]
  },
  {
   "cell_type": "code",
   "execution_count": 396,
   "id": "30c2330d",
   "metadata": {
    "ExecuteTime": {
     "end_time": "2023-09-04T13:06:25.934774Z",
     "start_time": "2023-09-04T13:06:25.625548Z"
    },
    "hidden": true
   },
   "outputs": [
    {
     "data": {
      "image/png": "[encoded data removed]",
      "text/plain": [
       "<Figure size 864x360 with 1 Axes>"
      ]
     },
     "metadata": {
      "needs_background": "light"
     },
     "output_type": "display_data"
    }
   ],
   "source": [
    "col = 'contract'\n",
    "\n",
    "aux = df_cat_not_binary[col].value_counts(normalize=True).to_frame() * 100\n",
    "aux = aux.sort_values(col)\n",
    "\n",
    "cores = ['#ff7131' if tipo == aux[col].idxmax() else 'silver' for tipo in aux.index]\n",
    "\n",
    "fig, ax = plt.subplots(figsize=(12, 5))\n",
    "ax.barh(aux.index, aux[col], color=cores)\n",
    "ax.set_title('Mais da metade dos clientes têm assinatura mês a mês', loc='left', fontsize=16, fontweight='bold')\n",
    "ax.yaxis.set_tick_params(labelsize=14)\n",
    "\n",
    "for i, v in enumerate(aux[col]):\n",
    "    formatted_value = '{:.1f}%'.format(v)\n",
    "    ax.text(v + 1, i, formatted_value, color='black', fontsize=12, ha='left', va='center')\n",
    "    \n",
    "ax.set_frame_on(False)\n",
    "ax.get_xaxis().set_visible(False)\n",
    "ax.tick_params(axis='both', which='both', length=0)\n",
    "\n",
    "plt.show()"
   ]
  },
  {
   "cell_type": "markdown",
   "id": "cc1dee2b",
   "metadata": {
    "hidden": true
   },
   "source": [
    "#### 1.7.2.4. payment_method"
   ]
  },
  {
   "cell_type": "markdown",
   "id": "5eea7379",
   "metadata": {
    "ExecuteTime": {
     "end_time": "2023-09-04T13:16:22.114003Z",
     "start_time": "2023-09-04T13:16:22.095808Z"
    },
    "hidden": true
   },
   "source": [
    "Nome | Descrição\n",
    "--|--\n",
    "PaymentMethod | forma de pagamento"
   ]
  },
  {
   "cell_type": "code",
   "execution_count": 397,
   "id": "942acd21",
   "metadata": {
    "ExecuteTime": {
     "end_time": "2023-09-04T13:06:33.499539Z",
     "start_time": "2023-09-04T13:06:33.149440Z"
    },
    "hidden": true
   },
   "outputs": [
    {
     "data": {
      "image/png": "[encoded data removed]",
      "text/plain": [
       "<Figure size 864x360 with 1 Axes>"
      ]
     },
     "metadata": {
      "needs_background": "light"
     },
     "output_type": "display_data"
    }
   ],
   "source": [
    "col = 'payment_method'\n",
    "\n",
    "aux = df_cat_not_binary[col].value_counts(normalize=True).to_frame() * 100\n",
    "aux = aux.sort_values(col, ascending=False)\n",
    "\n",
    "cores = ['#ff7131' if 'automatic' in tipo else 'silver' for tipo in aux.index]\n",
    "soma_automatic = aux[aux.index.str.contains('automatic')][col].sum()\n",
    "\n",
    "fig, ax = plt.subplots(figsize=(12, 5))\n",
    "ax.barh(aux.index, aux[col], color=cores)\n",
    "\n",
    "ax.set_title(f'{soma_automatic:.1f}% dos clientes fazem pagamento automático', loc='left', fontsize=16, fontweight='bold')\n",
    "ax.yaxis.set_tick_params(labelsize=14)\n",
    "\n",
    "for i, v in enumerate(aux[col]):\n",
    "    formatted_value = '{:.1f}%'.format(v)\n",
    "    ax.text(v + 1, i, formatted_value, color='black', fontsize=10, ha='left', va='center')\n",
    "    \n",
    "ax.set_frame_on(False)\n",
    "ax.get_xaxis().set_visible(False)\n",
    "ax.tick_params(axis='both', which='both', length=0)\n",
    "\n",
    "plt.show()\n"
   ]
  },
  {
   "cell_type": "markdown",
   "id": "12954b43",
   "metadata": {},
   "source": [
    "# 2. FEATURE ENGINEERING"
   ]
  },
  {
   "cell_type": "markdown",
   "id": "a658edd4",
   "metadata": {},
   "source": [
    "# 3. FILTRAGEM DE VARIÁVEIS"
   ]
  },
  {
   "cell_type": "markdown",
   "id": "ddefea80",
   "metadata": {},
   "source": [
    "## 3.1. Filtragem das Linhas"
   ]
  },
  {
   "cell_type": "markdown",
   "id": "88cdbcc9",
   "metadata": {},
   "source": [
    "## 3.2. Seleção das Colunas"
   ]
  },
  {
   "cell_type": "markdown",
   "id": "af177096",
   "metadata": {},
   "source": [
    "# 4. EXPLORATORY DATA ANALYSIS (EDA)"
   ]
  },
  {
   "cell_type": "markdown",
   "id": "be55a61c",
   "metadata": {},
   "source": []
  },
  {
   "cell_type": "markdown",
   "id": "07303a05",
   "metadata": {},
   "source": [
    "### 4.1.1. Response Variable"
   ]
  },
  {
   "cell_type": "markdown",
   "id": "fe5bbb89",
   "metadata": {},
   "source": [
    "### 4.1.2. Numerical Variable"
   ]
  },
  {
   "cell_type": "markdown",
   "id": "4ba355b1",
   "metadata": {
    "ExecuteTime": {
     "end_time": "2023-09-04T13:22:08.854166Z",
     "start_time": "2023-09-04T13:22:08.839166Z"
    }
   },
   "source": [
    "### 4.1.3. Categorical Variable"
   ]
  }
 ],
 "metadata": {
  "kernelspec": {
   "display_name": "Python 3 (ipykernel)",
   "language": "python",
   "name": "python3"
  },
  "language_info": {
   "codemirror_mode": {
    "name": "ipython",
    "version": 3
   },
   "file_extension": ".py",
   "mimetype": "text/x-python",
   "name": "python",
   "nbconvert_exporter": "python",
   "pygments_lexer": "ipython3",
   "version": "3.9.12"
  }
 },
 "nbformat": 4,
 "nbformat_minor": 5
}
